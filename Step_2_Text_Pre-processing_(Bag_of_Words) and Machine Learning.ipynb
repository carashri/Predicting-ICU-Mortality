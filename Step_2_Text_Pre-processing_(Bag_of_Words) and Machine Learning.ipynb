{
 "cells": [
  {
   "cell_type": "markdown",
   "metadata": {},
   "source": [
    "Begin by importing the cleaned datasest ('df2.csv')."
   ]
  },
  {
   "cell_type": "code",
   "execution_count": 1,
   "metadata": {},
   "outputs": [],
   "source": [
    "import pandas as pd\n",
    "import numpy as np\n",
    "df2 = pd.read_csv('df2.csv')"
   ]
  },
  {
   "cell_type": "code",
   "execution_count": 2,
   "metadata": {
    "scrolled": false
   },
   "outputs": [
    {
     "name": "stdout",
     "output_type": "stream",
     "text": [
      "<class 'pandas.core.frame.DataFrame'>\n",
      "RangeIndex: 53976 entries, 0 to 53975\n",
      "Data columns (total 10 columns):\n",
      " #   Column                Non-Null Count  Dtype \n",
      "---  ------                --------------  ----- \n",
      " 0   HADM_ID               53976 non-null  int64 \n",
      " 1   TEXT                  53976 non-null  object\n",
      " 2   SUBJECT_ID            53976 non-null  int64 \n",
      " 3   LOS_HOSP              53976 non-null  object\n",
      " 4   ADMITTIME             53976 non-null  object\n",
      " 5   HOSPITAL_EXPIRE_FLAG  53976 non-null  int64 \n",
      " 6   ADMISSION_TYPE        53976 non-null  object\n",
      " 7   DEATHTIME             4613 non-null   object\n",
      " 8   ADMIT+24              53976 non-null  object\n",
      " 9   ENDTIME               53976 non-null  object\n",
      "dtypes: int64(3), object(7)\n",
      "memory usage: 4.1+ MB\n"
     ]
    }
   ],
   "source": [
    "#confirming data types and that there are no null values\n",
    "df2.info()"
   ]
  },
  {
   "cell_type": "code",
   "execution_count": 3,
   "metadata": {},
   "outputs": [],
   "source": [
    "#reorder the columns and remove those no longer needed.\n",
    "df3 = df2[['HADM_ID', 'SUBJECT_ID', 'LOS_HOSP', 'HOSPITAL_EXPIRE_FLAG', 'TEXT']]"
   ]
  },
  {
   "cell_type": "markdown",
   "metadata": {},
   "source": [
    "Before beginning NLP and data analysis, split the data into training, validation, and test sets."
   ]
  },
  {
   "cell_type": "code",
   "execution_count": 4,
   "metadata": {},
   "outputs": [
    {
     "name": "stdout",
     "output_type": "stream",
     "text": [
      "number of negative training samples:  34554\n",
      "total number of negative training samples:  37783\n",
      "total number of test samples:  16193\n",
      "number of negative test samples:  14809\n",
      "4613 out of  53976  patients ( 8.5 %) expired while in the ICU.\n"
     ]
    }
   ],
   "source": [
    "# Preparing data further for ML model fitting, separating target variable from features\n",
    "\n",
    "X = df3.drop(['HOSPITAL_EXPIRE_FLAG'], axis='columns') #feature columns\n",
    "y = df3.HOSPITAL_EXPIRE_FLAG #target variable\n",
    "\n",
    "# Split the data into train and test sets\n",
    "from sklearn.model_selection import train_test_split\n",
    "X_train, X_test, y_train, y_test = train_test_split(X,y, test_size = 0.3, shuffle=True, random_state=42, stratify=y)\n",
    "\n",
    "print('number of negative training samples: ', len(y_train[y_train==0]))\n",
    "print('total number of negative training samples: ', len(y_train))\n",
    "print('total number of test samples: ', len(y_test))\n",
    "print('number of negative test samples: ', len(y_test[y_test==0]))\n",
    "\n",
    "#Confirming target variable counts\n",
    "y.value_counts()\n",
    "print(len(y[y==1]), 'out of ', len(y), ' patients (', round(len(y[y==1])*100/len(y),1), '%) expired while in the ICU.') "
   ]
  },
  {
   "cell_type": "code",
   "execution_count": null,
   "metadata": {
    "scrolled": true
   },
   "outputs": [],
   "source": []
  },
  {
   "cell_type": "code",
   "execution_count": 5,
   "metadata": {},
   "outputs": [],
   "source": [
    "# shuffle dataset in order to randomize all of the samples\n",
    "df4 = df3.sample(n = len(df3), random_state = 42)\n",
    "df4 = df4.reset_index(drop = True) #resetting index for the newly shuffled dataset\n",
    "\n",
    "\n",
    "df_valid_test=df4.sample(frac=0.30,random_state=42) # Save 30% of the data as validation and testing data.\n",
    "df_test = df_valid_test.sample(frac = 0.5, random_state = 42) #Of the validation & testing data, 50% is set aside for testing \n",
    "df_valid = df_valid_test.drop(df_test.index) #dropping the index for the validation data\n",
    "\n",
    "df_train_all=df4.drop(df_valid_test.index) # remove the rows used for validation; We are left with the rest of the data which will be used for training\n"
   ]
  },
  {
   "cell_type": "code",
   "execution_count": 6,
   "metadata": {},
   "outputs": [
    {
     "data": {
      "text/html": [
       "<div>\n",
       "<style scoped>\n",
       "    .dataframe tbody tr th:only-of-type {\n",
       "        vertical-align: middle;\n",
       "    }\n",
       "\n",
       "    .dataframe tbody tr th {\n",
       "        vertical-align: top;\n",
       "    }\n",
       "\n",
       "    .dataframe thead th {\n",
       "        text-align: right;\n",
       "    }\n",
       "</style>\n",
       "<table border=\"1\" class=\"dataframe\">\n",
       "  <thead>\n",
       "    <tr style=\"text-align: right;\">\n",
       "      <th></th>\n",
       "      <th>HADM_ID</th>\n",
       "      <th>SUBJECT_ID</th>\n",
       "      <th>LOS_HOSP</th>\n",
       "      <th>HOSPITAL_EXPIRE_FLAG</th>\n",
       "      <th>TEXT</th>\n",
       "    </tr>\n",
       "  </thead>\n",
       "  <tbody>\n",
       "    <tr>\n",
       "      <th>0</th>\n",
       "      <td>127824</td>\n",
       "      <td>18629</td>\n",
       "      <td>11 days 15:32:00.000000000</td>\n",
       "      <td>0</td>\n",
       "      <td>PATIENT/TEST INFORMATION:\\nIndication: Left ve...</td>\n",
       "    </tr>\n",
       "    <tr>\n",
       "      <th>2</th>\n",
       "      <td>136586</td>\n",
       "      <td>97460</td>\n",
       "      <td>1 days 20:57:00.000000000</td>\n",
       "      <td>0</td>\n",
       "      <td>PATIENT/TEST INFORMATION:\\nIndication: Left ve...</td>\n",
       "    </tr>\n",
       "    <tr>\n",
       "      <th>3</th>\n",
       "      <td>167918</td>\n",
       "      <td>25208</td>\n",
       "      <td>6 days 09:56:00.000000000</td>\n",
       "      <td>0</td>\n",
       "      <td>[**2193-7-6**] 6:29 AM\\n CHEST (PORTABLE AP)  ...</td>\n",
       "    </tr>\n",
       "    <tr>\n",
       "      <th>5</th>\n",
       "      <td>145731</td>\n",
       "      <td>96520</td>\n",
       "      <td>2 days 00:52:00.000000000</td>\n",
       "      <td>0</td>\n",
       "      <td>Artifact is present.  Sinus rhythm.  There is ...</td>\n",
       "    </tr>\n",
       "    <tr>\n",
       "      <th>8</th>\n",
       "      <td>119559</td>\n",
       "      <td>30096</td>\n",
       "      <td>5 days 01:34:00.000000000</td>\n",
       "      <td>0</td>\n",
       "      <td>Artifact is present.  Sinus rhythm.  Probable ...</td>\n",
       "    </tr>\n",
       "  </tbody>\n",
       "</table>\n",
       "</div>"
      ],
      "text/plain": [
       "   HADM_ID  SUBJECT_ID                    LOS_HOSP  HOSPITAL_EXPIRE_FLAG  \\\n",
       "0   127824       18629  11 days 15:32:00.000000000                     0   \n",
       "2   136586       97460   1 days 20:57:00.000000000                     0   \n",
       "3   167918       25208   6 days 09:56:00.000000000                     0   \n",
       "5   145731       96520   2 days 00:52:00.000000000                     0   \n",
       "8   119559       30096   5 days 01:34:00.000000000                     0   \n",
       "\n",
       "                                                TEXT  \n",
       "0  PATIENT/TEST INFORMATION:\\nIndication: Left ve...  \n",
       "2  PATIENT/TEST INFORMATION:\\nIndication: Left ve...  \n",
       "3  [**2193-7-6**] 6:29 AM\\n CHEST (PORTABLE AP)  ...  \n",
       "5  Artifact is present.  Sinus rhythm.  There is ...  \n",
       "8  Artifact is present.  Sinus rhythm.  Probable ...  "
      ]
     },
     "execution_count": 6,
     "metadata": {},
     "output_type": "execute_result"
    }
   ],
   "source": [
    "df_train_all.head()"
   ]
  },
  {
   "cell_type": "markdown",
   "metadata": {},
   "source": [
    "Now, working with the training data, split the data into 2 categories based on mortality."
   ]
  },
  {
   "cell_type": "code",
   "execution_count": 7,
   "metadata": {
    "scrolled": true
   },
   "outputs": [
    {
     "name": "stdout",
     "output_type": "stream",
     "text": [
      "There are  3205 positive samples and  34578 negative samples.\n",
      "Percent positive samples:  8.48 %\n"
     ]
    }
   ],
   "source": [
    "# split the training data into positive (death) and negative (no death)\n",
    "positive = df_train_all.HOSPITAL_EXPIRE_FLAG == 1\n",
    "df_train_pos = df_train_all.loc[positive]\n",
    "df_train_neg = df_train_all.loc[~positive]\n",
    "print('There are ', len(df_train_pos), 'positive samples and ', len(df_train_neg), 'negative samples.')\n",
    "print('Percent positive samples: ', round(len(df_train_pos)*100/len(df_train_all),2),'%')"
   ]
  },
  {
   "cell_type": "markdown",
   "metadata": {},
   "source": [
    "There is an imbalance in positive vs negative cases, which would be expected in this dataset. Therefore balancing the data is needed, so that the machine learning model does not always predict negative (no death). Sub-sampling the negative group is one method of doing this."
   ]
  },
  {
   "cell_type": "code",
   "execution_count": 8,
   "metadata": {},
   "outputs": [],
   "source": [
    "#sub-sample negatives so there are an equal number of positive and negative samples.\n",
    "df_train_neg = df_train_neg.sample(n=len(df_train_pos), random_state=42)\n",
    "\n",
    "# merge the positive and negative samples into the final training set\n",
    "df_train_final = pd.concat([df_train_pos, df_train_neg],axis = 0)\n",
    "\n",
    "# shuffle the order of training samples \n",
    "df_train_final = df_train_final.sample(n = len(df_train_final), random_state = 42).reset_index(drop = True)"
   ]
  },
  {
   "cell_type": "code",
   "execution_count": 9,
   "metadata": {},
   "outputs": [
    {
     "name": "stdout",
     "output_type": "stream",
     "text": [
      "The model will be based on  6410 equally balanced training samples ( 3205 negative and  3205 positive).\n"
     ]
    }
   ],
   "source": [
    "print('The model will be based on ', len(df_train_final), 'equally balanced training samples (', len(df_train_neg), 'negative and ', len(df_train_pos), 'positive).')\n"
   ]
  },
  {
   "cell_type": "markdown",
   "metadata": {},
   "source": [
    "### Step 2: Preprocess text data using Bag of Words model.\n",
    "#### What is Bag of Words?\n",
    "<br>\n",
    "Bag of Words is a method for extracting features from the text for use in machine learning algorithms. Basically, it breaks up a text into individual words, then counts how often each word occurs.\n",
    "\n",
    "A vocabulary will be built using the training dataset. This vocabulary will later be used as a feature in the machine learning model as a basis to predict poitive or negative death."
   ]
  },
  {
   "cell_type": "code",
   "execution_count": 10,
   "metadata": {
    "scrolled": true
   },
   "outputs": [
    {
     "data": {
      "text/plain": [
       "'PATIENT/TEST INFORMATION:\\nIndication: Congestive heart failure.\\nHeight: (in) 66\\nWeight (lb): 150\\nBSA (m2): 1.77 m2\\nBP (mm Hg): 91/51\\nHR (bpm): 102\\nStatus: Inpatient\\nDate/Time: [**2120-8-21**] at 16:09\\nTest: TTE (Complete)\\nDoppler: Full Doppler and color Doppler\\nContrast: None\\nTechnical Quality: Adequate\\n\\n\\nINTERPRETATION:\\n\\nFindings:\\n\\nLEFT ATRIUM: Moderate LA enlargement.\\n\\nRIGHT ATRIUM/INTERATRIAL SEPTUM: Moderately dilated RA.\\n\\nLEFT VENTRICLE: Normal LV wall thickness and cavity size. Moderate global LV\\nhypokinesis. Trabeculated LV apex. No resting LVOT gradient.\\n\\nRIGHT VENTRICLE: Normal RV chamber size and free wall motion. Normal RV\\nchamber size. Borderline normal RV systolic function.\\n\\nAORTA: Normal aortic diameter at the sinus level. Mildly dilated ascending\\naorta.\\n\\nAORTIC VALVE: Moderately thickened aortic valve leaflets. No masses or\\nvegetations on aortic valve. No AS. Trace AR.\\n\\nMITRAL VALVE: Mildly thickened mitral valve leaflets. No MVP. No mass or\\nvegetation on mitral valve. Mild to moderate ([**12-11**]+) MR.\\n\\nTRICUSPID VALVE: Tricuspid valve not well visualized. Mild [1+] TR. Borderline\\nPA systolic hypertension.\\n\\nPULMONIC VALVE/PULMONARY ARTERY: Pulmonic valve not well seen.\\n\\nPERICARDIUM: Trivial/physiologic pericardial effusion.\\n\\nGENERAL COMMENTS: Suboptimal image quality - poor parasternal views.\\nSuboptimal image quality - poor subcostal views. Suboptimal image quality -\\npoor suprasternal views. Left pleural effusion.\\n\\nConclusions:\\nThe left atrium is moderately dilated. The right atrium is moderately dilated.\\nLeft ventricular wall thicknesses and cavity size are normal. There is\\nmoderate global left ventricular hypokinesis (LVEF = 40-45 %). Right\\nventricular chamber size and free wall motion are normal. Right ventricular\\nchamber size is normal. with borderline normal free wall function. The\\nascending aorta is mildly dilated. The aortic valve leaflets are moderately\\nthickened. No masses or vegetations are seen on the aortic valve. There is no\\naortic valve stenosis. Trace aortic regurgitation is seen. The mitral valve\\nleaflets are mildly thickened. There is no mitral valve prolapse. No mass or\\nvegetation is seen on the mitral valve. Mild to moderate ([**12-11**]+) mitral\\nregurgitation is seen. There is borderline pulmonary artery systolic\\nhypertension. There is a trivial/physiologic pericardial effusion.\\n\\nIMPRESSION: Mild global biventricular systolic dysfunction. Mild-to-moderate\\nmitral regurgitation. Borderline pulmonary hypertension.\\n\\n\\nSinus tachycardia and occasional ventricular ectopy.  Diffuse low voltage.\\nPrior anteroseptal myocardial infarction.  No previous tracing available for\\ncomparison.\\n\\n[**2120-8-21**] 2:22 PM\\n LIVER OR GALLBLADDER US (SINGLE ORGAN) PORT                     Clip # [**Clip Number (Radiology) 103359**]\\n Reason: please eval for acute biliary process\\n Admitting Diagnosis: LOWER GASTROINTESTINAL BLEED\\n ______________________________________________________________________________\\n [**Hospital 2**] MEDICAL CONDITION:\\n  79 year old man with NASH cirrhosis admitted with GNR sepsis, now intubated on\\n  pressors.  Patient has rising T. bili, concerning for cholangitis\\n REASON FOR THIS EXAMINATION:\\n  please eval for acute biliary process\\n ______________________________________________________________________________\\n                                 FINAL REPORT\\n INDICATION:  79-year-old male with NASH cirrhosis, now with gram negative\\n sepsis and rising bilirubin, concerning for cholangitis.\\n\\n COMPARISON:  None available.\\n\\n TECHNIQUE:  Transabdominal ultrasound examination of the right upper quadrant\\n was performed.\\n\\n FINDINGS:  Right upper quadrant ultrasound was attempted, but due to overlying\\n bandage material, which could not be removed, the acoustic window is severely\\n limited. In consultation with [**First Name8 (NamePattern2) 20**] [**Last Name (NamePattern1) 28436**] at the time of the study, the\\n technologist was informed that the dressing could not be moved.  Limited\\n images of a small portion of the liver demonstrate evidence of cirrhosis and\\n trace ascites.\\n\\n IMPRESSION:  Inadequate visualization of the liver.  Evaluation for biliary\\n obstruction and cholangitis could not be performed.\\n\\n[**2120-8-20**] 8:45 PM\\n CHEST (PORTABLE AP)                                             Clip # [**Clip Number (Radiology) 103353**]\\n Reason: ?line placement\\n ______________________________________________________________________________\\n [**Hospital 2**] MEDICAL CONDITION:\\n  History: 79M with GIB needed centrla line\\n REASON FOR THIS EXAMINATION:\\n  ?line placement\\n No contraindications for IV contrast\\n ______________________________________________________________________________\\n WET READ: DFDdp TUE [**2120-8-20**] 9:04 PM\\n  1.  Moderate pulmonary edema with small bilateral pleural effusions, left\\n  greater than right.  Bibasilar atelectasis.\\n\\n  2.  Tiny right apical pneumothorax.  Right internal jugular central venous\\n  catheter tip terminates in the SVC.\\n ______________________________________________________________________________\\n                                 FINAL REPORT\\n HISTORY:  Central line placement for GI bleeding.\\n\\n TECHNIQUE:  Portable AP view of the chest.\\n\\n COMPARISON:  None.\\n\\n FINDINGS:\\n\\n Right internal jugular central venous catheter tip terminates in the SVC.  The\\n heart is moderately enlarged.  The aorta is unfolded.  There is moderate\\n pulmonary edema with small bilateral pleural effusions, left greater than\\n right.  Bibasilar airspace opacities likely reflect compressive atelectasis.\\n There appears to be a tiny right apical pneumothorax. There are no acute\\n osseous abnormalities.  Clips are seen in the right upper quadrant the\\n abdomen.\\n\\n IMPRESSION:\\n\\n 1.  Moderate pulmonary edema with small bilateral pleural effusions, left\\n greater than right.  Bibasilar atelectasis.\\n\\n 2.  Tiny right apical pneumothorax.  Right internal jugular central venous\\n catheter tip terminates in the SVC.  Findings discussed by phone with Dr.\\n [**Last Name (STitle) 30670**] at 9:15pm on [**2120-8-20**].\\n\\n                                                                       DFDdp\\n\\n[**2120-8-21**] 9:50 AM\\n CHEST (PORTABLE AP); -76 BY SAME PHYSICIAN                      [**Name Initial (PRE) 26**] # [**Clip Number (Radiology) 103357**]\\n Reason: eval for interval change.\\n Admitting Diagnosis: LOWER GASTROINTESTINAL BLEED\\n ______________________________________________________________________________\\n [**Hospital 2**] MEDICAL CONDITION:\\n  79 year old man with pneumothorax s/p CVL placement.  Chest tube placed but has\\n  stopped draining.\\n REASON FOR THIS EXAMINATION:\\n  eval for interval change.\\n ______________________________________________________________________________\\n                                 FINAL REPORT\\n AP CHEST, 9:56 A.M. [**8-21**]\\n\\n HISTORY:  Pneumothorax after central venous line placed.  Chest tube has\\n stopped draining.\\n\\n IMPRESSION:  AP chest compared to [**8-21**], 1:37 a.m.:\\n\\n Large right pneumothorax has increased in size.  Large pneumoperitoneum which\\n may have been present earlier is much larger.\\n\\n Progressive decrease in heart size attests to decreased right ventricular\\n filling due to tension pneumothorax.  ET tube is in standard placement.  Right\\n jugular line ends in the mid SVC.  Upper enteric tube ends in the upper\\n stomach and could be advanced at least 5 cm to put all the side ports beyond\\n the gastroesophageal junction.\\n\\n These findings were discussed over the telephone with Dr. [**Last Name (STitle) 7994**] at 10:30\\n a.m., 1 minute following the recognition.\\n\\n\\n[**2120-8-21**] 1:35 AM\\n CHEST (PORTABLE AP)                                             Clip # [**Clip Number (Radiology) 103356**]\\n Reason: ?improvement of pneumothorax, placement of chest tube, confi\\n Admitting Diagnosis: LOWER GASTROINTESTINAL BLEED\\n ______________________________________________________________________________\\n [**Hospital 2**] MEDICAL CONDITION:\\n  79 year old man with GI bleed hypovolemic shock and GNR septic shock.\\n REASON FOR THIS EXAMINATION:\\n  ?improvement of pneumothorax, placement of chest tube, confirmation of ETT\\n  location\\n ______________________________________________________________________________\\n                                 FINAL REPORT\\n AP CHEST, 1:37 A.M. ON [**8-21**]\\n\\n HISTORY:  79-year-old man with GI bleed and septic shock.  Question improved\\n pneumothorax and placement of chest tube.\\n\\n IMPRESSION:  AP chest compared to [**8-20**] at 11:33 p.m.:\\n\\n Large right pneumothorax is even larger with new leftward mediastinal shift\\n despite a pigtail catheter projecting over the right lower hemithorax.  The\\n catheter is not functional and on a single view I cannot document its\\n location.  Decrease in cardiac size suggests there may be further interference\\n with right heart filling due to hemodynamic tension.  Endotracheal tube is in\\n standard placement but the caliber appears small for the size of the trachea.\\n Right jugular line ends in the mid SVC.  Mild pulmonary edema persists and\\n there is progressive atelectasis at the base of the left lung probably a\\n function of shifted mediastinum.  Nasogastric tube passes into the stomach and\\n out of view.  These findings were discussed fully with Dr. [**Last Name (STitle) 7994**] by\\n telephone at 9:50 a.m., one minute following their recognition.  A chest\\n radiograph has been ordered and I instructed her to telephone the radiology\\n department to obtain the study on a super stat basis.\\n\\n\\n[**2120-8-21**] 11:05 AM\\n CHEST PORT. LINE PLACEMENT; -76 BY SAME PHYSICIAN               [**Name Initial (PRE) 26**] # [**Clip Number (Radiology) 103358**]\\n Reason: ? interval change s/p right chest tube placement, positionin\\n Admitting Diagnosis: LOWER GASTROINTESTINAL BLEED\\n ______________________________________________________________________________\\n [**Hospital 2**] MEDICAL CONDITION:\\n  79 year old man with right lung collapse.\\n REASON FOR THIS EXAMINATION:\\n  ? interval change s/p right chest tube placement, positioning\\n ______________________________________________________________________________\\n                                 FINAL REPORT\\n AP CHEST, 11:39 A.M. ON [**8-21**]\\n\\n HISTORY:  Right pneumothorax.\\n\\n IMPRESSION:  AP chest compared to 9:56 a.m.:\\n\\n Large-bore right thoracostomy tube traverses the right mid hemithorax\\n obliquely.  It could be fissural.  Only a small residual right apical\\n pneumothorax remains and there is no appreciable pleural fluid collection.\\n Subcutaneous emphysema along the right chest wall is stable.  Large\\n pneumoperitoneum persists.  ET tube is in standard placement.  Heart size now\\n normal, unchanged acutely and previous pulmonary edema since resolved has not\\n recurred.\\n\\n As noted before the endotracheal tube and about one third the diameter of the\\n trachea may be undersized.  Dr. [**Last Name (STitle) 7994**] and I discussed the findings by\\n telephone at 11:45AM.\\n\\n[**2120-8-20**] 11:21 PM\\n CHEST (PORTABLE AP); -77 BY DIFFERENT PHYSICIAN                 [**Name Initial (PRE) 26**] # [**Clip Number (Radiology) 103355**]\\n Reason: ?placement. resolution of PTX\\n Admitting Diagnosis: LOWER GASTROINTESTINAL BLEED\\n ______________________________________________________________________________\\n [**Hospital 2**] MEDICAL CONDITION:\\n  History: 79M with chest tube on the right\\n REASON FOR THIS EXAMINATION:\\n  ?placement. resolution of PTX\\n No contraindications for IV contrast\\n ______________________________________________________________________________\\n                                 FINAL REPORT\\n AP CHEST, 11:33 P.M. ON [**8-20**]\\n\\n HISTORY:  79-year-old man with right pneumothorax and a chest tube.\\n\\n IMPRESSION:  AP chest compared to [**2118-8-20**]:12 p.m.:\\n\\n Large right pneumothorax has increased substantially despite placement of a\\n right pigtail pleural drain at the base of the right hemithorax.\\n Mild-to-moderate pulmonary edema is slightly less severe now than it was\\n earlier.  Mild-to-moderate cardiomegaly is stable but moderate pulmonary edema\\n has improved.  This might be an indirect sign of decreased venous return\\n suggesting that the right pneumothorax is hemodynamically significant even\\n though the mediastinum has not shifted.  ET tube is in standard placement.\\n Nasogastric tube passes below the diaphragm and out of view.  Right jugular\\n line ends in the mid SVC.  Findings were discussed with report of subsequent\\n radiograph available at the time of this review.\\n\\n[**2120-8-20**] 10:09 PM\\n CHEST (PORTABLE AP); -76 BY SAME PHYSICIAN                      [**Name Initial (PRE) 26**] # [**Clip Number (Radiology) 103354**]\\n Reason: please assess palcement\\n ______________________________________________________________________________\\n [**Hospital 2**] MEDICAL CONDITION:\\n  History: 79M with intubation\\n REASON FOR THIS EXAMINATION:\\n  please assess palcement\\n No contraindications for IV contrast\\n ______________________________________________________________________________\\n WET READ: JBRe TUE [**2120-8-20**] 10:31 PM\\n  Interval progression of the small right apical pneumothorax. ETT 6 cm above\\n  the trachea, within normal limits, but if possible, for ideal position, might\\n  be advanced by 2-3 cm. Moderate pulmonary edema and effusions, also increased\\n  from the prior.\\n\\n WET READ VERSION #1\\n ______________________________________________________________________________\\n                                 FINAL REPORT\\n INDICATION:  79-year-old with cough. ETT.\\n\\n TECHNIQUE:  Frontal radiograph of the chest was obtained in the semi-erect\\n position.\\n\\n COMPARISON:  Chest radiograph from earlier today from 8:46 p.m.\\n\\n FINDINGS:\\n Interval progression of the small right apical pneumothorax. ETT ends 6 cm\\n above the trachea, within normal limits, but can be advanced by 2-3 cm for\\n ideal positioning. Moderate pulmonary edema and bilateral pleural effusions,\\n also increased from the prior.  The right central line ends unchanged in the\\n mid SVC.\\n\\n'"
      ]
     },
     "execution_count": 10,
     "metadata": {},
     "output_type": "execute_result"
    }
   ],
   "source": [
    "#viewing an example row of the text column\n",
    "df_train_final.TEXT[1]"
   ]
  },
  {
   "cell_type": "markdown",
   "metadata": {},
   "source": [
    "The text above shows that it needs some pre-processing (mainly removing the new line command ('\\n'). One way to do this is to create a function to preprocess the text. This way the original data won't be modified."
   ]
  },
  {
   "cell_type": "code",
   "execution_count": 11,
   "metadata": {},
   "outputs": [],
   "source": [
    "def preprocess_text(df4):\n",
    "    # This function preprocesses the text by replacing new lines ('\\n')  with a space.\n",
    "    df4.TEXT = df4.TEXT.str.replace('\\n',' ')\n",
    "    return df4\n",
    "# preprocess the text to deal with known issue\n",
    "df_train_final = preprocess_text(df_train_final)\n",
    "df_valid = preprocess_text(df_valid)\n",
    "df_test = preprocess_text(df_test)"
   ]
  },
  {
   "cell_type": "code",
   "execution_count": 12,
   "metadata": {},
   "outputs": [
    {
     "data": {
      "text/plain": [
       "'PATIENT/TEST INFORMATION: Indication: Congestive heart failure. Height: (in) 66 Weight (lb): 150 BSA (m2): 1.77 m2 BP (mm Hg): 91/51 HR (bpm): 102 Status: Inpatient Date/Time: [**2120-8-21**] at 16:09 Test: TTE (Complete) Doppler: Full Doppler and color Doppler Contrast: None Technical Quality: Adequate   INTERPRETATION:  Findings:  LEFT ATRIUM: Moderate LA enlargement.  RIGHT ATRIUM/INTERATRIAL SEPTUM: Moderately dilated RA.  LEFT VENTRICLE: Normal LV wall thickness and cavity size. Moderate global LV hypokinesis. Trabeculated LV apex. No resting LVOT gradient.  RIGHT VENTRICLE: Normal RV chamber size and free wall motion. Normal RV chamber size. Borderline normal RV systolic function.  AORTA: Normal aortic diameter at the sinus level. Mildly dilated ascending aorta.  AORTIC VALVE: Moderately thickened aortic valve leaflets. No masses or vegetations on aortic valve. No AS. Trace AR.  MITRAL VALVE: Mildly thickened mitral valve leaflets. No MVP. No mass or vegetation on mitral valve. Mild to moderate ([**12-11**]+) MR.  TRICUSPID VALVE: Tricuspid valve not well visualized. Mild [1+] TR. Borderline PA systolic hypertension.  PULMONIC VALVE/PULMONARY ARTERY: Pulmonic valve not well seen.  PERICARDIUM: Trivial/physiologic pericardial effusion.  GENERAL COMMENTS: Suboptimal image quality - poor parasternal views. Suboptimal image quality - poor subcostal views. Suboptimal image quality - poor suprasternal views. Left pleural effusion.  Conclusions: The left atrium is moderately dilated. The right atrium is moderately dilated. Left ventricular wall thicknesses and cavity size are normal. There is moderate global left ventricular hypokinesis (LVEF = 40-45 %). Right ventricular chamber size and free wall motion are normal. Right ventricular chamber size is normal. with borderline normal free wall function. The ascending aorta is mildly dilated. The aortic valve leaflets are moderately thickened. No masses or vegetations are seen on the aortic valve. There is no aortic valve stenosis. Trace aortic regurgitation is seen. The mitral valve leaflets are mildly thickened. There is no mitral valve prolapse. No mass or vegetation is seen on the mitral valve. Mild to moderate ([**12-11**]+) mitral regurgitation is seen. There is borderline pulmonary artery systolic hypertension. There is a trivial/physiologic pericardial effusion.  IMPRESSION: Mild global biventricular systolic dysfunction. Mild-to-moderate mitral regurgitation. Borderline pulmonary hypertension.   Sinus tachycardia and occasional ventricular ectopy.  Diffuse low voltage. Prior anteroseptal myocardial infarction.  No previous tracing available for comparison.  [**2120-8-21**] 2:22 PM  LIVER OR GALLBLADDER US (SINGLE ORGAN) PORT                     Clip # [**Clip Number (Radiology) 103359**]  Reason: please eval for acute biliary process  Admitting Diagnosis: LOWER GASTROINTESTINAL BLEED  ______________________________________________________________________________  [**Hospital 2**] MEDICAL CONDITION:   79 year old man with NASH cirrhosis admitted with GNR sepsis, now intubated on   pressors.  Patient has rising T. bili, concerning for cholangitis  REASON FOR THIS EXAMINATION:   please eval for acute biliary process  ______________________________________________________________________________                                  FINAL REPORT  INDICATION:  79-year-old male with NASH cirrhosis, now with gram negative  sepsis and rising bilirubin, concerning for cholangitis.   COMPARISON:  None available.   TECHNIQUE:  Transabdominal ultrasound examination of the right upper quadrant  was performed.   FINDINGS:  Right upper quadrant ultrasound was attempted, but due to overlying  bandage material, which could not be removed, the acoustic window is severely  limited. In consultation with [**First Name8 (NamePattern2) 20**] [**Last Name (NamePattern1) 28436**] at the time of the study, the  technologist was informed that the dressing could not be moved.  Limited  images of a small portion of the liver demonstrate evidence of cirrhosis and  trace ascites.   IMPRESSION:  Inadequate visualization of the liver.  Evaluation for biliary  obstruction and cholangitis could not be performed.  [**2120-8-20**] 8:45 PM  CHEST (PORTABLE AP)                                             Clip # [**Clip Number (Radiology) 103353**]  Reason: ?line placement  ______________________________________________________________________________  [**Hospital 2**] MEDICAL CONDITION:   History: 79M with GIB needed centrla line  REASON FOR THIS EXAMINATION:   ?line placement  No contraindications for IV contrast  ______________________________________________________________________________  WET READ: DFDdp TUE [**2120-8-20**] 9:04 PM   1.  Moderate pulmonary edema with small bilateral pleural effusions, left   greater than right.  Bibasilar atelectasis.    2.  Tiny right apical pneumothorax.  Right internal jugular central venous   catheter tip terminates in the SVC.  ______________________________________________________________________________                                  FINAL REPORT  HISTORY:  Central line placement for GI bleeding.   TECHNIQUE:  Portable AP view of the chest.   COMPARISON:  None.   FINDINGS:   Right internal jugular central venous catheter tip terminates in the SVC.  The  heart is moderately enlarged.  The aorta is unfolded.  There is moderate  pulmonary edema with small bilateral pleural effusions, left greater than  right.  Bibasilar airspace opacities likely reflect compressive atelectasis.  There appears to be a tiny right apical pneumothorax. There are no acute  osseous abnormalities.  Clips are seen in the right upper quadrant the  abdomen.   IMPRESSION:   1.  Moderate pulmonary edema with small bilateral pleural effusions, left  greater than right.  Bibasilar atelectasis.   2.  Tiny right apical pneumothorax.  Right internal jugular central venous  catheter tip terminates in the SVC.  Findings discussed by phone with Dr.  [**Last Name (STitle) 30670**] at 9:15pm on [**2120-8-20**].                                                                         DFDdp  [**2120-8-21**] 9:50 AM  CHEST (PORTABLE AP); -76 BY SAME PHYSICIAN                      [**Name Initial (PRE) 26**] # [**Clip Number (Radiology) 103357**]  Reason: eval for interval change.  Admitting Diagnosis: LOWER GASTROINTESTINAL BLEED  ______________________________________________________________________________  [**Hospital 2**] MEDICAL CONDITION:   79 year old man with pneumothorax s/p CVL placement.  Chest tube placed but has   stopped draining.  REASON FOR THIS EXAMINATION:   eval for interval change.  ______________________________________________________________________________                                  FINAL REPORT  AP CHEST, 9:56 A.M. [**8-21**]   HISTORY:  Pneumothorax after central venous line placed.  Chest tube has  stopped draining.   IMPRESSION:  AP chest compared to [**8-21**], 1:37 a.m.:   Large right pneumothorax has increased in size.  Large pneumoperitoneum which  may have been present earlier is much larger.   Progressive decrease in heart size attests to decreased right ventricular  filling due to tension pneumothorax.  ET tube is in standard placement.  Right  jugular line ends in the mid SVC.  Upper enteric tube ends in the upper  stomach and could be advanced at least 5 cm to put all the side ports beyond  the gastroesophageal junction.   These findings were discussed over the telephone with Dr. [**Last Name (STitle) 7994**] at 10:30  a.m., 1 minute following the recognition.   [**2120-8-21**] 1:35 AM  CHEST (PORTABLE AP)                                             Clip # [**Clip Number (Radiology) 103356**]  Reason: ?improvement of pneumothorax, placement of chest tube, confi  Admitting Diagnosis: LOWER GASTROINTESTINAL BLEED  ______________________________________________________________________________  [**Hospital 2**] MEDICAL CONDITION:   79 year old man with GI bleed hypovolemic shock and GNR septic shock.  REASON FOR THIS EXAMINATION:   ?improvement of pneumothorax, placement of chest tube, confirmation of ETT   location  ______________________________________________________________________________                                  FINAL REPORT  AP CHEST, 1:37 A.M. ON [**8-21**]   HISTORY:  79-year-old man with GI bleed and septic shock.  Question improved  pneumothorax and placement of chest tube.   IMPRESSION:  AP chest compared to [**8-20**] at 11:33 p.m.:   Large right pneumothorax is even larger with new leftward mediastinal shift  despite a pigtail catheter projecting over the right lower hemithorax.  The  catheter is not functional and on a single view I cannot document its  location.  Decrease in cardiac size suggests there may be further interference  with right heart filling due to hemodynamic tension.  Endotracheal tube is in  standard placement but the caliber appears small for the size of the trachea.  Right jugular line ends in the mid SVC.  Mild pulmonary edema persists and  there is progressive atelectasis at the base of the left lung probably a  function of shifted mediastinum.  Nasogastric tube passes into the stomach and  out of view.  These findings were discussed fully with Dr. [**Last Name (STitle) 7994**] by  telephone at 9:50 a.m., one minute following their recognition.  A chest  radiograph has been ordered and I instructed her to telephone the radiology  department to obtain the study on a super stat basis.   [**2120-8-21**] 11:05 AM  CHEST PORT. LINE PLACEMENT; -76 BY SAME PHYSICIAN               [**Name Initial (PRE) 26**] # [**Clip Number (Radiology) 103358**]  Reason: ? interval change s/p right chest tube placement, positionin  Admitting Diagnosis: LOWER GASTROINTESTINAL BLEED  ______________________________________________________________________________  [**Hospital 2**] MEDICAL CONDITION:   79 year old man with right lung collapse.  REASON FOR THIS EXAMINATION:   ? interval change s/p right chest tube placement, positioning  ______________________________________________________________________________                                  FINAL REPORT  AP CHEST, 11:39 A.M. ON [**8-21**]   HISTORY:  Right pneumothorax.   IMPRESSION:  AP chest compared to 9:56 a.m.:   Large-bore right thoracostomy tube traverses the right mid hemithorax  obliquely.  It could be fissural.  Only a small residual right apical  pneumothorax remains and there is no appreciable pleural fluid collection.  Subcutaneous emphysema along the right chest wall is stable.  Large  pneumoperitoneum persists.  ET tube is in standard placement.  Heart size now  normal, unchanged acutely and previous pulmonary edema since resolved has not  recurred.   As noted before the endotracheal tube and about one third the diameter of the  trachea may be undersized.  Dr. [**Last Name (STitle) 7994**] and I discussed the findings by  telephone at 11:45AM.  [**2120-8-20**] 11:21 PM  CHEST (PORTABLE AP); -77 BY DIFFERENT PHYSICIAN                 [**Name Initial (PRE) 26**] # [**Clip Number (Radiology) 103355**]  Reason: ?placement. resolution of PTX  Admitting Diagnosis: LOWER GASTROINTESTINAL BLEED  ______________________________________________________________________________  [**Hospital 2**] MEDICAL CONDITION:   History: 79M with chest tube on the right  REASON FOR THIS EXAMINATION:   ?placement. resolution of PTX  No contraindications for IV contrast  ______________________________________________________________________________                                  FINAL REPORT  AP CHEST, 11:33 P.M. ON [**8-20**]   HISTORY:  79-year-old man with right pneumothorax and a chest tube.   IMPRESSION:  AP chest compared to [**2118-8-20**]:12 p.m.:   Large right pneumothorax has increased substantially despite placement of a  right pigtail pleural drain at the base of the right hemithorax.  Mild-to-moderate pulmonary edema is slightly less severe now than it was  earlier.  Mild-to-moderate cardiomegaly is stable but moderate pulmonary edema  has improved.  This might be an indirect sign of decreased venous return  suggesting that the right pneumothorax is hemodynamically significant even  though the mediastinum has not shifted.  ET tube is in standard placement.  Nasogastric tube passes below the diaphragm and out of view.  Right jugular  line ends in the mid SVC.  Findings were discussed with report of subsequent  radiograph available at the time of this review.  [**2120-8-20**] 10:09 PM  CHEST (PORTABLE AP); -76 BY SAME PHYSICIAN                      [**Name Initial (PRE) 26**] # [**Clip Number (Radiology) 103354**]  Reason: please assess palcement  ______________________________________________________________________________  [**Hospital 2**] MEDICAL CONDITION:   History: 79M with intubation  REASON FOR THIS EXAMINATION:   please assess palcement  No contraindications for IV contrast  ______________________________________________________________________________  WET READ: JBRe TUE [**2120-8-20**] 10:31 PM   Interval progression of the small right apical pneumothorax. ETT 6 cm above   the trachea, within normal limits, but if possible, for ideal position, might   be advanced by 2-3 cm. Moderate pulmonary edema and effusions, also increased   from the prior.   WET READ VERSION #1  ______________________________________________________________________________                                  FINAL REPORT  INDICATION:  79-year-old with cough. ETT.   TECHNIQUE:  Frontal radiograph of the chest was obtained in the semi-erect  position.   COMPARISON:  Chest radiograph from earlier today from 8:46 p.m.   FINDINGS:  Interval progression of the small right apical pneumothorax. ETT ends 6 cm  above the trachea, within normal limits, but can be advanced by 2-3 cm for  ideal positioning. Moderate pulmonary edema and bilateral pleural effusions,  also increased from the prior.  The right central line ends unchanged in the  mid SVC.  '"
      ]
     },
     "execution_count": 12,
     "metadata": {},
     "output_type": "execute_result"
    }
   ],
   "source": [
    "df_train_final.TEXT[1]"
   ]
  },
  {
   "cell_type": "markdown",
   "metadata": {},
   "source": [
    "Now import Python's Natural Language Toolkit (NLTK) and other necessary modules"
   ]
  },
  {
   "cell_type": "code",
   "execution_count": 13,
   "metadata": {},
   "outputs": [],
   "source": [
    "import nltk\n",
    "from nltk import word_tokenize\n",
    "import string # String module provides tools to manipulate strings\n",
    "from nltk.corpus import stopwords"
   ]
  },
  {
   "cell_type": "markdown",
   "metadata": {},
   "source": [
    "Next create a function to separate the text data into tokens (this is called tokenization). Tokens created here will be used to make a vocabulary (set of unique tokens) to be used as a feature for the model. All tokens or top K tokens can be used "
   ]
  },
  {
   "cell_type": "code",
   "execution_count": 14,
   "metadata": {},
   "outputs": [],
   "source": [
    "def text_tokenizer(text): # create a function that will tokenize the text, and also remove punctuation and numbers\n",
    "    \n",
    "    punc_list = string.punctuation #create list of punctuation marks\n",
    "    number_list=string.digits #create list of numbers\n",
    "    num_punc_list = number_list + punc_list #combine the lists together\n",
    "    t = str.maketrans(dict.fromkeys(num_punc_list, \" \")) # replace punctuation and numbers with spaces\n",
    "    text = text.lower().translate(t) #lowercase all words\n",
    "    tokens = word_tokenize(text) #tokenize the text \n",
    "    return tokens"
   ]
  },
  {
   "cell_type": "markdown",
   "metadata": {},
   "source": [
    "Now that tokens can be created from the text, CountVectorizer will turn these tokens into number features to be used in the machine learning model. But first a list of stopwords will be created so that the machine can ignore these common words when processing the tokens."
   ]
  },
  {
   "cell_type": "code",
   "execution_count": 15,
   "metadata": {
    "scrolled": true
   },
   "outputs": [
    {
     "name": "stderr",
     "output_type": "stream",
     "text": [
      "[nltk_data] Downloading package stopwords to\n",
      "[nltk_data]     C:\\Users\\caras\\AppData\\Roaming\\nltk_data...\n",
      "[nltk_data]   Package stopwords is already up-to-date!\n"
     ]
    }
   ],
   "source": [
    "nltk.download('stopwords')\n",
    "\n",
    "stopwords = set(stopwords.words('english')) \n"
   ]
  },
  {
   "cell_type": "code",
   "execution_count": 16,
   "metadata": {
    "scrolled": true
   },
   "outputs": [
    {
     "name": "stderr",
     "output_type": "stream",
     "text": [
      "[nltk_data] Downloading package punkt to\n",
      "[nltk_data]     C:\\Users\\caras\\AppData\\Roaming\\nltk_data...\n",
      "[nltk_data]   Package punkt is already up-to-date!\n",
      "C:\\Users\\caras\\anaconda3\\lib\\site-packages\\sklearn\\feature_extraction\\text.py:484: UserWarning: The parameter 'token_pattern' will not be used since 'tokenizer' is not None'\n",
      "  warnings.warn(\"The parameter 'token_pattern' will not be used\"\n"
     ]
    },
    {
     "data": {
      "text/plain": [
       "CountVectorizer(max_features=3000, ngram_range=(1, 2),\n",
       "                stop_words={'a', 'about', 'above', 'after', 'again', 'against',\n",
       "                            'ain', 'all', 'am', 'an', 'and', 'any', 'are',\n",
       "                            'aren', \"aren't\", 'as', 'at', 'be', 'because',\n",
       "                            'been', 'before', 'being', 'below', 'between',\n",
       "                            'both', 'but', 'by', 'can', 'couldn', \"couldn't\", ...},\n",
       "                tokenizer=<function text_tokenizer at 0x000001387A3CC550>)"
      ]
     },
     "execution_count": 16,
     "metadata": {},
     "output_type": "execute_result"
    }
   ],
   "source": [
    "import nltk\n",
    "nltk.download('punkt')\n",
    "# fit our vectorizer. \n",
    "from sklearn.feature_extraction.text import CountVectorizer\n",
    "vect = CountVectorizer(max_features = 3000, tokenizer = text_tokenizer, stop_words = stopwords, ngram_range=(1,2))\n",
    "vect.fit(df_train_final.TEXT.values)\n"
   ]
  },
  {
   "cell_type": "code",
   "execution_count": 17,
   "metadata": {
    "scrolled": false
   },
   "outputs": [
    {
     "name": "stdout",
     "output_type": "stream",
     "text": [
      "<class 'sklearn.feature_extraction.text.CountVectorizer'>\n"
     ]
    }
   ],
   "source": [
    "#print(vect.vocabulary_)\n",
    "print(type(vect))\n",
    "#print(vect.fixed_vocabulary_)\n"
   ]
  },
  {
   "cell_type": "markdown",
   "metadata": {},
   "source": [
    "We can get an idea of the frequency of words for positive vs negative mortality. This section was based on code from https://towardsdatascience.com/another-twitter-sentiment-analysis-with-python-part-2-333514854913"
   ]
  },
  {
   "cell_type": "code",
   "execution_count": 18,
   "metadata": {
    "scrolled": true
   },
   "outputs": [
    {
     "data": {
      "text/html": [
       "<div>\n",
       "<style scoped>\n",
       "    .dataframe tbody tr th:only-of-type {\n",
       "        vertical-align: middle;\n",
       "    }\n",
       "\n",
       "    .dataframe tbody tr th {\n",
       "        vertical-align: top;\n",
       "    }\n",
       "\n",
       "    .dataframe thead th {\n",
       "        text-align: right;\n",
       "    }\n",
       "</style>\n",
       "<table border=\"1\" class=\"dataframe\">\n",
       "  <thead>\n",
       "    <tr style=\"text-align: right;\">\n",
       "      <th></th>\n",
       "      <th>negative</th>\n",
       "      <th>positive</th>\n",
       "      <th>total</th>\n",
       "    </tr>\n",
       "  </thead>\n",
       "  <tbody>\n",
       "    <tr>\n",
       "      <th>pt</th>\n",
       "      <td>35718</td>\n",
       "      <td>47216</td>\n",
       "      <td>82934</td>\n",
       "    </tr>\n",
       "    <tr>\n",
       "      <th>left</th>\n",
       "      <td>29213</td>\n",
       "      <td>41467</td>\n",
       "      <td>70680</td>\n",
       "    </tr>\n",
       "    <tr>\n",
       "      <th>right</th>\n",
       "      <td>25019</td>\n",
       "      <td>39509</td>\n",
       "      <td>64528</td>\n",
       "    </tr>\n",
       "    <tr>\n",
       "      <th>name</th>\n",
       "      <td>25761</td>\n",
       "      <td>33143</td>\n",
       "      <td>58904</td>\n",
       "    </tr>\n",
       "    <tr>\n",
       "      <th>mg</th>\n",
       "      <td>21978</td>\n",
       "      <td>25947</td>\n",
       "      <td>47925</td>\n",
       "    </tr>\n",
       "    <tr>\n",
       "      <th>ml</th>\n",
       "      <td>20856</td>\n",
       "      <td>23814</td>\n",
       "      <td>44670</td>\n",
       "    </tr>\n",
       "    <tr>\n",
       "      <th>hospital</th>\n",
       "      <td>18074</td>\n",
       "      <td>24135</td>\n",
       "      <td>42209</td>\n",
       "    </tr>\n",
       "    <tr>\n",
       "      <th>l</th>\n",
       "      <td>18766</td>\n",
       "      <td>22631</td>\n",
       "      <td>41397</td>\n",
       "    </tr>\n",
       "    <tr>\n",
       "      <th>reason</th>\n",
       "      <td>16486</td>\n",
       "      <td>24392</td>\n",
       "      <td>40878</td>\n",
       "    </tr>\n",
       "    <tr>\n",
       "      <th>patient</th>\n",
       "      <td>16937</td>\n",
       "      <td>23058</td>\n",
       "      <td>39995</td>\n",
       "    </tr>\n",
       "    <tr>\n",
       "      <th>clip</th>\n",
       "      <td>16279</td>\n",
       "      <td>23635</td>\n",
       "      <td>39914</td>\n",
       "    </tr>\n",
       "    <tr>\n",
       "      <th>w</th>\n",
       "      <td>17238</td>\n",
       "      <td>22152</td>\n",
       "      <td>39390</td>\n",
       "    </tr>\n",
       "    <tr>\n",
       "      <th>pm</th>\n",
       "      <td>16850</td>\n",
       "      <td>22023</td>\n",
       "      <td>38873</td>\n",
       "    </tr>\n",
       "    <tr>\n",
       "      <th>chest</th>\n",
       "      <td>16672</td>\n",
       "      <td>21728</td>\n",
       "      <td>38400</td>\n",
       "    </tr>\n",
       "    <tr>\n",
       "      <th>p</th>\n",
       "      <td>18488</td>\n",
       "      <td>19589</td>\n",
       "      <td>38077</td>\n",
       "    </tr>\n",
       "    <tr>\n",
       "      <th>normal</th>\n",
       "      <td>19720</td>\n",
       "      <td>18235</td>\n",
       "      <td>37955</td>\n",
       "    </tr>\n",
       "    <tr>\n",
       "      <th>ct</th>\n",
       "      <td>14359</td>\n",
       "      <td>22796</td>\n",
       "      <td>37155</td>\n",
       "    </tr>\n",
       "    <tr>\n",
       "      <th>c</th>\n",
       "      <td>17540</td>\n",
       "      <td>19538</td>\n",
       "      <td>37078</td>\n",
       "    </tr>\n",
       "    <tr>\n",
       "      <th>last</th>\n",
       "      <td>15502</td>\n",
       "      <td>19183</td>\n",
       "      <td>34685</td>\n",
       "    </tr>\n",
       "    <tr>\n",
       "      <th>contrast</th>\n",
       "      <td>13865</td>\n",
       "      <td>20027</td>\n",
       "      <td>33892</td>\n",
       "    </tr>\n",
       "  </tbody>\n",
       "</table>\n",
       "</div>"
      ],
      "text/plain": [
       "          negative  positive  total\n",
       "pt           35718     47216  82934\n",
       "left         29213     41467  70680\n",
       "right        25019     39509  64528\n",
       "name         25761     33143  58904\n",
       "mg           21978     25947  47925\n",
       "ml           20856     23814  44670\n",
       "hospital     18074     24135  42209\n",
       "l            18766     22631  41397\n",
       "reason       16486     24392  40878\n",
       "patient      16937     23058  39995\n",
       "clip         16279     23635  39914\n",
       "w            17238     22152  39390\n",
       "pm           16850     22023  38873\n",
       "chest        16672     21728  38400\n",
       "p            18488     19589  38077\n",
       "normal       19720     18235  37955\n",
       "ct           14359     22796  37155\n",
       "c            17540     19538  37078\n",
       "last         15502     19183  34685\n",
       "contrast     13865     20027  33892"
      ]
     },
     "execution_count": 18,
     "metadata": {},
     "output_type": "execute_result"
    }
   ],
   "source": [
    "#Next visualize find the most frequent words.\n",
    "\n",
    "import matplotlib.pyplot as plt\n",
    "\n",
    "neg_doc_matrix = vect.transform(df_train_final[df_train_final.HOSPITAL_EXPIRE_FLAG == 0].TEXT)\n",
    "pos_doc_matrix = vect.transform(df_train_final[df_train_final.HOSPITAL_EXPIRE_FLAG == 1].TEXT)\n",
    "neg_tf = np.sum(neg_doc_matrix,axis=0)\n",
    "pos_tf = np.sum(pos_doc_matrix,axis=0)\n",
    "neg = np.squeeze(np.asarray(neg_tf))\n",
    "pos = np.squeeze(np.asarray(pos_tf))\n",
    "\n",
    "term_freq_df = pd.DataFrame([neg,pos],columns=vect.get_feature_names()).transpose()\n",
    "term_freq_df.columns = ['negative', 'positive']\n",
    "term_freq_df['total'] = term_freq_df['negative'] + term_freq_df['positive']\n",
    "term_freq_df.sort_values(by='total', ascending=False).iloc[:20]\n"
   ]
  },
  {
   "cell_type": "code",
   "execution_count": 19,
   "metadata": {},
   "outputs": [
    {
     "data": {
      "image/png": "[encoded data removed]",
      "text/plain": [
       "<Figure size 720x432 with 1 Axes>"
      ]
     },
     "metadata": {
      "needs_background": "light"
     },
     "output_type": "display_data"
    },
    {
     "data": {
      "image/png": "[encoded data removed]",
      "text/plain": [
       "<Figure size 720x432 with 1 Axes>"
      ]
     },
     "metadata": {
      "needs_background": "light"
     },
     "output_type": "display_data"
    }
   ],
   "source": [
    "#Create a series from the sparse matrix\n",
    "d = pd.Series(term_freq_df.total, \n",
    "              index = term_freq_df.index).sort_values(ascending=False)\n",
    "\n",
    "#Visualize the 100 most frequent words in the text\n",
    "ax = d[:50].plot(kind='bar', figsize=(10,6), width=.8, fontsize=14, rot=90,color = 'b')\n",
    "ax.title.set_size(18)\n",
    "plt.title('Most Frequent Words in Caregiver Notes')\n",
    "plt.ylabel('count')\n",
    "plt.show()\n",
    "ax = d[50:100].plot(kind='bar', figsize=(10,6), width=.8, fontsize=14, rot=90,color = 'b')\n",
    "ax.title.set_size(18)\n",
    "plt.ylabel('count')\n",
    "plt.show()"
   ]
  },
  {
   "cell_type": "code",
   "execution_count": 20,
   "metadata": {
    "scrolled": false
   },
   "outputs": [],
   "source": [
    "#with np.printoptions(threshold=np.inf):\n",
    " #   print(neg_doc_matrix)"
   ]
  },
  {
   "cell_type": "code",
   "execution_count": 21,
   "metadata": {},
   "outputs": [],
   "source": [
    "stopwords_updated = list(stopwords) + ['pt', 'left', 'right', 'name','patient', 'p','c']\n"
   ]
  },
  {
   "cell_type": "markdown",
   "metadata": {},
   "source": [
    "Add the list of stop words as an argument for CountVectorizer"
   ]
  },
  {
   "cell_type": "code",
   "execution_count": 22,
   "metadata": {},
   "outputs": [
    {
     "name": "stderr",
     "output_type": "stream",
     "text": [
      "C:\\Users\\caras\\anaconda3\\lib\\site-packages\\sklearn\\feature_extraction\\text.py:484: UserWarning: The parameter 'token_pattern' will not be used since 'tokenizer' is not None'\n",
      "  warnings.warn(\"The parameter 'token_pattern' will not be used\"\n"
     ]
    },
    {
     "data": {
      "text/plain": [
       "CountVectorizer(max_features=3000, ngram_range=(1, 2),\n",
       "                stop_words=['too', 'now', 'the', 'for', 'he', 'had', 'them',\n",
       "                            'just', \"won't\", 'they', 'once', 'haven', 'then',\n",
       "                            'both', 'no', 'in', 'few', \"wouldn't\", \"you're\",\n",
       "                            'are', \"isn't\", 'up', \"don't\", 'she', 've', 'most',\n",
       "                            'after', \"aren't\", 'having', \"haven't\", ...],\n",
       "                tokenizer=<function text_tokenizer at 0x000001387A3CC550>)"
      ]
     },
     "execution_count": 22,
     "metadata": {},
     "output_type": "execute_result"
    }
   ],
   "source": [
    "\n",
    "from sklearn.feature_extraction.text import CountVectorizer\n",
    "vect = CountVectorizer(max_features = 3000, \n",
    "                       ngram_range = (1,2),\n",
    "                       tokenizer = text_tokenizer, \n",
    "                       stop_words = stopwords_updated)\n",
    "# this will take a while\n",
    "vect.fit(df_train_final.TEXT.values)\n"
   ]
  },
  {
   "cell_type": "code",
   "execution_count": 23,
   "metadata": {
    "scrolled": true
   },
   "outputs": [
    {
     "data": {
      "text/html": [
       "<div>\n",
       "<style scoped>\n",
       "    .dataframe tbody tr th:only-of-type {\n",
       "        vertical-align: middle;\n",
       "    }\n",
       "\n",
       "    .dataframe tbody tr th {\n",
       "        vertical-align: top;\n",
       "    }\n",
       "\n",
       "    .dataframe thead th {\n",
       "        text-align: right;\n",
       "    }\n",
       "</style>\n",
       "<table border=\"1\" class=\"dataframe\">\n",
       "  <thead>\n",
       "    <tr style=\"text-align: right;\">\n",
       "      <th></th>\n",
       "      <th>negative</th>\n",
       "      <th>positive</th>\n",
       "      <th>total</th>\n",
       "    </tr>\n",
       "  </thead>\n",
       "  <tbody>\n",
       "    <tr>\n",
       "      <th>mg</th>\n",
       "      <td>21978</td>\n",
       "      <td>25947</td>\n",
       "      <td>47925</td>\n",
       "    </tr>\n",
       "    <tr>\n",
       "      <th>ml</th>\n",
       "      <td>20856</td>\n",
       "      <td>23814</td>\n",
       "      <td>44670</td>\n",
       "    </tr>\n",
       "    <tr>\n",
       "      <th>hospital</th>\n",
       "      <td>18074</td>\n",
       "      <td>24135</td>\n",
       "      <td>42209</td>\n",
       "    </tr>\n",
       "    <tr>\n",
       "      <th>l</th>\n",
       "      <td>18766</td>\n",
       "      <td>22631</td>\n",
       "      <td>41397</td>\n",
       "    </tr>\n",
       "    <tr>\n",
       "      <th>reason</th>\n",
       "      <td>16486</td>\n",
       "      <td>24392</td>\n",
       "      <td>40878</td>\n",
       "    </tr>\n",
       "    <tr>\n",
       "      <th>clip</th>\n",
       "      <td>16279</td>\n",
       "      <td>23635</td>\n",
       "      <td>39914</td>\n",
       "    </tr>\n",
       "    <tr>\n",
       "      <th>w</th>\n",
       "      <td>17238</td>\n",
       "      <td>22152</td>\n",
       "      <td>39390</td>\n",
       "    </tr>\n",
       "    <tr>\n",
       "      <th>pm</th>\n",
       "      <td>16850</td>\n",
       "      <td>22023</td>\n",
       "      <td>38873</td>\n",
       "    </tr>\n",
       "    <tr>\n",
       "      <th>chest</th>\n",
       "      <td>16672</td>\n",
       "      <td>21728</td>\n",
       "      <td>38400</td>\n",
       "    </tr>\n",
       "    <tr>\n",
       "      <th>normal</th>\n",
       "      <td>19720</td>\n",
       "      <td>18235</td>\n",
       "      <td>37955</td>\n",
       "    </tr>\n",
       "    <tr>\n",
       "      <th>ct</th>\n",
       "      <td>14359</td>\n",
       "      <td>22796</td>\n",
       "      <td>37155</td>\n",
       "    </tr>\n",
       "    <tr>\n",
       "      <th>last</th>\n",
       "      <td>15502</td>\n",
       "      <td>19183</td>\n",
       "      <td>34685</td>\n",
       "    </tr>\n",
       "    <tr>\n",
       "      <th>contrast</th>\n",
       "      <td>13865</td>\n",
       "      <td>20027</td>\n",
       "      <td>33892</td>\n",
       "    </tr>\n",
       "    <tr>\n",
       "      <th>plan</th>\n",
       "      <td>14193</td>\n",
       "      <td>16206</td>\n",
       "      <td>30399</td>\n",
       "    </tr>\n",
       "    <tr>\n",
       "      <th>hr</th>\n",
       "      <td>13235</td>\n",
       "      <td>16656</td>\n",
       "      <td>29891</td>\n",
       "    </tr>\n",
       "    <tr>\n",
       "      <th>old</th>\n",
       "      <td>11590</td>\n",
       "      <td>16753</td>\n",
       "      <td>28343</td>\n",
       "    </tr>\n",
       "    <tr>\n",
       "      <th>pain</th>\n",
       "      <td>15588</td>\n",
       "      <td>12344</td>\n",
       "      <td>27932</td>\n",
       "    </tr>\n",
       "    <tr>\n",
       "      <th>year</th>\n",
       "      <td>10985</td>\n",
       "      <td>15744</td>\n",
       "      <td>26729</td>\n",
       "    </tr>\n",
       "    <tr>\n",
       "      <th>given</th>\n",
       "      <td>11267</td>\n",
       "      <td>15096</td>\n",
       "      <td>26363</td>\n",
       "    </tr>\n",
       "    <tr>\n",
       "      <th>assessment</th>\n",
       "      <td>11099</td>\n",
       "      <td>14746</td>\n",
       "      <td>25845</td>\n",
       "    </tr>\n",
       "  </tbody>\n",
       "</table>\n",
       "</div>"
      ],
      "text/plain": [
       "            negative  positive  total\n",
       "mg             21978     25947  47925\n",
       "ml             20856     23814  44670\n",
       "hospital       18074     24135  42209\n",
       "l              18766     22631  41397\n",
       "reason         16486     24392  40878\n",
       "clip           16279     23635  39914\n",
       "w              17238     22152  39390\n",
       "pm             16850     22023  38873\n",
       "chest          16672     21728  38400\n",
       "normal         19720     18235  37955\n",
       "ct             14359     22796  37155\n",
       "last           15502     19183  34685\n",
       "contrast       13865     20027  33892\n",
       "plan           14193     16206  30399\n",
       "hr             13235     16656  29891\n",
       "old            11590     16753  28343\n",
       "pain           15588     12344  27932\n",
       "year           10985     15744  26729\n",
       "given          11267     15096  26363\n",
       "assessment     11099     14746  25845"
      ]
     },
     "execution_count": 23,
     "metadata": {},
     "output_type": "execute_result"
    }
   ],
   "source": [
    "#Again visualize find the most frequent words.\n",
    "\n",
    "import matplotlib.pyplot as plt\n",
    "\n",
    "neg_doc_matrix = vect.transform(df_train_final[df_train_final.HOSPITAL_EXPIRE_FLAG == 0].TEXT)\n",
    "pos_doc_matrix = vect.transform(df_train_final[df_train_final.HOSPITAL_EXPIRE_FLAG == 1].TEXT)\n",
    "neg_tf = np.sum(neg_doc_matrix,axis=0)\n",
    "pos_tf = np.sum(pos_doc_matrix,axis=0)\n",
    "neg = np.squeeze(np.asarray(neg_tf))\n",
    "pos = np.squeeze(np.asarray(pos_tf))\n",
    "\n",
    "term_freq_df = pd.DataFrame([neg,pos],columns=vect.get_feature_names()).transpose()\n",
    "term_freq_df.columns = ['negative', 'positive']\n",
    "term_freq_df['total'] = term_freq_df['negative'] + term_freq_df['positive']\n",
    "term_freq_df.sort_values(by='total', ascending=False).iloc[:20]\n"
   ]
  },
  {
   "cell_type": "code",
   "execution_count": 24,
   "metadata": {
    "scrolled": true
   },
   "outputs": [
    {
     "data": {
      "image/png": "[encoded data removed]",
      "text/plain": [
       "<Figure size 720x432 with 1 Axes>"
      ]
     },
     "metadata": {
      "needs_background": "light"
     },
     "output_type": "display_data"
    },
    {
     "data": {
      "image/png": "[encoded data removed]",
      "text/plain": [
       "<Figure size 720x432 with 1 Axes>"
      ]
     },
     "metadata": {
      "needs_background": "light"
     },
     "output_type": "display_data"
    }
   ],
   "source": [
    "#Again Create a series from the sparse matrix\n",
    "d = pd.Series(term_freq_df.total, \n",
    "              index = term_freq_df.index).sort_values(ascending=False)\n",
    "\n",
    "#Visualize the 100 most frequent words in the text\n",
    "ax = d[:50].plot(kind='bar', figsize=(10,6), width=.8, fontsize=14, rot=90,color = 'b')\n",
    "ax.title.set_size(18)\n",
    "plt.title('Most Frequent Words in Caregiver Notes')\n",
    "plt.ylabel('count')\n",
    "plt.show()\n",
    "ax = d[50:100].plot(kind='bar', figsize=(10,6), width=.8, fontsize=14, rot=90,color = 'b')\n",
    "ax.title.set_size(18)\n",
    "plt.ylabel('count')\n",
    "plt.show() "
   ]
  },
  {
   "cell_type": "markdown",
   "metadata": {},
   "source": [
    "Next, transform the tokens into vectors"
   ]
  },
  {
   "cell_type": "code",
   "execution_count": 25,
   "metadata": {},
   "outputs": [],
   "source": [
    "X_train_vect = vect.transform(df_train_final.TEXT.values)\n",
    "X_valid_vect = vect.transform(df_valid.TEXT.values)\n",
    "X_test_vect = vect.transform(df_test.TEXT.values)"
   ]
  },
  {
   "cell_type": "code",
   "execution_count": 26,
   "metadata": {},
   "outputs": [
    {
     "data": {
      "text/plain": [
       "(6410, 3000)"
      ]
     },
     "execution_count": 26,
     "metadata": {},
     "output_type": "execute_result"
    }
   ],
   "source": [
    "X_train_vect.shape"
   ]
  },
  {
   "cell_type": "code",
   "execution_count": 27,
   "metadata": {},
   "outputs": [
    {
     "data": {
      "text/plain": [
       "scipy.sparse.csr.csr_matrix"
      ]
     },
     "execution_count": 27,
     "metadata": {},
     "output_type": "execute_result"
    }
   ],
   "source": [
    "type(X_train_vect)"
   ]
  },
  {
   "cell_type": "markdown",
   "metadata": {},
   "source": [
    "Get labels (target/outcome variable)"
   ]
  },
  {
   "cell_type": "code",
   "execution_count": 28,
   "metadata": {},
   "outputs": [],
   "source": [
    "y_train = df_train_final.HOSPITAL_EXPIRE_FLAG\n",
    "y_valid = df_valid.HOSPITAL_EXPIRE_FLAG\n",
    "y_test = df_test.HOSPITAL_EXPIRE_FLAG"
   ]
  },
  {
   "cell_type": "code",
   "execution_count": 74,
   "metadata": {
    "scrolled": false
   },
   "outputs": [
    {
     "ename": "TypeError",
     "evalue": "get_handle() got an unexpected keyword argument 'errors'",
     "output_type": "error",
     "traceback": [
      "\u001b[1;31m---------------------------------------------------------------------------\u001b[0m",
      "\u001b[1;31mTypeError\u001b[0m                                 Traceback (most recent call last)",
      "\u001b[1;32m<ipython-input-74-11fbd538255e>\u001b[0m in \u001b[0;36m<module>\u001b[1;34m\u001b[0m\n\u001b[0;32m      5\u001b[0m \u001b[1;31m#from scipy.sparse import csr_matrix\u001b[0m\u001b[1;33m\u001b[0m\u001b[1;33m\u001b[0m\u001b[1;33m\u001b[0m\u001b[0m\n\u001b[0;32m      6\u001b[0m \u001b[0mdf\u001b[0m \u001b[1;33m=\u001b[0m \u001b[0mpd\u001b[0m\u001b[1;33m.\u001b[0m\u001b[0mDataFrame\u001b[0m\u001b[1;33m(\u001b[0m\u001b[0mdata\u001b[0m\u001b[1;33m=\u001b[0m\u001b[0mcsr_matrix\u001b[0m\u001b[1;33m.\u001b[0m\u001b[0mtodense\u001b[0m\u001b[1;33m(\u001b[0m\u001b[0mX_train_vect\u001b[0m\u001b[1;33m)\u001b[0m\u001b[1;33m)\u001b[0m\u001b[1;33m\u001b[0m\u001b[1;33m\u001b[0m\u001b[0m\n\u001b[1;32m----> 7\u001b[1;33m \u001b[0mdf\u001b[0m\u001b[1;33m.\u001b[0m\u001b[0mto_csv\u001b[0m\u001b[1;33m(\u001b[0m\u001b[1;34m'X_train_vect.csv'\u001b[0m\u001b[1;33m)\u001b[0m\u001b[1;33m\u001b[0m\u001b[1;33m\u001b[0m\u001b[0m\n\u001b[0m\u001b[0;32m      8\u001b[0m \u001b[1;31m#dir(scipy.sparse.csr_matrix)\u001b[0m\u001b[1;33m\u001b[0m\u001b[1;33m\u001b[0m\u001b[1;33m\u001b[0m\u001b[0m\n",
      "\u001b[1;32m~\\anaconda3\\lib\\site-packages\\pandas\\core\\generic.py\u001b[0m in \u001b[0;36mto_csv\u001b[1;34m(self, path_or_buf, sep, na_rep, float_format, columns, header, index, index_label, mode, encoding, compression, quoting, quotechar, line_terminator, chunksize, date_format, doublequote, escapechar, decimal)\u001b[0m\n\u001b[0;32m   3202\u001b[0m     \u001b[1;32mdef\u001b[0m \u001b[0m_is_cached\u001b[0m\u001b[1;33m(\u001b[0m\u001b[0mself\u001b[0m\u001b[1;33m)\u001b[0m \u001b[1;33m->\u001b[0m \u001b[0mbool_t\u001b[0m\u001b[1;33m:\u001b[0m\u001b[1;33m\u001b[0m\u001b[1;33m\u001b[0m\u001b[0m\n\u001b[0;32m   3203\u001b[0m         \u001b[1;34m\"\"\"Return boolean indicating if self is cached or not.\"\"\"\u001b[0m\u001b[1;33m\u001b[0m\u001b[1;33m\u001b[0m\u001b[0m\n\u001b[1;32m-> 3204\u001b[1;33m         \u001b[1;32mreturn\u001b[0m \u001b[0mgetattr\u001b[0m\u001b[1;33m(\u001b[0m\u001b[0mself\u001b[0m\u001b[1;33m,\u001b[0m \u001b[1;34m\"_cacher\"\u001b[0m\u001b[1;33m,\u001b[0m \u001b[1;32mNone\u001b[0m\u001b[1;33m)\u001b[0m \u001b[1;32mis\u001b[0m \u001b[1;32mnot\u001b[0m \u001b[1;32mNone\u001b[0m\u001b[1;33m\u001b[0m\u001b[1;33m\u001b[0m\u001b[0m\n\u001b[0m\u001b[0;32m   3205\u001b[0m \u001b[1;33m\u001b[0m\u001b[0m\n\u001b[0;32m   3206\u001b[0m     \u001b[1;32mdef\u001b[0m \u001b[0m_get_cacher\u001b[0m\u001b[1;33m(\u001b[0m\u001b[0mself\u001b[0m\u001b[1;33m)\u001b[0m\u001b[1;33m:\u001b[0m\u001b[1;33m\u001b[0m\u001b[1;33m\u001b[0m\u001b[0m\n",
      "\u001b[1;32m~\\anaconda3\\lib\\site-packages\\pandas\\io\\formats\\csvs.py\u001b[0m in \u001b[0;36msave\u001b[1;34m(self)\u001b[0m\n\u001b[0;32m    183\u001b[0m             \u001b[0mclose\u001b[0m \u001b[1;33m=\u001b[0m \u001b[1;32mFalse\u001b[0m\u001b[1;33m\u001b[0m\u001b[1;33m\u001b[0m\u001b[0m\n\u001b[0;32m    184\u001b[0m         \u001b[1;32melse\u001b[0m\u001b[1;33m:\u001b[0m\u001b[1;33m\u001b[0m\u001b[1;33m\u001b[0m\u001b[0m\n\u001b[1;32m--> 185\u001b[1;33m             f, handles = get_handle(\n\u001b[0m\u001b[0;32m    186\u001b[0m                 \u001b[0mself\u001b[0m\u001b[1;33m.\u001b[0m\u001b[0mpath_or_buf\u001b[0m\u001b[1;33m,\u001b[0m\u001b[1;33m\u001b[0m\u001b[1;33m\u001b[0m\u001b[0m\n\u001b[0;32m    187\u001b[0m                 \u001b[0mself\u001b[0m\u001b[1;33m.\u001b[0m\u001b[0mmode\u001b[0m\u001b[1;33m,\u001b[0m\u001b[1;33m\u001b[0m\u001b[1;33m\u001b[0m\u001b[0m\n",
      "\u001b[1;31mTypeError\u001b[0m: get_handle() got an unexpected keyword argument 'errors'"
     ]
    }
   ],
   "source": [
    "import scipy\n",
    "from scipy.sparse import csr_matrix\n",
    "# Convert sparse matrices and pandas series to csv for the next step.\n",
    "#from scipy.sparse.csr_matrix import todense\n",
    "#from scipy.sparse import csr_matrix\n",
    "df = pd.DataFrame(data=csr_matrix.todense(X_train_vect))\n",
    "df.to_csv('X_train_vect.csv', index=False)\n"
   ]
  },
  {
   "cell_type": "code",
   "execution_count": null,
   "metadata": {},
   "outputs": [],
   "source": []
  },
  {
   "cell_type": "code",
   "execution_count": null,
   "metadata": {},
   "outputs": [],
   "source": []
  },
  {
   "cell_type": "markdown",
   "metadata": {},
   "source": [
    "Step 3: Build a simple predictive model"
   ]
  },
  {
   "cell_type": "code",
   "execution_count": 98,
   "metadata": {},
   "outputs": [
    {
     "name": "stderr",
     "output_type": "stream",
     "text": [
      "C:\\Users\\caras\\anaconda3\\lib\\site-packages\\sklearn\\linear_model\\_logistic.py:762: ConvergenceWarning: lbfgs failed to converge (status=1):\n",
      "STOP: TOTAL NO. of ITERATIONS REACHED LIMIT.\n",
      "\n",
      "Increase the number of iterations (max_iter) or scale the data as shown in:\n",
      "    https://scikit-learn.org/stable/modules/preprocessing.html\n",
      "Please also refer to the documentation for alternative solver options:\n",
      "    https://scikit-learn.org/stable/modules/linear_model.html#logistic-regression\n",
      "  n_iter_i = _check_optimize_result(\n"
     ]
    },
    {
     "data": {
      "text/plain": [
       "LogisticRegression(random_state=42)"
      ]
     },
     "execution_count": 98,
     "metadata": {},
     "output_type": "execute_result"
    }
   ],
   "source": [
    "# logistic regression\n",
    "from sklearn.linear_model import LogisticRegression\n",
    "clf=LogisticRegression(random_state = 42, solver='lbfgs')\n",
    "clf.fit(X_train_vect, y_train)"
   ]
  },
  {
   "cell_type": "code",
   "execution_count": 101,
   "metadata": {},
   "outputs": [
    {
     "data": {
      "text/plain": [
       "GaussianNB()"
      ]
     },
     "execution_count": 101,
     "metadata": {},
     "output_type": "execute_result"
    }
   ],
   "source": [
    "#import other models for evaluation\n",
    "from sklearn.linear_model import LogisticRegression\n",
    "#from sklearn.ensemble import RandomForestClassifier\n",
    "from sklearn.svm import SVC\n",
    "from sklearn.naive_bayes import GaussianNB\n",
    "from sklearn.pipeline import Pipeline\n",
    "\n",
    "#rf = RandomForestClassifier(random_state=42, n_estimators=100)\n",
    "svm = SVC(random_state=42, gamma='auto', probability=True)\n",
    "gnb = GaussianNB()\n",
    "\n",
    "\n",
    "#rf.fit(X_train_vect, y_train)\n",
    "\n",
    "svm.fit(X_train_vect, y_train)\n",
    "\n",
    "gnb.fit(X_train_vect.toarray(), y_train)\n",
    "\n"
   ]
  },
  {
   "cell_type": "markdown",
   "metadata": {},
   "source": [
    "Calculate probability of death."
   ]
  },
  {
   "cell_type": "code",
   "execution_count": 102,
   "metadata": {},
   "outputs": [],
   "source": [
    "model = clf\n",
    "y_train_preds = model.predict_proba(X_train_vect)[:,1]\n",
    "y_valid_preds = model.predict_proba(X_valid_vect)[:,1]"
   ]
  },
  {
   "cell_type": "code",
   "execution_count": 103,
   "metadata": {},
   "outputs": [
    {
     "name": "stdout",
     "output_type": "stream",
     "text": [
      "[0 1 0 1 0 1 0 0 1 1]\n",
      "[0.01007728 0.98769468 0.02063977 0.99959478 0.65722358 0.59758284\n",
      " 0.2289236  0.02820482 0.96461736 0.99999999]\n"
     ]
    }
   ],
   "source": [
    "#Print mortality predictions for the first 10 samples in the training set\n",
    "print(y_train[:10].values)\n",
    "print(y_train_preds[:10])\n"
   ]
  },
  {
   "cell_type": "code",
   "execution_count": 104,
   "metadata": {},
   "outputs": [],
   "source": [
    "model = gnb\n",
    "y_train_preds_gnb = model.predict_proba(X_train_vect.toarray())[:,1]\n",
    "y_valid_preds_gnb = model.predict_proba(X_valid_vect.toarray())[:,1]"
   ]
  },
  {
   "cell_type": "code",
   "execution_count": null,
   "metadata": {},
   "outputs": [],
   "source": [
    "model=rf\n",
    "y_train_preds_rf = model.predict_proba(X_train_vect)[:,1]\n",
    "y_valid_preds_rf = model.predict_proba(X_valid_vect.toarray())[:,1]"
   ]
  },
  {
   "cell_type": "code",
   "execution_count": 105,
   "metadata": {},
   "outputs": [],
   "source": [
    "model = svm\n",
    "y_train_preds_svm = model.predict_proba(X_train_vect)[:,1]\n",
    "y_valid_preds_svm = model.predict_proba(X_valid_vect.toarray())[:,1]"
   ]
  },
  {
   "cell_type": "code",
   "execution_count": 106,
   "metadata": {},
   "outputs": [
    {
     "name": "stdout",
     "output_type": "stream",
     "text": [
      "[0 1 0 1 0 1 0 0 1 1]\n",
      "[0.01007728 0.98769468 0.02063977 0.99959478 0.65722358 0.59758284\n",
      " 0.2289236  0.02820482 0.96461736 0.99999999]\n"
     ]
    }
   ],
   "source": [
    "#Print mortality predictions for the first 10 samples in the training set\n",
    "print(y_train[:10].values)\n",
    "print(y_train_preds[:10])\n"
   ]
  },
  {
   "cell_type": "markdown",
   "metadata": {},
   "source": [
    "Calculate performance metrics"
   ]
  },
  {
   "cell_type": "code",
   "execution_count": 107,
   "metadata": {},
   "outputs": [],
   "source": [
    "#Create functions to calculate performanece metrics\n",
    "def calc_accuracy(y_actual, y_pred, thresh):\n",
    "    # this function calculates the accuracy with probability threshold at thresh\n",
    "    return (sum((y_pred > thresh) & (y_actual == 1))+sum((y_pred < thresh) & (y_actual == 0))) /len(y_actual)\n",
    "\n",
    "def calc_recall(y_actual, y_pred, thresh):\n",
    "    # calculates the recall\n",
    "    return sum((y_pred > thresh) & (y_actual == 1)) /sum(y_actual)\n",
    "\n",
    "def calc_precision(y_actual, y_pred, thresh):\n",
    "    # calculates the precision\n",
    "    return sum((y_pred > thresh) & (y_actual == 1)) /sum(y_pred > thresh)\n",
    "\n",
    "def calc_specificity(y_actual, y_pred, thresh):\n",
    "    # calculates specificity\n",
    "    return sum((y_pred < thresh) & (y_actual == 0)) /sum(y_actual ==0)\n",
    "\n",
    "def calc_prevalence(y_actual):\n",
    "    # calculates prevalence\n",
    "    return sum((y_actual == 1)) /len(y_actual)"
   ]
  },
  {
   "cell_type": "code",
   "execution_count": 108,
   "metadata": {},
   "outputs": [
    {
     "name": "stdout",
     "output_type": "stream",
     "text": [
      "\n",
      "Logistic Regression Performance Metrics\n",
      "\n",
      "AUC:\n",
      "Train:0.978\n",
      "Valid:0.781\n",
      "\n",
      "Accuracy:\n",
      "Train:0.917\n",
      "Valid:0.717\n",
      "\n",
      "Recall:\n",
      "Train:0.917\n",
      "Valid:0.718\n",
      "\n",
      "Precision:\n",
      "Train:0.917\n",
      "Valid:0.187\n",
      "\n",
      "Specificity\n",
      "Train:0.917\n",
      "Valid:0.717\n",
      "\n",
      "Prevalence\n",
      "Train:0.500\n",
      "Valid:0.083\n"
     ]
    },
    {
     "data": {
      "image/png": "[encoded data removed]",
      "text/plain": [
       "<Figure size 432x288 with 1 Axes>"
      ]
     },
     "metadata": {
      "needs_background": "light"
     },
     "output_type": "display_data"
    }
   ],
   "source": [
    "#LOGISTIC REGRESSION\n",
    "from sklearn.metrics import roc_curve\n",
    "from sklearn.metrics import roc_auc_score\n",
    "\n",
    "fpr_train, tpr_train, thresholds_train = roc_curve(y_train, y_train_preds)\n",
    "fpr_valid, tpr_valid, thresholds_valid = roc_curve(y_valid, y_valid_preds)\n",
    "\n",
    "\n",
    "thresh = 0.5\n",
    "\n",
    "auc_train = roc_auc_score(y_train, y_train_preds)\n",
    "auc_valid = roc_auc_score(y_valid, y_valid_preds)\n",
    "\n",
    "print(\"\\nLogistic Regression Performance Metrics\\n\")\n",
    "print('AUC:')\n",
    "print('Train:%.3f'%auc_train)\n",
    "print('Valid:%.3f'%auc_valid)\n",
    "\n",
    "print('\\nAccuracy:')\n",
    "print('Train:%.3f'%calc_accuracy(y_train, y_train_preds, thresh))\n",
    "print('Valid:%.3f'%calc_accuracy(y_valid, y_valid_preds, thresh))\n",
    "\n",
    "print('\\nRecall:')\n",
    "print('Train:%.3f'%calc_recall(y_train, y_train_preds, thresh))\n",
    "print('Valid:%.3f'%calc_recall(y_valid, y_valid_preds, thresh))\n",
    "\n",
    "print('\\nPrecision:')\n",
    "print('Train:%.3f'%calc_precision(y_train, y_train_preds, thresh))\n",
    "print('Valid:%.3f'%calc_precision(y_valid, y_valid_preds, thresh))\n",
    "\n",
    "print('\\nSpecificity')\n",
    "print('Train:%.3f'%calc_specificity(y_train, y_train_preds, thresh))\n",
    "print('Valid:%.3f'%calc_specificity(y_valid, y_valid_preds, thresh))\n",
    "\n",
    "print('\\nPrevalence')\n",
    "print('Train:%.3f'%calc_prevalence(y_train))\n",
    "print('Valid:%.3f'%calc_prevalence(y_valid))\n",
    "\n",
    "\n",
    "plt.plot(fpr_train, tpr_train,'r-', label = 'Train AUC: %.2f'%auc_train)\n",
    "plt.plot(fpr_valid, tpr_valid,'b-',label = 'Valid AUC: %.2f'%auc_valid)\n",
    "plt.plot([0,1],[0,1],'-k')\n",
    "plt.title('Logistic Regression AUC-ROC')\n",
    "plt.xlabel('False Positive Rate')\n",
    "plt.ylabel('True Positive Rate')\n",
    "plt.legend()\n",
    "plt.show()"
   ]
  },
  {
   "cell_type": "code",
   "execution_count": 109,
   "metadata": {
    "scrolled": true
   },
   "outputs": [
    {
     "name": "stdout",
     "output_type": "stream",
     "text": [
      "\n",
      "Naive Bayes Performance Metrics\n",
      "\n",
      "Train AUC:0.708\n",
      "Valid AUC:0.672\n",
      "Train accuracy:0.570\n",
      "Valid accuracy:0.824\n",
      "Train recall:0.253\n",
      "Valid recall:0.247\n",
      "Train precision:0.691\n",
      "Valid precision:0.153\n",
      "Train specificity:0.887\n",
      "Valid specificity:0.876\n",
      "Train prevalence:0.500\n",
      "Valid prevalence:0.083\n"
     ]
    },
    {
     "data": {
      "image/png": "[encoded data removed]",
      "text/plain": [
       "<Figure size 432x288 with 1 Axes>"
      ]
     },
     "metadata": {
      "needs_background": "light"
     },
     "output_type": "display_data"
    }
   ],
   "source": [
    "#GNB\n",
    "from sklearn.metrics import roc_curve\n",
    "from sklearn.metrics import roc_auc_score\n",
    "\n",
    "fpr_train, tpr_train, thresholds_train = roc_curve(y_train, y_train_preds_gnb)\n",
    "fpr_valid, tpr_valid, thresholds_valid = roc_curve(y_valid, y_valid_preds_gnb)\n",
    "\n",
    "\n",
    "thresh = 0.5\n",
    "\n",
    "auc_train = roc_auc_score(y_train, y_train_preds_gnb)\n",
    "auc_valid = roc_auc_score(y_valid, y_valid_preds_gnb)\n",
    "print(\"\\nNaive Bayes Performance Metrics\\n\")\n",
    "print('Train AUC:%.3f'%auc_train)\n",
    "print('Valid AUC:%.3f'%auc_valid)\n",
    "\n",
    "print('Train accuracy:%.3f'%calc_accuracy(y_train, y_train_preds_gnb, thresh))\n",
    "print('Valid accuracy:%.3f'%calc_accuracy(y_valid, y_valid_preds_gnb, thresh))\n",
    "\n",
    "\n",
    "print('Train recall:%.3f'%calc_recall(y_train, y_train_preds_gnb, thresh))\n",
    "print('Valid recall:%.3f'%calc_recall(y_valid, y_valid_preds_gnb, thresh))\n",
    "\n",
    "print('Train precision:%.3f'%calc_precision(y_train, y_train_preds_gnb, thresh))\n",
    "print('Valid precision:%.3f'%calc_precision(y_valid, y_valid_preds_gnb, thresh))\n",
    "\n",
    "print('Train specificity:%.3f'%calc_specificity(y_train, y_train_preds_gnb, thresh))\n",
    "print('Valid specificity:%.3f'%calc_specificity(y_valid, y_valid_preds_gnb, thresh))\n",
    "\n",
    "print('Train prevalence:%.3f'%calc_prevalence(y_train))\n",
    "print('Valid prevalence:%.3f'%calc_prevalence(y_valid))\n",
    "\n",
    "\n",
    "plt.plot(fpr_train, tpr_train,'r-', label = 'Train AUC: %.2f'%auc_train)\n",
    "plt.plot(fpr_valid, tpr_valid,'b-',label = 'Valid AUC: %.2f'%auc_valid)\n",
    "plt.plot([0,1],[0,1],'-k')\n",
    "plt.title('Naive Bayes AUC-ROC')\n",
    "plt.xlabel('False Positive Rate')\n",
    "plt.ylabel('True Positive Rate')\n",
    "plt.legend()\n",
    "plt.show()"
   ]
  },
  {
   "cell_type": "code",
   "execution_count": null,
   "metadata": {
    "scrolled": true
   },
   "outputs": [],
   "source": [
    "#RF\n",
    "from sklearn.metrics import roc_curve\n",
    "from sklearn.metrics import roc_auc_score\n",
    "\n",
    "fpr_train, tpr_train, thresholds_train = roc_curve(y_train, y_train_preds_rf)\n",
    "fpr_valid, tpr_valid, thresholds_valid = roc_curve(y_valid, y_valid_preds_rf)\n",
    "\n",
    "\n",
    "thresh = 0.5\n",
    "\n",
    "auc_train = roc_auc_score(y_train, y_train_preds_rf)\n",
    "auc_valid = roc_auc_score(y_valid, y_valid_preds_rf)\n",
    "print(\"\\nRandom Forest Performance Metrics\\n\")\n",
    "print('Train AUC:%.3f'%auc_train)\n",
    "print('Valid AUC:%.3f'%auc_valid)\n",
    "\n",
    "print('Train accuracy:%.3f'%calc_accuracy(y_train, y_train_preds_rf, thresh))\n",
    "print('Valid accuracy:%.3f'%calc_accuracy(y_valid, y_valid_preds_rf, thresh))\n",
    "\n",
    "\n",
    "print('Train recall:%.3f'%calc_recall(y_train, y_train_preds_rf, thresh))\n",
    "print('Valid recall:%.3f'%calc_recall(y_valid, y_valid_preds_rf, thresh))\n",
    "\n",
    "print('Train precision:%.3f'%calc_precision(y_train, y_train_preds_rf, thresh))\n",
    "print('Valid precision:%.3f'%calc_precision(y_valid, y_valid_preds_rf, thresh))\n",
    "\n",
    "print('Train specificity:%.3f'%calc_specificity(y_train, y_train_preds_rf, thresh))\n",
    "print('Valid specificity:%.3f'%calc_specificity(y_valid, y_valid_preds_rf, thresh))\n",
    "\n",
    "print('Train prevalence:%.3f'%calc_prevalence(y_train))\n",
    "print('Valid prevalence:%.3f'%calc_prevalence(y_valid))\n",
    "\n",
    "\n",
    "plt.plot(fpr_train, tpr_train,'r-', label = 'Train AUC: %.2f'%auc_train)\n",
    "plt.plot(fpr_valid, tpr_valid,'b-',label = 'Valid AUC: %.2f'%auc_valid)\n",
    "plt.plot([0,1],[0,1],'-k')\n",
    "plt.title('Random Forest AUC-ROC')\n",
    "plt.xlabel('False Positive Rate')\n",
    "plt.ylabel('True Positive Rate')\n",
    "plt.legend()\n",
    "plt.show()"
   ]
  },
  {
   "cell_type": "code",
   "execution_count": 110,
   "metadata": {},
   "outputs": [
    {
     "name": "stdout",
     "output_type": "stream",
     "text": [
      "\n",
      "SVM Performance Metrics\n",
      "\n",
      "Train AUC:0.959\n",
      "Valid AUC:0.812\n",
      "Train accuracy:0.882\n",
      "Valid accuracy:0.663\n",
      "Train recall:0.866\n",
      "Valid recall:0.782\n",
      "Train precision:0.899\n",
      "Valid precision:0.173\n",
      "Train specificity:0.898\n",
      "Valid specificity:0.652\n",
      "Train prevalence:0.500\n",
      "Valid prevalence:0.083\n"
     ]
    },
    {
     "data": {
      "image/png": "[encoded data removed]",
      "text/plain": [
       "<Figure size 432x288 with 1 Axes>"
      ]
     },
     "metadata": {
      "needs_background": "light"
     },
     "output_type": "display_data"
    }
   ],
   "source": [
    "#svm\n",
    "from sklearn.metrics import roc_curve\n",
    "from sklearn.metrics import roc_auc_score\n",
    "\n",
    "fpr_train, tpr_train, thresholds_train = roc_curve(y_train, y_train_preds_svm)\n",
    "fpr_valid, tpr_valid, thresholds_valid = roc_curve(y_valid, y_valid_preds_svm)\n",
    "\n",
    "\n",
    "thresh = 0.5\n",
    "\n",
    "auc_train = roc_auc_score(y_train, y_train_preds_svm)\n",
    "auc_valid = roc_auc_score(y_valid, y_valid_preds_svm)\n",
    "print(\"\\nSVM Performance Metrics\\n\")\n",
    "print('Train AUC:%.3f'%auc_train)\n",
    "print('Valid AUC:%.3f'%auc_valid)\n",
    "\n",
    "print('Train accuracy:%.3f'%calc_accuracy(y_train, y_train_preds_svm, thresh))\n",
    "print('Valid accuracy:%.3f'%calc_accuracy(y_valid, y_valid_preds_svm, thresh))\n",
    "\n",
    "\n",
    "print('Train recall:%.3f'%calc_recall(y_train, y_train_preds_svm, thresh))\n",
    "print('Valid recall:%.3f'%calc_recall(y_valid, y_valid_preds_svm, thresh))\n",
    "\n",
    "print('Train precision:%.3f'%calc_precision(y_train, y_train_preds_svm, thresh))\n",
    "print('Valid precision:%.3f'%calc_precision(y_valid, y_valid_preds_svm, thresh))\n",
    "\n",
    "print('Train specificity:%.3f'%calc_specificity(y_train, y_train_preds_svm, thresh))\n",
    "print('Valid specificity:%.3f'%calc_specificity(y_valid, y_valid_preds_svm, thresh))\n",
    "\n",
    "print('Train prevalence:%.3f'%calc_prevalence(y_train))\n",
    "print('Valid prevalence:%.3f'%calc_prevalence(y_valid))\n",
    "\n",
    "\n",
    "plt.plot(fpr_train, tpr_train,'r-', label = 'Train AUC: %.2f'%auc_train)\n",
    "plt.plot(fpr_valid, tpr_valid,'b-',label = 'Valid AUC: %.2f'%auc_valid)\n",
    "plt.plot([0,1],[0,1],'-k')\n",
    "plt.title('SVM AUC-ROC')\n",
    "plt.xlabel('False Positive Rate')\n",
    "plt.ylabel('True Positive Rate')\n",
    "plt.legend()\n",
    "plt.show()"
   ]
  },
  {
   "cell_type": "markdown",
   "metadata": {},
   "source": [
    "### Since the performance metrics results and AUC-ROC fared better with Logistic Regression, that will be the model of choice for the remainder of this project.\n",
    "#### The remainder of this analysis will focus on examination of features, sample size, and hyperparameter optimization in order to help create a stronger mortality prediction algorithm. "
   ]
  },
  {
   "cell_type": "markdown",
   "metadata": {},
   "source": [
    "### Ranking Feature Importance "
   ]
  },
  {
   "cell_type": "code",
   "execution_count": 111,
   "metadata": {},
   "outputs": [
    {
     "ename": "KeyError",
     "evalue": "100",
     "output_type": "error",
     "traceback": [
      "\u001b[1;31m---------------------------------------------------------------------------\u001b[0m",
      "\u001b[1;31mKeyError\u001b[0m                                  Traceback (most recent call last)",
      "\u001b[1;32m<ipython-input-111-05f884b81d86>\u001b[0m in \u001b[0;36m<module>\u001b[1;34m\u001b[0m\n\u001b[0;32m     17\u001b[0m     \u001b[1;32mreturn\u001b[0m \u001b[0mclasses\u001b[0m\u001b[1;33m\u001b[0m\u001b[1;33m\u001b[0m\u001b[0m\n\u001b[0;32m     18\u001b[0m \u001b[1;33m\u001b[0m\u001b[0m\n\u001b[1;32m---> 19\u001b[1;33m \u001b[0mimportance\u001b[0m \u001b[1;33m=\u001b[0m \u001b[0mget_most_important_features\u001b[0m\u001b[1;33m(\u001b[0m\u001b[0mvect\u001b[0m\u001b[1;33m,\u001b[0m \u001b[0mclf\u001b[0m\u001b[1;33m,\u001b[0m \u001b[1;36m25\u001b[0m\u001b[1;33m)\u001b[0m\u001b[1;33m\u001b[0m\u001b[1;33m\u001b[0m\u001b[0m\n\u001b[0m",
      "\u001b[1;32m<ipython-input-111-05f884b81d86>\u001b[0m in \u001b[0;36mget_most_important_features\u001b[1;34m(vectorizer, model, n)\u001b[0m\n\u001b[0;32m      7\u001b[0m     \u001b[0mclasses\u001b[0m \u001b[1;33m=\u001b[0m\u001b[1;33m{\u001b[0m\u001b[1;33m}\u001b[0m\u001b[1;33m\u001b[0m\u001b[1;33m\u001b[0m\u001b[0m\n\u001b[0;32m      8\u001b[0m     \u001b[1;32mfor\u001b[0m \u001b[0mclass_index\u001b[0m \u001b[1;32min\u001b[0m \u001b[0mrange\u001b[0m\u001b[1;33m(\u001b[0m\u001b[0mmodel\u001b[0m\u001b[1;33m.\u001b[0m\u001b[0mcoef_\u001b[0m\u001b[1;33m.\u001b[0m\u001b[0mshape\u001b[0m\u001b[1;33m[\u001b[0m\u001b[1;36m0\u001b[0m\u001b[1;33m]\u001b[0m\u001b[1;33m)\u001b[0m\u001b[1;33m:\u001b[0m\u001b[1;33m\u001b[0m\u001b[1;33m\u001b[0m\u001b[0m\n\u001b[1;32m----> 9\u001b[1;33m         \u001b[0mword_importances\u001b[0m \u001b[1;33m=\u001b[0m \u001b[1;33m[\u001b[0m\u001b[1;33m(\u001b[0m\u001b[0mel\u001b[0m\u001b[1;33m,\u001b[0m \u001b[0mindex_to_word\u001b[0m\u001b[1;33m[\u001b[0m\u001b[0mi\u001b[0m\u001b[1;33m]\u001b[0m\u001b[1;33m)\u001b[0m \u001b[1;32mfor\u001b[0m \u001b[0mi\u001b[0m\u001b[1;33m,\u001b[0m\u001b[0mel\u001b[0m \u001b[1;32min\u001b[0m \u001b[0menumerate\u001b[0m\u001b[1;33m(\u001b[0m\u001b[0mmodel\u001b[0m\u001b[1;33m.\u001b[0m\u001b[0mcoef_\u001b[0m\u001b[1;33m[\u001b[0m\u001b[0mclass_index\u001b[0m\u001b[1;33m]\u001b[0m\u001b[1;33m)\u001b[0m\u001b[1;33m]\u001b[0m\u001b[1;33m\u001b[0m\u001b[1;33m\u001b[0m\u001b[0m\n\u001b[0m\u001b[0;32m     10\u001b[0m         \u001b[0msorted_coeff\u001b[0m \u001b[1;33m=\u001b[0m \u001b[0msorted\u001b[0m\u001b[1;33m(\u001b[0m\u001b[0mword_importances\u001b[0m\u001b[1;33m,\u001b[0m \u001b[0mkey\u001b[0m \u001b[1;33m=\u001b[0m \u001b[1;32mlambda\u001b[0m \u001b[0mx\u001b[0m \u001b[1;33m:\u001b[0m \u001b[0mx\u001b[0m\u001b[1;33m[\u001b[0m\u001b[1;36m0\u001b[0m\u001b[1;33m]\u001b[0m\u001b[1;33m,\u001b[0m \u001b[0mreverse\u001b[0m\u001b[1;33m=\u001b[0m\u001b[1;32mTrue\u001b[0m\u001b[1;33m)\u001b[0m\u001b[1;33m\u001b[0m\u001b[1;33m\u001b[0m\u001b[0m\n\u001b[0;32m     11\u001b[0m         \u001b[0mtops\u001b[0m \u001b[1;33m=\u001b[0m \u001b[0msorted\u001b[0m\u001b[1;33m(\u001b[0m\u001b[0msorted_coeff\u001b[0m\u001b[1;33m[\u001b[0m\u001b[1;33m:\u001b[0m\u001b[0mn\u001b[0m\u001b[1;33m]\u001b[0m\u001b[1;33m,\u001b[0m \u001b[0mkey\u001b[0m \u001b[1;33m=\u001b[0m \u001b[1;32mlambda\u001b[0m \u001b[0mx\u001b[0m \u001b[1;33m:\u001b[0m \u001b[0mx\u001b[0m\u001b[1;33m[\u001b[0m\u001b[1;36m0\u001b[0m\u001b[1;33m]\u001b[0m\u001b[1;33m)\u001b[0m\u001b[1;33m\u001b[0m\u001b[1;33m\u001b[0m\u001b[0m\n",
      "\u001b[1;32m<ipython-input-111-05f884b81d86>\u001b[0m in \u001b[0;36m<listcomp>\u001b[1;34m(.0)\u001b[0m\n\u001b[0;32m      7\u001b[0m     \u001b[0mclasses\u001b[0m \u001b[1;33m=\u001b[0m\u001b[1;33m{\u001b[0m\u001b[1;33m}\u001b[0m\u001b[1;33m\u001b[0m\u001b[1;33m\u001b[0m\u001b[0m\n\u001b[0;32m      8\u001b[0m     \u001b[1;32mfor\u001b[0m \u001b[0mclass_index\u001b[0m \u001b[1;32min\u001b[0m \u001b[0mrange\u001b[0m\u001b[1;33m(\u001b[0m\u001b[0mmodel\u001b[0m\u001b[1;33m.\u001b[0m\u001b[0mcoef_\u001b[0m\u001b[1;33m.\u001b[0m\u001b[0mshape\u001b[0m\u001b[1;33m[\u001b[0m\u001b[1;36m0\u001b[0m\u001b[1;33m]\u001b[0m\u001b[1;33m)\u001b[0m\u001b[1;33m:\u001b[0m\u001b[1;33m\u001b[0m\u001b[1;33m\u001b[0m\u001b[0m\n\u001b[1;32m----> 9\u001b[1;33m         \u001b[0mword_importances\u001b[0m \u001b[1;33m=\u001b[0m \u001b[1;33m[\u001b[0m\u001b[1;33m(\u001b[0m\u001b[0mel\u001b[0m\u001b[1;33m,\u001b[0m \u001b[0mindex_to_word\u001b[0m\u001b[1;33m[\u001b[0m\u001b[0mi\u001b[0m\u001b[1;33m]\u001b[0m\u001b[1;33m)\u001b[0m \u001b[1;32mfor\u001b[0m \u001b[0mi\u001b[0m\u001b[1;33m,\u001b[0m\u001b[0mel\u001b[0m \u001b[1;32min\u001b[0m \u001b[0menumerate\u001b[0m\u001b[1;33m(\u001b[0m\u001b[0mmodel\u001b[0m\u001b[1;33m.\u001b[0m\u001b[0mcoef_\u001b[0m\u001b[1;33m[\u001b[0m\u001b[0mclass_index\u001b[0m\u001b[1;33m]\u001b[0m\u001b[1;33m)\u001b[0m\u001b[1;33m]\u001b[0m\u001b[1;33m\u001b[0m\u001b[1;33m\u001b[0m\u001b[0m\n\u001b[0m\u001b[0;32m     10\u001b[0m         \u001b[0msorted_coeff\u001b[0m \u001b[1;33m=\u001b[0m \u001b[0msorted\u001b[0m\u001b[1;33m(\u001b[0m\u001b[0mword_importances\u001b[0m\u001b[1;33m,\u001b[0m \u001b[0mkey\u001b[0m \u001b[1;33m=\u001b[0m \u001b[1;32mlambda\u001b[0m \u001b[0mx\u001b[0m \u001b[1;33m:\u001b[0m \u001b[0mx\u001b[0m\u001b[1;33m[\u001b[0m\u001b[1;36m0\u001b[0m\u001b[1;33m]\u001b[0m\u001b[1;33m,\u001b[0m \u001b[0mreverse\u001b[0m\u001b[1;33m=\u001b[0m\u001b[1;32mTrue\u001b[0m\u001b[1;33m)\u001b[0m\u001b[1;33m\u001b[0m\u001b[1;33m\u001b[0m\u001b[0m\n\u001b[0;32m     11\u001b[0m         \u001b[0mtops\u001b[0m \u001b[1;33m=\u001b[0m \u001b[0msorted\u001b[0m\u001b[1;33m(\u001b[0m\u001b[0msorted_coeff\u001b[0m\u001b[1;33m[\u001b[0m\u001b[1;33m:\u001b[0m\u001b[0mn\u001b[0m\u001b[1;33m]\u001b[0m\u001b[1;33m,\u001b[0m \u001b[0mkey\u001b[0m \u001b[1;33m=\u001b[0m \u001b[1;32mlambda\u001b[0m \u001b[0mx\u001b[0m \u001b[1;33m:\u001b[0m \u001b[0mx\u001b[0m\u001b[1;33m[\u001b[0m\u001b[1;36m0\u001b[0m\u001b[1;33m]\u001b[0m\u001b[1;33m)\u001b[0m\u001b[1;33m\u001b[0m\u001b[1;33m\u001b[0m\u001b[0m\n",
      "\u001b[1;31mKeyError\u001b[0m: 100"
     ]
    }
   ],
   "source": [
    "#First find the features that the classifier is using to make decisions. The features with the highest coefficients predict death and the lowest coefficents predict no death.\n",
    "\n",
    "def get_most_important_features(vectorizer, model, n=5):\n",
    "    index_to_word = {v:k for k,v in vectorizer.vocabulary_.items()}\n",
    "    \n",
    "    # loop for each class\n",
    "    classes ={}\n",
    "    for class_index in range(model.coef_.shape[0]):\n",
    "        word_importances = [(el, index_to_word[i]) for i,el in enumerate(model.coef_[class_index])]\n",
    "        sorted_coeff = sorted(word_importances, key = lambda x : x[0], reverse=True)\n",
    "        tops = sorted(sorted_coeff[:n], key = lambda x : x[0])\n",
    "        bottom = sorted_coeff[-n:]\n",
    "        classes[class_index] = {\n",
    "            'tops':tops,\n",
    "            'bottom':bottom\n",
    "        }\n",
    "    return classes\n",
    "\n",
    "importance = get_most_important_features(vect, clf, 25)"
   ]
  },
  {
   "cell_type": "code",
   "execution_count": 113,
   "metadata": {},
   "outputs": [
    {
     "data": {
      "image/png": "[encoded data removed]",
      "text/plain": [
       "<Figure size 720x1080 with 2 Axes>"
      ]
     },
     "metadata": {
      "needs_background": "light"
     },
     "output_type": "display_data"
    }
   ],
   "source": [
    "#Next, plot the most important features\n",
    "\n",
    "def plot_important_words(top_scores, top_words, bottom_scores, bottom_words, name):\n",
    "    y_pos = np.arange(len(top_words))\n",
    "    top_pairs = [(a,b) for a,b in zip(top_words, top_scores)]\n",
    "    top_pairs = sorted(top_pairs, key=lambda x: x[1])\n",
    "    \n",
    "    bottom_pairs = [(a,b) for a,b in zip(bottom_words, bottom_scores)]\n",
    "    bottom_pairs = sorted(bottom_pairs, key=lambda x: x[1], reverse=True)\n",
    "    \n",
    "    top_words = [a[0] for a in top_pairs]\n",
    "    top_scores = [a[1] for a in top_pairs]\n",
    "    \n",
    "    bottom_words = [a[0] for a in bottom_pairs]\n",
    "    bottom_scores = [a[1] for a in bottom_pairs]\n",
    "    \n",
    "    fig = plt.figure(figsize=(10, 15))  \n",
    "\n",
    "    plt.subplot(121)\n",
    "    plt.barh(y_pos,bottom_scores, align='center', alpha=0.5)\n",
    "    plt.title('Negative', fontsize=20)\n",
    "    plt.yticks(y_pos, bottom_words, fontsize=14)\n",
    "    plt.suptitle('Key words', fontsize=16)\n",
    "    plt.xlabel('Importance', fontsize=20)\n",
    "    \n",
    "    plt.subplot(122)\n",
    "    plt.barh(y_pos,top_scores, align='center', alpha=0.5)\n",
    "    plt.title('Positive', fontsize=20)\n",
    "    plt.yticks(y_pos, top_words, fontsize=14)\n",
    "    plt.suptitle(name, fontsize=16)\n",
    "    plt.xlabel('Importance', fontsize=20)\n",
    "    \n",
    "    plt.subplots_adjust(wspace=0.8)\n",
    "    plt.show()\n",
    "\n",
    "    \n",
    "  \n",
    "top_scores = [a[0] for a in importance[0]['tops']]\n",
    "top_words = [a[1] for a in importance[0]['tops']]\n",
    "bottom_scores = [a[0] for a in importance[0]['bottom']]\n",
    "bottom_words = [a[1] for a in importance[0]['bottom']]\n",
    "\n",
    "plot_important_words(top_scores, top_words, bottom_scores, bottom_words, \"Most important words\")\n"
   ]
  },
  {
   "cell_type": "markdown",
   "metadata": {},
   "source": [
    "Most important words make sense - positives death words include those describing severe infections, chronic severe medical conditions, and sepsis (endocarditis, flagyl (treatment for sepsis), lymphoma), and possile signs of imminent death ('pupil', 'prognosis', 'dnr' (do not resuscitate'). Highest term for negative death was 'extubated' which indicates an improved health condition. "
   ]
  },
  {
   "cell_type": "markdown",
   "metadata": {},
   "source": [
    "### Model Optimization - Number of Samples"
   ]
  },
  {
   "cell_type": "code",
   "execution_count": 114,
   "metadata": {},
   "outputs": [],
   "source": [
    "#Begin by plotting a learning curve. This will help to assure that we have enough samples to make good predictions.  \n",
    "\n",
    "import numpy as np\n",
    "from sklearn.model_selection import learning_curve\n",
    "from sklearn.model_selection import ShuffleSplit\n",
    "\n",
    "\n",
    "def plot_learning_curve(estimator, title, X, y, ylim=None, cv=None,\n",
    "                        n_jobs=1, train_sizes=np.linspace(.1, 1.0, 5)):\n",
    "    \"\"\"\n",
    "    Generate a simple plot of the test and training learning curve.\n",
    "\n",
    "    Parameters\n",
    "    ----------\n",
    "    estimator : object type that implements the \"fit\" and \"predict\" methods\n",
    "        An object of that type which is cloned for each validation.\n",
    "\n",
    "    title : string\n",
    "        Title for the chart.\n",
    "\n",
    "    X : array-like, shape (n_samples, n_features)\n",
    "        Training vector, where n_samples is the number of samples and\n",
    "        n_features is the number of features.\n",
    "\n",
    "    y : array-like, shape (n_samples) or (n_samples, n_features), optional\n",
    "        Target relative to X for classification or regression;\n",
    "        None for unsupervised learning.\n",
    "\n",
    "    ylim : tuple, shape (ymin, ymax), optional\n",
    "        Defines minimum and maximum yvalues plotted.\n",
    "\n",
    "    cv : int, cross-validation generator or an iterable, optional\n",
    "        Determines the cross-validation splitting strategy.\n",
    "        Possible inputs for cv are:\n",
    "          - None, to use the default 3-fold cross-validation,\n",
    "          - integer, to specify the number of folds.\n",
    "          - An object to be used as a cross-validation generator.\n",
    "          - An iterable yielding train/test splits.\n",
    "\n",
    "        For integer/None inputs, if ``y`` is binary or multiclass,\n",
    "        :class:`StratifiedKFold` used. If the estimator is not a classifier\n",
    "        or if ``y`` is neither binary nor multiclass, :class:`KFold` is used.\n",
    "\n",
    "        Refer :ref:`User Guide <cross_validation>` for the various\n",
    "        cross-validators that can be used here.\n",
    "\n",
    "    n_jobs : integer, optional\n",
    "        Number of jobs to run in parallel (default 1).\n",
    "        \"\"\"\n",
    "    plt.figure()\n",
    "    plt.title(title)\n",
    "    if ylim is not None:\n",
    "        plt.ylim(*ylim)\n",
    "    plt.xlabel(\"Number of Training examples\")\n",
    "    plt.ylabel(\"AUC\")\n",
    "    train_sizes, train_scores, test_scores = learning_curve(\n",
    "        estimator, X, y, cv=cv, n_jobs=n_jobs, train_sizes=train_sizes, scoring = 'roc_auc')\n",
    "    train_scores_mean = np.mean(train_scores, axis=1)\n",
    "    train_scores_std = np.std(train_scores, axis=1)\n",
    "    test_scores_mean = np.mean(test_scores, axis=1)\n",
    "    test_scores_std = np.std(test_scores, axis=1)\n",
    "    plt.grid()\n",
    "\n",
    "    plt.fill_between(train_sizes, train_scores_mean - train_scores_std,\n",
    "                     train_scores_mean + train_scores_std, alpha=0.1,\n",
    "                     color=\"r\")\n",
    "    plt.fill_between(train_sizes, test_scores_mean - test_scores_std,\n",
    "                     test_scores_mean + test_scores_std, alpha=0.1, color=\"b\")\n",
    "    plt.plot(train_sizes, train_scores_mean, 'o-', color=\"r\",\n",
    "             label=\"Training score\")\n",
    "    plt.plot(train_sizes, test_scores_mean, 'o-', color=\"b\",\n",
    "             label=\"Cross-validation score\")\n",
    "\n",
    "    plt.legend(loc=\"best\")\n",
    "    return plt"
   ]
  },
  {
   "cell_type": "code",
   "execution_count": 115,
   "metadata": {},
   "outputs": [
    {
     "data": {
      "image/png": "[encoded data removed]",
      "text/plain": [
       "<Figure size 432x288 with 1 Axes>"
      ]
     },
     "metadata": {
      "needs_background": "light"
     },
     "output_type": "display_data"
    }
   ],
   "source": [
    "\n",
    "title = \"Learning Curves (Logistic Regression)\"\n",
    "# Cross validation with 5 iterations to get smoother mean test and train\n",
    "# score curves, each time with 20% data randomly selected as a validation set.\n",
    "cv = ShuffleSplit(n_splits=5, test_size=0.2, random_state=42)\n",
    "estimator = LogisticRegression( C = 0.0001, penalty = 'l2')#\n",
    "plot_learning_curve(estimator, title, X_train_vect, y_train, ylim=(0.2, 1.01), cv=cv, n_jobs=4)\n",
    "\n",
    "plt.show()\n"
   ]
  },
  {
   "cell_type": "markdown",
   "metadata": {},
   "source": [
    "The AUC of the training set is high, and the CV score is also high, and begins to approach the Training score curve as number of samples increases. This means that the  model is learning well with the number of samples provided; more data would not necessarily make the model better. Some overfitting is indicated since there is a gap between the training score and cross validation score."
   ]
  },
  {
   "cell_type": "code",
   "execution_count": 116,
   "metadata": {},
   "outputs": [
    {
     "data": {
      "text/plain": [
       "array([[ 0.23749821,  0.06847329, -0.0295836 , ..., -0.1503217 ,\n",
       "        -0.15919876,  0.31550931]])"
      ]
     },
     "execution_count": 116,
     "metadata": {},
     "output_type": "execute_result"
    }
   ],
   "source": [
    "clf.coef_"
   ]
  },
  {
   "cell_type": "markdown",
   "metadata": {},
   "source": [
    "### Feature Importance"
   ]
  },
  {
   "cell_type": "code",
   "execution_count": 117,
   "metadata": {},
   "outputs": [
    {
     "ename": "ValueError",
     "evalue": "Shape of passed values is (3000, 1), indices imply (100, 1)",
     "output_type": "error",
     "traceback": [
      "\u001b[1;31m---------------------------------------------------------------------------\u001b[0m",
      "\u001b[1;31mValueError\u001b[0m                                Traceback (most recent call last)",
      "\u001b[1;32m~\\anaconda3\\lib\\site-packages\\pandas\\core\\internals\\managers.py\u001b[0m in \u001b[0;36mcreate_block_manager_from_blocks\u001b[1;34m(blocks, axes)\u001b[0m\n\u001b[0;32m   1656\u001b[0m                 \u001b[0mblocks\u001b[0m \u001b[1;33m=\u001b[0m \u001b[1;33m[\u001b[0m\u001b[1;33m]\u001b[0m\u001b[1;33m\u001b[0m\u001b[1;33m\u001b[0m\u001b[0m\n\u001b[1;32m-> 1657\u001b[1;33m             \u001b[1;32melse\u001b[0m\u001b[1;33m:\u001b[0m\u001b[1;33m\u001b[0m\u001b[1;33m\u001b[0m\u001b[0m\n\u001b[0m\u001b[0;32m   1658\u001b[0m                 \u001b[1;31m# It's OK if a single block is passed as values, its placement\u001b[0m\u001b[1;33m\u001b[0m\u001b[1;33m\u001b[0m\u001b[1;33m\u001b[0m\u001b[0m\n",
      "\u001b[1;32m~\\anaconda3\\lib\\site-packages\\pandas\\core\\internals\\managers.py\u001b[0m in \u001b[0;36m__init__\u001b[1;34m(self, blocks, axes, do_integrity_check)\u001b[0m\n\u001b[0;32m    138\u001b[0m         \u001b[0mself\u001b[0m\u001b[1;33m.\u001b[0m\u001b[0maxes\u001b[0m \u001b[1;33m=\u001b[0m \u001b[1;33m[\u001b[0m\u001b[0mensure_index\u001b[0m\u001b[1;33m(\u001b[0m\u001b[0max\u001b[0m\u001b[1;33m)\u001b[0m \u001b[1;32mfor\u001b[0m \u001b[0max\u001b[0m \u001b[1;32min\u001b[0m \u001b[0maxes\u001b[0m\u001b[1;33m]\u001b[0m\u001b[1;33m\u001b[0m\u001b[1;33m\u001b[0m\u001b[0m\n\u001b[1;32m--> 139\u001b[1;33m         \u001b[0mself\u001b[0m\u001b[1;33m.\u001b[0m\u001b[0mblocks\u001b[0m\u001b[1;33m:\u001b[0m \u001b[0mTuple\u001b[0m\u001b[1;33m[\u001b[0m\u001b[0mBlock\u001b[0m\u001b[1;33m,\u001b[0m \u001b[1;33m...\u001b[0m\u001b[1;33m]\u001b[0m \u001b[1;33m=\u001b[0m \u001b[0mtuple\u001b[0m\u001b[1;33m(\u001b[0m\u001b[0mblocks\u001b[0m\u001b[1;33m)\u001b[0m\u001b[1;33m\u001b[0m\u001b[1;33m\u001b[0m\u001b[0m\n\u001b[0m\u001b[0;32m    140\u001b[0m \u001b[1;33m\u001b[0m\u001b[0m\n",
      "\u001b[1;32m~\\anaconda3\\lib\\site-packages\\pandas\\core\\internals\\managers.py\u001b[0m in \u001b[0;36m_verify_integrity\u001b[1;34m(self)\u001b[0m\n\u001b[0;32m    333\u001b[0m \u001b[1;33m\u001b[0m\u001b[0m\n\u001b[1;32m--> 334\u001b[1;33m     \u001b[1;32mdef\u001b[0m \u001b[0mreduce\u001b[0m\u001b[1;33m(\u001b[0m\u001b[0mself\u001b[0m\u001b[1;33m,\u001b[0m \u001b[0mfunc\u001b[0m\u001b[1;33m)\u001b[0m\u001b[1;33m:\u001b[0m\u001b[1;33m\u001b[0m\u001b[1;33m\u001b[0m\u001b[0m\n\u001b[0m\u001b[0;32m    335\u001b[0m         \u001b[1;31m# If 2D, we assume that we're operating column-wise\u001b[0m\u001b[1;33m\u001b[0m\u001b[1;33m\u001b[0m\u001b[1;33m\u001b[0m\u001b[0m\n",
      "\u001b[1;32m~\\anaconda3\\lib\\site-packages\\pandas\\core\\internals\\managers.py\u001b[0m in \u001b[0;36mconstruction_error\u001b[1;34m(tot_items, block_shape, axes, e)\u001b[0m\n\u001b[0;32m   1693\u001b[0m     \u001b[0mpassed\u001b[0m \u001b[1;33m=\u001b[0m \u001b[0mtuple\u001b[0m\u001b[1;33m(\u001b[0m\u001b[0mmap\u001b[0m\u001b[1;33m(\u001b[0m\u001b[0mint\u001b[0m\u001b[1;33m,\u001b[0m \u001b[1;33m[\u001b[0m\u001b[0mtot_items\u001b[0m\u001b[1;33m]\u001b[0m \u001b[1;33m+\u001b[0m \u001b[0mlist\u001b[0m\u001b[1;33m(\u001b[0m\u001b[0mblock_shape\u001b[0m\u001b[1;33m)\u001b[0m\u001b[1;33m)\u001b[0m\u001b[1;33m)\u001b[0m\u001b[1;33m\u001b[0m\u001b[1;33m\u001b[0m\u001b[0m\n\u001b[1;32m-> 1694\u001b[1;33m     \u001b[1;31m# Correcting the user facing error message during dataframe construction\u001b[0m\u001b[1;33m\u001b[0m\u001b[1;33m\u001b[0m\u001b[1;33m\u001b[0m\u001b[0m\n\u001b[0m\u001b[0;32m   1695\u001b[0m     \u001b[1;32mif\u001b[0m \u001b[0mlen\u001b[0m\u001b[1;33m(\u001b[0m\u001b[0mpassed\u001b[0m\u001b[1;33m)\u001b[0m \u001b[1;33m<=\u001b[0m \u001b[1;36m2\u001b[0m\u001b[1;33m:\u001b[0m\u001b[1;33m\u001b[0m\u001b[1;33m\u001b[0m\u001b[0m\n",
      "\u001b[1;31mValueError\u001b[0m: Shape of passed values is (3000, 1), indices imply (100, 1)",
      "\nDuring handling of the above exception, another exception occurred:\n",
      "\u001b[1;31mValueError\u001b[0m                                Traceback (most recent call last)",
      "\u001b[1;32m<ipython-input-117-7ec7081f6ff1>\u001b[0m in \u001b[0;36m<module>\u001b[1;34m\u001b[0m\n\u001b[0;32m      1\u001b[0m \u001b[1;31m#Look at the most important words for the model.\u001b[0m\u001b[1;33m\u001b[0m\u001b[1;33m\u001b[0m\u001b[1;33m\u001b[0m\u001b[0m\n\u001b[0;32m      2\u001b[0m \u001b[1;33m\u001b[0m\u001b[0m\n\u001b[1;32m----> 3\u001b[1;33m feature_importances = pd.DataFrame(clf.coef_[0],\n\u001b[0m\u001b[0;32m      4\u001b[0m                                    \u001b[0mindex\u001b[0m \u001b[1;33m=\u001b[0m \u001b[0mvect\u001b[0m\u001b[1;33m.\u001b[0m\u001b[0mget_feature_names\u001b[0m\u001b[1;33m(\u001b[0m\u001b[1;33m)\u001b[0m\u001b[1;33m,\u001b[0m\u001b[1;33m\u001b[0m\u001b[1;33m\u001b[0m\u001b[0m\n\u001b[0;32m      5\u001b[0m                                     \u001b[0mcolumns\u001b[0m\u001b[1;33m=\u001b[0m\u001b[1;33m[\u001b[0m\u001b[1;34m'importance'\u001b[0m\u001b[1;33m]\u001b[0m\u001b[1;33m)\u001b[0m\u001b[1;33m.\u001b[0m\u001b[0msort_values\u001b[0m\u001b[1;33m(\u001b[0m\u001b[1;34m'importance'\u001b[0m\u001b[1;33m,\u001b[0m\u001b[1;33m\u001b[0m\u001b[1;33m\u001b[0m\u001b[0m\n",
      "\u001b[1;32m~\\anaconda3\\lib\\site-packages\\pandas\\core\\frame.py\u001b[0m in \u001b[0;36m__init__\u001b[1;34m(self, data, index, columns, dtype, copy)\u001b[0m\n\u001b[0;32m    462\u001b[0m \u001b[1;33m\u001b[0m\u001b[0m\n\u001b[0;32m    463\u001b[0m             mgr = self._init_mgr(\n\u001b[1;32m--> 464\u001b[1;33m                 \u001b[0mdata\u001b[0m\u001b[1;33m,\u001b[0m \u001b[0maxes\u001b[0m\u001b[1;33m=\u001b[0m\u001b[0mdict\u001b[0m\u001b[1;33m(\u001b[0m\u001b[0mindex\u001b[0m\u001b[1;33m=\u001b[0m\u001b[0mindex\u001b[0m\u001b[1;33m,\u001b[0m \u001b[0mcolumns\u001b[0m\u001b[1;33m=\u001b[0m\u001b[0mcolumns\u001b[0m\u001b[1;33m)\u001b[0m\u001b[1;33m,\u001b[0m \u001b[0mdtype\u001b[0m\u001b[1;33m=\u001b[0m\u001b[0mdtype\u001b[0m\u001b[1;33m,\u001b[0m \u001b[0mcopy\u001b[0m\u001b[1;33m=\u001b[0m\u001b[0mcopy\u001b[0m\u001b[1;33m\u001b[0m\u001b[1;33m\u001b[0m\u001b[0m\n\u001b[0m\u001b[0;32m    465\u001b[0m             )\n\u001b[0;32m    466\u001b[0m \u001b[1;33m\u001b[0m\u001b[0m\n",
      "\u001b[1;32m~\\anaconda3\\lib\\site-packages\\pandas\\core\\internals\\construction.py\u001b[0m in \u001b[0;36minit_ndarray\u001b[1;34m(values, index, columns, dtype, copy)\u001b[0m\n\u001b[0;32m    208\u001b[0m     \u001b[1;31m# if we don't have a dtype specified, then try to convert objects\u001b[0m\u001b[1;33m\u001b[0m\u001b[1;33m\u001b[0m\u001b[1;33m\u001b[0m\u001b[0m\n\u001b[0;32m    209\u001b[0m     \u001b[1;31m# on the entire block; this is to convert if we have datetimelike's\u001b[0m\u001b[1;33m\u001b[0m\u001b[1;33m\u001b[0m\u001b[1;33m\u001b[0m\u001b[0m\n\u001b[1;32m--> 210\u001b[1;33m     \u001b[1;31m# embedded in an object type\u001b[0m\u001b[1;33m\u001b[0m\u001b[1;33m\u001b[0m\u001b[1;33m\u001b[0m\u001b[0m\n\u001b[0m\u001b[0;32m    211\u001b[0m     \u001b[1;32mif\u001b[0m \u001b[0mdtype\u001b[0m \u001b[1;32mis\u001b[0m \u001b[1;32mNone\u001b[0m \u001b[1;32mand\u001b[0m \u001b[0mis_object_dtype\u001b[0m\u001b[1;33m(\u001b[0m\u001b[0mvalues\u001b[0m\u001b[1;33m)\u001b[0m\u001b[1;33m:\u001b[0m\u001b[1;33m\u001b[0m\u001b[1;33m\u001b[0m\u001b[0m\n\u001b[0;32m    212\u001b[0m \u001b[1;33m\u001b[0m\u001b[0m\n",
      "\u001b[1;32m~\\anaconda3\\lib\\site-packages\\pandas\\core\\internals\\managers.py\u001b[0m in \u001b[0;36mcreate_block_manager_from_blocks\u001b[1;34m(blocks, axes)\u001b[0m\n\u001b[0;32m   1662\u001b[0m                     \u001b[0mmake_block\u001b[0m\u001b[1;33m(\u001b[0m\u001b[0mvalues\u001b[0m\u001b[1;33m=\u001b[0m\u001b[0mblocks\u001b[0m\u001b[1;33m[\u001b[0m\u001b[1;36m0\u001b[0m\u001b[1;33m]\u001b[0m\u001b[1;33m,\u001b[0m \u001b[0mplacement\u001b[0m\u001b[1;33m=\u001b[0m\u001b[0mslice\u001b[0m\u001b[1;33m(\u001b[0m\u001b[1;36m0\u001b[0m\u001b[1;33m,\u001b[0m \u001b[0mlen\u001b[0m\u001b[1;33m(\u001b[0m\u001b[0maxes\u001b[0m\u001b[1;33m[\u001b[0m\u001b[1;36m0\u001b[0m\u001b[1;33m]\u001b[0m\u001b[1;33m)\u001b[0m\u001b[1;33m)\u001b[0m\u001b[1;33m)\u001b[0m\u001b[1;33m\u001b[0m\u001b[1;33m\u001b[0m\u001b[0m\n\u001b[0;32m   1663\u001b[0m                 ]\n\u001b[1;32m-> 1664\u001b[1;33m \u001b[1;33m\u001b[0m\u001b[0m\n\u001b[0m\u001b[0;32m   1665\u001b[0m         \u001b[0mmgr\u001b[0m \u001b[1;33m=\u001b[0m \u001b[0mBlockManager\u001b[0m\u001b[1;33m(\u001b[0m\u001b[0mblocks\u001b[0m\u001b[1;33m,\u001b[0m \u001b[0maxes\u001b[0m\u001b[1;33m)\u001b[0m\u001b[1;33m\u001b[0m\u001b[1;33m\u001b[0m\u001b[0m\n\u001b[0;32m   1666\u001b[0m         \u001b[0mmgr\u001b[0m\u001b[1;33m.\u001b[0m\u001b[0m_consolidate_inplace\u001b[0m\u001b[1;33m(\u001b[0m\u001b[1;33m)\u001b[0m\u001b[1;33m\u001b[0m\u001b[1;33m\u001b[0m\u001b[0m\n",
      "\u001b[1;32m~\\anaconda3\\lib\\site-packages\\pandas\\core\\internals\\managers.py\u001b[0m in \u001b[0;36mconstruction_error\u001b[1;34m(tot_items, block_shape, axes, e)\u001b[0m\n\u001b[0;32m   1692\u001b[0m     \u001b[1;34m\"\"\" raise a helpful message about our construction \"\"\"\u001b[0m\u001b[1;33m\u001b[0m\u001b[1;33m\u001b[0m\u001b[0m\n\u001b[0;32m   1693\u001b[0m     \u001b[0mpassed\u001b[0m \u001b[1;33m=\u001b[0m \u001b[0mtuple\u001b[0m\u001b[1;33m(\u001b[0m\u001b[0mmap\u001b[0m\u001b[1;33m(\u001b[0m\u001b[0mint\u001b[0m\u001b[1;33m,\u001b[0m \u001b[1;33m[\u001b[0m\u001b[0mtot_items\u001b[0m\u001b[1;33m]\u001b[0m \u001b[1;33m+\u001b[0m \u001b[0mlist\u001b[0m\u001b[1;33m(\u001b[0m\u001b[0mblock_shape\u001b[0m\u001b[1;33m)\u001b[0m\u001b[1;33m)\u001b[0m\u001b[1;33m)\u001b[0m\u001b[1;33m\u001b[0m\u001b[1;33m\u001b[0m\u001b[0m\n\u001b[1;32m-> 1694\u001b[1;33m     \u001b[1;31m# Correcting the user facing error message during dataframe construction\u001b[0m\u001b[1;33m\u001b[0m\u001b[1;33m\u001b[0m\u001b[1;33m\u001b[0m\u001b[0m\n\u001b[0m\u001b[0;32m   1695\u001b[0m     \u001b[1;32mif\u001b[0m \u001b[0mlen\u001b[0m\u001b[1;33m(\u001b[0m\u001b[0mpassed\u001b[0m\u001b[1;33m)\u001b[0m \u001b[1;33m<=\u001b[0m \u001b[1;36m2\u001b[0m\u001b[1;33m:\u001b[0m\u001b[1;33m\u001b[0m\u001b[1;33m\u001b[0m\u001b[0m\n\u001b[0;32m   1696\u001b[0m         \u001b[0mpassed\u001b[0m \u001b[1;33m=\u001b[0m \u001b[0mpassed\u001b[0m\u001b[1;33m[\u001b[0m\u001b[1;33m:\u001b[0m\u001b[1;33m:\u001b[0m\u001b[1;33m-\u001b[0m\u001b[1;36m1\u001b[0m\u001b[1;33m]\u001b[0m\u001b[1;33m\u001b[0m\u001b[1;33m\u001b[0m\u001b[0m\n",
      "\u001b[1;31mValueError\u001b[0m: Shape of passed values is (3000, 1), indices imply (100, 1)"
     ]
    }
   ],
   "source": [
    "#Look at the most important words for the model.\n",
    "\n",
    "feature_importances = pd.DataFrame(clf.coef_[0],\n",
    "                                   index = vect.get_feature_names(),\n",
    "                                    columns=['importance']).sort_values('importance',\n",
    "                                                                        ascending=False)\n",
    "\n",
    "num=25\n",
    "ylocs = np.arange(num)\n",
    "# get the feature importance for top num and sort in reverse order\n",
    "values_to_plot = feature_importances.iloc[:num].values.ravel()[::-1]\n",
    "feature_labels = list(feature_importances.iloc[:num].index)[::-1]\n",
    "\n",
    "plt.figure(num=None, figsize=(8, 15), dpi=80, facecolor='w', edgecolor='k');\n",
    "plt.barh(ylocs, values_to_plot, align = 'center')\n",
    "plt.ylabel('Features')\n",
    "plt.xlabel('Importance Score')\n",
    "plt.title('Positive Feature Importance Score - Logistic Regression')\n",
    "plt.yticks(ylocs, feature_labels)\n",
    "plt.show()\n",
    "\n",
    "values_to_plot = feature_importances.iloc[-num:].values.ravel()\n",
    "feature_labels = list(feature_importances.iloc[-num:].index)\n",
    "\n",
    "plt.figure(num=None, figsize=(8, 15), dpi=80, facecolor='w', edgecolor='k');\n",
    "plt.barh(ylocs, values_to_plot, align = 'center')\n",
    "plt.ylabel('Features')\n",
    "plt.xlabel('Importance Score')\n",
    "plt.title('Negative Feature Importance Score - Logistic Regression')\n",
    "plt.yticks(ylocs, feature_labels)\n",
    "plt.show()\n",
    "\n",
    "\n"
   ]
  },
  {
   "cell_type": "markdown",
   "metadata": {},
   "source": [
    "### Examining Regularization Hyperparameter 'C'"
   ]
  },
  {
   "cell_type": "code",
   "execution_count": null,
   "metadata": {
    "scrolled": true
   },
   "outputs": [],
   "source": [
    "# Find best value of C\n",
    "\n",
    "\n",
    "from sklearn.linear_model import LogisticRegression\n",
    "\n",
    "Cs = [0.00001, 0.0001, 0.001, 0.005, 0.01, 0.05, 0.1]\n",
    "train_aucs = np.zeros(len(Cs))\n",
    "valid_aucs = np.zeros(len(Cs))\n",
    "\n",
    "for ii in range(len(Cs)):\n",
    "    C = Cs[ii]\n",
    "    print('\\n C:', C)\n",
    "    \n",
    "    # logistic regression\n",
    "    \n",
    "    clf=LogisticRegression(C = C, penalty = 'l2', random_state = 42)\n",
    "    clf.fit(X_train_vect, y_train)\n",
    "\n",
    "    model = clf\n",
    "    y_train_preds = model.predict_proba(X_train_vect)[:,1]\n",
    "    y_valid_preds = model.predict_proba(X_valid_vect)[:,1]\n",
    "\n",
    "    auc_train = roc_auc_score(y_train, y_train_preds)\n",
    "    auc_valid = roc_auc_score(y_valid, y_valid_preds)\n",
    "    print('Train AUC:%.3f'%auc_train)\n",
    "    print('Valid AUC:%.3f'%auc_valid)\n",
    "    train_aucs[ii] = auc_train\n",
    "    valid_aucs[ii] = auc_valid\n",
    "\n",
    "\n",
    "plt.plot(Cs, train_aucs,'bo-', label ='Train')\n",
    "plt.plot(Cs, valid_aucs, 'ro-', label='Valid')\n",
    "plt.legend()\n",
    "plt.xlabel('Logistic Regression - C')\n",
    "plt.ylabel('AUC')\n",
    "plt.show()\n",
    "\n",
    "\n",
    "\n",
    "\n",
    "\n"
   ]
  },
  {
   "cell_type": "markdown",
   "metadata": {},
   "source": [
    "As C gets larger, overfitting quickly occurs as shown by the gap between training and validation. The best values for C are 0.0001 and 0.001, based on the individual ROC-AUC and difference between  training and validation ROC-AUC scores at those values of C."
   ]
  },
  {
   "cell_type": "markdown",
   "metadata": {},
   "source": [
    "### Best number of features to include"
   ]
  },
  {
   "cell_type": "code",
   "execution_count": 118,
   "metadata": {},
   "outputs": [
    {
     "name": "stdout",
     "output_type": "stream",
     "text": [
      "\n",
      "number of features: 100\n"
     ]
    },
    {
     "name": "stderr",
     "output_type": "stream",
     "text": [
      "C:\\Users\\caras\\anaconda3\\lib\\site-packages\\sklearn\\feature_extraction\\text.py:484: UserWarning: The parameter 'token_pattern' will not be used since 'tokenizer' is not None'\n",
      "  warnings.warn(\"The parameter 'token_pattern' will not be used\"\n"
     ]
    },
    {
     "name": "stdout",
     "output_type": "stream",
     "text": [
      "Train AUC: 0.771\n",
      "Valid AUC:0.758\n",
      "\n",
      "number of features: 300\n"
     ]
    },
    {
     "name": "stderr",
     "output_type": "stream",
     "text": [
      "C:\\Users\\caras\\anaconda3\\lib\\site-packages\\sklearn\\feature_extraction\\text.py:484: UserWarning: The parameter 'token_pattern' will not be used since 'tokenizer' is not None'\n",
      "  warnings.warn(\"The parameter 'token_pattern' will not be used\"\n"
     ]
    },
    {
     "name": "stdout",
     "output_type": "stream",
     "text": [
      "Train AUC: 0.810\n",
      "Valid AUC:0.786\n",
      "\n",
      "number of features: 1000\n"
     ]
    },
    {
     "name": "stderr",
     "output_type": "stream",
     "text": [
      "C:\\Users\\caras\\anaconda3\\lib\\site-packages\\sklearn\\feature_extraction\\text.py:484: UserWarning: The parameter 'token_pattern' will not be used since 'tokenizer' is not None'\n",
      "  warnings.warn(\"The parameter 'token_pattern' will not be used\"\n"
     ]
    },
    {
     "name": "stdout",
     "output_type": "stream",
     "text": [
      "Train AUC: 0.846\n",
      "Valid AUC:0.808\n",
      "\n",
      "number of features: 3000\n"
     ]
    },
    {
     "name": "stderr",
     "output_type": "stream",
     "text": [
      "C:\\Users\\caras\\anaconda3\\lib\\site-packages\\sklearn\\feature_extraction\\text.py:484: UserWarning: The parameter 'token_pattern' will not be used since 'tokenizer' is not None'\n",
      "  warnings.warn(\"The parameter 'token_pattern' will not be used\"\n"
     ]
    },
    {
     "name": "stdout",
     "output_type": "stream",
     "text": [
      "Train AUC: 0.861\n",
      "Valid AUC:0.816\n",
      "\n",
      "number of features: 10000\n"
     ]
    },
    {
     "name": "stderr",
     "output_type": "stream",
     "text": [
      "C:\\Users\\caras\\anaconda3\\lib\\site-packages\\sklearn\\feature_extraction\\text.py:484: UserWarning: The parameter 'token_pattern' will not be used since 'tokenizer' is not None'\n",
      "  warnings.warn(\"The parameter 'token_pattern' will not be used\"\n"
     ]
    },
    {
     "name": "stdout",
     "output_type": "stream",
     "text": [
      "Train AUC: 0.866\n",
      "Valid AUC:0.817\n",
      "\n",
      "number of features: 30000\n"
     ]
    },
    {
     "name": "stderr",
     "output_type": "stream",
     "text": [
      "C:\\Users\\caras\\anaconda3\\lib\\site-packages\\sklearn\\feature_extraction\\text.py:484: UserWarning: The parameter 'token_pattern' will not be used since 'tokenizer' is not None'\n",
      "  warnings.warn(\"The parameter 'token_pattern' will not be used\"\n"
     ]
    },
    {
     "name": "stdout",
     "output_type": "stream",
     "text": [
      "Train AUC: 0.866\n",
      "Valid AUC:0.817\n"
     ]
    },
    {
     "data": {
      "image/png": "[encoded data removed]",
      "text/plain": [
       "<Figure size 432x288 with 1 Axes>"
      ]
     },
     "metadata": {
      "needs_background": "light"
     },
     "output_type": "display_data"
    }
   ],
   "source": [
    "#Countvectorizer is currently using 3000 maximum tokens. Next examine the effect of Max_features on performance.\n",
    "\n",
    "\n",
    "num_features = [100,300,1000,3000,10000,30000]\n",
    "train_aucs = np.zeros(len(num_features))\n",
    "valid_aucs = np.zeros(len(num_features))\n",
    "\n",
    "for ii in range(len(num_features)):\n",
    "    num = num_features[ii]\n",
    "    print('\\nnumber of features:', num)\n",
    "    vect = CountVectorizer(lowercase = True, max_features = num, \n",
    "                           tokenizer = text_tokenizer,stop_words =stopwords_updated)\n",
    "\n",
    "    # This could take a while\n",
    "    vect.fit(df_train_final.TEXT.values)\n",
    "\n",
    "    X_train_vect = vect.transform(df_train_final.TEXT.values)\n",
    "    X_valid_vect = vect.transform(df_valid.TEXT.values)\n",
    "    y_train = df_train_final.HOSPITAL_EXPIRE_FLAG\n",
    "    y_valid = df_valid.HOSPITAL_EXPIRE_FLAG\n",
    "    \n",
    "    clf=LogisticRegression(C = 0.0001, penalty = 'l2', random_state = 42)\n",
    "    clf.fit(X_train_vect, y_train)\n",
    "\n",
    "    model = clf\n",
    "    y_train_preds = model.predict_proba(X_train_vect)[:,1]\n",
    "    y_valid_preds = model.predict_proba(X_valid_vect)[:,1]\n",
    "\n",
    "    auc_train = roc_auc_score(y_train, y_train_preds)\n",
    "    auc_valid = roc_auc_score(y_valid, y_valid_preds)\n",
    "    print('Train AUC: %.3f'%auc_train)\n",
    "    print('Valid AUC:%.3f'%auc_valid)\n",
    "    train_aucs[ii] = auc_train\n",
    "    valid_aucs[ii] = auc_valid\n",
    "\n",
    "plt.plot(num_features, train_aucs,'bo-', label ='Train')\n",
    "plt.plot(num_features, valid_aucs, 'ro-', label='Valid')\n",
    "plt.legend()\n",
    "plt.xlabel('Number of features')\n",
    "plt.ylabel('AUC')\n",
    "plt.show()"
   ]
  },
  {
   "cell_type": "markdown",
   "metadata": {},
   "source": [
    "As max_features gets larger, some overfitting quickly occurs. AUC begins leveling out for both Training and Validation at about 3000-4000 words. Therefore, the current setting for max_features is appropriate."
   ]
  },
  {
   "cell_type": "markdown",
   "metadata": {},
   "source": [
    "### Hyperparameter Optimization with Gridsearch Cross-Validation"
   ]
  },
  {
   "cell_type": "code",
   "execution_count": 76,
   "metadata": {
    "scrolled": true
   },
   "outputs": [
    {
     "name": "stdout",
     "output_type": "stream",
     "text": [
      "Fitting 5 folds for each of 240 candidates, totalling 1200 fits\n"
     ]
    },
    {
     "name": "stderr",
     "output_type": "stream",
     "text": [
      "[Parallel(n_jobs=-1)]: Using backend LokyBackend with 8 concurrent workers.\n",
      "[Parallel(n_jobs=-1)]: Done  34 tasks      | elapsed:   17.9s\n",
      "[Parallel(n_jobs=-1)]: Done 184 tasks      | elapsed:  1.7min\n",
      "[Parallel(n_jobs=-1)]: Done 434 tasks      | elapsed:  6.4min\n",
      "[Parallel(n_jobs=-1)]: Done 784 tasks      | elapsed: 15.4min\n",
      "[Parallel(n_jobs=-1)]: Done 1200 out of 1200 | elapsed: 32.1min finished\n"
     ]
    },
    {
     "name": "stdout",
     "output_type": "stream",
     "text": [
      "Best Logistic Score (F1):  0.7635188136269372\n",
      "Best Logistic Parameters:  {'C': 0.0001, 'max_iter': 100, 'penalty': 'l2', 'solver': 'sag'}\n"
     ]
    }
   ],
   "source": [
    "from sklearn.model_selection import GridSearchCV, StratifiedKFold\n",
    "\n",
    "clf_param_grid = {'penalty': ['l2', None],\n",
    "                  'C': np.logspace(-4, 4, 10),\n",
    "                  'solver': ['lbfgs', 'newton-cg', 'sag', 'saga'],\n",
    "                  'max_iter': [100, 500, 1000]\n",
    "                 }\n",
    "clf_grid = GridSearchCV(\n",
    "    estimator=clf,\n",
    "    param_grid=clf_param_grid,               \n",
    "    n_jobs=-1,\n",
    "    scoring='f1',\n",
    "    cv=StratifiedKFold(n_splits=5,shuffle=True),\n",
    "    verbose=True,\n",
    ")\n",
    "logistic_best_model = clf_grid.fit(X_train_vect, y_train)\n",
    "\n",
    "print('Best Logistic Score (F1): ', logistic_best_model.best_score_)\n",
    "print('Best Logistic Parameters: ', logistic_best_model.best_params_)\n"
   ]
  },
  {
   "cell_type": "code",
   "execution_count": 79,
   "metadata": {},
   "outputs": [
    {
     "data": {
      "text/plain": [
       "LogisticRegression(C=0.0001, random_state=42, solver='sag')"
      ]
     },
     "execution_count": 79,
     "metadata": {},
     "output_type": "execute_result"
    }
   ],
   "source": [
    "clf_best=LogisticRegression(random_state = 42, solver='sag', C=0.0001, max_iter=100, penalty='l2')\n",
    "clf_best.fit(X_train_vect, y_train)\n"
   ]
  },
  {
   "cell_type": "code",
   "execution_count": 81,
   "metadata": {},
   "outputs": [],
   "source": [
    "model = clf_best\n",
    "y_train_preds_best = model.predict_proba(X_train_vect)[:,1]\n",
    "y_valid_preds_best = model.predict_proba(X_valid_vect)[:,1]"
   ]
  },
  {
   "cell_type": "code",
   "execution_count": 90,
   "metadata": {},
   "outputs": [
    {
     "name": "stdout",
     "output_type": "stream",
     "text": [
      "\n",
      "Logistic Regression Performance Metrics\n",
      "\n",
      "AUC:\n",
      "Train:0.868\n",
      "Valid:0.822\n",
      "\n",
      "Accuracy:\n",
      "Train:0.781\n",
      "Valid:0.703\n",
      "\n",
      "Recall:\n",
      "Train:0.829\n",
      "Valid:0.837\n",
      "\n",
      "Precision:\n",
      "Train:0.757\n",
      "Valid:0.197\n",
      "\n",
      "Specificity\n",
      "Train:0.734\n",
      "Valid:0.691\n",
      "\n",
      "Prevalence\n",
      "Train:0.500\n",
      "Valid:0.083\n"
     ]
    },
    {
     "data": {
      "image/png": "[encoded data removed]",
      "text/plain": [
       "<Figure size 432x288 with 1 Axes>"
      ]
     },
     "metadata": {
      "needs_background": "light"
     },
     "output_type": "display_data"
    }
   ],
   "source": [
    "from sklearn.metrics import roc_curve\n",
    "from sklearn.metrics import roc_auc_score\n",
    "\n",
    "fpr_train, tpr_train, thresholds_train = roc_curve(y_train, y_train_preds_best)\n",
    "fpr_valid, tpr_valid, thresholds_valid = roc_curve(y_valid, y_valid_preds_best)\n",
    "\n",
    "\n",
    "thresh = 0.5\n",
    "\n",
    "auc_train = roc_auc_score(y_train, y_train_preds_best)\n",
    "auc_valid = roc_auc_score(y_valid, y_valid_preds_best)\n",
    "\n",
    "print(\"\\nLogistic Regression Performance Metrics\\n\")\n",
    "print('AUC:')\n",
    "print('Train:%.3f'%auc_train)\n",
    "print('Valid:%.3f'%auc_valid)\n",
    "\n",
    "print('\\nAccuracy:')\n",
    "print('Train:%.3f'%calc_accuracy(y_train, y_train_preds_best, thresh))\n",
    "print('Valid:%.3f'%calc_accuracy(y_valid, y_valid_preds_best, thresh))\n",
    "\n",
    "print('\\nRecall:')\n",
    "print('Train:%.3f'%calc_recall(y_train, y_train_preds_best, thresh))\n",
    "print('Valid:%.3f'%calc_recall(y_valid, y_valid_preds_best, thresh))\n",
    "\n",
    "print('\\nPrecision:')\n",
    "print('Train:%.3f'%calc_precision(y_train, y_train_preds_best, thresh))\n",
    "print('Valid:%.3f'%calc_precision(y_valid, y_valid_preds_best, thresh))\n",
    "\n",
    "print('\\nSpecificity')\n",
    "print('Train:%.3f'%calc_specificity(y_train, y_train_preds_best, thresh))\n",
    "print('Valid:%.3f'%calc_specificity(y_valid, y_valid_preds_best, thresh))\n",
    "\n",
    "print('\\nPrevalence')\n",
    "print('Train:%.3f'%calc_prevalence(y_train))\n",
    "print('Valid:%.3f'%calc_prevalence(y_valid))\n",
    "\n",
    "\n",
    "plt.plot(fpr_train, tpr_train,'r-', label = 'Train AUC: %.2f'%auc_train)\n",
    "plt.plot(fpr_valid, tpr_valid,'b-',label = 'Valid AUC: %.2f'%auc_valid)\n",
    "plt.plot([0,1],[0,1],'-k')\n",
    "plt.title('Best Model - Logistic Regression AUC-ROC')\n",
    "plt.xlabel('False Positive Rate')\n",
    "plt.ylabel('True Positive Rate')\n",
    "plt.legend()\n",
    "plt.show()"
   ]
  },
  {
   "cell_type": "code",
   "execution_count": 83,
   "metadata": {
    "scrolled": true
   },
   "outputs": [
    {
     "name": "stdout",
     "output_type": "stream",
     "text": [
      "Logistic Classification Report\n",
      "\n",
      "               precision    recall  f1-score   support\n",
      "\n",
      "           0       0.97      0.70      0.82      7361\n",
      "           1       0.21      0.80      0.33       735\n",
      "\n",
      "    accuracy                           0.71      8096\n",
      "   macro avg       0.59      0.75      0.57      8096\n",
      "weighted avg       0.90      0.71      0.77      8096\n",
      "\n",
      "Confusion Matrix \n",
      "\n",
      " [[5167 2194]\n",
      " [ 148  587]]\n"
     ]
    }
   ],
   "source": [
    "from sklearn.metrics import classification_report, confusion_matrix \n",
    "\n",
    "#Re-running predictions and see classification report on this grid object\n",
    "clf_best_model = logistic_best_model.predict(X_test_vect) \n",
    "\n",
    "print('Logistic Classification Report\\n\\n', classification_report(y_test, clf_best_model))\n",
    "print('Confusion Matrix \\n\\n', confusion_matrix(y_test, clf_best_model))"
   ]
  },
  {
   "cell_type": "code",
   "execution_count": null,
   "metadata": {},
   "outputs": [],
   "source": []
  },
  {
   "cell_type": "code",
   "execution_count": null,
   "metadata": {},
   "outputs": [],
   "source": []
  },
  {
   "cell_type": "code",
   "execution_count": null,
   "metadata": {},
   "outputs": [],
   "source": []
  },
  {
   "cell_type": "code",
   "execution_count": null,
   "metadata": {},
   "outputs": [],
   "source": [
    "from sklearn.linear_model import LogisticRegression\n",
    "\n",
    "clf_best=LogisticRegression(C = 0.001, penalty = 'l2',class_weight={1: 0.6, 0: 0.4}, random_state = 42, n_jobs=-1)\n",
    "clf_best.fit(X_train_vect, y_train)\n",
    "\n",
    "model = clf_best\n"
   ]
  },
  {
   "cell_type": "code",
   "execution_count": 88,
   "metadata": {},
   "outputs": [],
   "source": [
    "y_train_preds = model.predict_proba(X_train_vect)[:,1]\n",
    "y_valid_preds = model.predict_proba(X_valid_vect)[:,1]\n",
    "y_test_preds_best = model.predict_proba(X_test_vect)[:,1]\n"
   ]
  },
  {
   "cell_type": "code",
   "execution_count": 89,
   "metadata": {},
   "outputs": [
    {
     "name": "stdout",
     "output_type": "stream",
     "text": [
      "\n",
      "Best Model Performance Metrics\n",
      "\n",
      "\n",
      "AUC:\n",
      "Train:0.868\n",
      "Valid:0.822\n",
      "Test:0.828\n",
      "\n",
      "Accuracy\n",
      "Train:0.781\n",
      "Valid:0.703\n",
      "Test:0.711\n",
      "\n",
      "Recall\n",
      "Train:0.829\n",
      "Valid:0.837\n",
      "Test:0.799\n",
      "\n",
      "Precision\n",
      "Train:0.757\n",
      "Valid:0.197\n",
      "Test:0.211\n",
      "\n",
      "Specificity\n",
      "Train:0.734\n",
      "Valid:0.691\n",
      "Test:0.702\n",
      "\n",
      "Prevalence\n",
      "Train:0.500\n",
      "Valid:0.083\n",
      "Test:0.091\n"
     ]
    },
    {
     "data": {
      "image/png": "[encoded data removed]",
      "text/plain": [
       "<Figure size 432x288 with 1 Axes>"
      ]
     },
     "metadata": {
      "needs_background": "light"
     },
     "output_type": "display_data"
    }
   ],
   "source": [
    "from sklearn.metrics import roc_curve\n",
    "from sklearn.metrics import roc_auc_score\n",
    "import matplotlib.pyplot as plt\n",
    "\n",
    "fpr_train, tpr_train, thresholds_train = roc_curve(y_train, y_train_preds_best)\n",
    "fpr_valid, tpr_valid, thresholds_valid = roc_curve(y_valid, y_valid_preds_best)\n",
    "fpr_test, tpr_test, thresholds_test = roc_curve(y_test, y_test_preds_best)\n",
    "\n",
    "\n",
    "thresh = 0.5\n",
    "\n",
    "auc_train = roc_auc_score(y_train, y_train_preds_best)\n",
    "auc_valid = roc_auc_score(y_valid, y_valid_preds_best)\n",
    "auc_test = roc_auc_score(y_test, y_test_preds_best)\n",
    "\n",
    "print(\"\\nBest Model Performance Metrics\\n\")\n",
    "print('\\nAUC:')\n",
    "print('Train:%.3f'%auc_train)\n",
    "print('Valid:%.3f'%auc_valid)\n",
    "print('Test:%.3f'%auc_test)\n",
    "\n",
    "print('\\nAccuracy')\n",
    "print('Train:%.3f'%calc_accuracy(y_train, y_train_preds_best, thresh))\n",
    "print('Valid:%.3f'%calc_accuracy(y_valid, y_valid_preds_best, thresh))\n",
    "print('Test:%.3f'%calc_accuracy(y_test, y_test_preds_best, thresh))\n",
    "\n",
    "print('\\nRecall')\n",
    "print('Train:%.3f'%calc_recall(y_train, y_train_preds_best, thresh))\n",
    "print('Valid:%.3f'%calc_recall(y_valid, y_valid_preds_best, thresh))\n",
    "print('Test:%.3f'%calc_recall(y_test, y_test_preds_best, thresh))\n",
    "\n",
    "print('\\nPrecision')\n",
    "print('Train:%.3f'%calc_precision(y_train, y_train_preds_best, thresh))\n",
    "print('Valid:%.3f'%calc_precision(y_valid, y_valid_preds_best, thresh))\n",
    "print('Test:%.3f'%calc_precision(y_test, y_test_preds_best, thresh))\n",
    "\n",
    "print('\\nSpecificity')\n",
    "print('Train:%.3f'%calc_specificity(y_train, y_train_preds_best, thresh))\n",
    "print('Valid:%.3f'%calc_specificity(y_valid, y_valid_preds_best, thresh))\n",
    "print('Test:%.3f'%calc_specificity(y_test, y_test_preds_best, thresh))\n",
    "\n",
    "print('\\nPrevalence')\n",
    "print('Train:%.3f'%calc_prevalence(y_train))\n",
    "print('Valid:%.3f'%calc_prevalence(y_valid))\n",
    "print('Test:%.3f'%calc_prevalence(y_test))\n",
    "\n",
    "\n",
    "plt.plot(fpr_train, tpr_train,'r-', label = 'Train AUC: %.2f'%auc_train)\n",
    "plt.plot(fpr_valid, tpr_valid,'b-',label = 'Valid AUC: %.2f'%auc_valid)\n",
    "plt.plot(fpr_test, tpr_test,'g-',label = 'Test AUC: %.2f'%auc_test)\n",
    "\n",
    "plt.plot([0,1],[0,1],'-k')\n",
    "plt.title('Best Model AUC-ROC')\n",
    "plt.xlabel('False Positive Rate')\n",
    "plt.ylabel('True Positive Rate')\n",
    "plt.legend()\n",
    "plt.show()"
   ]
  },
  {
   "cell_type": "code",
   "execution_count": null,
   "metadata": {},
   "outputs": [],
   "source": []
  },
  {
   "cell_type": "code",
   "execution_count": 86,
   "metadata": {},
   "outputs": [
    {
     "name": "stdout",
     "output_type": "stream",
     "text": [
      "Logistic Classification Report\n",
      "\n",
      "               precision    recall  f1-score   support\n",
      "\n",
      "           1       0.21      0.80      0.33       735\n",
      "           0       0.97      0.70      0.82      7361\n",
      "\n",
      "    accuracy                           0.71      8096\n",
      "   macro avg       0.59      0.75      0.57      8096\n",
      "weighted avg       0.90      0.71      0.77      8096\n",
      "\n",
      "Confusion Matrix \n",
      "\n",
      " [[ 587  148]\n",
      " [2194 5167]]\n"
     ]
    }
   ],
   "source": [
    "from sklearn.metrics import classification_report, confusion_matrix \n",
    "\n",
    "#Re-running predictions and see classification report on this grid object\n",
    "clf_best_model = model.predict(X_test_vect) \n",
    "\n",
    "print('Logistic Classification Report\\n\\n', classification_report(y_test, clf_best_model, labels=[1,0]))\n",
    "print('Confusion Matrix \\n\\n', confusion_matrix(y_test, clf_best_model, labels=[1,0]))"
   ]
  },
  {
   "cell_type": "code",
   "execution_count": null,
   "metadata": {},
   "outputs": [],
   "source": [
    "import pickle\n",
    "# save the model for later use\n",
    "filename = 'model.sav'\n",
    "pickle.dump(model, open(filename, 'wb'))\n",
    " \n",
    "\n",
    "\n"
   ]
  },
  {
   "cell_type": "code",
   "execution_count": null,
   "metadata": {},
   "outputs": [],
   "source": [
    "# some time later...\n",
    " \n",
    "# load the model from disk\n",
    "loaded_model = pickle.load(open('model.sav', 'rb'))\n",
    "result = model.score(X_test_vect, y_test)\n",
    "print(result)"
   ]
  },
  {
   "cell_type": "code",
   "execution_count": null,
   "metadata": {},
   "outputs": [],
   "source": []
  }
 ],
 "metadata": {
  "kernelspec": {
   "display_name": "Python 3",
   "language": "python",
   "name": "python3"
  },
  "language_info": {
   "codemirror_mode": {
    "name": "ipython",
    "version": 3
   },
   "file_extension": ".py",
   "mimetype": "text/x-python",
   "name": "python",
   "nbconvert_exporter": "python",
   "pygments_lexer": "ipython3",
   "version": "3.8.3"
  }
 },
 "nbformat": 4,
 "nbformat_minor": 4
}
