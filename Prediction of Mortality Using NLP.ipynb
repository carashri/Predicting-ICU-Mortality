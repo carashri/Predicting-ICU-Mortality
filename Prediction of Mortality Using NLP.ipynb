{
 "cells": [
  {
   "cell_type": "markdown",
   "metadata": {},
   "source": [
    "Begin by importing the libraries needed for data cleaning and preparation."
   ]
  },
  {
   "cell_type": "code",
   "execution_count": 1,
   "metadata": {},
   "outputs": [],
   "source": [
    "import numpy as np\n",
    "import pandas as pd"
   ]
  },
  {
   "cell_type": "markdown",
   "metadata": {},
   "source": [
    "The next step is to read in the first dataset of interest, ADMISSIONS, and have a first look at the columns and rows. <br> \n",
    "This dataset was obtained from the MIMIC III database (https://mimic.physionet.org/)."
   ]
  },
  {
   "cell_type": "code",
   "execution_count": 2,
   "metadata": {
    "scrolled": true
   },
   "outputs": [
    {
     "name": "stdout",
     "output_type": "stream",
     "text": [
      "(58976, 19)\n"
     ]
    },
    {
     "data": {
      "text/html": [
       "<div>\n",
       "<style scoped>\n",
       "    .dataframe tbody tr th:only-of-type {\n",
       "        vertical-align: middle;\n",
       "    }\n",
       "\n",
       "    .dataframe tbody tr th {\n",
       "        vertical-align: top;\n",
       "    }\n",
       "\n",
       "    .dataframe thead th {\n",
       "        text-align: right;\n",
       "    }\n",
       "</style>\n",
       "<table border=\"1\" class=\"dataframe\">\n",
       "  <thead>\n",
       "    <tr style=\"text-align: right;\">\n",
       "      <th></th>\n",
       "      <th>ROW_ID</th>\n",
       "      <th>SUBJECT_ID</th>\n",
       "      <th>HADM_ID</th>\n",
       "      <th>ADMITTIME</th>\n",
       "      <th>DISCHTIME</th>\n",
       "      <th>DEATHTIME</th>\n",
       "      <th>ADMISSION_TYPE</th>\n",
       "      <th>ADMISSION_LOCATION</th>\n",
       "      <th>DISCHARGE_LOCATION</th>\n",
       "      <th>INSURANCE</th>\n",
       "      <th>LANGUAGE</th>\n",
       "      <th>RELIGION</th>\n",
       "      <th>MARITAL_STATUS</th>\n",
       "      <th>ETHNICITY</th>\n",
       "      <th>EDREGTIME</th>\n",
       "      <th>EDOUTTIME</th>\n",
       "      <th>DIAGNOSIS</th>\n",
       "      <th>HOSPITAL_EXPIRE_FLAG</th>\n",
       "      <th>HAS_CHARTEVENTS_DATA</th>\n",
       "    </tr>\n",
       "  </thead>\n",
       "  <tbody>\n",
       "    <tr>\n",
       "      <td>0</td>\n",
       "      <td>21</td>\n",
       "      <td>22</td>\n",
       "      <td>165315</td>\n",
       "      <td>2196-04-09 12:26:00</td>\n",
       "      <td>2196-04-10 15:54:00</td>\n",
       "      <td>NaN</td>\n",
       "      <td>EMERGENCY</td>\n",
       "      <td>EMERGENCY ROOM ADMIT</td>\n",
       "      <td>DISC-TRAN CANCER/CHLDRN H</td>\n",
       "      <td>Private</td>\n",
       "      <td>NaN</td>\n",
       "      <td>UNOBTAINABLE</td>\n",
       "      <td>MARRIED</td>\n",
       "      <td>WHITE</td>\n",
       "      <td>2196-04-09 10:06:00</td>\n",
       "      <td>2196-04-09 13:24:00</td>\n",
       "      <td>BENZODIAZEPINE OVERDOSE</td>\n",
       "      <td>0</td>\n",
       "      <td>1</td>\n",
       "    </tr>\n",
       "    <tr>\n",
       "      <td>1</td>\n",
       "      <td>22</td>\n",
       "      <td>23</td>\n",
       "      <td>152223</td>\n",
       "      <td>2153-09-03 07:15:00</td>\n",
       "      <td>2153-09-08 19:10:00</td>\n",
       "      <td>NaN</td>\n",
       "      <td>ELECTIVE</td>\n",
       "      <td>PHYS REFERRAL/NORMAL DELI</td>\n",
       "      <td>HOME HEALTH CARE</td>\n",
       "      <td>Medicare</td>\n",
       "      <td>NaN</td>\n",
       "      <td>CATHOLIC</td>\n",
       "      <td>MARRIED</td>\n",
       "      <td>WHITE</td>\n",
       "      <td>NaN</td>\n",
       "      <td>NaN</td>\n",
       "      <td>CORONARY ARTERY DISEASE\\CORONARY ARTERY BYPASS...</td>\n",
       "      <td>0</td>\n",
       "      <td>1</td>\n",
       "    </tr>\n",
       "  </tbody>\n",
       "</table>\n",
       "</div>"
      ],
      "text/plain": [
       "   ROW_ID  SUBJECT_ID  HADM_ID            ADMITTIME            DISCHTIME  \\\n",
       "0      21          22   165315  2196-04-09 12:26:00  2196-04-10 15:54:00   \n",
       "1      22          23   152223  2153-09-03 07:15:00  2153-09-08 19:10:00   \n",
       "\n",
       "  DEATHTIME ADMISSION_TYPE         ADMISSION_LOCATION  \\\n",
       "0       NaN      EMERGENCY       EMERGENCY ROOM ADMIT   \n",
       "1       NaN       ELECTIVE  PHYS REFERRAL/NORMAL DELI   \n",
       "\n",
       "          DISCHARGE_LOCATION INSURANCE LANGUAGE      RELIGION MARITAL_STATUS  \\\n",
       "0  DISC-TRAN CANCER/CHLDRN H   Private      NaN  UNOBTAINABLE        MARRIED   \n",
       "1           HOME HEALTH CARE  Medicare      NaN      CATHOLIC        MARRIED   \n",
       "\n",
       "  ETHNICITY            EDREGTIME            EDOUTTIME  \\\n",
       "0     WHITE  2196-04-09 10:06:00  2196-04-09 13:24:00   \n",
       "1     WHITE                  NaN                  NaN   \n",
       "\n",
       "                                           DIAGNOSIS  HOSPITAL_EXPIRE_FLAG  \\\n",
       "0                            BENZODIAZEPINE OVERDOSE                     0   \n",
       "1  CORONARY ARTERY DISEASE\\CORONARY ARTERY BYPASS...                     0   \n",
       "\n",
       "   HAS_CHARTEVENTS_DATA  \n",
       "0                     1  \n",
       "1                     1  "
      ]
     },
     "execution_count": 2,
     "metadata": {},
     "output_type": "execute_result"
    }
   ],
   "source": [
    "admissions = pd.read_csv('ADMISSIONS.csv.gz', compression='gzip')\n",
    "print(admissions.shape)\n",
    "admissions.head(2)"
   ]
  },
  {
   "cell_type": "markdown",
   "metadata": {},
   "source": [
    "There are 58976 rows and 19 columns."
   ]
  },
  {
   "cell_type": "markdown",
   "metadata": {},
   "source": [
    "#### Columns of interest from the 'admissions' dataset include:\n",
    "- SUBJECT_ID\n",
    "- HADM_ID\n",
    "- ADMITTIME\n",
    "- HOSPITAL_EXPIRE_FLAG"
   ]
  },
  {
   "cell_type": "code",
   "execution_count": 3,
   "metadata": {},
   "outputs": [
    {
     "name": "stdout",
     "output_type": "stream",
     "text": [
      "<class 'pandas.core.frame.DataFrame'>\n",
      "RangeIndex: 58976 entries, 0 to 58975\n",
      "Data columns (total 19 columns):\n",
      "ROW_ID                  58976 non-null int64\n",
      "SUBJECT_ID              58976 non-null int64\n",
      "HADM_ID                 58976 non-null int64\n",
      "ADMITTIME               58976 non-null object\n",
      "DISCHTIME               58976 non-null object\n",
      "DEATHTIME               5854 non-null object\n",
      "ADMISSION_TYPE          58976 non-null object\n",
      "ADMISSION_LOCATION      58976 non-null object\n",
      "DISCHARGE_LOCATION      58976 non-null object\n",
      "INSURANCE               58976 non-null object\n",
      "LANGUAGE                33644 non-null object\n",
      "RELIGION                58518 non-null object\n",
      "MARITAL_STATUS          48848 non-null object\n",
      "ETHNICITY               58976 non-null object\n",
      "EDREGTIME               30877 non-null object\n",
      "EDOUTTIME               30877 non-null object\n",
      "DIAGNOSIS               58951 non-null object\n",
      "HOSPITAL_EXPIRE_FLAG    58976 non-null int64\n",
      "HAS_CHARTEVENTS_DATA    58976 non-null int64\n",
      "dtypes: int64(5), object(14)\n",
      "memory usage: 8.5+ MB\n"
     ]
    }
   ],
   "source": [
    "# exploring the data to determine the datatypes, in particular, of the date columns.\n",
    "admissions.info()"
   ]
  },
  {
   "cell_type": "markdown",
   "metadata": {},
   "source": [
    "Next, convert the dates to datetime format for processing."
   ]
  },
  {
   "cell_type": "code",
   "execution_count": 4,
   "metadata": {},
   "outputs": [
    {
     "name": "stdout",
     "output_type": "stream",
     "text": [
      "Number of missing date admissions: 0\n"
     ]
    }
   ],
   "source": [
    "#convert ADMITTIME to datetime format. The errors='coerce' argument allows for missing values\n",
    "admissions.ADMITTIME = pd.to_datetime(admissions.ADMITTIME, format = '%Y-%m-%d %H:%M:%S', errors = 'coerce')\n",
    "\n",
    "# check to see if there are any null dates\n",
    "print('Number of missing date admissions:', admissions.ADMITTIME.isnull().sum())\n"
   ]
  },
  {
   "cell_type": "code",
   "execution_count": 5,
   "metadata": {},
   "outputs": [],
   "source": [
    "# The next step is to add the target variable 'DEATH' which indicates whether or not a hospitalization resulted in death.\n",
    "# positive death=1/negative death=0\n",
    "\n",
    "#admissions['DEATH'] = admissions['DEATHTIME']>pd.Timestamp('00:00:00')\n",
    "#admissions.DEATH.value_counts()\n",
    "#print(admissions.DEATH.value_counts())\n",
    "#print(admissions.DEATH.shape)"
   ]
  },
  {
   "cell_type": "code",
   "execution_count": 6,
   "metadata": {},
   "outputs": [],
   "source": [
    "# I later realized that the column \"HOSPITAL_EXPIRE_FLAG\" is same as the \"DEATH\" column that was created.\n",
    "# drop DEATH column\n",
    "#admissions.drop('DEATH', axis=1, inplace=True)\n",
    "#admissions.columns\n"
   ]
  },
  {
   "cell_type": "code",
   "execution_count": 7,
   "metadata": {
    "scrolled": true
   },
   "outputs": [
    {
     "data": {
      "text/plain": [
       "0    53122\n",
       "1     5854\n",
       "Name: HOSPITAL_EXPIRE_FLAG, dtype: int64"
      ]
     },
     "execution_count": 7,
     "metadata": {},
     "output_type": "execute_result"
    }
   ],
   "source": [
    "admissions.HOSPITAL_EXPIRE_FLAG.value_counts()"
   ]
  },
  {
   "cell_type": "markdown",
   "metadata": {},
   "source": [
    "5,854 out of 58,976 hospital admissions resulted in death (roughly 10%). Therefore, the dataset will most likely be imbalanced."
   ]
  },
  {
   "cell_type": "markdown",
   "metadata": {},
   "source": [
    "The 'admissions' dataframe is ready to go! <br>\n",
    "<br>\n",
    "Next: read in the caregiver notes dataset and get an overview of its rows and features.\n"
   ]
  },
  {
   "cell_type": "code",
   "execution_count": 8,
   "metadata": {
    "scrolled": true
   },
   "outputs": [
    {
     "name": "stderr",
     "output_type": "stream",
     "text": [
      "C:\\Users\\caras\\Anaconda3\\lib\\site-packages\\IPython\\core\\interactiveshell.py:3058: DtypeWarning: Columns (4,5) have mixed types. Specify dtype option on import or set low_memory=False.\n",
      "  interactivity=interactivity, compiler=compiler, result=result)\n"
     ]
    },
    {
     "data": {
      "text/html": [
       "<div>\n",
       "<style scoped>\n",
       "    .dataframe tbody tr th:only-of-type {\n",
       "        vertical-align: middle;\n",
       "    }\n",
       "\n",
       "    .dataframe tbody tr th {\n",
       "        vertical-align: top;\n",
       "    }\n",
       "\n",
       "    .dataframe thead th {\n",
       "        text-align: right;\n",
       "    }\n",
       "</style>\n",
       "<table border=\"1\" class=\"dataframe\">\n",
       "  <thead>\n",
       "    <tr style=\"text-align: right;\">\n",
       "      <th></th>\n",
       "      <th>ROW_ID</th>\n",
       "      <th>SUBJECT_ID</th>\n",
       "      <th>HADM_ID</th>\n",
       "      <th>CHARTDATE</th>\n",
       "      <th>CHARTTIME</th>\n",
       "      <th>STORETIME</th>\n",
       "      <th>CATEGORY</th>\n",
       "      <th>DESCRIPTION</th>\n",
       "      <th>CGID</th>\n",
       "      <th>ISERROR</th>\n",
       "      <th>TEXT</th>\n",
       "    </tr>\n",
       "  </thead>\n",
       "  <tbody>\n",
       "    <tr>\n",
       "      <td>0</td>\n",
       "      <td>174</td>\n",
       "      <td>22532</td>\n",
       "      <td>167853.0</td>\n",
       "      <td>2151-08-04</td>\n",
       "      <td>NaN</td>\n",
       "      <td>NaN</td>\n",
       "      <td>Discharge summary</td>\n",
       "      <td>Report</td>\n",
       "      <td>NaN</td>\n",
       "      <td>NaN</td>\n",
       "      <td>Admission Date:  [**2151-7-16**]       Dischar...</td>\n",
       "    </tr>\n",
       "    <tr>\n",
       "      <td>1</td>\n",
       "      <td>175</td>\n",
       "      <td>13702</td>\n",
       "      <td>107527.0</td>\n",
       "      <td>2118-06-14</td>\n",
       "      <td>NaN</td>\n",
       "      <td>NaN</td>\n",
       "      <td>Discharge summary</td>\n",
       "      <td>Report</td>\n",
       "      <td>NaN</td>\n",
       "      <td>NaN</td>\n",
       "      <td>Admission Date:  [**2118-6-2**]       Discharg...</td>\n",
       "    </tr>\n",
       "  </tbody>\n",
       "</table>\n",
       "</div>"
      ],
      "text/plain": [
       "   ROW_ID  SUBJECT_ID   HADM_ID   CHARTDATE CHARTTIME STORETIME  \\\n",
       "0     174       22532  167853.0  2151-08-04       NaN       NaN   \n",
       "1     175       13702  107527.0  2118-06-14       NaN       NaN   \n",
       "\n",
       "            CATEGORY DESCRIPTION  CGID  ISERROR  \\\n",
       "0  Discharge summary      Report   NaN      NaN   \n",
       "1  Discharge summary      Report   NaN      NaN   \n",
       "\n",
       "                                                TEXT  \n",
       "0  Admission Date:  [**2151-7-16**]       Dischar...  \n",
       "1  Admission Date:  [**2118-6-2**]       Discharg...  "
      ]
     },
     "execution_count": 8,
     "metadata": {},
     "output_type": "execute_result"
    }
   ],
   "source": [
    "#Read in the caregiver notes dataset.\n",
    "\n",
    "notes = pd.read_csv('NOTEEVENTS.csv.gz', compression='gzip')\n",
    "notes.head(2)"
   ]
  },
  {
   "cell_type": "code",
   "execution_count": 9,
   "metadata": {
    "scrolled": true
   },
   "outputs": [
    {
     "data": {
      "text/plain": [
       "Nursing/other        822497\n",
       "Radiology            522279\n",
       "Nursing              223556\n",
       "ECG                  209051\n",
       "Physician            141624\n",
       "Discharge summary     59652\n",
       "Echo                  45794\n",
       "Respiratory           31739\n",
       "Nutrition              9418\n",
       "General                8301\n",
       "Rehab Services         5431\n",
       "Social Work            2670\n",
       "Case Management         967\n",
       "Pharmacy                103\n",
       "Consult                  98\n",
       "Name: CATEGORY, dtype: int64"
      ]
     },
     "execution_count": 9,
     "metadata": {},
     "output_type": "execute_result"
    }
   ],
   "source": [
    "# Viewing categories of caregiver notes to better understand the dataset.\n",
    "notes.CATEGORY.value_counts()"
   ]
  },
  {
   "cell_type": "code",
   "execution_count": 10,
   "metadata": {},
   "outputs": [
    {
     "name": "stdout",
     "output_type": "stream",
     "text": [
      "<class 'pandas.core.frame.DataFrame'>\n",
      "RangeIndex: 2083180 entries, 0 to 2083179\n",
      "Data columns (total 11 columns):\n",
      "ROW_ID         int64\n",
      "SUBJECT_ID     int64\n",
      "HADM_ID        float64\n",
      "CHARTDATE      object\n",
      "CHARTTIME      object\n",
      "STORETIME      object\n",
      "CATEGORY       object\n",
      "DESCRIPTION    object\n",
      "CGID           float64\n",
      "ISERROR        float64\n",
      "TEXT           object\n",
      "dtypes: float64(3), int64(2), object(6)\n",
      "memory usage: 174.8+ MB\n"
     ]
    }
   ],
   "source": [
    "notes.info()\n"
   ]
  },
  {
   "cell_type": "markdown",
   "metadata": {},
   "source": [
    "CHARTDATE records the date at which the note was charted. CHARTDATE will always have a time value of 00:00:00.\n",
    "\n",
    "CHARTTIME records the date and time at which the note was charted. If both CHARTDATE and CHARTTIME exist, then the date portions will be identical. All records have a CHARTDATE. A subset are missing CHARTTIME. More specifically, notes with a CATEGORY value of ‘Discharge Summary’, ‘ECG’, and ‘Echo’ never have a CHARTTIME, only CHARTDATE. Other categories almost always have both CHARTTIME and CHARTDATE, but there is a small amount of missing data for CHARTTIME (usually less than 0.5% of the total number of notes for that category)."
   ]
  },
  {
   "cell_type": "code",
   "execution_count": 11,
   "metadata": {},
   "outputs": [
    {
     "name": "stdout",
     "output_type": "stream",
     "text": [
      "Number of missing CHARTTIME: 316566\n",
      "Number of missing CHARTDATE: 0\n"
     ]
    }
   ],
   "source": [
    "#convert the chart dates and times into datetime format\n",
    "\n",
    "notes.CHARTTIME = pd.to_datetime(notes.CHARTTIME, format = '%Y-%m-%d %H:%M:%S', errors = 'coerce')\n",
    "notes.CHARTDATE = pd.to_datetime(notes.CHARTDATE, format = '%Y-%m-%d %H:%M:%S', errors = 'coerce')\n",
    "\n",
    "\n",
    "# check to see if there are any null dates\n",
    "print('Number of missing CHARTTIME:', notes.CHARTTIME.isnull().sum())\n",
    "print('Number of missing CHARTDATE:', notes.CHARTDATE.isnull().sum())\n"
   ]
  },
  {
   "cell_type": "markdown",
   "metadata": {},
   "source": [
    "Since there are so many missing CHARTTIME values, CHARTDATE will be used for processing and analysis (see below). Before analyzing further, the dataframes will be merged."
   ]
  },
  {
   "cell_type": "code",
   "execution_count": 50,
   "metadata": {},
   "outputs": [
    {
     "name": "stdout",
     "output_type": "stream",
     "text": [
      "There are  1851959 rows and  8 columns.\n"
     ]
    }
   ],
   "source": [
    "# Merging the 'admissions' and 'notes' together. A left merge is used so that all rows for hospital admissions are included\n",
    "# and any caregiver notes that are not associated with a hospital admission are dropped.\n",
    "df=pd.merge(admissions[['SUBJECT_ID', 'HADM_ID', 'ADMITTIME', 'HOSPITAL_EXPIRE_FLAG', 'ADMISSION_TYPE']],\\\n",
    "            notes[['SUBJECT_ID', 'HADM_ID', 'CHARTDATE', 'CATEGORY','TEXT']], \\\n",
    "            on=('HADM_ID','SUBJECT_ID') , how='left', suffixes=('adm','note'))\n",
    "print('There are ', len(df), 'rows and ',len(df.columns), 'columns.')\n"
   ]
  },
  {
   "cell_type": "code",
   "execution_count": 13,
   "metadata": {
    "scrolled": true
   },
   "outputs": [
    {
     "data": {
      "text/plain": [
       "['SUBJECT_ID',\n",
       " 'HADM_ID',\n",
       " 'ADMITTIME',\n",
       " 'HOSPITAL_EXPIRE_FLAG',\n",
       " 'ADMISSION_TYPE',\n",
       " 'CHARTDATE',\n",
       " 'CATEGORY',\n",
       " 'TEXT']"
      ]
     },
     "execution_count": 13,
     "metadata": {},
     "output_type": "execute_result"
    }
   ],
   "source": [
    "list(df.columns)"
   ]
  },
  {
   "cell_type": "markdown",
   "metadata": {},
   "source": [
    "Next a new column ENDTIME will be created. This will indicate the date to end note collection for analysis (24 hours after ADMITTIME)\n"
   ]
  },
  {
   "cell_type": "code",
   "execution_count": 14,
   "metadata": {
    "scrolled": true
   },
   "outputs": [
    {
     "data": {
      "text/html": [
       "<div>\n",
       "<style scoped>\n",
       "    .dataframe tbody tr th:only-of-type {\n",
       "        vertical-align: middle;\n",
       "    }\n",
       "\n",
       "    .dataframe tbody tr th {\n",
       "        vertical-align: top;\n",
       "    }\n",
       "\n",
       "    .dataframe thead th {\n",
       "        text-align: right;\n",
       "    }\n",
       "</style>\n",
       "<table border=\"1\" class=\"dataframe\">\n",
       "  <thead>\n",
       "    <tr style=\"text-align: right;\">\n",
       "      <th></th>\n",
       "      <th>SUBJECT_ID</th>\n",
       "      <th>HADM_ID</th>\n",
       "      <th>ADMITTIME</th>\n",
       "      <th>HOSPITAL_EXPIRE_FLAG</th>\n",
       "      <th>ADMISSION_TYPE</th>\n",
       "      <th>CHARTDATE</th>\n",
       "      <th>CATEGORY</th>\n",
       "      <th>TEXT</th>\n",
       "      <th>ENDTIME</th>\n",
       "    </tr>\n",
       "  </thead>\n",
       "  <tbody>\n",
       "    <tr>\n",
       "      <td>0</td>\n",
       "      <td>22</td>\n",
       "      <td>165315</td>\n",
       "      <td>2196-04-09 12:26:00</td>\n",
       "      <td>0</td>\n",
       "      <td>EMERGENCY</td>\n",
       "      <td>2196-04-10</td>\n",
       "      <td>Discharge summary</td>\n",
       "      <td>Admission Date:  [**2196-4-9**]       Discharg...</td>\n",
       "      <td>2196-04-10 12:26:00</td>\n",
       "    </tr>\n",
       "    <tr>\n",
       "      <td>1</td>\n",
       "      <td>22</td>\n",
       "      <td>165315</td>\n",
       "      <td>2196-04-09 12:26:00</td>\n",
       "      <td>0</td>\n",
       "      <td>EMERGENCY</td>\n",
       "      <td>2196-04-09</td>\n",
       "      <td>ECG</td>\n",
       "      <td>Normal sinus rhythm. Non-diagnostic repolariza...</td>\n",
       "      <td>2196-04-10 12:26:00</td>\n",
       "    </tr>\n",
       "  </tbody>\n",
       "</table>\n",
       "</div>"
      ],
      "text/plain": [
       "   SUBJECT_ID  HADM_ID           ADMITTIME  HOSPITAL_EXPIRE_FLAG  \\\n",
       "0          22   165315 2196-04-09 12:26:00                     0   \n",
       "1          22   165315 2196-04-09 12:26:00                     0   \n",
       "\n",
       "  ADMISSION_TYPE  CHARTDATE           CATEGORY  \\\n",
       "0      EMERGENCY 2196-04-10  Discharge summary   \n",
       "1      EMERGENCY 2196-04-09                ECG   \n",
       "\n",
       "                                                TEXT             ENDTIME  \n",
       "0  Admission Date:  [**2196-4-9**]       Discharg... 2196-04-10 12:26:00  \n",
       "1  Normal sinus rhythm. Non-diagnostic repolariza... 2196-04-10 12:26:00  "
      ]
     },
     "execution_count": 14,
     "metadata": {},
     "output_type": "execute_result"
    }
   ],
   "source": [
    "df['ENDTIME'] = df['ADMITTIME'] + pd.DateOffset(1)\n",
    "df.head(2)"
   ]
  },
  {
   "cell_type": "code",
   "execution_count": 15,
   "metadata": {},
   "outputs": [],
   "source": [
    "#update dataframe to only include dates within 24 hours of admission\n",
    "\n",
    "df2 = df[df['CHARTDATE'] <= df['ENDTIME']]"
   ]
  },
  {
   "cell_type": "code",
   "execution_count": 25,
   "metadata": {},
   "outputs": [
    {
     "name": "stdout",
     "output_type": "stream",
     "text": [
      "<class 'pandas.core.frame.DataFrame'>\n",
      "Int64Index: 444862 entries, 0 to 1851958\n",
      "Data columns (total 9 columns):\n",
      "SUBJECT_ID              444862 non-null int64\n",
      "HADM_ID                 444862 non-null int64\n",
      "ADMITTIME               444862 non-null datetime64[ns]\n",
      "HOSPITAL_EXPIRE_FLAG    444862 non-null int64\n",
      "ADMISSION_TYPE          444862 non-null object\n",
      "CHARTDATE               444862 non-null datetime64[ns]\n",
      "CATEGORY                444862 non-null object\n",
      "TEXT                    444862 non-null object\n",
      "ENDTIME                 444862 non-null datetime64[ns]\n",
      "dtypes: datetime64[ns](3), int64(3), object(3)\n",
      "memory usage: 33.9+ MB\n"
     ]
    }
   ],
   "source": [
    "#confirming data types and that there are no null values\n",
    "df2.info()"
   ]
  },
  {
   "cell_type": "code",
   "execution_count": 32,
   "metadata": {
    "scrolled": false
   },
   "outputs": [
    {
     "data": {
      "text/html": [
       "<div>\n",
       "<style scoped>\n",
       "    .dataframe tbody tr th:only-of-type {\n",
       "        vertical-align: middle;\n",
       "    }\n",
       "\n",
       "    .dataframe tbody tr th {\n",
       "        vertical-align: top;\n",
       "    }\n",
       "\n",
       "    .dataframe thead th {\n",
       "        text-align: right;\n",
       "    }\n",
       "</style>\n",
       "<table border=\"1\" class=\"dataframe\">\n",
       "  <thead>\n",
       "    <tr style=\"text-align: right;\">\n",
       "      <th></th>\n",
       "      <th>SUBJECT_ID</th>\n",
       "      <th>HADM_ID</th>\n",
       "      <th>ADMITTIME</th>\n",
       "      <th>HOSPITAL_EXPIRE_FLAG</th>\n",
       "      <th>CHARTDATE</th>\n",
       "      <th>CATEGORY</th>\n",
       "      <th>TEXT</th>\n",
       "      <th>ENDTIME</th>\n",
       "    </tr>\n",
       "  </thead>\n",
       "  <tbody>\n",
       "    <tr>\n",
       "      <td>0</td>\n",
       "      <td>22</td>\n",
       "      <td>165315</td>\n",
       "      <td>2196-04-09 12:26:00</td>\n",
       "      <td>0</td>\n",
       "      <td>2196-04-10</td>\n",
       "      <td>Discharge summary</td>\n",
       "      <td>Admission Date:  [**2196-4-9**]       Discharg...</td>\n",
       "      <td>2196-04-10 12:26:00</td>\n",
       "    </tr>\n",
       "    <tr>\n",
       "      <td>1</td>\n",
       "      <td>22</td>\n",
       "      <td>165315</td>\n",
       "      <td>2196-04-09 12:26:00</td>\n",
       "      <td>0</td>\n",
       "      <td>2196-04-09</td>\n",
       "      <td>ECG</td>\n",
       "      <td>Normal sinus rhythm. Non-diagnostic repolariza...</td>\n",
       "      <td>2196-04-10 12:26:00</td>\n",
       "    </tr>\n",
       "    <tr>\n",
       "      <td>2</td>\n",
       "      <td>22</td>\n",
       "      <td>165315</td>\n",
       "      <td>2196-04-09 12:26:00</td>\n",
       "      <td>0</td>\n",
       "      <td>2196-04-09</td>\n",
       "      <td>ECG</td>\n",
       "      <td>Normal sinus rhythm without diagnostic abnorma...</td>\n",
       "      <td>2196-04-10 12:26:00</td>\n",
       "    </tr>\n",
       "    <tr>\n",
       "      <td>3</td>\n",
       "      <td>22</td>\n",
       "      <td>165315</td>\n",
       "      <td>2196-04-09 12:26:00</td>\n",
       "      <td>0</td>\n",
       "      <td>2196-04-10</td>\n",
       "      <td>Radiology</td>\n",
       "      <td>[**2196-4-10**] 11:52 PM\\n CHEST (PORTABLE AP)...</td>\n",
       "      <td>2196-04-10 12:26:00</td>\n",
       "    </tr>\n",
       "    <tr>\n",
       "      <td>4</td>\n",
       "      <td>22</td>\n",
       "      <td>165315</td>\n",
       "      <td>2196-04-09 12:26:00</td>\n",
       "      <td>0</td>\n",
       "      <td>2196-04-09</td>\n",
       "      <td>Radiology</td>\n",
       "      <td>[**2196-4-9**] 10:19 AM\\n CT HEAD W/O CONTRAST...</td>\n",
       "      <td>2196-04-10 12:26:00</td>\n",
       "    </tr>\n",
       "    <tr>\n",
       "      <td>5</td>\n",
       "      <td>22</td>\n",
       "      <td>165315</td>\n",
       "      <td>2196-04-09 12:26:00</td>\n",
       "      <td>0</td>\n",
       "      <td>2196-04-09</td>\n",
       "      <td>Radiology</td>\n",
       "      <td>[**2196-4-9**] 10:40 AM\\n CHEST (PORTABLE AP) ...</td>\n",
       "      <td>2196-04-10 12:26:00</td>\n",
       "    </tr>\n",
       "    <tr>\n",
       "      <td>6</td>\n",
       "      <td>22</td>\n",
       "      <td>165315</td>\n",
       "      <td>2196-04-09 12:26:00</td>\n",
       "      <td>0</td>\n",
       "      <td>2196-04-09</td>\n",
       "      <td>Nursing/other</td>\n",
       "      <td>MICU/SICU NURSING ADMISSION NOTE\\n     Admitte...</td>\n",
       "      <td>2196-04-10 12:26:00</td>\n",
       "    </tr>\n",
       "    <tr>\n",
       "      <td>7</td>\n",
       "      <td>22</td>\n",
       "      <td>165315</td>\n",
       "      <td>2196-04-09 12:26:00</td>\n",
       "      <td>0</td>\n",
       "      <td>2196-04-09</td>\n",
       "      <td>Nursing/other</td>\n",
       "      <td>Resp Care\\npt received from eu s/p intubation ...</td>\n",
       "      <td>2196-04-10 12:26:00</td>\n",
       "    </tr>\n",
       "    <tr>\n",
       "      <td>8</td>\n",
       "      <td>22</td>\n",
       "      <td>165315</td>\n",
       "      <td>2196-04-09 12:26:00</td>\n",
       "      <td>0</td>\n",
       "      <td>2196-04-10</td>\n",
       "      <td>Nursing/other</td>\n",
       "      <td>S/MICU Nursing Progress Note\\nPt extubated at ...</td>\n",
       "      <td>2196-04-10 12:26:00</td>\n",
       "    </tr>\n",
       "    <tr>\n",
       "      <td>9</td>\n",
       "      <td>22</td>\n",
       "      <td>165315</td>\n",
       "      <td>2196-04-09 12:26:00</td>\n",
       "      <td>0</td>\n",
       "      <td>2196-04-10</td>\n",
       "      <td>Nursing/other</td>\n",
       "      <td>PT TRANSFER NOTE PLEASE REFER TO ADMIT NOTE [*...</td>\n",
       "      <td>2196-04-10 12:26:00</td>\n",
       "    </tr>\n",
       "    <tr>\n",
       "      <td>11</td>\n",
       "      <td>23</td>\n",
       "      <td>152223</td>\n",
       "      <td>2153-09-03 07:15:00</td>\n",
       "      <td>0</td>\n",
       "      <td>2153-09-04</td>\n",
       "      <td>ECG</td>\n",
       "      <td>Sinus rhythm\\nMarked left axis deviation\\nRBBB...</td>\n",
       "      <td>2153-09-04 07:15:00</td>\n",
       "    </tr>\n",
       "    <tr>\n",
       "      <td>12</td>\n",
       "      <td>23</td>\n",
       "      <td>152223</td>\n",
       "      <td>2153-09-03 07:15:00</td>\n",
       "      <td>0</td>\n",
       "      <td>2153-09-03</td>\n",
       "      <td>ECG</td>\n",
       "      <td>Sinus rhythm\\nSupraventricular extrasystoles\\n...</td>\n",
       "      <td>2153-09-04 07:15:00</td>\n",
       "    </tr>\n",
       "    <tr>\n",
       "      <td>13</td>\n",
       "      <td>23</td>\n",
       "      <td>152223</td>\n",
       "      <td>2153-09-03 07:15:00</td>\n",
       "      <td>0</td>\n",
       "      <td>2153-09-03</td>\n",
       "      <td>ECG</td>\n",
       "      <td>Sinus rhythm\\nMarked left axis deviation\\nRBBB...</td>\n",
       "      <td>2153-09-04 07:15:00</td>\n",
       "    </tr>\n",
       "    <tr>\n",
       "      <td>14</td>\n",
       "      <td>23</td>\n",
       "      <td>152223</td>\n",
       "      <td>2153-09-03 07:15:00</td>\n",
       "      <td>0</td>\n",
       "      <td>2153-09-03</td>\n",
       "      <td>ECG</td>\n",
       "      <td>Sinus arrhythmia\\nLeft axis deviation\\nIV cond...</td>\n",
       "      <td>2153-09-04 07:15:00</td>\n",
       "    </tr>\n",
       "    <tr>\n",
       "      <td>15</td>\n",
       "      <td>23</td>\n",
       "      <td>152223</td>\n",
       "      <td>2153-09-03 07:15:00</td>\n",
       "      <td>0</td>\n",
       "      <td>2153-09-03</td>\n",
       "      <td>Radiology</td>\n",
       "      <td>[**2153-9-3**] 1:26 PM\\n CHEST (PORTABLE AP)  ...</td>\n",
       "      <td>2153-09-04 07:15:00</td>\n",
       "    </tr>\n",
       "    <tr>\n",
       "      <td>16</td>\n",
       "      <td>23</td>\n",
       "      <td>152223</td>\n",
       "      <td>2153-09-03 07:15:00</td>\n",
       "      <td>0</td>\n",
       "      <td>2153-09-04</td>\n",
       "      <td>Radiology</td>\n",
       "      <td>[**2153-9-4**] 9:16 AM\\n CHEST (PORTABLE AP)  ...</td>\n",
       "      <td>2153-09-04 07:15:00</td>\n",
       "    </tr>\n",
       "    <tr>\n",
       "      <td>17</td>\n",
       "      <td>23</td>\n",
       "      <td>152223</td>\n",
       "      <td>2153-09-03 07:15:00</td>\n",
       "      <td>0</td>\n",
       "      <td>2153-09-03</td>\n",
       "      <td>Nursing/other</td>\n",
       "      <td>csru update\\ncvs: aiming for sbp 90-110, neo t...</td>\n",
       "      <td>2153-09-04 07:15:00</td>\n",
       "    </tr>\n",
       "    <tr>\n",
       "      <td>18</td>\n",
       "      <td>23</td>\n",
       "      <td>152223</td>\n",
       "      <td>2153-09-03 07:15:00</td>\n",
       "      <td>0</td>\n",
       "      <td>2153-09-03</td>\n",
       "      <td>Nursing/other</td>\n",
       "      <td>OP DAY CABG X 4\\n3 NOTED 5 BEAT NARROW COMPLEX...</td>\n",
       "      <td>2153-09-04 07:15:00</td>\n",
       "    </tr>\n",
       "    <tr>\n",
       "      <td>19</td>\n",
       "      <td>23</td>\n",
       "      <td>152223</td>\n",
       "      <td>2153-09-03 07:15:00</td>\n",
       "      <td>0</td>\n",
       "      <td>2153-09-04</td>\n",
       "      <td>Nursing/other</td>\n",
       "      <td>CSRU NSG:\\n\\nNEURO:  A&amp;OX3, appropriate, speec...</td>\n",
       "      <td>2153-09-04 07:15:00</td>\n",
       "    </tr>\n",
       "    <tr>\n",
       "      <td>20</td>\n",
       "      <td>23</td>\n",
       "      <td>152223</td>\n",
       "      <td>2153-09-03 07:15:00</td>\n",
       "      <td>0</td>\n",
       "      <td>2153-09-04</td>\n",
       "      <td>Nursing/other</td>\n",
       "      <td>UPDATE\\nD: PT RECIEVED LOPRESSOR 25MG PO THIS ...</td>\n",
       "      <td>2153-09-04 07:15:00</td>\n",
       "    </tr>\n",
       "  </tbody>\n",
       "</table>\n",
       "</div>"
      ],
      "text/plain": [
       "    SUBJECT_ID  HADM_ID           ADMITTIME  HOSPITAL_EXPIRE_FLAG  CHARTDATE  \\\n",
       "0           22   165315 2196-04-09 12:26:00                     0 2196-04-10   \n",
       "1           22   165315 2196-04-09 12:26:00                     0 2196-04-09   \n",
       "2           22   165315 2196-04-09 12:26:00                     0 2196-04-09   \n",
       "3           22   165315 2196-04-09 12:26:00                     0 2196-04-10   \n",
       "4           22   165315 2196-04-09 12:26:00                     0 2196-04-09   \n",
       "5           22   165315 2196-04-09 12:26:00                     0 2196-04-09   \n",
       "6           22   165315 2196-04-09 12:26:00                     0 2196-04-09   \n",
       "7           22   165315 2196-04-09 12:26:00                     0 2196-04-09   \n",
       "8           22   165315 2196-04-09 12:26:00                     0 2196-04-10   \n",
       "9           22   165315 2196-04-09 12:26:00                     0 2196-04-10   \n",
       "11          23   152223 2153-09-03 07:15:00                     0 2153-09-04   \n",
       "12          23   152223 2153-09-03 07:15:00                     0 2153-09-03   \n",
       "13          23   152223 2153-09-03 07:15:00                     0 2153-09-03   \n",
       "14          23   152223 2153-09-03 07:15:00                     0 2153-09-03   \n",
       "15          23   152223 2153-09-03 07:15:00                     0 2153-09-03   \n",
       "16          23   152223 2153-09-03 07:15:00                     0 2153-09-04   \n",
       "17          23   152223 2153-09-03 07:15:00                     0 2153-09-03   \n",
       "18          23   152223 2153-09-03 07:15:00                     0 2153-09-03   \n",
       "19          23   152223 2153-09-03 07:15:00                     0 2153-09-04   \n",
       "20          23   152223 2153-09-03 07:15:00                     0 2153-09-04   \n",
       "\n",
       "             CATEGORY                                               TEXT  \\\n",
       "0   Discharge summary  Admission Date:  [**2196-4-9**]       Discharg...   \n",
       "1                 ECG  Normal sinus rhythm. Non-diagnostic repolariza...   \n",
       "2                 ECG  Normal sinus rhythm without diagnostic abnorma...   \n",
       "3           Radiology  [**2196-4-10**] 11:52 PM\\n CHEST (PORTABLE AP)...   \n",
       "4           Radiology  [**2196-4-9**] 10:19 AM\\n CT HEAD W/O CONTRAST...   \n",
       "5           Radiology  [**2196-4-9**] 10:40 AM\\n CHEST (PORTABLE AP) ...   \n",
       "6       Nursing/other  MICU/SICU NURSING ADMISSION NOTE\\n     Admitte...   \n",
       "7       Nursing/other  Resp Care\\npt received from eu s/p intubation ...   \n",
       "8       Nursing/other  S/MICU Nursing Progress Note\\nPt extubated at ...   \n",
       "9       Nursing/other  PT TRANSFER NOTE PLEASE REFER TO ADMIT NOTE [*...   \n",
       "11                ECG  Sinus rhythm\\nMarked left axis deviation\\nRBBB...   \n",
       "12                ECG  Sinus rhythm\\nSupraventricular extrasystoles\\n...   \n",
       "13                ECG  Sinus rhythm\\nMarked left axis deviation\\nRBBB...   \n",
       "14                ECG  Sinus arrhythmia\\nLeft axis deviation\\nIV cond...   \n",
       "15          Radiology  [**2153-9-3**] 1:26 PM\\n CHEST (PORTABLE AP)  ...   \n",
       "16          Radiology  [**2153-9-4**] 9:16 AM\\n CHEST (PORTABLE AP)  ...   \n",
       "17      Nursing/other  csru update\\ncvs: aiming for sbp 90-110, neo t...   \n",
       "18      Nursing/other  OP DAY CABG X 4\\n3 NOTED 5 BEAT NARROW COMPLEX...   \n",
       "19      Nursing/other  CSRU NSG:\\n\\nNEURO:  A&OX3, appropriate, speec...   \n",
       "20      Nursing/other  UPDATE\\nD: PT RECIEVED LOPRESSOR 25MG PO THIS ...   \n",
       "\n",
       "               ENDTIME  \n",
       "0  2196-04-10 12:26:00  \n",
       "1  2196-04-10 12:26:00  \n",
       "2  2196-04-10 12:26:00  \n",
       "3  2196-04-10 12:26:00  \n",
       "4  2196-04-10 12:26:00  \n",
       "5  2196-04-10 12:26:00  \n",
       "6  2196-04-10 12:26:00  \n",
       "7  2196-04-10 12:26:00  \n",
       "8  2196-04-10 12:26:00  \n",
       "9  2196-04-10 12:26:00  \n",
       "11 2153-09-04 07:15:00  \n",
       "12 2153-09-04 07:15:00  \n",
       "13 2153-09-04 07:15:00  \n",
       "14 2153-09-04 07:15:00  \n",
       "15 2153-09-04 07:15:00  \n",
       "16 2153-09-04 07:15:00  \n",
       "17 2153-09-04 07:15:00  \n",
       "18 2153-09-04 07:15:00  \n",
       "19 2153-09-04 07:15:00  \n",
       "20 2153-09-04 07:15:00  "
      ]
     },
     "execution_count": 32,
     "metadata": {},
     "output_type": "execute_result"
    }
   ],
   "source": [
    "#reviewing the merged dataset for multiple SUBJECT_IDs\n",
    "df2.head(20)"
   ]
  },
  {
   "cell_type": "code",
   "execution_count": 26,
   "metadata": {},
   "outputs": [
    {
     "data": {
      "text/plain": [
       "Radiology            131933\n",
       "Nursing/other        121682\n",
       "ECG                   70497\n",
       "Nursing               56250\n",
       "Physician             36590\n",
       "Echo                  14655\n",
       "Respiratory            5121\n",
       "Discharge summary      2656\n",
       "General                2530\n",
       "Nutrition              1482\n",
       "Social Work             650\n",
       "Rehab Services          496\n",
       "Case Management         265\n",
       "Consult                  44\n",
       "Pharmacy                 11\n",
       "Name: CATEGORY, dtype: int64"
      ]
     },
     "execution_count": 26,
     "metadata": {},
     "output_type": "execute_result"
    }
   ],
   "source": [
    "# Having a look at the quantities of different categories of caregiver notes from the first 24 hours of admission. \n",
    "#For now include all categories. This may be somewhere that can be adjusted (i.e., include only notes from specific categories)\n",
    "# based on the initial results of the machine learning model. one way to do this would be to combine all the text for each subject\n",
    "# into one text row.\n",
    "df2.CATEGORY.value_counts()"
   ]
  },
  {
   "cell_type": "markdown",
   "metadata": {},
   "source": [
    "The last step before beginning data analysis is to split the data into training and test sets."
   ]
  },
  {
   "cell_type": "code",
   "execution_count": 28,
   "metadata": {},
   "outputs": [],
   "source": [
    "# Preparing data further for ML model fitting, separating target variable from features\n",
    "\n",
    "X = df2.drop(['HOSPITAL_EXPIRE_FLAG'], axis='columns') #feature columns\n",
    "y = df2.HOSPITAL_EXPIRE_FLAG #target variable\n",
    "\n",
    "# Split the data into train and test sets\n",
    "from sklearn.model_selection import train_test_split\n",
    "X_train, X_test, y_train, y_test = train_test_split(X,y, test_size = 0.3, shuffle=True, random_state=42)\n"
   ]
  },
  {
   "cell_type": "code",
   "execution_count": 30,
   "metadata": {
    "scrolled": true
   },
   "outputs": [
    {
     "data": {
      "text/plain": [
       "0    395268\n",
       "1     49594\n",
       "Name: HOSPITAL_EXPIRE_FLAG, dtype: int64"
      ]
     },
     "execution_count": 30,
     "metadata": {},
     "output_type": "execute_result"
    }
   ],
   "source": [
    "y.value_counts()"
   ]
  },
  {
   "cell_type": "code",
   "execution_count": 45,
   "metadata": {},
   "outputs": [],
   "source": [
    "# shuffle dataset in order to randomize all of the samples\n",
    "df3 = df2.sample(n = len(df2), random_state = 42)\n",
    "df3 = df3.reset_index(drop = True) #resetting index for the newly shuffled dataset\n",
    "\n",
    "df_valid_test=df3.sample(frac=0.30,random_state=42) # Save 30% of the data as validation data.\n",
    "df_test = df_valid_test.sample(frac = 0.5, random_state = 42) #Of the validation data, 50% is set aside for testing \n",
    "df_valid = df_valid_test.drop(df_test.index) #dropping the index for the validation data\n",
    "\n",
    "df_train_all=df3.drop(df_valid_test.index) # remove the rows used for validation; We are left with the rest of the data which will be used for training\n"
   ]
  },
  {
   "cell_type": "code",
   "execution_count": 46,
   "metadata": {},
   "outputs": [
    {
     "data": {
      "text/html": [
       "<div>\n",
       "<style scoped>\n",
       "    .dataframe tbody tr th:only-of-type {\n",
       "        vertical-align: middle;\n",
       "    }\n",
       "\n",
       "    .dataframe tbody tr th {\n",
       "        vertical-align: top;\n",
       "    }\n",
       "\n",
       "    .dataframe thead th {\n",
       "        text-align: right;\n",
       "    }\n",
       "</style>\n",
       "<table border=\"1\" class=\"dataframe\">\n",
       "  <thead>\n",
       "    <tr style=\"text-align: right;\">\n",
       "      <th></th>\n",
       "      <th>SUBJECT_ID</th>\n",
       "      <th>HADM_ID</th>\n",
       "      <th>ADMITTIME</th>\n",
       "      <th>HOSPITAL_EXPIRE_FLAG</th>\n",
       "      <th>ADMISSION_TYPE</th>\n",
       "      <th>CHARTDATE</th>\n",
       "      <th>CATEGORY</th>\n",
       "      <th>TEXT</th>\n",
       "      <th>ENDTIME</th>\n",
       "    </tr>\n",
       "  </thead>\n",
       "  <tbody>\n",
       "    <tr>\n",
       "      <td>0</td>\n",
       "      <td>83046</td>\n",
       "      <td>101891</td>\n",
       "      <td>2162-06-20 16:33:00</td>\n",
       "      <td>0</td>\n",
       "      <td>EMERGENCY</td>\n",
       "      <td>2162-06-20</td>\n",
       "      <td>ECG</td>\n",
       "      <td>Sinus rhythm with atrial premature beat. Consi...</td>\n",
       "      <td>2162-06-21 16:33:00</td>\n",
       "    </tr>\n",
       "    <tr>\n",
       "      <td>1</td>\n",
       "      <td>138</td>\n",
       "      <td>108120</td>\n",
       "      <td>2131-10-31 08:00:00</td>\n",
       "      <td>0</td>\n",
       "      <td>ELECTIVE</td>\n",
       "      <td>2131-10-31</td>\n",
       "      <td>Nursing/other</td>\n",
       "      <td>ADDM: PT EXTUBATED AT 10:30PM. ABGS GOOD. SATS...</td>\n",
       "      <td>2131-11-01 08:00:00</td>\n",
       "    </tr>\n",
       "    <tr>\n",
       "      <td>3</td>\n",
       "      <td>29702</td>\n",
       "      <td>102939</td>\n",
       "      <td>2189-01-25 05:49:00</td>\n",
       "      <td>0</td>\n",
       "      <td>EMERGENCY</td>\n",
       "      <td>2189-01-25</td>\n",
       "      <td>Physician</td>\n",
       "      <td>Chief Complaint:  HOTN and bradycardia\\n   I s...</td>\n",
       "      <td>2189-01-26 05:49:00</td>\n",
       "    </tr>\n",
       "    <tr>\n",
       "      <td>4</td>\n",
       "      <td>76653</td>\n",
       "      <td>186308</td>\n",
       "      <td>2164-10-22 17:05:00</td>\n",
       "      <td>0</td>\n",
       "      <td>ELECTIVE</td>\n",
       "      <td>2164-10-23</td>\n",
       "      <td>Nursing</td>\n",
       "      <td>Pt s/p PFO closure. Uneventful OR course. Pt w...</td>\n",
       "      <td>2164-10-23 17:05:00</td>\n",
       "    </tr>\n",
       "    <tr>\n",
       "      <td>5</td>\n",
       "      <td>27869</td>\n",
       "      <td>194131</td>\n",
       "      <td>2104-10-28 07:59:00</td>\n",
       "      <td>0</td>\n",
       "      <td>EMERGENCY</td>\n",
       "      <td>2104-10-28</td>\n",
       "      <td>ECG</td>\n",
       "      <td>Atrial paced rhythm\\nIntraventricular conducti...</td>\n",
       "      <td>2104-10-29 07:59:00</td>\n",
       "    </tr>\n",
       "  </tbody>\n",
       "</table>\n",
       "</div>"
      ],
      "text/plain": [
       "   SUBJECT_ID  HADM_ID           ADMITTIME  HOSPITAL_EXPIRE_FLAG  \\\n",
       "0       83046   101891 2162-06-20 16:33:00                     0   \n",
       "1         138   108120 2131-10-31 08:00:00                     0   \n",
       "3       29702   102939 2189-01-25 05:49:00                     0   \n",
       "4       76653   186308 2164-10-22 17:05:00                     0   \n",
       "5       27869   194131 2104-10-28 07:59:00                     0   \n",
       "\n",
       "  ADMISSION_TYPE  CHARTDATE       CATEGORY  \\\n",
       "0      EMERGENCY 2162-06-20            ECG   \n",
       "1       ELECTIVE 2131-10-31  Nursing/other   \n",
       "3      EMERGENCY 2189-01-25     Physician    \n",
       "4       ELECTIVE 2164-10-23        Nursing   \n",
       "5      EMERGENCY 2104-10-28            ECG   \n",
       "\n",
       "                                                TEXT             ENDTIME  \n",
       "0  Sinus rhythm with atrial premature beat. Consi... 2162-06-21 16:33:00  \n",
       "1  ADDM: PT EXTUBATED AT 10:30PM. ABGS GOOD. SATS... 2131-11-01 08:00:00  \n",
       "3  Chief Complaint:  HOTN and bradycardia\\n   I s... 2189-01-26 05:49:00  \n",
       "4  Pt s/p PFO closure. Uneventful OR course. Pt w... 2164-10-23 17:05:00  \n",
       "5  Atrial paced rhythm\\nIntraventricular conducti... 2104-10-29 07:59:00  "
      ]
     },
     "execution_count": 46,
     "metadata": {},
     "output_type": "execute_result"
    }
   ],
   "source": [
    "df_train_all.head()"
   ]
  },
  {
   "cell_type": "markdown",
   "metadata": {},
   "source": [
    "Now, working with the training data, split the data into 2 categories based on mortality."
   ]
  },
  {
   "cell_type": "code",
   "execution_count": 86,
   "metadata": {},
   "outputs": [
    {
     "name": "stdout",
     "output_type": "stream",
     "text": [
      "There are  34776 positive samples and  276627 negative samples.\n",
      "Percent positive samples:  11.17 %\n"
     ]
    }
   ],
   "source": [
    "# split the training data into positive (death) and negative (no death)\n",
    "positive = df_train_all.HOSPITAL_EXPIRE_FLAG == 1\n",
    "df_train_pos = df_train_all.loc[positive]\n",
    "df_train_neg = df_train_all.loc[~positive]\n",
    "print('There are ', len(df_train_pos), 'positive samples and ', len(df_train_neg), 'negative samples.')\n",
    "print('Percent positive samples: ', round(len(df_train_pos)*100/len(df_train_all),2),'%')"
   ]
  },
  {
   "cell_type": "markdown",
   "metadata": {},
   "source": [
    "There is an imbalance in positive vs negative cases, which would be expected in this dataset. Therefore balancing the data is needed, so that the machine learning model does not always predict negative (no death). Sub-sampling the negative group is one method of doing this."
   ]
  },
  {
   "cell_type": "code",
   "execution_count": 87,
   "metadata": {},
   "outputs": [],
   "source": [
    "#sub-sample negatives so there are an equal number of positive and negative samples.\n",
    "df_train_neg = df_train_neg.sample(n=len(df_train_pos), random_state=42)\n",
    "\n",
    "# merge the positive and negative samples into the final training set\n",
    "df_train_final = pd.concat([df_train_pos, df_train_neg],axis = 0)\n",
    "\n",
    "# shuffle the order of training samples \n",
    "df_train_final = df_train_final.sample(n = len(df_train_final), random_state = 42).reset_index(drop = True)"
   ]
  },
  {
   "cell_type": "markdown",
   "metadata": {},
   "source": [
    "### Step 2: Preprocess text data using Bag of Words model.\n",
    "#### What is Bag of Words?\n",
    "<br>\n",
    "Bag of Words is a method for extracting features from the text for use in machine learning algorithms. Basically, it breaks up a text into individual words, then counts how often each word occurs.\n"
   ]
  },
  {
   "cell_type": "code",
   "execution_count": 109,
   "metadata": {
    "scrolled": true
   },
   "outputs": [
    {
     "data": {
      "text/plain": [
       "\"Admission Date:  [**2196-4-9**]       Discharge Date:  [**2196-4-10**]\\n\\nDate of Birth:   [**2131-5-7**]       Sex:  F\\n\\nService:  ICU\\n\\nCHIEF COMPLAINT:  Unresponsiveness\\n\\nHISTORY OF PRESENT ILLNESS:   The patient is a 64-year-old\\nfemale with a history of hypertension, depression, prior\\nsuicide attempt by overdose, recently with exacerbated mood\\ndisorder status post the death of her husband in [**2195-6-2**], now presented after being found unresponsive.  The\\npatient's daughters found her in the morning of the day of\\npresentation, unresponsive with empty bottles of Ambien and\\nZyprexa at the bedside.  Pill count revealed that the patient\\nhad likely taken 26 Ambien and 12 Zyprexa.  The patient has\\nbeen unable to be alone secondary to depression with suicidal\\nideation, and has been living with her daughters.  They note\\nthat the patient went to bed at 11 P.M. the night prior to\\nadmission and was found at 11 A.M. unresponsive with\\nrespiratory depression.  The patient had seen her primary\\npsychiatrist the day before.\\n\\nIn the Emergency Department, the patient was charcoaled,\\ngastric lavaged, and intubated for airway protection.  She\\nwas hemodynamically stable.  She was transferred to the\\nIntensive Care Unit.\\n\\nIn the Intensive Care Unit, the patient was able to open her\\neyes, and was moving all four extremities and responsive to\\ncommand.\\n\\nPAST MEDICAL HISTORY:\\n1.  Hypertension\\n2.  Depression with suicide attempt ten years ago by\\noverdose.  The patient was hospitalized for two weeks at that\\npoint.  The patient's outpatient psychiatrist is Dr. [**Last Name (STitle) **].\\n\\nALLERGIES:   No known drug allergies.\\n\\nMEDICATIONS:   Zyprexa 2.5 mg by mouth daily at bedtime,\\nZestril 20 mg by mouth once daily, Ambien 10 mg by mouth\\ndaily at bedtime, Estradiol 1 mg by mouth once daily,\\nnortriptyline 25 mg by mouth daily at bedtime, Klonopin 0.5\\nto 1 mg daily at bedtime, Biotin and calcium supplementation.\\n\\nSOCIAL HISTORY:   The patient lives with her daughter.  [**Name (NI) **]\\nhusband died in [**2196-1-2**].  The patient denied any\\ntobacco, alcohol or drug use.\\n\\nFAMILY HISTORY:   Unknown.\\n\\nPHYSICAL EXAMINATION:   The patient's temperature was 97.7,\\nwith a blood pressure of 130/65, pulse of 84, respiratory\\nrate of 14, and oxygen saturation of 100%.  The patient was\\nventilated on IMV pressure support with a rate of 14,\\npressure support of 10, PEEP of 7.5, volume of 500, and 40%\\nFIO2.  On general examination, the patient was a very\\nill-appearing female, in no apparent distress.  She was\\nintubated.  Head, eyes, ears, nose and throat examination\\nrevealed 1 to 2 mm nonreactive pupils.  Neck examination\\nrevealed no jugular venous distention and no bruits.  Cardiac\\nexamination revealed a regular rate and rhythm, normal S1 and\\nS2, and no murmurs, gallops or rubs.  Pulmonary examination\\nrevealed that the lungs were clear to auscultation\\nbilaterally.  Abdominal examination revealed a belly that was\\nsoft, nontender, nondistended, with normal bowel sounds.\\nExtremity examination revealed no edema, with 2+ dorsalis\\npedis pulses bilaterally.  Neurological examination revealed\\na patient that was moving all four extremities, opening eyes\\nintermittently, withdrawing to pain.  The patient had 2+ deep\\ntendon reflexes, and downgoing plantar reflexes.\\n\\nLABORATORY DATA:   The patient had a white blood cell count\\nof 5.1, hematocrit of 35.9, platelets of 259.  The patient\\nhad a sodium of 140, potassium of 4.4, chloride of 103,\\nbicarbonate of 28, BUN of 17, creatinine of 0.6, and glucose\\nof 102.  The patient's INR was 1.1.  The patient had an ALT\\nof 19, an AST of 26.  Arterial blood gas was performed\\npost-intubation and was found to be pH of 7.47, PACO2 of 29,\\nand PAO2 of 287.\\n\\nElectrocardiogram:  Normal sinus rhythm at 80, with normal\\naxis, [**Doctor Last Name 1754**] and intervals, and ST elevations in V2 and\\nLead I.\\n\\nOther studies:  Urine toxicology was negative, serum\\ntoxicology was negative.  Urinalysis revealed negative\\nnitrates, leukocytes, blood, no red blood cells, no white\\nblood cells, occasional bacteria, and less than one\\nepithelial cell.\\n\\nHead CT:  No signs of intracranial hemorrhage or mass effect.\\n\\nHOSPITAL COURSE:   The patient is a 64-year-old female with a\\nhistory of hypertension and depression with suicidal ideation\\nand previous history of overdose attempt, status post likely\\noverdose on Ambien and Zyprexa, status post intubation and\\nhemodynamically stable.\\n\\n1.  Toxicology:  Patient with likely Ambien overdose and\\nZyprexa overdose.  Her symptoms of light coma, somnolence and\\nrespiratory compromise were consistent with Ambien overdose.\\nThe patient also had evidence of myosis, which was consistent\\nwith Zyprexa overdose.  The patient had been gastric lavaged,\\ncharcoaled and supported in the Emergency Department.  In the\\nIntensive Care Unit, the patient was supported with\\nintravenous fluids and gradually weaned on the ventilator to\\nthe point where she was successfully extubated shortly after\\narriving to the Intensive Care Unit.\\n\\n2.  Psychiatric:  Patient with major depression, recently\\nexacerbated by the loss of her husband, now with a second\\noverdose attempt in her lifetime.  Likely Zyprexa and Ambien\\nwere the agents responsible.  Multiple attempts were made in\\nthe effort to contact the patient's outpatient psychiatrist,\\nDr. [**Last Name (STitle) **].  She was unable to be reached.  Psychiatry was\\nconsulted, who felt that the patient needed inpatient\\nevaluation and treatment.  They also recommended\\npsychotropics be avoided, and that the patient have a\\none-to-one sitter.  Social Work and Case Management were\\nconsulted.\\n\\n3.  Cardiovascular:  Patient was hemodynamically stable with\\nhistory of hypertension.  Her antihypertensives were held.\\nHer electrocardiogram was unremarkable, although there were\\nno studies for comparison.\\n\\n4.  Pulmonary:  Patient intubated secondary to decreased\\nmental status without a primary lung process.\\nPost-extubation arterial blood gas did not suggest any\\nobstructive lung process leading to hypercarbia or hypoxemia\\nfrom other pulmonary process.  The examination was\\nunremarkable.  A facile extubation was anticipated, and the\\npatient was extubated within several hours of arriving in the\\nIntensive Care Unit.\\n\\n5.  Psychosocial:  Communication was maintained with the\\npatient's daughters, who also felt that the patient should\\nreceive inpatient evaluation and treatment.\\n\\nCONDITION ON DISCHARGE:   Stable.\\n\\nDISCHARGE STATUS:  The patient was discharged to an inpatient\\npsychiatric bed.\\n\\nDISCHARGE MEDICATIONS:   Zestril 20 mg by mouth once daily,\\nEstradiol 1 mg by mouth once daily.\\n\\nDISCHARGE DIAGNOSIS:\\n1.  Major depression\\n2.  Ambien and Zyprexa overdose\\n3.  Hypertension\\n\\n\\n\\n\\n                            [**Name6 (MD) **] [**Last Name (NamePattern4) 5837**], M.D.  [**MD Number(1) 8285**]\\n\\nDictated By:[**Last Name (NamePattern1) 5246**]\\nMEDQUIST36\\n\\nD:  [**2196-4-10**]  02:10\\nT:  [**2196-4-10**]  02:20\\nJOB#:  [**Job Number 38050**]\\n\""
      ]
     },
     "execution_count": 109,
     "metadata": {},
     "output_type": "execute_result"
    }
   ],
   "source": [
    "#viewing an example row of the text column\n",
    "df.TEXT[0]"
   ]
  },
  {
   "cell_type": "markdown",
   "metadata": {},
   "source": [
    "The text above shows that it needs some pre-processing (mainly removing the new line command ('\\n'). One way to do this is to create a function to preprocess the text. This way the original data won't be modified."
   ]
  },
  {
   "cell_type": "code",
   "execution_count": 110,
   "metadata": {},
   "outputs": [],
   "source": [
    "def preprocess_text(df):\n",
    "    # This function preprocesses the text by replacing new lines ('\\n')  with a space.\n",
    "    df.TEXT = df.TEXT.str.replace('\\n',' ')\n",
    "    return df\n",
    "# preprocess the text to deal with known issue\n",
    "df_train_final = preprocess_text(df_train_final)\n",
    "df_valid = preprocess_text(df_valid)\n",
    "df_test = preprocess_text(df_test)"
   ]
  },
  {
   "cell_type": "code",
   "execution_count": 114,
   "metadata": {},
   "outputs": [
    {
     "data": {
      "text/plain": [
       "\"Neuro: Pt. alert and appropriate after extubation. . Conversing pleasantly with staff.Dozing when left alone. CV: BP labile requiring NEO through the night but weaned to off this morning, HR becoming more tachy to 112, as high as 124 when moving in bed. Pt. takes Toprol XL at home. CVP 8. Resp: extubated at 2100 last evening to nasal prongs. No secretions. BS clear with fine left basilar crackles. C&DB instructed and encouraged. GI: Taking ice chips. No n/v. GU: Adequate huo ~ 30cc/hr. Skin: intact. feet warmer and pulses more easily palpable. Endocrine: insulin drip off @ 0600 with stable BS's 80-90's this morning. Pain: Med. with Mso4 sc through out the night.Pt. stated more relief as of this morning; incisional pain is more right sided chest area. C/o some cramping of upper arms but improved with positioning arms on pillows. Social: Family home for the night ; wife phoned in this morning and pt. condition relayed. Pt. has 8 children (4 boys 4 girls). Plan: Advance activity to OOB to chair today. Advance DAT. Glucose monitoring per protocol. ? restarting beta blockers. Pain med prn. Transfer to floor when bed available. \""
      ]
     },
     "execution_count": 114,
     "metadata": {},
     "output_type": "execute_result"
    }
   ],
   "source": [
    "df_train_final.TEXT[0]"
   ]
  },
  {
   "cell_type": "markdown",
   "metadata": {},
   "source": [
    "Now import Python's Natural Language Toolkit (NLTK) and other necessary modules"
   ]
  },
  {
   "cell_type": "code",
   "execution_count": 115,
   "metadata": {},
   "outputs": [],
   "source": [
    "import nltk\n",
    "from nltk import word_tokenize\n",
    "import string # String module provides tools to manipulate strings"
   ]
  },
  {
   "cell_type": "markdown",
   "metadata": {},
   "source": [
    "Next create a function to separate the text data into tokens (this is called tokenization). Tokens created here will be used to make a vocabulary (set of unique tokens) to be used as a feature for the model. All tokens or top K tokens can be used "
   ]
  },
  {
   "cell_type": "code",
   "execution_count": 105,
   "metadata": {},
   "outputs": [],
   "source": [
    "def text_tokenizer(text): # create a function that will tokenize the text, and also remove punctuation and numbers\n",
    "    \n",
    "    punc_list = string.punctuation #create list of punctuation marks\n",
    "    number_list=string.digits #create list of numbers\n",
    "    num_punc_list = number_list + punc_list #combine the lists together\n",
    "    t = str.maketrans(dict.fromkeys(num_punc_list, \" \")) # replace punctuation and numbers with spaces\n",
    "    text = text.lower().translate(t) #lowercase all words\n",
    "    tokens = word_tokenize(text) #tokenize the text \n",
    "    return tokens"
   ]
  },
  {
   "cell_type": "code",
   "execution_count": 108,
   "metadata": {},
   "outputs": [
    {
     "data": {
      "text/plain": [
       "['the',\n",
       " 'goal',\n",
       " 'is',\n",
       " 'to',\n",
       " 'turn',\n",
       " 'data',\n",
       " 'into',\n",
       " 'information',\n",
       " 'and',\n",
       " 'information',\n",
       " 'into',\n",
       " 'insight',\n",
       " 'carly',\n",
       " 'fiorina',\n",
       " 'former',\n",
       " 'chief',\n",
       " 'executive',\n",
       " 'officer',\n",
       " 'hewlett',\n",
       " 'packard']"
      ]
     },
     "execution_count": 108,
     "metadata": {},
     "output_type": "execute_result"
    }
   ],
   "source": [
    "sample_text = ' \"The goal is to turn data into information and information into insight.\" - Carly Fiorina, former chief executive officer, Hewlett Packard.'\n",
    "text_tokenizer(sample_text)"
   ]
  },
  {
   "cell_type": "markdown",
   "metadata": {},
   "source": [
    "Now that tokens have been created from the text, CountVectorizer can turn these tokens into features to be used in the machine learning model."
   ]
  },
  {
   "cell_type": "code",
   "execution_count": 118,
   "metadata": {},
   "outputs": [
    {
     "name": "stderr",
     "output_type": "stream",
     "text": [
      "[nltk_data] Downloading package punkt to\n",
      "[nltk_data]     C:\\Users\\caras\\AppData\\Roaming\\nltk_data...\n",
      "[nltk_data]   Package punkt is already up-to-date!\n"
     ]
    },
    {
     "data": {
      "text/plain": [
       "CountVectorizer(analyzer='word', binary=False, decode_error='strict',\n",
       "                dtype=<class 'numpy.int64'>, encoding='utf-8', input='content',\n",
       "                lowercase=True, max_df=1.0, max_features=3000, min_df=1,\n",
       "                ngram_range=(1, 1), preprocessor=None, stop_words=None,\n",
       "                strip_accents=None, token_pattern='(?u)\\\\b\\\\w\\\\w+\\\\b',\n",
       "                tokenizer=<function text_tokenizer at 0x0000028E2F3EF828>,\n",
       "                vocabulary=None)"
      ]
     },
     "execution_count": 118,
     "metadata": {},
     "output_type": "execute_result"
    }
   ],
   "source": [
    "import nltk\n",
    "nltk.download('punkt')\n",
    "# fit our vectorizer. This will take a while depending on your computer. \n",
    "from sklearn.feature_extraction.text import CountVectorizer\n",
    "vect = CountVectorizer(max_features = 3000, tokenizer = text_tokenizer)\n",
    "# this could take a while\n",
    "vect.fit(df_train_final.TEXT.values)"
   ]
  },
  {
   "cell_type": "code",
   "execution_count": 121,
   "metadata": {},
   "outputs": [
    {
     "data": {
      "image/png": "[encoded data removed]",
      "text/plain": [
       "<Figure size 720x432 with 1 Axes>"
      ]
     },
     "metadata": {
      "needs_background": "light"
     },
     "output_type": "display_data"
    },
    {
     "data": {
      "image/png": "[encoded data removed]",
      "text/plain": [
       "<Figure size 720x432 with 1 Axes>"
      ]
     },
     "metadata": {
      "needs_background": "light"
     },
     "output_type": "display_data"
    }
   ],
   "source": [
    "import matplotlib.pyplot as plt\n",
    "\n",
    "neg_doc_matrix = vect.transform(df_train_final[df_train_final.HOSPITAL_EXPIRE_FLAG == 0].TEXT)\n",
    "pos_doc_matrix = vect.transform(df_train_final[df_train_final.HOSPITAL_EXPIRE_FLAG == 1].TEXT)\n",
    "neg_tf = np.sum(neg_doc_matrix,axis=0)\n",
    "pos_tf = np.sum(pos_doc_matrix,axis=0)\n",
    "neg = np.squeeze(np.asarray(neg_tf))\n",
    "pos = np.squeeze(np.asarray(pos_tf))\n",
    "\n",
    "term_freq_df = pd.DataFrame([neg,pos],columns=vect.get_feature_names()).transpose()\n",
    "term_freq_df.columns = ['negative', 'positive']\n",
    "term_freq_df['total'] = term_freq_df['negative'] + term_freq_df['positive']\n",
    "term_freq_df.sort_values(by='total', ascending=False).iloc[:10]\n",
    "\n",
    "#Create a series from the sparse matrix\n",
    "d = pd.Series(term_freq_df.total, \n",
    "              index = term_freq_df.index).sort_values(ascending=False)\n",
    "ax = d[:50].plot(kind='bar', figsize=(10,6), width=.8, fontsize=14, rot=90,color = 'b')\n",
    "ax.title.set_size(18)\n",
    "plt.ylabel('count')\n",
    "plt.show()\n",
    "ax = d[50:100].plot(kind='bar', figsize=(10,6), width=.8, fontsize=14, rot=90,color = 'b')\n",
    "ax.title.set_size(18)\n",
    "plt.ylabel('count')\n",
    "plt.show()"
   ]
  },
  {
   "cell_type": "code",
   "execution_count": 137,
   "metadata": {
    "scrolled": true
   },
   "outputs": [
    {
     "name": "stdout",
     "output_type": "stream",
     "text": [
      "  (0, 33)\t1\n",
      "  (0, 43)\t1\n",
      "  (0, 55)\t2\n",
      "  (0, 62)\t1\n",
      "  (0, 83)\t1\n",
      "  (0, 91)\t1\n",
      "  (0, 115)\t4\n",
      "  (0, 161)\t1\n",
      "  (0, 169)\t1\n",
      "  (0, 173)\t2\n",
      "  (0, 185)\t3\n",
      "  (0, 205)\t2\n",
      "  (0, 230)\t1\n",
      "  (0, 260)\t1\n",
      "  (0, 271)\t1\n",
      "  (0, 272)\t2\n",
      "  (0, 282)\t1\n",
      "  (0, 330)\t1\n",
      "  (0, 358)\t2\n",
      "  (0, 362)\t2\n",
      "  (0, 365)\t2\n",
      "  (0, 415)\t1\n",
      "  (0, 431)\t1\n",
      "  (0, 443)\t1\n",
      "  (0, 446)\t1\n",
      "  :\t:\n",
      "  (34775, 1462)\t2\n",
      "  (34775, 1470)\t1\n",
      "  (34775, 1710)\t1\n",
      "  (34775, 1779)\t1\n",
      "  (34775, 1786)\t1\n",
      "  (34775, 1826)\t1\n",
      "  (34775, 1852)\t1\n",
      "  (34775, 1923)\t2\n",
      "  (34775, 2027)\t2\n",
      "  (34775, 2069)\t1\n",
      "  (34775, 2083)\t1\n",
      "  (34775, 2089)\t1\n",
      "  (34775, 2101)\t2\n",
      "  (34775, 2108)\t1\n",
      "  (34775, 2152)\t1\n",
      "  (34775, 2164)\t2\n",
      "  (34775, 2304)\t1\n",
      "  (34775, 2445)\t1\n",
      "  (34775, 2447)\t1\n",
      "  (34775, 2506)\t1\n",
      "  (34775, 2576)\t1\n",
      "  (34775, 2621)\t1\n",
      "  (34775, 2751)\t1\n",
      "  (34775, 2876)\t2\n",
      "  (34775, 2921)\t3\n"
     ]
    }
   ],
   "source": [
    "with np.printoptions(threshold=np.inf):\n",
    "    print(neg_doc_matrix)"
   ]
  },
  {
   "cell_type": "code",
   "execution_count": 138,
   "metadata": {},
   "outputs": [],
   "source": [
    "stopwords = ['the','and','to','with','is','in','for','on','a', 's', 'pt', 'at', 'was', 'left', 'right', 'name', 'there', 'o', 'p', 'am', 'as', 'patient', 'or', 'from', 'c', 'p', 'be','has']"
   ]
  },
  {
   "cell_type": "markdown",
   "metadata": {},
   "source": [
    "Add the list of stop words as an argument for CountVectorizer"
   ]
  },
  {
   "cell_type": "code",
   "execution_count": 140,
   "metadata": {},
   "outputs": [
    {
     "data": {
      "text/plain": [
       "CountVectorizer(analyzer='word', binary=False, decode_error='strict',\n",
       "                dtype=<class 'numpy.int64'>, encoding='utf-8', input='content',\n",
       "                lowercase=True, max_df=1.0, max_features=3000, min_df=1,\n",
       "                ngram_range=(1, 1), preprocessor=None,\n",
       "                stop_words=['the', 'and', 'to', 'with', 'is', 'in', 'for', 'on',\n",
       "                            'a', 's', 'pt', 'at', 'was', 'left', 'right',\n",
       "                            'name', 'there', 'o', 'p', 'am', 'as', 'patient',\n",
       "                            'or', 'from', 'c', 'p', 'be', 'has'],\n",
       "                strip_accents=None, token_pattern='(?u)\\\\b\\\\w\\\\w+\\\\b',\n",
       "                tokenizer=<function text_tokenizer at 0x0000028E2F3EF828>,\n",
       "                vocabulary=None)"
      ]
     },
     "execution_count": 140,
     "metadata": {},
     "output_type": "execute_result"
    }
   ],
   "source": [
    "\n",
    "from sklearn.feature_extraction.text import CountVectorizer\n",
    "vect = CountVectorizer(max_features = 3000, \n",
    "                       tokenizer = text_tokenizer, \n",
    "                       stop_words = stopwords)\n",
    "# this could take a while\n",
    "vect.fit(df_train_final.TEXT.values)"
   ]
  },
  {
   "cell_type": "markdown",
   "metadata": {},
   "source": [
    "Transform the text into vectors"
   ]
  },
  {
   "cell_type": "code",
   "execution_count": 141,
   "metadata": {},
   "outputs": [],
   "source": [
    "X_train_tf = vect.transform(df_train_final.TEXT.values)\n",
    "X_valid_tf = vect.transform(df_valid.TEXT.values)"
   ]
  },
  {
   "cell_type": "markdown",
   "metadata": {},
   "source": [
    "Get labels"
   ]
  },
  {
   "cell_type": "code",
   "execution_count": 142,
   "metadata": {},
   "outputs": [],
   "source": [
    "y_train = df_train_final.HOSPITAL_EXPIRE_FLAG\n",
    "y_valid = df_valid.HOSPITAL_EXPIRE_FLAG"
   ]
  },
  {
   "cell_type": "code",
   "execution_count": null,
   "metadata": {},
   "outputs": [],
   "source": [
    "Step 3: Build a simple predictive model"
   ]
  },
  {
   "cell_type": "code",
   "execution_count": null,
   "metadata": {},
   "outputs": [],
   "source": []
  },
  {
   "cell_type": "code",
   "execution_count": null,
   "metadata": {},
   "outputs": [],
   "source": []
  },
  {
   "cell_type": "code",
   "execution_count": 143,
   "metadata": {},
   "outputs": [
    {
     "name": "stderr",
     "output_type": "stream",
     "text": [
      "C:\\Users\\caras\\Anaconda3\\lib\\site-packages\\sklearn\\linear_model\\logistic.py:432: FutureWarning: Default solver will be changed to 'lbfgs' in 0.22. Specify a solver to silence this warning.\n",
      "  FutureWarning)\n"
     ]
    },
    {
     "data": {
      "text/plain": [
       "LogisticRegression(C=0.0001, class_weight=None, dual=False, fit_intercept=True,\n",
       "                   intercept_scaling=1, l1_ratio=None, max_iter=100,\n",
       "                   multi_class='warn', n_jobs=None, penalty='l2',\n",
       "                   random_state=42, solver='warn', tol=0.0001, verbose=0,\n",
       "                   warm_start=False)"
      ]
     },
     "execution_count": 143,
     "metadata": {},
     "output_type": "execute_result"
    }
   ],
   "source": [
    "# logistic regression\n",
    "from sklearn.linear_model import LogisticRegression\n",
    "clf=LogisticRegression(C = 0.0001, penalty = 'l2', random_state = 42)\n",
    "clf.fit(X_train_tf, y_train)"
   ]
  },
  {
   "cell_type": "code",
   "execution_count": 144,
   "metadata": {},
   "outputs": [],
   "source": [
    "model = clf\n",
    "y_train_preds = model.predict_proba(X_train_tf)[:,1]\n",
    "y_valid_preds = model.predict_proba(X_valid_tf)[:,1]"
   ]
  },
  {
   "cell_type": "code",
   "execution_count": 145,
   "metadata": {},
   "outputs": [
    {
     "name": "stdout",
     "output_type": "stream",
     "text": [
      "[0 0 1 1 1 0 0 1 1 1]\n",
      "[0.28896677 0.46793583 0.51763337 0.45659658 0.80529983 0.42538565\n",
      " 0.78462137 0.45945234 0.50693792 0.55169123]\n"
     ]
    }
   ],
   "source": [
    "print(y_train[:10].values)\n",
    "print(y_train_preds[:10])"
   ]
  },
  {
   "cell_type": "code",
   "execution_count": 146,
   "metadata": {},
   "outputs": [],
   "source": [
    "def calc_accuracy(y_actual, y_pred, thresh):\n",
    "    # this function calculates the accuracy with probability threshold at thresh\n",
    "    return (sum((y_pred > thresh) & (y_actual == 1))+sum((y_pred < thresh) & (y_actual == 0))) /len(y_actual)\n",
    "\n",
    "def calc_recall(y_actual, y_pred, thresh):\n",
    "    # calculates the recall\n",
    "    return sum((y_pred > thresh) & (y_actual == 1)) /sum(y_actual)\n",
    "\n",
    "def calc_precision(y_actual, y_pred, thresh):\n",
    "    # calculates the precision\n",
    "    return sum((y_pred > thresh) & (y_actual == 1)) /sum(y_pred > thresh)\n",
    "\n",
    "def calc_specificity(y_actual, y_pred, thresh):\n",
    "    # calculates specificity\n",
    "    return sum((y_pred < thresh) & (y_actual == 0)) /sum(y_actual ==0)\n",
    "\n",
    "def calc_prevalence(y_actual):\n",
    "    # calculates prevalence\n",
    "    return sum((y_actual == 1)) /len(y_actual)"
   ]
  },
  {
   "cell_type": "code",
   "execution_count": 147,
   "metadata": {},
   "outputs": [
    {
     "name": "stdout",
     "output_type": "stream",
     "text": [
      "Train AUC:0.768\n",
      "Valid AUC:0.757\n",
      "Train accuracy:0.697\n",
      "Valid accuracy:0.671\n",
      "Train recall:0.724\n",
      "Valid recall:0.712\n",
      "Train precision:0.687\n",
      "Valid precision:0.212\n",
      "Train specificity:0.670\n",
      "Valid specificity:0.665\n",
      "Train prevalence:0.500\n",
      "Valid prevalence:0.112\n"
     ]
    },
    {
     "data": {
      "image/png": "[encoded data removed]",
      "text/plain": [
       "<Figure size 432x288 with 1 Axes>"
      ]
     },
     "metadata": {
      "needs_background": "light"
     },
     "output_type": "display_data"
    }
   ],
   "source": [
    "from sklearn.metrics import roc_curve\n",
    "from sklearn.metrics import roc_auc_score\n",
    "\n",
    "fpr_train, tpr_train, thresholds_train = roc_curve(y_train, y_train_preds)\n",
    "fpr_valid, tpr_valid, thresholds_valid = roc_curve(y_valid, y_valid_preds)\n",
    "\n",
    "\n",
    "thresh = 0.5\n",
    "\n",
    "auc_train = roc_auc_score(y_train, y_train_preds)\n",
    "auc_valid = roc_auc_score(y_valid, y_valid_preds)\n",
    "\n",
    "print('Train AUC:%.3f'%auc_train)\n",
    "print('Valid AUC:%.3f'%auc_valid)\n",
    "\n",
    "print('Train accuracy:%.3f'%calc_accuracy(y_train, y_train_preds, thresh))\n",
    "print('Valid accuracy:%.3f'%calc_accuracy(y_valid, y_valid_preds, thresh))\n",
    "\n",
    "\n",
    "print('Train recall:%.3f'%calc_recall(y_train, y_train_preds, thresh))\n",
    "print('Valid recall:%.3f'%calc_recall(y_valid, y_valid_preds, thresh))\n",
    "\n",
    "print('Train precision:%.3f'%calc_precision(y_train, y_train_preds, thresh))\n",
    "print('Valid precision:%.3f'%calc_precision(y_valid, y_valid_preds, thresh))\n",
    "\n",
    "print('Train specificity:%.3f'%calc_specificity(y_train, y_train_preds, thresh))\n",
    "print('Valid specificity:%.3f'%calc_specificity(y_valid, y_valid_preds, thresh))\n",
    "\n",
    "print('Train prevalence:%.3f'%calc_prevalence(y_train))\n",
    "print('Valid prevalence:%.3f'%calc_prevalence(y_valid))\n",
    "\n",
    "\n",
    "plt.plot(fpr_train, tpr_train,'r-', label = 'Train AUC: %.2f'%auc_train)\n",
    "plt.plot(fpr_valid, tpr_valid,'b-',label = 'Valid AUC: %.2f'%auc_valid)\n",
    "plt.plot([0,1],[0,1],'-k')\n",
    "plt.xlabel('False Positive Rate')\n",
    "plt.ylabel('True Positive Rate')\n",
    "plt.legend()\n",
    "plt.show()"
   ]
  },
  {
   "cell_type": "code",
   "execution_count": 148,
   "metadata": {
    "scrolled": true
   },
   "outputs": [
    {
     "data": {
      "image/png": "[encoded data removed]",
      "text/plain": [
       "<Figure size 720x1080 with 2 Axes>"
      ]
     },
     "metadata": {
      "needs_background": "light"
     },
     "output_type": "display_data"
    }
   ],
   "source": [
    "def get_most_important_features(vectorizer, model, n=5):\n",
    "    index_to_word = {v:k for k,v in vectorizer.vocabulary_.items()}\n",
    "    \n",
    "    # loop for each class\n",
    "    classes ={}\n",
    "    for class_index in range(model.coef_.shape[0]):\n",
    "        word_importances = [(el, index_to_word[i]) for i,el in enumerate(model.coef_[class_index])]\n",
    "        sorted_coeff = sorted(word_importances, key = lambda x : x[0], reverse=True)\n",
    "        tops = sorted(sorted_coeff[:n], key = lambda x : x[0])\n",
    "        bottom = sorted_coeff[-n:]\n",
    "        classes[class_index] = {\n",
    "            'tops':tops,\n",
    "            'bottom':bottom\n",
    "        }\n",
    "    return classes\n",
    "\n",
    "def plot_important_words(top_scores, top_words, bottom_scores, bottom_words, name):\n",
    "    y_pos = np.arange(len(top_words))\n",
    "    top_pairs = [(a,b) for a,b in zip(top_words, top_scores)]\n",
    "    top_pairs = sorted(top_pairs, key=lambda x: x[1])\n",
    "    \n",
    "    bottom_pairs = [(a,b) for a,b in zip(bottom_words, bottom_scores)]\n",
    "    bottom_pairs = sorted(bottom_pairs, key=lambda x: x[1], reverse=True)\n",
    "    \n",
    "    top_words = [a[0] for a in top_pairs]\n",
    "    top_scores = [a[1] for a in top_pairs]\n",
    "    \n",
    "    bottom_words = [a[0] for a in bottom_pairs]\n",
    "    bottom_scores = [a[1] for a in bottom_pairs]\n",
    "    \n",
    "    fig = plt.figure(figsize=(10, 15))  \n",
    "\n",
    "    plt.subplot(121)\n",
    "    plt.barh(y_pos,bottom_scores, align='center', alpha=0.5)\n",
    "    plt.title('Negative', fontsize=20)\n",
    "    plt.yticks(y_pos, bottom_words, fontsize=14)\n",
    "    plt.suptitle('Key words', fontsize=16)\n",
    "    plt.xlabel('Importance', fontsize=20)\n",
    "    \n",
    "    plt.subplot(122)\n",
    "    plt.barh(y_pos,top_scores, align='center', alpha=0.5)\n",
    "    plt.title('Positive', fontsize=20)\n",
    "    plt.yticks(y_pos, top_words, fontsize=14)\n",
    "    plt.suptitle(name, fontsize=16)\n",
    "    plt.xlabel('Importance', fontsize=20)\n",
    "    \n",
    "    plt.subplots_adjust(wspace=0.8)\n",
    "    plt.show()\n",
    "\n",
    "    \n",
    "importance = get_most_important_features(vect, clf, 50)\n",
    "    \n",
    "top_scores = [a[0] for a in importance[0]['tops']]\n",
    "top_words = [a[1] for a in importance[0]['tops']]\n",
    "bottom_scores = [a[0] for a in importance[0]['bottom']]\n",
    "bottom_words = [a[1] for a in importance[0]['bottom']]\n",
    "\n",
    "plot_important_words(top_scores, top_words, bottom_scores, bottom_words, \"Most important words\")"
   ]
  },
  {
   "cell_type": "code",
   "execution_count": null,
   "metadata": {},
   "outputs": [],
   "source": []
  }
 ],
 "metadata": {
  "kernelspec": {
   "display_name": "Python 3",
   "language": "python",
   "name": "python3"
  },
  "language_info": {
   "codemirror_mode": {
    "name": "ipython",
    "version": 3
   },
   "file_extension": ".py",
   "mimetype": "text/x-python",
   "name": "python",
   "nbconvert_exporter": "python",
   "pygments_lexer": "ipython3",
   "version": "3.7.4"
  }
 },
 "nbformat": 4,
 "nbformat_minor": 2
}
