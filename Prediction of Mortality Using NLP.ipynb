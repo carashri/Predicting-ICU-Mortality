{
 "cells": [
  {
   "cell_type": "markdown",
   "metadata": {},
   "source": [
    "Begin by importing the libraries needed for data cleaning and preparation."
   ]
  },
  {
   "cell_type": "code",
   "execution_count": 1,
   "metadata": {},
   "outputs": [],
   "source": [
    "import numpy as np\n",
    "import pandas as pd"
   ]
  },
  {
   "cell_type": "markdown",
   "metadata": {},
   "source": [
    "The next step is to read in the first dataset of interest, ADMISSIONS, and have a first look at the columns and rows. <br> \n",
    "This dataset was obtained from the MIMIC III database (https://mimic.physionet.org/)."
   ]
  },
  {
   "cell_type": "code",
   "execution_count": 2,
   "metadata": {
    "scrolled": true
   },
   "outputs": [
    {
     "name": "stdout",
     "output_type": "stream",
     "text": [
      "(58976, 19)\n"
     ]
    },
    {
     "data": {
      "text/html": [
       "<div>\n",
       "<style scoped>\n",
       "    .dataframe tbody tr th:only-of-type {\n",
       "        vertical-align: middle;\n",
       "    }\n",
       "\n",
       "    .dataframe tbody tr th {\n",
       "        vertical-align: top;\n",
       "    }\n",
       "\n",
       "    .dataframe thead th {\n",
       "        text-align: right;\n",
       "    }\n",
       "</style>\n",
       "<table border=\"1\" class=\"dataframe\">\n",
       "  <thead>\n",
       "    <tr style=\"text-align: right;\">\n",
       "      <th></th>\n",
       "      <th>ROW_ID</th>\n",
       "      <th>SUBJECT_ID</th>\n",
       "      <th>HADM_ID</th>\n",
       "      <th>ADMITTIME</th>\n",
       "      <th>DISCHTIME</th>\n",
       "      <th>DEATHTIME</th>\n",
       "      <th>ADMISSION_TYPE</th>\n",
       "      <th>ADMISSION_LOCATION</th>\n",
       "      <th>DISCHARGE_LOCATION</th>\n",
       "      <th>INSURANCE</th>\n",
       "      <th>LANGUAGE</th>\n",
       "      <th>RELIGION</th>\n",
       "      <th>MARITAL_STATUS</th>\n",
       "      <th>ETHNICITY</th>\n",
       "      <th>EDREGTIME</th>\n",
       "      <th>EDOUTTIME</th>\n",
       "      <th>DIAGNOSIS</th>\n",
       "      <th>HOSPITAL_EXPIRE_FLAG</th>\n",
       "      <th>HAS_CHARTEVENTS_DATA</th>\n",
       "    </tr>\n",
       "  </thead>\n",
       "  <tbody>\n",
       "    <tr>\n",
       "      <th>0</th>\n",
       "      <td>21</td>\n",
       "      <td>22</td>\n",
       "      <td>165315</td>\n",
       "      <td>2196-04-09 12:26:00</td>\n",
       "      <td>2196-04-10 15:54:00</td>\n",
       "      <td>NaN</td>\n",
       "      <td>EMERGENCY</td>\n",
       "      <td>EMERGENCY ROOM ADMIT</td>\n",
       "      <td>DISC-TRAN CANCER/CHLDRN H</td>\n",
       "      <td>Private</td>\n",
       "      <td>NaN</td>\n",
       "      <td>UNOBTAINABLE</td>\n",
       "      <td>MARRIED</td>\n",
       "      <td>WHITE</td>\n",
       "      <td>2196-04-09 10:06:00</td>\n",
       "      <td>2196-04-09 13:24:00</td>\n",
       "      <td>BENZODIAZEPINE OVERDOSE</td>\n",
       "      <td>0</td>\n",
       "      <td>1</td>\n",
       "    </tr>\n",
       "    <tr>\n",
       "      <th>1</th>\n",
       "      <td>22</td>\n",
       "      <td>23</td>\n",
       "      <td>152223</td>\n",
       "      <td>2153-09-03 07:15:00</td>\n",
       "      <td>2153-09-08 19:10:00</td>\n",
       "      <td>NaN</td>\n",
       "      <td>ELECTIVE</td>\n",
       "      <td>PHYS REFERRAL/NORMAL DELI</td>\n",
       "      <td>HOME HEALTH CARE</td>\n",
       "      <td>Medicare</td>\n",
       "      <td>NaN</td>\n",
       "      <td>CATHOLIC</td>\n",
       "      <td>MARRIED</td>\n",
       "      <td>WHITE</td>\n",
       "      <td>NaN</td>\n",
       "      <td>NaN</td>\n",
       "      <td>CORONARY ARTERY DISEASE\\CORONARY ARTERY BYPASS...</td>\n",
       "      <td>0</td>\n",
       "      <td>1</td>\n",
       "    </tr>\n",
       "  </tbody>\n",
       "</table>\n",
       "</div>"
      ],
      "text/plain": [
       "   ROW_ID  SUBJECT_ID  HADM_ID            ADMITTIME            DISCHTIME  \\\n",
       "0      21          22   165315  2196-04-09 12:26:00  2196-04-10 15:54:00   \n",
       "1      22          23   152223  2153-09-03 07:15:00  2153-09-08 19:10:00   \n",
       "\n",
       "  DEATHTIME ADMISSION_TYPE         ADMISSION_LOCATION  \\\n",
       "0       NaN      EMERGENCY       EMERGENCY ROOM ADMIT   \n",
       "1       NaN       ELECTIVE  PHYS REFERRAL/NORMAL DELI   \n",
       "\n",
       "          DISCHARGE_LOCATION INSURANCE LANGUAGE      RELIGION MARITAL_STATUS  \\\n",
       "0  DISC-TRAN CANCER/CHLDRN H   Private      NaN  UNOBTAINABLE        MARRIED   \n",
       "1           HOME HEALTH CARE  Medicare      NaN      CATHOLIC        MARRIED   \n",
       "\n",
       "  ETHNICITY            EDREGTIME            EDOUTTIME  \\\n",
       "0     WHITE  2196-04-09 10:06:00  2196-04-09 13:24:00   \n",
       "1     WHITE                  NaN                  NaN   \n",
       "\n",
       "                                           DIAGNOSIS  HOSPITAL_EXPIRE_FLAG  \\\n",
       "0                            BENZODIAZEPINE OVERDOSE                     0   \n",
       "1  CORONARY ARTERY DISEASE\\CORONARY ARTERY BYPASS...                     0   \n",
       "\n",
       "   HAS_CHARTEVENTS_DATA  \n",
       "0                     1  \n",
       "1                     1  "
      ]
     },
     "execution_count": 2,
     "metadata": {},
     "output_type": "execute_result"
    }
   ],
   "source": [
    "admissions = pd.read_csv('ADMISSIONS.csv.gz', compression='gzip')\n",
    "print(admissions.shape)\n",
    "admissions.head(2)"
   ]
  },
  {
   "cell_type": "markdown",
   "metadata": {},
   "source": [
    "There are 58976 rows and 19 columns."
   ]
  },
  {
   "cell_type": "markdown",
   "metadata": {},
   "source": [
    "#### Columns of interest (or may be of interest) from the 'admissions' dataset include:\n",
    "- HOSPITAL_EXPIRE_FLAG\n",
    "- SUBJECT_ID\n",
    "- HADM_ID\n",
    "- ADMITTIME\n",
    "- DEATHTIME\n",
    "- ADMISSION_TYPE"
   ]
  },
  {
   "cell_type": "code",
   "execution_count": 3,
   "metadata": {},
   "outputs": [
    {
     "name": "stdout",
     "output_type": "stream",
     "text": [
      "<class 'pandas.core.frame.DataFrame'>\n",
      "RangeIndex: 58976 entries, 0 to 58975\n",
      "Data columns (total 19 columns):\n",
      " #   Column                Non-Null Count  Dtype \n",
      "---  ------                --------------  ----- \n",
      " 0   ROW_ID                58976 non-null  int64 \n",
      " 1   SUBJECT_ID            58976 non-null  int64 \n",
      " 2   HADM_ID               58976 non-null  int64 \n",
      " 3   ADMITTIME             58976 non-null  object\n",
      " 4   DISCHTIME             58976 non-null  object\n",
      " 5   DEATHTIME             5854 non-null   object\n",
      " 6   ADMISSION_TYPE        58976 non-null  object\n",
      " 7   ADMISSION_LOCATION    58976 non-null  object\n",
      " 8   DISCHARGE_LOCATION    58976 non-null  object\n",
      " 9   INSURANCE             58976 non-null  object\n",
      " 10  LANGUAGE              33644 non-null  object\n",
      " 11  RELIGION              58518 non-null  object\n",
      " 12  MARITAL_STATUS        48848 non-null  object\n",
      " 13  ETHNICITY             58976 non-null  object\n",
      " 14  EDREGTIME             30877 non-null  object\n",
      " 15  EDOUTTIME             30877 non-null  object\n",
      " 16  DIAGNOSIS             58951 non-null  object\n",
      " 17  HOSPITAL_EXPIRE_FLAG  58976 non-null  int64 \n",
      " 18  HAS_CHARTEVENTS_DATA  58976 non-null  int64 \n",
      "dtypes: int64(5), object(14)\n",
      "memory usage: 8.5+ MB\n"
     ]
    }
   ],
   "source": [
    "# exploring the data to determine the datatypes, in particular, of the date columns.\n",
    "admissions.info()"
   ]
  },
  {
   "cell_type": "markdown",
   "metadata": {},
   "source": [
    "Next, convert the dates to datetime format for processing."
   ]
  },
  {
   "cell_type": "code",
   "execution_count": 4,
   "metadata": {},
   "outputs": [
    {
     "name": "stdout",
     "output_type": "stream",
     "text": [
      "Number of missing date admissions: 0\n",
      "Number of missing DEATHTIME: 53122\n"
     ]
    }
   ],
   "source": [
    "#convert ADMITTIME and DEATHTIME to datetime format. The errors='coerce' argument allows for missing values\n",
    "admissions.ADMITTIME = pd.to_datetime(admissions.ADMITTIME, format = '%Y-%m-%d %H:%M:%S', errors = 'coerce')\n",
    "admissions.DEATHTIME = pd.to_datetime(admissions.DEATHTIME, format = '%Y-%m-%d %H:%M:%S', errors = 'coerce')\n",
    "\n",
    "# check to see if there are any null dates\n",
    "print('Number of missing date admissions:', admissions.ADMITTIME.isnull().sum())\n",
    "print('Number of missing DEATHTIME:', admissions.DEATHTIME.isnull().sum())\n"
   ]
  },
  {
   "cell_type": "code",
   "execution_count": 5,
   "metadata": {},
   "outputs": [],
   "source": [
    "# The next step is to add the target variable 'DEATH' which indicates whether or not a hospitalization resulted in death.\n",
    "# positive death=1/negative death=0\n",
    "\n",
    "#admissions['DEATH'] = admissions['DEATHTIME']>pd.Timestamp('00:00:00')\n",
    "#admissions.DEATH.value_counts()\n",
    "#print(admissions.DEATH.value_counts())\n",
    "#print(admissions.DEATH.shape)"
   ]
  },
  {
   "cell_type": "code",
   "execution_count": 6,
   "metadata": {},
   "outputs": [],
   "source": [
    "# I later realized that the column \"HOSPITAL_EXPIRE_FLAG\" is same as the \"DEATH\" column that was created.\n",
    "# drop DEATH column\n",
    "#admissions.drop('DEATH', axis=1, inplace=True)\n",
    "#admissions.columns\n"
   ]
  },
  {
   "cell_type": "code",
   "execution_count": 7,
   "metadata": {
    "scrolled": true
   },
   "outputs": [
    {
     "data": {
      "text/plain": [
       "0    53122\n",
       "1     5854\n",
       "Name: HOSPITAL_EXPIRE_FLAG, dtype: int64"
      ]
     },
     "execution_count": 7,
     "metadata": {},
     "output_type": "execute_result"
    }
   ],
   "source": [
    "admissions.HOSPITAL_EXPIRE_FLAG.value_counts()"
   ]
  },
  {
   "cell_type": "markdown",
   "metadata": {},
   "source": [
    "5,854 out of 58,976 hospital admissions resulted in death (roughly 10%). Therefore, the dataset is imbalanced."
   ]
  },
  {
   "cell_type": "markdown",
   "metadata": {},
   "source": [
    "The 'admissions' dataframe is ready to go! <br>\n",
    "<br>\n",
    "Next: Read in the caregiver notes dataset and get an overview of its rows and features.\n"
   ]
  },
  {
   "cell_type": "code",
   "execution_count": 8,
   "metadata": {
    "scrolled": true
   },
   "outputs": [
    {
     "data": {
      "text/html": [
       "<div>\n",
       "<style scoped>\n",
       "    .dataframe tbody tr th:only-of-type {\n",
       "        vertical-align: middle;\n",
       "    }\n",
       "\n",
       "    .dataframe tbody tr th {\n",
       "        vertical-align: top;\n",
       "    }\n",
       "\n",
       "    .dataframe thead th {\n",
       "        text-align: right;\n",
       "    }\n",
       "</style>\n",
       "<table border=\"1\" class=\"dataframe\">\n",
       "  <thead>\n",
       "    <tr style=\"text-align: right;\">\n",
       "      <th></th>\n",
       "      <th>ROW_ID</th>\n",
       "      <th>SUBJECT_ID</th>\n",
       "      <th>HADM_ID</th>\n",
       "      <th>CHARTDATE</th>\n",
       "      <th>CHARTTIME</th>\n",
       "      <th>STORETIME</th>\n",
       "      <th>CATEGORY</th>\n",
       "      <th>DESCRIPTION</th>\n",
       "      <th>CGID</th>\n",
       "      <th>ISERROR</th>\n",
       "      <th>TEXT</th>\n",
       "    </tr>\n",
       "  </thead>\n",
       "  <tbody>\n",
       "    <tr>\n",
       "      <th>0</th>\n",
       "      <td>174</td>\n",
       "      <td>22532</td>\n",
       "      <td>167853.0</td>\n",
       "      <td>2151-08-04</td>\n",
       "      <td>NaN</td>\n",
       "      <td>NaN</td>\n",
       "      <td>Discharge summary</td>\n",
       "      <td>Report</td>\n",
       "      <td>NaN</td>\n",
       "      <td>NaN</td>\n",
       "      <td>Admission Date:  [**2151-7-16**]       Dischar...</td>\n",
       "    </tr>\n",
       "    <tr>\n",
       "      <th>1</th>\n",
       "      <td>175</td>\n",
       "      <td>13702</td>\n",
       "      <td>107527.0</td>\n",
       "      <td>2118-06-14</td>\n",
       "      <td>NaN</td>\n",
       "      <td>NaN</td>\n",
       "      <td>Discharge summary</td>\n",
       "      <td>Report</td>\n",
       "      <td>NaN</td>\n",
       "      <td>NaN</td>\n",
       "      <td>Admission Date:  [**2118-6-2**]       Discharg...</td>\n",
       "    </tr>\n",
       "  </tbody>\n",
       "</table>\n",
       "</div>"
      ],
      "text/plain": [
       "   ROW_ID  SUBJECT_ID   HADM_ID   CHARTDATE CHARTTIME STORETIME  \\\n",
       "0     174       22532  167853.0  2151-08-04       NaN       NaN   \n",
       "1     175       13702  107527.0  2118-06-14       NaN       NaN   \n",
       "\n",
       "            CATEGORY DESCRIPTION  CGID  ISERROR  \\\n",
       "0  Discharge summary      Report   NaN      NaN   \n",
       "1  Discharge summary      Report   NaN      NaN   \n",
       "\n",
       "                                                TEXT  \n",
       "0  Admission Date:  [**2151-7-16**]       Dischar...  \n",
       "1  Admission Date:  [**2118-6-2**]       Discharg...  "
      ]
     },
     "execution_count": 8,
     "metadata": {},
     "output_type": "execute_result"
    }
   ],
   "source": [
    "#Read in the caregiver notes dataset.\n",
    "\n",
    "notes = pd.read_csv('NOTEEVENTS.csv.gz', compression='gzip', low_memory=False)\n",
    "notes.head(2)"
   ]
  },
  {
   "cell_type": "markdown",
   "metadata": {},
   "source": [
    "Columns of interest from the NOTES dataset:\n",
    "- SUBJECT_ID\n",
    "- HADM_ID\n",
    "- NOTES\n",
    "- CHARTDATE and CHARTTIME\n",
    "- CATEGORY\n",
    "- TEXT"
   ]
  },
  {
   "cell_type": "code",
   "execution_count": 9,
   "metadata": {},
   "outputs": [
    {
     "data": {
      "text/plain": [
       "(2083180, 11)"
      ]
     },
     "execution_count": 9,
     "metadata": {},
     "output_type": "execute_result"
    }
   ],
   "source": [
    "notes.shape"
   ]
  },
  {
   "cell_type": "code",
   "execution_count": 10,
   "metadata": {
    "scrolled": true
   },
   "outputs": [
    {
     "data": {
      "text/plain": [
       "Nursing/other        822497\n",
       "Radiology            522279\n",
       "Nursing              223556\n",
       "ECG                  209051\n",
       "Physician            141624\n",
       "Discharge summary     59652\n",
       "Echo                  45794\n",
       "Respiratory           31739\n",
       "Nutrition              9418\n",
       "General                8301\n",
       "Rehab Services         5431\n",
       "Social Work            2670\n",
       "Case Management         967\n",
       "Pharmacy                103\n",
       "Consult                  98\n",
       "Name: CATEGORY, dtype: int64"
      ]
     },
     "execution_count": 10,
     "metadata": {},
     "output_type": "execute_result"
    }
   ],
   "source": [
    "# Viewing categories of caregiver notes to better understand the dataset.\n",
    "notes.CATEGORY.value_counts()\n"
   ]
  },
  {
   "cell_type": "code",
   "execution_count": 11,
   "metadata": {},
   "outputs": [
    {
     "name": "stdout",
     "output_type": "stream",
     "text": [
      "<class 'pandas.core.frame.DataFrame'>\n",
      "RangeIndex: 2083180 entries, 0 to 2083179\n",
      "Data columns (total 11 columns):\n",
      " #   Column       Dtype  \n",
      "---  ------       -----  \n",
      " 0   ROW_ID       int64  \n",
      " 1   SUBJECT_ID   int64  \n",
      " 2   HADM_ID      float64\n",
      " 3   CHARTDATE    object \n",
      " 4   CHARTTIME    object \n",
      " 5   STORETIME    object \n",
      " 6   CATEGORY     object \n",
      " 7   DESCRIPTION  object \n",
      " 8   CGID         float64\n",
      " 9   ISERROR      float64\n",
      " 10  TEXT         object \n",
      "dtypes: float64(3), int64(2), object(6)\n",
      "memory usage: 174.8+ MB\n"
     ]
    }
   ],
   "source": [
    "notes.info()\n"
   ]
  },
  {
   "cell_type": "markdown",
   "metadata": {},
   "source": [
    "CHARTDATE records the date at which the note was charted. CHARTDATE will always have a time value of 00:00:00.\n",
    "\n",
    "CHARTTIME records the date and time at which the note was charted. If both CHARTDATE and CHARTTIME exist, then the date portions will be identical. All records have a CHARTDATE. A subset are missing CHARTTIME. More specifically, notes with a CATEGORY value of ‘Discharge Summary’, ‘ECG’, and ‘Echo’ never have a CHARTTIME, only CHARTDATE. Other categories almost always have both CHARTTIME and CHARTDATE, but there is a small amount of missing data for CHARTTIME (usually less than 0.5% of the total number of notes for that category)."
   ]
  },
  {
   "cell_type": "code",
   "execution_count": 12,
   "metadata": {},
   "outputs": [
    {
     "name": "stdout",
     "output_type": "stream",
     "text": [
      "Number of missing CHARTTIME: 316566\n",
      "Number of missing CHARTDATE: 0\n"
     ]
    }
   ],
   "source": [
    "#convert the chart dates and times into datetime format\n",
    "\n",
    "notes.CHARTTIME = pd.to_datetime(notes.CHARTTIME, format = '%Y-%m-%d %H:%M:%S', errors = 'coerce')\n",
    "notes.CHARTDATE = pd.to_datetime(notes.CHARTDATE, format = '%Y-%m-%d %H:%M:%S', errors = 'coerce')\n",
    "\n",
    "\n",
    "# check to see if there are any null dates\n",
    "print('Number of missing CHARTTIME:', notes.CHARTTIME.isnull().sum())\n",
    "print('Number of missing CHARTDATE:', notes.CHARTDATE.isnull().sum())\n",
    "\n"
   ]
  },
  {
   "cell_type": "markdown",
   "metadata": {},
   "source": [
    "Since there are so many missing CHARTTIME values, CHARTDATE will be used for processing and analysis (see below). Before analyzing further, the dataframes will be merged."
   ]
  },
  {
   "cell_type": "code",
   "execution_count": 13,
   "metadata": {},
   "outputs": [
    {
     "name": "stdout",
     "output_type": "stream",
     "text": [
      "There are  1851959 rows and  9 columns.\n"
     ]
    }
   ],
   "source": [
    "# Merging the 'admissions' and 'notes' together. A left merge is used so that all rows for hospital admissions are included\n",
    "# and any caregiver notes that are not associated with a hospital admission are dropped.\n",
    "df=pd.merge(admissions[['SUBJECT_ID', 'HADM_ID', 'ADMITTIME', 'HOSPITAL_EXPIRE_FLAG', 'ADMISSION_TYPE', 'DEATHTIME']],\\\n",
    "            notes[['SUBJECT_ID', 'HADM_ID', 'CHARTDATE', 'CATEGORY','TEXT']], \\\n",
    "            on=('HADM_ID','SUBJECT_ID') , how='left', suffixes=('adm','note'))\n",
    "print('There are ', len(df), 'rows and ',len(df.columns), 'columns.')\n"
   ]
  },
  {
   "cell_type": "code",
   "execution_count": null,
   "metadata": {},
   "outputs": [],
   "source": []
  },
  {
   "cell_type": "code",
   "execution_count": 14,
   "metadata": {
    "scrolled": true
   },
   "outputs": [
    {
     "data": {
      "text/plain": [
       "['SUBJECT_ID',\n",
       " 'HADM_ID',\n",
       " 'ADMITTIME',\n",
       " 'HOSPITAL_EXPIRE_FLAG',\n",
       " 'ADMISSION_TYPE',\n",
       " 'DEATHTIME',\n",
       " 'CHARTDATE',\n",
       " 'CATEGORY',\n",
       " 'TEXT']"
      ]
     },
     "execution_count": 14,
     "metadata": {},
     "output_type": "execute_result"
    }
   ],
   "source": [
    "list(df.columns)"
   ]
  },
  {
   "cell_type": "markdown",
   "metadata": {},
   "source": [
    "Next a new column ENDTIME will be created. This will indicate the when to end note collection for analysis - i.e., 24 hours after ADMITTIME or at time of death - whichever is sooner.\n"
   ]
  },
  {
   "cell_type": "code",
   "execution_count": 15,
   "metadata": {
    "scrolled": true
   },
   "outputs": [
    {
     "data": {
      "text/html": [
       "<div>\n",
       "<style scoped>\n",
       "    .dataframe tbody tr th:only-of-type {\n",
       "        vertical-align: middle;\n",
       "    }\n",
       "\n",
       "    .dataframe tbody tr th {\n",
       "        vertical-align: top;\n",
       "    }\n",
       "\n",
       "    .dataframe thead th {\n",
       "        text-align: right;\n",
       "    }\n",
       "</style>\n",
       "<table border=\"1\" class=\"dataframe\">\n",
       "  <thead>\n",
       "    <tr style=\"text-align: right;\">\n",
       "      <th></th>\n",
       "      <th>SUBJECT_ID</th>\n",
       "      <th>HADM_ID</th>\n",
       "      <th>ADMITTIME</th>\n",
       "      <th>HOSPITAL_EXPIRE_FLAG</th>\n",
       "      <th>ADMISSION_TYPE</th>\n",
       "      <th>DEATHTIME</th>\n",
       "      <th>CHARTDATE</th>\n",
       "      <th>CATEGORY</th>\n",
       "      <th>TEXT</th>\n",
       "      <th>ADMIT+24</th>\n",
       "      <th>ENDTIME</th>\n",
       "    </tr>\n",
       "  </thead>\n",
       "  <tbody>\n",
       "    <tr>\n",
       "      <th>0</th>\n",
       "      <td>22</td>\n",
       "      <td>165315</td>\n",
       "      <td>2196-04-09 12:26:00</td>\n",
       "      <td>0</td>\n",
       "      <td>EMERGENCY</td>\n",
       "      <td>NaT</td>\n",
       "      <td>2196-04-10</td>\n",
       "      <td>Discharge summary</td>\n",
       "      <td>Admission Date:  [**2196-4-9**]       Discharg...</td>\n",
       "      <td>2196-04-10 12:26:00</td>\n",
       "      <td>2196-04-10 12:26:00</td>\n",
       "    </tr>\n",
       "    <tr>\n",
       "      <th>1</th>\n",
       "      <td>22</td>\n",
       "      <td>165315</td>\n",
       "      <td>2196-04-09 12:26:00</td>\n",
       "      <td>0</td>\n",
       "      <td>EMERGENCY</td>\n",
       "      <td>NaT</td>\n",
       "      <td>2196-04-09</td>\n",
       "      <td>ECG</td>\n",
       "      <td>Normal sinus rhythm. Non-diagnostic repolariza...</td>\n",
       "      <td>2196-04-10 12:26:00</td>\n",
       "      <td>2196-04-10 12:26:00</td>\n",
       "    </tr>\n",
       "    <tr>\n",
       "      <th>2</th>\n",
       "      <td>22</td>\n",
       "      <td>165315</td>\n",
       "      <td>2196-04-09 12:26:00</td>\n",
       "      <td>0</td>\n",
       "      <td>EMERGENCY</td>\n",
       "      <td>NaT</td>\n",
       "      <td>2196-04-09</td>\n",
       "      <td>ECG</td>\n",
       "      <td>Normal sinus rhythm without diagnostic abnorma...</td>\n",
       "      <td>2196-04-10 12:26:00</td>\n",
       "      <td>2196-04-10 12:26:00</td>\n",
       "    </tr>\n",
       "    <tr>\n",
       "      <th>3</th>\n",
       "      <td>22</td>\n",
       "      <td>165315</td>\n",
       "      <td>2196-04-09 12:26:00</td>\n",
       "      <td>0</td>\n",
       "      <td>EMERGENCY</td>\n",
       "      <td>NaT</td>\n",
       "      <td>2196-04-10</td>\n",
       "      <td>Radiology</td>\n",
       "      <td>[**2196-4-10**] 11:52 PM\\n CHEST (PORTABLE AP)...</td>\n",
       "      <td>2196-04-10 12:26:00</td>\n",
       "      <td>2196-04-10 12:26:00</td>\n",
       "    </tr>\n",
       "    <tr>\n",
       "      <th>4</th>\n",
       "      <td>22</td>\n",
       "      <td>165315</td>\n",
       "      <td>2196-04-09 12:26:00</td>\n",
       "      <td>0</td>\n",
       "      <td>EMERGENCY</td>\n",
       "      <td>NaT</td>\n",
       "      <td>2196-04-09</td>\n",
       "      <td>Radiology</td>\n",
       "      <td>[**2196-4-9**] 10:19 AM\\n CT HEAD W/O CONTRAST...</td>\n",
       "      <td>2196-04-10 12:26:00</td>\n",
       "      <td>2196-04-10 12:26:00</td>\n",
       "    </tr>\n",
       "    <tr>\n",
       "      <th>5</th>\n",
       "      <td>22</td>\n",
       "      <td>165315</td>\n",
       "      <td>2196-04-09 12:26:00</td>\n",
       "      <td>0</td>\n",
       "      <td>EMERGENCY</td>\n",
       "      <td>NaT</td>\n",
       "      <td>2196-04-09</td>\n",
       "      <td>Radiology</td>\n",
       "      <td>[**2196-4-9**] 10:40 AM\\n CHEST (PORTABLE AP) ...</td>\n",
       "      <td>2196-04-10 12:26:00</td>\n",
       "      <td>2196-04-10 12:26:00</td>\n",
       "    </tr>\n",
       "    <tr>\n",
       "      <th>6</th>\n",
       "      <td>22</td>\n",
       "      <td>165315</td>\n",
       "      <td>2196-04-09 12:26:00</td>\n",
       "      <td>0</td>\n",
       "      <td>EMERGENCY</td>\n",
       "      <td>NaT</td>\n",
       "      <td>2196-04-09</td>\n",
       "      <td>Nursing/other</td>\n",
       "      <td>MICU/SICU NURSING ADMISSION NOTE\\n     Admitte...</td>\n",
       "      <td>2196-04-10 12:26:00</td>\n",
       "      <td>2196-04-10 12:26:00</td>\n",
       "    </tr>\n",
       "    <tr>\n",
       "      <th>7</th>\n",
       "      <td>22</td>\n",
       "      <td>165315</td>\n",
       "      <td>2196-04-09 12:26:00</td>\n",
       "      <td>0</td>\n",
       "      <td>EMERGENCY</td>\n",
       "      <td>NaT</td>\n",
       "      <td>2196-04-09</td>\n",
       "      <td>Nursing/other</td>\n",
       "      <td>Resp Care\\npt received from eu s/p intubation ...</td>\n",
       "      <td>2196-04-10 12:26:00</td>\n",
       "      <td>2196-04-10 12:26:00</td>\n",
       "    </tr>\n",
       "    <tr>\n",
       "      <th>8</th>\n",
       "      <td>22</td>\n",
       "      <td>165315</td>\n",
       "      <td>2196-04-09 12:26:00</td>\n",
       "      <td>0</td>\n",
       "      <td>EMERGENCY</td>\n",
       "      <td>NaT</td>\n",
       "      <td>2196-04-10</td>\n",
       "      <td>Nursing/other</td>\n",
       "      <td>S/MICU Nursing Progress Note\\nPt extubated at ...</td>\n",
       "      <td>2196-04-10 12:26:00</td>\n",
       "      <td>2196-04-10 12:26:00</td>\n",
       "    </tr>\n",
       "    <tr>\n",
       "      <th>9</th>\n",
       "      <td>22</td>\n",
       "      <td>165315</td>\n",
       "      <td>2196-04-09 12:26:00</td>\n",
       "      <td>0</td>\n",
       "      <td>EMERGENCY</td>\n",
       "      <td>NaT</td>\n",
       "      <td>2196-04-10</td>\n",
       "      <td>Nursing/other</td>\n",
       "      <td>PT TRANSFER NOTE PLEASE REFER TO ADMIT NOTE [*...</td>\n",
       "      <td>2196-04-10 12:26:00</td>\n",
       "      <td>2196-04-10 12:26:00</td>\n",
       "    </tr>\n",
       "    <tr>\n",
       "      <th>10</th>\n",
       "      <td>23</td>\n",
       "      <td>152223</td>\n",
       "      <td>2153-09-03 07:15:00</td>\n",
       "      <td>0</td>\n",
       "      <td>ELECTIVE</td>\n",
       "      <td>NaT</td>\n",
       "      <td>2153-09-08</td>\n",
       "      <td>Discharge summary</td>\n",
       "      <td>Admission Date:  [**2153-9-3**]              D...</td>\n",
       "      <td>2153-09-04 07:15:00</td>\n",
       "      <td>2153-09-04 07:15:00</td>\n",
       "    </tr>\n",
       "    <tr>\n",
       "      <th>11</th>\n",
       "      <td>23</td>\n",
       "      <td>152223</td>\n",
       "      <td>2153-09-03 07:15:00</td>\n",
       "      <td>0</td>\n",
       "      <td>ELECTIVE</td>\n",
       "      <td>NaT</td>\n",
       "      <td>2153-09-04</td>\n",
       "      <td>ECG</td>\n",
       "      <td>Sinus rhythm\\nMarked left axis deviation\\nRBBB...</td>\n",
       "      <td>2153-09-04 07:15:00</td>\n",
       "      <td>2153-09-04 07:15:00</td>\n",
       "    </tr>\n",
       "    <tr>\n",
       "      <th>12</th>\n",
       "      <td>23</td>\n",
       "      <td>152223</td>\n",
       "      <td>2153-09-03 07:15:00</td>\n",
       "      <td>0</td>\n",
       "      <td>ELECTIVE</td>\n",
       "      <td>NaT</td>\n",
       "      <td>2153-09-03</td>\n",
       "      <td>ECG</td>\n",
       "      <td>Sinus rhythm\\nSupraventricular extrasystoles\\n...</td>\n",
       "      <td>2153-09-04 07:15:00</td>\n",
       "      <td>2153-09-04 07:15:00</td>\n",
       "    </tr>\n",
       "    <tr>\n",
       "      <th>13</th>\n",
       "      <td>23</td>\n",
       "      <td>152223</td>\n",
       "      <td>2153-09-03 07:15:00</td>\n",
       "      <td>0</td>\n",
       "      <td>ELECTIVE</td>\n",
       "      <td>NaT</td>\n",
       "      <td>2153-09-03</td>\n",
       "      <td>ECG</td>\n",
       "      <td>Sinus rhythm\\nMarked left axis deviation\\nRBBB...</td>\n",
       "      <td>2153-09-04 07:15:00</td>\n",
       "      <td>2153-09-04 07:15:00</td>\n",
       "    </tr>\n",
       "    <tr>\n",
       "      <th>14</th>\n",
       "      <td>23</td>\n",
       "      <td>152223</td>\n",
       "      <td>2153-09-03 07:15:00</td>\n",
       "      <td>0</td>\n",
       "      <td>ELECTIVE</td>\n",
       "      <td>NaT</td>\n",
       "      <td>2153-09-03</td>\n",
       "      <td>ECG</td>\n",
       "      <td>Sinus arrhythmia\\nLeft axis deviation\\nIV cond...</td>\n",
       "      <td>2153-09-04 07:15:00</td>\n",
       "      <td>2153-09-04 07:15:00</td>\n",
       "    </tr>\n",
       "    <tr>\n",
       "      <th>15</th>\n",
       "      <td>23</td>\n",
       "      <td>152223</td>\n",
       "      <td>2153-09-03 07:15:00</td>\n",
       "      <td>0</td>\n",
       "      <td>ELECTIVE</td>\n",
       "      <td>NaT</td>\n",
       "      <td>2153-09-03</td>\n",
       "      <td>Radiology</td>\n",
       "      <td>[**2153-9-3**] 1:26 PM\\n CHEST (PORTABLE AP)  ...</td>\n",
       "      <td>2153-09-04 07:15:00</td>\n",
       "      <td>2153-09-04 07:15:00</td>\n",
       "    </tr>\n",
       "    <tr>\n",
       "      <th>16</th>\n",
       "      <td>23</td>\n",
       "      <td>152223</td>\n",
       "      <td>2153-09-03 07:15:00</td>\n",
       "      <td>0</td>\n",
       "      <td>ELECTIVE</td>\n",
       "      <td>NaT</td>\n",
       "      <td>2153-09-04</td>\n",
       "      <td>Radiology</td>\n",
       "      <td>[**2153-9-4**] 9:16 AM\\n CHEST (PORTABLE AP)  ...</td>\n",
       "      <td>2153-09-04 07:15:00</td>\n",
       "      <td>2153-09-04 07:15:00</td>\n",
       "    </tr>\n",
       "    <tr>\n",
       "      <th>17</th>\n",
       "      <td>23</td>\n",
       "      <td>152223</td>\n",
       "      <td>2153-09-03 07:15:00</td>\n",
       "      <td>0</td>\n",
       "      <td>ELECTIVE</td>\n",
       "      <td>NaT</td>\n",
       "      <td>2153-09-03</td>\n",
       "      <td>Nursing/other</td>\n",
       "      <td>csru update\\ncvs: aiming for sbp 90-110, neo t...</td>\n",
       "      <td>2153-09-04 07:15:00</td>\n",
       "      <td>2153-09-04 07:15:00</td>\n",
       "    </tr>\n",
       "    <tr>\n",
       "      <th>18</th>\n",
       "      <td>23</td>\n",
       "      <td>152223</td>\n",
       "      <td>2153-09-03 07:15:00</td>\n",
       "      <td>0</td>\n",
       "      <td>ELECTIVE</td>\n",
       "      <td>NaT</td>\n",
       "      <td>2153-09-03</td>\n",
       "      <td>Nursing/other</td>\n",
       "      <td>OP DAY CABG X 4\\n3 NOTED 5 BEAT NARROW COMPLEX...</td>\n",
       "      <td>2153-09-04 07:15:00</td>\n",
       "      <td>2153-09-04 07:15:00</td>\n",
       "    </tr>\n",
       "    <tr>\n",
       "      <th>19</th>\n",
       "      <td>23</td>\n",
       "      <td>152223</td>\n",
       "      <td>2153-09-03 07:15:00</td>\n",
       "      <td>0</td>\n",
       "      <td>ELECTIVE</td>\n",
       "      <td>NaT</td>\n",
       "      <td>2153-09-04</td>\n",
       "      <td>Nursing/other</td>\n",
       "      <td>CSRU NSG:\\n\\nNEURO:  A&amp;OX3, appropriate, speec...</td>\n",
       "      <td>2153-09-04 07:15:00</td>\n",
       "      <td>2153-09-04 07:15:00</td>\n",
       "    </tr>\n",
       "  </tbody>\n",
       "</table>\n",
       "</div>"
      ],
      "text/plain": [
       "    SUBJECT_ID  HADM_ID           ADMITTIME  HOSPITAL_EXPIRE_FLAG  \\\n",
       "0           22   165315 2196-04-09 12:26:00                     0   \n",
       "1           22   165315 2196-04-09 12:26:00                     0   \n",
       "2           22   165315 2196-04-09 12:26:00                     0   \n",
       "3           22   165315 2196-04-09 12:26:00                     0   \n",
       "4           22   165315 2196-04-09 12:26:00                     0   \n",
       "5           22   165315 2196-04-09 12:26:00                     0   \n",
       "6           22   165315 2196-04-09 12:26:00                     0   \n",
       "7           22   165315 2196-04-09 12:26:00                     0   \n",
       "8           22   165315 2196-04-09 12:26:00                     0   \n",
       "9           22   165315 2196-04-09 12:26:00                     0   \n",
       "10          23   152223 2153-09-03 07:15:00                     0   \n",
       "11          23   152223 2153-09-03 07:15:00                     0   \n",
       "12          23   152223 2153-09-03 07:15:00                     0   \n",
       "13          23   152223 2153-09-03 07:15:00                     0   \n",
       "14          23   152223 2153-09-03 07:15:00                     0   \n",
       "15          23   152223 2153-09-03 07:15:00                     0   \n",
       "16          23   152223 2153-09-03 07:15:00                     0   \n",
       "17          23   152223 2153-09-03 07:15:00                     0   \n",
       "18          23   152223 2153-09-03 07:15:00                     0   \n",
       "19          23   152223 2153-09-03 07:15:00                     0   \n",
       "\n",
       "   ADMISSION_TYPE DEATHTIME  CHARTDATE           CATEGORY  \\\n",
       "0       EMERGENCY       NaT 2196-04-10  Discharge summary   \n",
       "1       EMERGENCY       NaT 2196-04-09                ECG   \n",
       "2       EMERGENCY       NaT 2196-04-09                ECG   \n",
       "3       EMERGENCY       NaT 2196-04-10          Radiology   \n",
       "4       EMERGENCY       NaT 2196-04-09          Radiology   \n",
       "5       EMERGENCY       NaT 2196-04-09          Radiology   \n",
       "6       EMERGENCY       NaT 2196-04-09      Nursing/other   \n",
       "7       EMERGENCY       NaT 2196-04-09      Nursing/other   \n",
       "8       EMERGENCY       NaT 2196-04-10      Nursing/other   \n",
       "9       EMERGENCY       NaT 2196-04-10      Nursing/other   \n",
       "10       ELECTIVE       NaT 2153-09-08  Discharge summary   \n",
       "11       ELECTIVE       NaT 2153-09-04                ECG   \n",
       "12       ELECTIVE       NaT 2153-09-03                ECG   \n",
       "13       ELECTIVE       NaT 2153-09-03                ECG   \n",
       "14       ELECTIVE       NaT 2153-09-03                ECG   \n",
       "15       ELECTIVE       NaT 2153-09-03          Radiology   \n",
       "16       ELECTIVE       NaT 2153-09-04          Radiology   \n",
       "17       ELECTIVE       NaT 2153-09-03      Nursing/other   \n",
       "18       ELECTIVE       NaT 2153-09-03      Nursing/other   \n",
       "19       ELECTIVE       NaT 2153-09-04      Nursing/other   \n",
       "\n",
       "                                                 TEXT            ADMIT+24  \\\n",
       "0   Admission Date:  [**2196-4-9**]       Discharg... 2196-04-10 12:26:00   \n",
       "1   Normal sinus rhythm. Non-diagnostic repolariza... 2196-04-10 12:26:00   \n",
       "2   Normal sinus rhythm without diagnostic abnorma... 2196-04-10 12:26:00   \n",
       "3   [**2196-4-10**] 11:52 PM\\n CHEST (PORTABLE AP)... 2196-04-10 12:26:00   \n",
       "4   [**2196-4-9**] 10:19 AM\\n CT HEAD W/O CONTRAST... 2196-04-10 12:26:00   \n",
       "5   [**2196-4-9**] 10:40 AM\\n CHEST (PORTABLE AP) ... 2196-04-10 12:26:00   \n",
       "6   MICU/SICU NURSING ADMISSION NOTE\\n     Admitte... 2196-04-10 12:26:00   \n",
       "7   Resp Care\\npt received from eu s/p intubation ... 2196-04-10 12:26:00   \n",
       "8   S/MICU Nursing Progress Note\\nPt extubated at ... 2196-04-10 12:26:00   \n",
       "9   PT TRANSFER NOTE PLEASE REFER TO ADMIT NOTE [*... 2196-04-10 12:26:00   \n",
       "10  Admission Date:  [**2153-9-3**]              D... 2153-09-04 07:15:00   \n",
       "11  Sinus rhythm\\nMarked left axis deviation\\nRBBB... 2153-09-04 07:15:00   \n",
       "12  Sinus rhythm\\nSupraventricular extrasystoles\\n... 2153-09-04 07:15:00   \n",
       "13  Sinus rhythm\\nMarked left axis deviation\\nRBBB... 2153-09-04 07:15:00   \n",
       "14  Sinus arrhythmia\\nLeft axis deviation\\nIV cond... 2153-09-04 07:15:00   \n",
       "15  [**2153-9-3**] 1:26 PM\\n CHEST (PORTABLE AP)  ... 2153-09-04 07:15:00   \n",
       "16  [**2153-9-4**] 9:16 AM\\n CHEST (PORTABLE AP)  ... 2153-09-04 07:15:00   \n",
       "17  csru update\\ncvs: aiming for sbp 90-110, neo t... 2153-09-04 07:15:00   \n",
       "18  OP DAY CABG X 4\\n3 NOTED 5 BEAT NARROW COMPLEX... 2153-09-04 07:15:00   \n",
       "19  CSRU NSG:\\n\\nNEURO:  A&OX3, appropriate, speec... 2153-09-04 07:15:00   \n",
       "\n",
       "               ENDTIME  \n",
       "0  2196-04-10 12:26:00  \n",
       "1  2196-04-10 12:26:00  \n",
       "2  2196-04-10 12:26:00  \n",
       "3  2196-04-10 12:26:00  \n",
       "4  2196-04-10 12:26:00  \n",
       "5  2196-04-10 12:26:00  \n",
       "6  2196-04-10 12:26:00  \n",
       "7  2196-04-10 12:26:00  \n",
       "8  2196-04-10 12:26:00  \n",
       "9  2196-04-10 12:26:00  \n",
       "10 2153-09-04 07:15:00  \n",
       "11 2153-09-04 07:15:00  \n",
       "12 2153-09-04 07:15:00  \n",
       "13 2153-09-04 07:15:00  \n",
       "14 2153-09-04 07:15:00  \n",
       "15 2153-09-04 07:15:00  \n",
       "16 2153-09-04 07:15:00  \n",
       "17 2153-09-04 07:15:00  \n",
       "18 2153-09-04 07:15:00  \n",
       "19 2153-09-04 07:15:00  "
      ]
     },
     "execution_count": 15,
     "metadata": {},
     "output_type": "execute_result"
    }
   ],
   "source": [
    "df['ADMIT+24'] = df['ADMITTIME'] + pd.DateOffset(1)\n",
    "df['ENDTIME'] = df['ADMIT+24']\n",
    "\n",
    "df.ENDTIME = np.where(df['DEATHTIME'] < df['ENDTIME'], df['DEATHTIME'], df['ENDTIME'])\n",
    "df.head(20)"
   ]
  },
  {
   "cell_type": "code",
   "execution_count": 16,
   "metadata": {},
   "outputs": [],
   "source": [
    "#update dataframe to only include notes taken within 24 hours of admission\n",
    "\n",
    "df2 = df[df['CHARTDATE'] <= df['ENDTIME']]"
   ]
  },
  {
   "cell_type": "code",
   "execution_count": 17,
   "metadata": {},
   "outputs": [
    {
     "data": {
      "text/plain": [
       "(444799, 11)"
      ]
     },
     "execution_count": 17,
     "metadata": {},
     "output_type": "execute_result"
    }
   ],
   "source": [
    "df2.shape"
   ]
  },
  {
   "cell_type": "code",
   "execution_count": 18,
   "metadata": {},
   "outputs": [],
   "source": [
    "#Saving the merged dataframe.\n",
    "df2.to_csv('df2.csv', index=False)"
   ]
  },
  {
   "cell_type": "markdown",
   "metadata": {},
   "source": [
    "#### If restarting code, start with line below to begin with merged dataframe"
   ]
  },
  {
   "cell_type": "code",
   "execution_count": 19,
   "metadata": {},
   "outputs": [],
   "source": [
    "import pandas as pd\n",
    "import numpy\n",
    "df2 = pd.read_csv('df2.csv')"
   ]
  },
  {
   "cell_type": "code",
   "execution_count": 20,
   "metadata": {},
   "outputs": [
    {
     "data": {
      "text/plain": [
       "(444528, 11)"
      ]
     },
     "execution_count": 20,
     "metadata": {},
     "output_type": "execute_result"
    }
   ],
   "source": [
    "#find out which samples died before admission and remove them from the dataframe. Save as new dataframe.\n",
    "df3 = df2.loc[df2['ENDTIME'] > df2['ADMITTIME']]\n",
    "#businesses = businesses.loc[businesses['categories'] == 'Restaurants']\n",
    "df3.shape\n"
   ]
  },
  {
   "cell_type": "code",
   "execution_count": 21,
   "metadata": {
    "scrolled": false
   },
   "outputs": [
    {
     "name": "stdout",
     "output_type": "stream",
     "text": [
      "<class 'pandas.core.frame.DataFrame'>\n",
      "Int64Index: 444528 entries, 0 to 444798\n",
      "Data columns (total 11 columns):\n",
      " #   Column                Non-Null Count   Dtype \n",
      "---  ------                --------------   ----- \n",
      " 0   SUBJECT_ID            444528 non-null  int64 \n",
      " 1   HADM_ID               444528 non-null  int64 \n",
      " 2   ADMITTIME             444528 non-null  object\n",
      " 3   HOSPITAL_EXPIRE_FLAG  444528 non-null  int64 \n",
      " 4   ADMISSION_TYPE        444528 non-null  object\n",
      " 5   DEATHTIME             49260 non-null   object\n",
      " 6   CHARTDATE             444528 non-null  object\n",
      " 7   CATEGORY              444528 non-null  object\n",
      " 8   TEXT                  444528 non-null  object\n",
      " 9   ADMIT+24              444528 non-null  object\n",
      " 10  ENDTIME               444528 non-null  object\n",
      "dtypes: int64(3), object(8)\n",
      "memory usage: 40.7+ MB\n"
     ]
    }
   ],
   "source": [
    "#confirming data types and that there are no null values\n",
    "df3.info()"
   ]
  },
  {
   "cell_type": "code",
   "execution_count": 22,
   "metadata": {},
   "outputs": [],
   "source": [
    "#reordering the columns\n",
    "df3 = df3[['HADM_ID', 'SUBJECT_ID', 'ADMITTIME', 'HOSPITAL_EXPIRE_FLAG', 'CHARTDATE', 'CATEGORY', 'TEXT', 'ENDTIME']]"
   ]
  },
  {
   "cell_type": "code",
   "execution_count": 23,
   "metadata": {
    "scrolled": true
   },
   "outputs": [],
   "source": [
    "#setting the index to the hospital admission ID\n",
    "#df3.set_index('HADM_ID')"
   ]
  },
  {
   "cell_type": "code",
   "execution_count": 24,
   "metadata": {},
   "outputs": [],
   "source": [
    "#group the text samples by HADM_ID\n",
    "\n",
    "#df4 = df3.groupby('HADM_ID', as_index=True).agg(' '.join)\n",
    "#df4.shape"
   ]
  },
  {
   "cell_type": "code",
   "execution_count": 25,
   "metadata": {
    "scrolled": true
   },
   "outputs": [
    {
     "data": {
      "text/plain": [
       "'\\n***Testing code to group samples by hospital admission ID***\\n\\nimport pandas as pd\\n\\ndf = pd.DataFrame()\\ndf[\\'HADM_ID\\'] = [10, 11, 11, 12, 13]\\ndf[\\'SUBJECT_ID\\'] = [0, 1, 1, 2, 2]\\ndf[\\'ADMITTIME\\'] = [\\'2010-05-08 12:26:00\\', \\'2011-10-05 01:03:00\\', \\'2011-10-05 01:03:00\\', \\'2012-03-08 15:07:00\\', \\'2012-06-12 04:01:00\\']\\ndf[\\'HOSPITAL_EXPIRE_FLAG\\'] = [0, 1, 1, 0, 1]\\ndf[\\'ADMISSION_TYPE\\'] = [\\'EMERGENCY\\', \\'EMERGENCY\\', \\'EMERGENCY\\', \\'EMERGENCY\\', \\'EMERGENCY\\']\\ndf[\\'DEATHTIME\\'] =  [\\'NaT\\', \\'2011-10-11 12:35:00\\', \\'2011-10-11 12:35:00\\', \\'NaT\\', \\'2012-06-16 12:10:00\\']\\ndf[\\'CATEGORY\\'] = [\\'Discharge summary\\', \\'ECG\\', \\'Radiology\\', \\'ECG\\', \\'Respiratory\\']\\ndf[\\'TEXT\\'] = [\\'text about discharge\\', \\'text about ECG\\', \\'text about Radiology\\', \\'text about ECG\\', \\'text about Respiratory\\']\\ndf[\\'ENDCOLLECTION\\'] = [\\'2010-05-09 12:26:00\\', \\'2011-10-6 01:03:00\\', \\'2011-10-06 1:3:0\\', \\'2012-03-09 15:07:00\\', \\'2012-6-13 04:01:00\\']\\ndf[[\\'ADMITTIME\\',\\'DEATHTIME\\',\\'ENDCOLLECTION\\']] = df[[\\'ADMITTIME\\',\\'DEATHTIME\\', \\'ENDCOLLECTION\\']].apply(pd.to_datetime, format=\\'%Y-%m-%d %H:%M:%S.%f\\')\\n\\nresult = pd.DataFrame()\\n\\nfor col in df.columns:\\n    result[col] = df.groupby(\\'HADM_ID\\')[col].apply(lambda x: set(x))\\n    \\n#list_of_strings = [str(s) for s in a_set]\\n#joined_string = \" \".join(list_of_strings)\\n#print(joined_string)\\n\\nresult2 = pd.DataFrame()\\nfor col in result.columns:\\n    result2[col] = result[col].apply(lambda x: str(x))\\nresult2.info()\\nresult2'"
      ]
     },
     "execution_count": 25,
     "metadata": {},
     "output_type": "execute_result"
    }
   ],
   "source": [
    "'''\n",
    "***Testing code to group samples by hospital admission ID***\n",
    "\n",
    "import pandas as pd\n",
    "\n",
    "df = pd.DataFrame()\n",
    "df['HADM_ID'] = [10, 11, 11, 12, 13]\n",
    "df['SUBJECT_ID'] = [0, 1, 1, 2, 2]\n",
    "df['ADMITTIME'] = ['2010-05-08 12:26:00', '2011-10-05 01:03:00', '2011-10-05 01:03:00', '2012-03-08 15:07:00', '2012-06-12 04:01:00']\n",
    "df['HOSPITAL_EXPIRE_FLAG'] = [0, 1, 1, 0, 1]\n",
    "df['ADMISSION_TYPE'] = ['EMERGENCY', 'EMERGENCY', 'EMERGENCY', 'EMERGENCY', 'EMERGENCY']\n",
    "df['DEATHTIME'] =  ['NaT', '2011-10-11 12:35:00', '2011-10-11 12:35:00', 'NaT', '2012-06-16 12:10:00']\n",
    "df['CATEGORY'] = ['Discharge summary', 'ECG', 'Radiology', 'ECG', 'Respiratory']\n",
    "df['TEXT'] = ['text about discharge', 'text about ECG', 'text about Radiology', 'text about ECG', 'text about Respiratory']\n",
    "df['ENDCOLLECTION'] = ['2010-05-09 12:26:00', '2011-10-6 01:03:00', '2011-10-06 1:3:0', '2012-03-09 15:07:00', '2012-6-13 04:01:00']\n",
    "df[['ADMITTIME','DEATHTIME','ENDCOLLECTION']] = df[['ADMITTIME','DEATHTIME', 'ENDCOLLECTION']].apply(pd.to_datetime, format='%Y-%m-%d %H:%M:%S.%f')\n",
    "\n",
    "result = pd.DataFrame()\n",
    "\n",
    "for col in df.columns:\n",
    "    result[col] = df.groupby('HADM_ID')[col].apply(lambda x: set(x))\n",
    "    \n",
    "#list_of_strings = [str(s) for s in a_set]\n",
    "#joined_string = \" \".join(list_of_strings)\n",
    "#print(joined_string)\n",
    "\n",
    "result2 = pd.DataFrame()\n",
    "for col in result.columns:\n",
    "    result2[col] = result[col].apply(lambda x: str(x))\n",
    "result2.info()\n",
    "result2'''"
   ]
  },
  {
   "cell_type": "code",
   "execution_count": 26,
   "metadata": {},
   "outputs": [
    {
     "data": {
      "text/plain": [
       "\"\\ncontinuation of previous cell, testing out code to group by admission ID\\nresult2[['ADMITTIME','DEATHTIME','ENDCOLLECTION']] = result2[['ADMITTIME','DEATHTIME', 'ENDCOLLECTION']].apply(pd.to_datetime, format='%Y-%m-%d %H:%M:%S.%f')\\nresult2[['HADM_ID', 'SUBJECT_ID', 'HOSPITAL_EXPIRE_FLAG']] = result2[['HADM_ID', 'SUBJECT_ID', 'HOSPITAL_EXPIRE_FLAG']].astype(int)\\nresult2.info()\\nresult2\""
      ]
     },
     "execution_count": 26,
     "metadata": {},
     "output_type": "execute_result"
    }
   ],
   "source": [
    "'''\n",
    "continuation of previous cell, testing out code to group by admission ID\n",
    "result2[['ADMITTIME','DEATHTIME','ENDCOLLECTION']] = result2[['ADMITTIME','DEATHTIME', 'ENDCOLLECTION']].apply(pd.to_datetime, format='%Y-%m-%d %H:%M:%S.%f')\n",
    "result2[['HADM_ID', 'SUBJECT_ID', 'HOSPITAL_EXPIRE_FLAG']] = result2[['HADM_ID', 'SUBJECT_ID', 'HOSPITAL_EXPIRE_FLAG']].astype(int)\n",
    "result2.info()\n",
    "result2'''\n"
   ]
  },
  {
   "cell_type": "code",
   "execution_count": 27,
   "metadata": {},
   "outputs": [
    {
     "data": {
      "text/plain": [
       "Radiology            131829\n",
       "Nursing/other        121577\n",
       "ECG                   70446\n",
       "Nursing               56246\n",
       "Physician             36586\n",
       "Echo                  14640\n",
       "Respiratory            5121\n",
       "Discharge summary      2610\n",
       "General                2525\n",
       "Nutrition              1482\n",
       "Social Work             650\n",
       "Rehab Services          496\n",
       "Case Management         265\n",
       "Consult                  44\n",
       "Pharmacy                 11\n",
       "Name: CATEGORY, dtype: int64"
      ]
     },
     "execution_count": 27,
     "metadata": {},
     "output_type": "execute_result"
    }
   ],
   "source": [
    "# Having a look at the quantities of different categories of caregiver notes from the first 24 hours of admission. \n",
    "#For now include all categories. This may be somewhere that can be adjusted (i.e., include only notes from specific categories)\n",
    "# based on the initial results of the machine learning model. Another option to consider is to combine all the text for each admission\n",
    "# into one text row.\n",
    "df3.CATEGORY.value_counts()"
   ]
  },
  {
   "cell_type": "markdown",
   "metadata": {},
   "source": [
    "The last step before beginning data analysis is to split the data into training and test sets."
   ]
  },
  {
   "cell_type": "code",
   "execution_count": 28,
   "metadata": {},
   "outputs": [],
   "source": [
    "# Preparing data further for ML model fitting, separating target variable from features\n",
    "\n",
    "X = df3.drop(['HOSPITAL_EXPIRE_FLAG'], axis='columns') #feature columns\n",
    "y = df3.HOSPITAL_EXPIRE_FLAG #target variable\n",
    "\n",
    "# Split the data into train and test sets\n",
    "from sklearn.model_selection import train_test_split\n",
    "X_train, X_test, y_train, y_test = train_test_split(X,y, test_size = 0.3, shuffle=True, random_state=42)\n"
   ]
  },
  {
   "cell_type": "code",
   "execution_count": 29,
   "metadata": {
    "scrolled": true
   },
   "outputs": [
    {
     "data": {
      "text/plain": [
       "0    395268\n",
       "1     49260\n",
       "Name: HOSPITAL_EXPIRE_FLAG, dtype: int64"
      ]
     },
     "execution_count": 29,
     "metadata": {},
     "output_type": "execute_result"
    }
   ],
   "source": [
    "#Confirming target variable counts\n",
    "y.value_counts()"
   ]
  },
  {
   "cell_type": "markdown",
   "metadata": {},
   "source": [
    "49260 out of 444528 patients expired while in the ICU."
   ]
  },
  {
   "cell_type": "code",
   "execution_count": 30,
   "metadata": {},
   "outputs": [],
   "source": [
    "# shuffle dataset in order to randomize all of the samples\n",
    "df4 = df3.sample(n = len(df3), random_state = 42)\n",
    "df4 = df4.reset_index(drop = True) #resetting index for the newly shuffled dataset\n",
    "\n",
    "df_valid_test=df4.sample(frac=0.30,random_state=42) # Save 30% of the data as validation data.\n",
    "df_test = df_valid_test.sample(frac = 0.5, random_state = 42) #Of the validation data, 50% is set aside for testing \n",
    "df_valid = df_valid_test.drop(df_test.index) #dropping the index for the validation data\n",
    "\n",
    "df_train_all=df4.drop(df_valid_test.index) # remove the rows used for validation; We are left with the rest of the data which will be used for training\n"
   ]
  },
  {
   "cell_type": "code",
   "execution_count": 31,
   "metadata": {},
   "outputs": [
    {
     "data": {
      "text/html": [
       "<div>\n",
       "<style scoped>\n",
       "    .dataframe tbody tr th:only-of-type {\n",
       "        vertical-align: middle;\n",
       "    }\n",
       "\n",
       "    .dataframe tbody tr th {\n",
       "        vertical-align: top;\n",
       "    }\n",
       "\n",
       "    .dataframe thead th {\n",
       "        text-align: right;\n",
       "    }\n",
       "</style>\n",
       "<table border=\"1\" class=\"dataframe\">\n",
       "  <thead>\n",
       "    <tr style=\"text-align: right;\">\n",
       "      <th></th>\n",
       "      <th>HADM_ID</th>\n",
       "      <th>SUBJECT_ID</th>\n",
       "      <th>ADMITTIME</th>\n",
       "      <th>HOSPITAL_EXPIRE_FLAG</th>\n",
       "      <th>CHARTDATE</th>\n",
       "      <th>CATEGORY</th>\n",
       "      <th>TEXT</th>\n",
       "      <th>ENDTIME</th>\n",
       "    </tr>\n",
       "  </thead>\n",
       "  <tbody>\n",
       "    <tr>\n",
       "      <th>0</th>\n",
       "      <td>137798</td>\n",
       "      <td>902</td>\n",
       "      <td>2165-04-18 17:16:00</td>\n",
       "      <td>0</td>\n",
       "      <td>2165-04-19 00:00:00</td>\n",
       "      <td>Echo</td>\n",
       "      <td>PATIENT/TEST INFORMATION:\\nIndication: Left ve...</td>\n",
       "      <td>2165-04-19 17:16:00</td>\n",
       "    </tr>\n",
       "    <tr>\n",
       "      <th>1</th>\n",
       "      <td>143199</td>\n",
       "      <td>2096</td>\n",
       "      <td>2151-10-22 14:49:00</td>\n",
       "      <td>0</td>\n",
       "      <td>2151-10-22 00:00:00</td>\n",
       "      <td>Radiology</td>\n",
       "      <td>[**2151-10-22**] 11:46 PM\\n LOWER EXTREMITY FL...</td>\n",
       "      <td>2151-10-23 14:49:00</td>\n",
       "    </tr>\n",
       "    <tr>\n",
       "      <th>3</th>\n",
       "      <td>152801</td>\n",
       "      <td>92841</td>\n",
       "      <td>2164-09-19 16:31:00</td>\n",
       "      <td>0</td>\n",
       "      <td>2164-09-19 00:00:00</td>\n",
       "      <td>Radiology</td>\n",
       "      <td>[**2164-9-19**] 6:17 PM\\n LIVER OR GALLBLADDER...</td>\n",
       "      <td>2164-09-20 16:31:00</td>\n",
       "    </tr>\n",
       "    <tr>\n",
       "      <th>4</th>\n",
       "      <td>105511</td>\n",
       "      <td>67910</td>\n",
       "      <td>2106-11-04 10:34:00</td>\n",
       "      <td>0</td>\n",
       "      <td>2106-11-05 00:00:00</td>\n",
       "      <td>Nursing</td>\n",
       "      <td>Events: 0800 Hct 23.4-(from 25)- transfused ad...</td>\n",
       "      <td>2106-11-05 10:34:00</td>\n",
       "    </tr>\n",
       "    <tr>\n",
       "      <th>5</th>\n",
       "      <td>194942</td>\n",
       "      <td>3559</td>\n",
       "      <td>2161-06-14 14:44:00</td>\n",
       "      <td>0</td>\n",
       "      <td>2161-06-14 00:00:00</td>\n",
       "      <td>Radiology</td>\n",
       "      <td>[**2161-6-14**] 6:42 PM\\n CHEST (PRE-OP PA &amp; L...</td>\n",
       "      <td>2161-06-15 14:44:00</td>\n",
       "    </tr>\n",
       "  </tbody>\n",
       "</table>\n",
       "</div>"
      ],
      "text/plain": [
       "   HADM_ID  SUBJECT_ID            ADMITTIME  HOSPITAL_EXPIRE_FLAG  \\\n",
       "0   137798         902  2165-04-18 17:16:00                     0   \n",
       "1   143199        2096  2151-10-22 14:49:00                     0   \n",
       "3   152801       92841  2164-09-19 16:31:00                     0   \n",
       "4   105511       67910  2106-11-04 10:34:00                     0   \n",
       "5   194942        3559  2161-06-14 14:44:00                     0   \n",
       "\n",
       "             CHARTDATE   CATEGORY  \\\n",
       "0  2165-04-19 00:00:00       Echo   \n",
       "1  2151-10-22 00:00:00  Radiology   \n",
       "3  2164-09-19 00:00:00  Radiology   \n",
       "4  2106-11-05 00:00:00    Nursing   \n",
       "5  2161-06-14 00:00:00  Radiology   \n",
       "\n",
       "                                                TEXT              ENDTIME  \n",
       "0  PATIENT/TEST INFORMATION:\\nIndication: Left ve...  2165-04-19 17:16:00  \n",
       "1  [**2151-10-22**] 11:46 PM\\n LOWER EXTREMITY FL...  2151-10-23 14:49:00  \n",
       "3  [**2164-9-19**] 6:17 PM\\n LIVER OR GALLBLADDER...  2164-09-20 16:31:00  \n",
       "4  Events: 0800 Hct 23.4-(from 25)- transfused ad...  2106-11-05 10:34:00  \n",
       "5  [**2161-6-14**] 6:42 PM\\n CHEST (PRE-OP PA & L...  2161-06-15 14:44:00  "
      ]
     },
     "execution_count": 31,
     "metadata": {},
     "output_type": "execute_result"
    }
   ],
   "source": [
    "df_train_all.head()"
   ]
  },
  {
   "cell_type": "markdown",
   "metadata": {},
   "source": [
    "Now, working with the training data, split the data into 2 categories based on mortality."
   ]
  },
  {
   "cell_type": "code",
   "execution_count": 32,
   "metadata": {},
   "outputs": [
    {
     "name": "stdout",
     "output_type": "stream",
     "text": [
      "There are  34597 positive samples and  276573 negative samples.\n",
      "Percent positive samples:  11.12 %\n"
     ]
    }
   ],
   "source": [
    "# split the training data into positive (death) and negative (no death)\n",
    "positive = df_train_all.HOSPITAL_EXPIRE_FLAG == 1\n",
    "df_train_pos = df_train_all.loc[positive]\n",
    "df_train_neg = df_train_all.loc[~positive]\n",
    "print('There are ', len(df_train_pos), 'positive samples and ', len(df_train_neg), 'negative samples.')\n",
    "print('Percent positive samples: ', round(len(df_train_pos)*100/len(df_train_all),2),'%')"
   ]
  },
  {
   "cell_type": "markdown",
   "metadata": {},
   "source": [
    "There is an imbalance in positive vs negative cases, which would be expected in this dataset. Therefore balancing the data is needed, so that the machine learning model does not always predict negative (no death). Sub-sampling the negative group is one method of doing this."
   ]
  },
  {
   "cell_type": "code",
   "execution_count": 33,
   "metadata": {},
   "outputs": [],
   "source": [
    "#sub-sample negatives so there are an equal number of positive and negative samples.\n",
    "df_train_neg = df_train_neg.sample(n=len(df_train_pos), random_state=42)\n",
    "\n",
    "# merge the positive and negative samples into the final training set\n",
    "df_train_final = pd.concat([df_train_pos, df_train_neg],axis = 0)\n",
    "\n",
    "# shuffle the order of training samples \n",
    "df_train_final = df_train_final.sample(n = len(df_train_final), random_state = 42).reset_index(drop = True)"
   ]
  },
  {
   "cell_type": "markdown",
   "metadata": {},
   "source": [
    "### Step 2: Preprocess text data using Bag of Words model.\n",
    "#### What is Bag of Words?\n",
    "<br>\n",
    "Bag of Words is a method for extracting features from the text for use in machine learning algorithms. Basically, it breaks up a text into individual words, then counts how often each word occurs.\n"
   ]
  },
  {
   "cell_type": "code",
   "execution_count": 34,
   "metadata": {
    "scrolled": true
   },
   "outputs": [
    {
     "data": {
      "text/plain": [
       "'PATIENT/TEST INFORMATION:\\nIndication: Left ventricular function. S/p VF arrest\\nHeight: (in) 63\\nWeight (lb): 200\\nBSA (m2): 1.94 m2\\nBP (mm Hg): 100/58\\nHR (bpm): 73\\nStatus: Inpatient\\nDate/Time: [**2165-4-19**] at 09:38\\nTest: Portable TTE (Complete)\\nDoppler: Full doppler and color doppler\\nContrast: Definity\\nTechnical Quality: Suboptimal\\n\\n\\nINTERPRETATION:\\n\\nFindings:\\n\\nLEFT ATRIUM: Mild LA enlargement.\\n\\nRIGHT ATRIUM/INTERATRIAL SEPTUM: Normal RA size.\\n\\nLEFT VENTRICLE: Normal LV cavity size. Normal regional LV systolic function.\\nOverall normal LVEF (>55%).\\n\\nRIGHT VENTRICLE: Normal RV chamber size.\\n\\nAORTA: Mildly dilated aortic root.\\n\\nAORTIC VALVE: Normal aortic valve leaflets (3). No AS. No AR.\\n\\nMITRAL VALVE: Normal mitral valve leaflets with trivial MR.\\n\\nPERICARDIUM: No pericardial effusion.\\n\\nGENERAL COMMENTS: Suboptimal image quality - poor echo windows.\\n\\nConclusions:\\n1. The left atrium is mildly dilated.\\n2. The left ventricular cavity size is normal. Regional left ventricular wall\\nmotion is normal. Overall left ventricular systolic function is normal\\n(LVEF>55%).\\n3. The aortic root is mildly dilated.\\n\\n\\n'"
      ]
     },
     "execution_count": 34,
     "metadata": {},
     "output_type": "execute_result"
    }
   ],
   "source": [
    "#viewing an example row of the text column\n",
    "df4.TEXT[0]"
   ]
  },
  {
   "cell_type": "markdown",
   "metadata": {},
   "source": [
    "The text above shows that it needs some pre-processing (mainly removing the new line command ('\\n'). One way to do this is to create a function to preprocess the text. This way the original data won't be modified."
   ]
  },
  {
   "cell_type": "code",
   "execution_count": 35,
   "metadata": {},
   "outputs": [],
   "source": [
    "def preprocess_text(df4):\n",
    "    # This function preprocesses the text by replacing new lines ('\\n')  with a space.\n",
    "    df4.TEXT = df4.TEXT.str.replace('\\n',' ')\n",
    "    return df4\n",
    "# preprocess the text to deal with known issue\n",
    "df_train_final = preprocess_text(df_train_final)\n",
    "df_valid = preprocess_text(df_valid)\n",
    "df_test = preprocess_text(df_test)"
   ]
  },
  {
   "cell_type": "code",
   "execution_count": 36,
   "metadata": {},
   "outputs": [
    {
     "data": {
      "text/plain": [
       "'[**2114-6-14**] 8:03 PM  CHEST (PORTABLE AP)                                             Clip # [**Clip Number (Radiology) 85031**]  Reason: eval for inflitrate  ______________________________________________________________________________  [**Hospital 2**] MEDICAL CONDITION:   58 year old man with dyspnea, h/o COPD  REASON FOR THIS EXAMINATION:   eval for inflitrate  ______________________________________________________________________________                                  FINAL REPORT  HISTORY:  58-year-old man with dyspnea.   PORTABLE AP CHEST RADIOGRAPH   COMPARISON:  Chest radiograph from [**2114-2-26**].   FINDINGS:  There is stable scarring atelectasis at bilateral lung bases.  No  pulmonary nodules or masses are present.  The cardiac silhouette, hilar, and  mediastinal contours appear normal.   IMPRESSION:  No acute cardiopulmonary process.   '"
      ]
     },
     "execution_count": 36,
     "metadata": {},
     "output_type": "execute_result"
    }
   ],
   "source": [
    "df_train_final.TEXT[0]"
   ]
  },
  {
   "cell_type": "markdown",
   "metadata": {},
   "source": [
    "Now import Python's Natural Language Toolkit (NLTK) and other necessary modules"
   ]
  },
  {
   "cell_type": "code",
   "execution_count": 37,
   "metadata": {},
   "outputs": [],
   "source": [
    "import nltk\n",
    "from nltk import word_tokenize\n",
    "import string # String module provides tools to manipulate strings\n",
    "from nltk.corpus import stopwords"
   ]
  },
  {
   "cell_type": "markdown",
   "metadata": {},
   "source": [
    "Next create a function to separate the text data into tokens (this is called tokenization). Tokens created here will be used to make a vocabulary (set of unique tokens) to be used as a feature for the model. All tokens or top K tokens can be used "
   ]
  },
  {
   "cell_type": "code",
   "execution_count": 38,
   "metadata": {},
   "outputs": [],
   "source": [
    "def text_tokenizer(text): # create a function that will tokenize the text, and also remove punctuation and numbers\n",
    "    \n",
    "    punc_list = string.punctuation #create list of punctuation marks\n",
    "    number_list=string.digits #create list of numbers\n",
    "    num_punc_list = number_list + punc_list #combine the lists together\n",
    "    t = str.maketrans(dict.fromkeys(num_punc_list, \" \")) # replace punctuation and numbers with spaces\n",
    "    text = text.lower().translate(t) #lowercase all words\n",
    "    tokens = word_tokenize(text) #tokenize the text \n",
    "    return tokens"
   ]
  },
  {
   "cell_type": "markdown",
   "metadata": {},
   "source": [
    "Now that tokens can be created from the text, CountVectorizer will turn these tokens into number features to be used in the machine learning model. But first a list of stopwords will be created so that the machine can ignore these words when processing the tokens."
   ]
  },
  {
   "cell_type": "code",
   "execution_count": 39,
   "metadata": {
    "scrolled": true
   },
   "outputs": [
    {
     "name": "stderr",
     "output_type": "stream",
     "text": [
      "[nltk_data] Downloading package stopwords to\n",
      "[nltk_data]     C:\\Users\\caras\\AppData\\Roaming\\nltk_data...\n",
      "[nltk_data]   Package stopwords is already up-to-date!\n"
     ]
    }
   ],
   "source": [
    "nltk.download('stopwords')\n",
    "\n",
    "stopwords = set(stopwords.words('english')) \n"
   ]
  },
  {
   "cell_type": "code",
   "execution_count": 40,
   "metadata": {
    "scrolled": true
   },
   "outputs": [
    {
     "name": "stderr",
     "output_type": "stream",
     "text": [
      "[nltk_data] Downloading package punkt to\n",
      "[nltk_data]     C:\\Users\\caras\\AppData\\Roaming\\nltk_data...\n",
      "[nltk_data]   Package punkt is already up-to-date!\n",
      "C:\\Users\\caras\\anaconda3\\lib\\site-packages\\sklearn\\feature_extraction\\text.py:484: UserWarning: The parameter 'token_pattern' will not be used since 'tokenizer' is not None'\n",
      "  warnings.warn(\"The parameter 'token_pattern' will not be used\"\n"
     ]
    },
    {
     "data": {
      "text/plain": [
       "CountVectorizer(max_features=3000,\n",
       "                stop_words={'a', 'about', 'above', 'after', 'again', 'against',\n",
       "                            'ain', 'all', 'am', 'an', 'and', 'any', 'are',\n",
       "                            'aren', \"aren't\", 'as', 'at', 'be', 'because',\n",
       "                            'been', 'before', 'being', 'below', 'between',\n",
       "                            'both', 'but', 'by', 'can', 'couldn', \"couldn't\", ...},\n",
       "                tokenizer=<function text_tokenizer at 0x000001DF74692AF0>)"
      ]
     },
     "execution_count": 40,
     "metadata": {},
     "output_type": "execute_result"
    }
   ],
   "source": [
    "import nltk\n",
    "nltk.download('punkt')\n",
    "# fit our vectorizer. \n",
    "from sklearn.feature_extraction.text import CountVectorizer\n",
    "vect = CountVectorizer(max_features = 3000, tokenizer = text_tokenizer, stop_words = stopwords)\n",
    "vect.fit(df_train_final.TEXT.values)\n"
   ]
  },
  {
   "cell_type": "code",
   "execution_count": 41,
   "metadata": {},
   "outputs": [
    {
     "name": "stdout",
     "output_type": "stream",
     "text": [
      "{'pm': 2018, 'chest': 431, 'portable': 2038, 'ap': 137, 'clip': 463, 'number': 1806, 'radiology': 2182, 'reason': 2199, 'eval': 924, 'hospital': 1222, 'medical': 1615, 'condition': 538, 'year': 2988, 'old': 1836, 'man': 1573, 'dyspnea': 834, 'h': 1161, 'copd': 585, 'examination': 942, 'final': 1028, 'report': 2267, 'history': 1214, 'radiograph': 2179, 'comparison': 516, 'findings': 1030, 'stable': 2526, 'scarring': 2381, 'atelectasis': 198, 'bilateral': 281, 'lung': 1542, 'bases': 253, 'pulmonary': 2147, 'nodules': 1775, 'masses': 1586, 'present': 2079, 'cardiac': 374, 'silhouette': 2456, 'hilar': 1211, 'mediastinal': 1613, 'contours': 572, 'appear': 145, 'normal': 1784, 'impression': 1295, 'acute': 32, 'cardiopulmonary': 380, 'process': 2105, 'sinus': 2463, 'rhythm': 2319, 'atrial': 205, 'premature': 2072, 'beats': 259, 'consider': 549, 'left': 1465, 'abnormality': 11, 'leftward': 1466, 'axis': 234, 'intraventricular': 1383, 'conduction': 539, 'delay': 679, 'bundle': 350, 'branch': 325, 'block': 298, 'type': 2809, 'since': 2461, 'previous': 2093, 'tracing': 2759, 'qrs': 2163, 'decreased': 664, 'clinical': 461, 'correlation': 595, 'suggested': 2596, 'patient': 1938, 'test': 2685, 'information': 1338, 'indication': 1318, 'aortic': 136, 'valve': 2860, 'disease': 759, 'congestive': 546, 'heart': 1177, 'failure': 978, 'endocarditis': 885, 'hypertension': 1250, 'ventricular': 2887, 'function': 1086, 'bacteremia': 240, 'height': 1179, 'weight': 2944, 'lb': 1455, 'bsa': 348, 'bp': 317, 'mm': 1661, 'hg': 1206, 'hr': 1230, 'bpm': 319, 'status': 2542, 'inpatient': 1352, 'date': 650, 'time': 2716, 'tee': 2667, 'complete': 523, 'doppler': 790, 'pulse': 2149, 'color': 500, 'flow': 1046, 'contrast': 574, 'none': 1779, 'technical': 2665, 'quality': 2167, 'adequate': 41, 'interpretation': 1370, 'intubated': 1384, 'prior': 2096, 'sedated': 2396, 'continuous': 570, 'intravenous': 1382, 'infusion': 1341, 'midazolam': 1645, 'atrium': 206, 'moderately': 1669, 'dilated': 743, 'right': 2322, 'interatrial': 1364, 'septum': 2417, 'catheter': 392, 'pacing': 1895, 'wire': 2960, 'seen': 2400, 'ventricle': 2885, 'septal': 2415, 'defect': 668, 'wall': 2924, 'thicknesses': 2697, 'cavity': 399, 'severe': 2427, 'regional': 2238, 'systolic': 2642, 'dysfunction': 833, 'overall': 1876, 'severely': 2428, 'depressed': 695, 'lv': 1544, 'motion': 1684, 'following': 1061, 'resting': 2298, 'abnormalities': 10, 'basal': 249, 'anterior': 122, 'akinetic': 75, 'mid': 1644, 'anteroseptal': 125, 'inferoseptal': 1331, 'inferior': 1328, 'inferolateral': 1330, 'anterolateral': 124, 'apex': 138, 'lateral': 1451, 'thickness': 2696, 'moderate': 1668, 'global': 1125, 'free': 1075, 'hypokinesis': 1259, 'aorta': 135, 'atheroma': 200, 'ascending': 180, 'arch': 160, 'simple': 2458, 'descending': 699, 'thoracic': 2702, 'three': 2705, 'leaflets': 1462, 'thickened': 2694, 'stenosis': 2546, 'mild': 1650, 'regurgitation': 2241, 'mitral': 1658, 'mildly': 1651, 'prolapse': 2115, 'mass': 1585, 'vegetation': 2872, 'tricuspid': 2783, 'detected': 705, 'artery': 176, 'pressure': 2089, 'could': 600, 'determined': 707, 'pulmonic': 2148, 'structurally': 2573, 'physiologic': 1993, 'pericardium': 1969, 'pericardial': 1968, 'effusion': 857, 'general': 1109, 'comments': 510, 'echocardiogram': 845, 'performed': 1965, 'location': 1521, 'listed': 1505, 'compliance': 527, 'monitored': 1675, 'nurse': 1810, 'first': 1035, 'name': 1722, 'titles': 2725, 'last': 1446, 'throughout': 2710, 'procedure': 2103, 'medications': 1618, 'see': 2398, 'section': 2395, 'local': 1519, 'anesthesia': 110, 'provided': 2131, 'lidocaine': 1488, 'related': 2243, 'complications': 529, 'appears': 149, 'cardiology': 376, 'fellow': 1003, 'involved': 1387, 'care': 383, 'notified': 1792, 'telephone': 2671, 'pleural': 2014, 'conclusions': 537, 'include': 1305, 'akinesis': 74, 'segments': 2403, 'best': 270, 'preserved': 2085, 'calcified': 358, 'chief': 433, 'complaint': 521, 'mvc': 1713, 'hpi': 1229, 'f': 972, 'p': 1889, 'high': 1209, 'found': 1070, 'feet': 1001, 'car': 372, 'top': 2744, 'prolonged': 2116, 'loc': 1518, 'ed': 849, 'sustained': 2619, 'b': 236, 'l': 1426, 'hip': 1212, 'posterior': 2051, 'fractures': 1074, 'r': 2175, 'knee': 1423, 'lac': 1434, 'etoh': 921, 'level': 1478, 'admission': 48, 'ct': 624, 'showed': 2441, 'pneumothorax': 2028, 'pt': 2139, 'positive': 2046, 'ventilation': 2882, 'tube': 2796, 'placed': 2003, 'ortho': 1866, 'consulted': 559, 'reduced': 2224, 'admitted': 51, 'icu': 1276, 'injuries': 1349, 'rib': 2320, 'ptx': 2142, 'trauma': 2775, 'surgery': 2612, 'underlying': 2827, 'small': 2487, 'contusion': 579, 'post': 2050, 'operative': 1853, 'day': 654, 'allergies': 84, 'dose': 793, 'antibiotics': 128, 'infusions': 1342, 'propofol': 2121, 'mcg': 1597, 'kg': 1420, 'min': 1652, 'past': 1931, 'family': 982, 'social': 2492, 'unknown': 2831, 'flowsheet': 1047, 'data': 649, 'vital': 2908, 'signs': 2455, 'hemodynamic': 1192, 'monitoring': 1676, 'fluid': 1049, 'balance': 245, 'hours': 1226, 'tmax': 2729, 'c': 352, 'tcurrent': 2662, 'mmhg': 1662, 'rr': 2342, 'insp': 1356, 'spo': 2516, 'sr': 2523, 'total': 2747, 'ml': 1660, 'po': 2029, 'tf': 2687, 'ivf': 1402, 'blood': 300, 'products': 2107, 'urine': 2846, 'ng': 1758, 'stool': 2563, 'drains': 803, 'respiratory': 2288, 'support': 2608, 'delivery': 682, 'device': 713, 'endotracheal': 888, 'ventilator': 2883, 'mode': 1667, 'cmv': 475, 'assist': 191, 'autoflow': 220, 'vt': 2921, 'set': 2423, 'spontaneous': 2519, 'peep': 1951, 'cmh': 473, 'fio': 1033, 'pip': 1997, 'plateau': 2009, 'abg': 5, 'pao': 1915, 'physical': 1990, 'appearance': 146, 'well': 2946, 'nourished': 1793, 'eyes': 971, 'conjunctiva': 547, 'perrl': 1977, 'head': 1173, 'ears': 840, 'nose': 1787, 'throat': 2706, 'normocephalic': 1786, 'og': 1833, 'cardiovascular': 381, 'peripheral': 1973, 'vascular': 2867, 'radial': 2177, 'dp': 797, 'expansion': 951, 'symmetric': 2634, 'breath': 330, 'sounds': 2499, 'clear': 457, 'suction': 2589, 'air': 70, 'leak': 1463, 'abdominal': 4, 'soft': 2494, 'non': 1776, 'tender': 2677, 'bowel': 316, 'distended': 769, 'extremities': 965, 'lower': 1533, 'extremity': 966, 'edema': 850, 'absent': 15, 'skin': 2473, 'assessed': 189, 'neurologic': 1748, 'responds': 2292, 'noxious': 1794, 'stimuli': 2558, 'movement': 1688, 'purposeful': 2154, 'tone': 2740, 'labs': 1433, 'k': 1415, 'ul': 2816, 'g': 1090, 'dl': 779, 'mg': 1639, 'meq': 1628, 'image': 1288, 'jpg': 1409, 'wbc': 2934, 'hct': 1170, 'plt': 2016, 'cr': 612, 'tco': 2661, 'glucose': 1127, 'ptt': 2141, 'inr': 1353, 'ca': 353, 'assessment': 190, 'plan': 2005, 'impaired': 1294, 'integrity': 1363, 'pain': 1901, 'control': 576, 'chronic': 442, 'th': 2688, 'placement': 2004, 'negative': 1743, 'intracranial': 1377, 'wean': 2937, 'sedation': 2397, 'tolerated': 2736, 'keep': 1417, 'ciwa': 450, 'scale': 2377, 'withdrawal': 2964, 'mv': 1711, 'folate': 1057, 'thiamine': 2692, 'arrival': 170, 'neuro': 1747, 'checks': 428, 'q': 2159, 'iv': 1400, 'fentanyl': 1011, 'hemodynamically': 1193, 'currently': 632, 'cpap': 608, 'hold': 1219, 'extubation': 969, 'visit': 2902, 'fx': 1089, 'extubate': 967, 'tomorrow': 2739, 'vent': 2879, 'settings': 2425, 'gastrointestinal': 1102, 'npo': 1797, 'renal': 2256, 'check': 426, 'ck': 451, 'hematology': 1185, 'likely': 1493, 'secondary': 2393, 'monitor': 1674, 'infectious': 1327, 'afebrile': 59, 'count': 602, 'dislocation': 760, 'maintain': 1561, 'times': 2717, 'avoid': 225, 'internal': 1369, 'hips': 1213, 'dsd': 821, 'take': 2652, 'endocrine': 886, 'riss': 2328, 'fluids': 1050, 'lr': 1535, 'cc': 402, 'electrolytes': 865, 'repleted': 2264, 'nutrition': 1812, 'imaging': 1291, 'fracture': 1073, 'hemorrhage': 1196, 'torso': 2745, 'rd': 2193, 'sq': 2522, 'emphysema': 878, 'pelvis': 1955, 'comminuted': 511, 'multiple': 1705, 'intra': 1375, 'largest': 1444, 'w': 2922, 'loose': 1527, 'spine': 2512, 'alignment': 81, 'maintained': 1562, 'although': 93, 'relative': 2244, 'ni': 1761, 'may': 1594, 'fixed': 1038, 'also': 90, 'indicate': 1315, 'injury': 1350, 'glycemic': 1128, 'regular': 2240, 'insulin': 1360, 'sliding': 2478, 'lines': 1499, 'gauge': 1103, 'prophylaxis': 2120, 'dvt': 831, 'boots': 313, 'uf': 2814, 'heparin': 1200, 'stress': 2569, 'ulcer': 2817, 'blocker': 299, 'vap': 2865, 'hob': 1218, 'elevation': 867, 'mouth': 1686, 'daily': 647, 'wake': 2923, 'rsbi': 2344, 'need': 1738, 'restraints': 2300, 'reviewed': 2315, 'communication': 514, 'discussed': 757, 'interdisciplinary': 1365, 'rounds': 2338, 'awaiting': 228, 'code': 483, 'full': 1084, 'disposition': 765, 'spent': 2509, 'minutes': 1657, 'carotid': 389, 'series': 2419, 'hx': 1238, 'cva': 635, 'x': 2984, 'preop': 2075, 'cabg': 354, 'evaluate': 925, 'stroke': 2570, 'pre': 2063, 'op': 1845, 'duplex': 829, 'evaluation': 927, 'arteries': 174, 'minimal': 1653, 'plaque': 2008, 'identified': 1279, 'peak': 1947, 'ica': 1271, 'consistent': 552, 'less': 1473, 'vertebral': 2892, 'visualized': 2906, 'sided': 2447, 'evidence': 935, 'discharge': 752, 'birth': 291, 'sex': 2430, 'service': 2421, 'neurology': 1750, 'recorded': 2216, 'known': 1424, 'drugs': 818, 'attending': 214, 'lf': 1484, 'unresponsive': 2835, 'major': 1565, 'surgical': 2613, 'invasive': 1386, 'intubation': 1385, 'illness': 1287, 'woman': 2973, 'reportedly': 2269, 'taken': 2653, 'osh': 1869, 'revealed': 2312, 'large': 1442, 'bleed': 296, 'extension': 958, 'midline': 1647, 'shift': 2434, 'apparently': 144, 'able': 8, 'follow': 1059, 'rue': 2348, 'transfer': 2762, 'repeat': 2259, 'shows': 2443, 'progression': 2111, 'compared': 515, 'approx': 157, 'bg': 273, 'system': 2639, 'dilatation': 742, 'symptoms': 2636, 'including': 1308, 'headache': 1174, 'recent': 2205, 'due': 826, 'lives': 1510, 'alone': 87, 'home': 1221, 'tobacco': 2730, 'alcohol': 78, 'drug': 817, 'use': 2849, 'exam': 941, 'vs': 2919, 'heent': 1178, 'anicteric': 116, 'mmm': 1663, 'without': 2968, 'lesions': 1472, 'neck': 1737, 'supple': 2607, 'lad': 1440, 'bruits': 346, 'cv': 634, 'rrr': 2343, 'resp': 2287, 'ctab': 626, 'abd': 2, 'bs': 347, 'nt': 1804, 'nd': 1732, 'hsm': 1233, 'ext': 955, 'e': 836, 'distal': 767, 'pulses': 2150, 'intact': 1361, 'ms': 1696, 'alert': 80, 'verbal': 2888, 'response': 2293, 'commands': 509, 'ii': 1281, 'iii': 1282, 'pupils': 2153, 'reactive': 2197, 'vi': 2896, 'v': 2856, 'corneal': 589, 'nasal': 1726, 'obvious': 1824, 'facial': 974, 'though': 2703, 'difficult': 734, 'gag': 1092, 'motor': 1685, 'nl': 1768, 'pa': 1890, 'ac': 18, 'posturing': 2054, 'deep': 667, 'stim': 2556, 'rle': 2329, 'side': 2446, 'pertinent': 1983, 'results': 2303, 'rbc': 2191, 'hgb': 1207, 'mcv': 1602, 'mch': 1599, 'mchc': 1600, 'rdw': 2194, 'creat': 617, 'na': 1720, 'cl': 454, 'hco': 1168, 'calcium': 359, 'phos': 1989, 'art': 172, 'temp': 2672, 'tidal': 2715, 'pco': 1941, 'ph': 1985, 'base': 250, 'xs': 2987, 'con': 532, 'region': 2237, 'associated': 193, 'effect': 855, 'normally': 1785, 'structures': 2574, 'extends': 957, 'third': 2700, 'ventricles': 2886, 'hydrocephalus': 1241, 'fourth': 1072, 'size': 2471, 'configuration': 540, 'extra': 962, 'axial': 232, 'doctor': 784, 'white': 2954, 'matter': 1591, 'junction': 1411, 'within': 2967, 'ethmoid': 918, 'mucosal': 1699, 'thickening': 2695, 'sphenoid': 2510, 'mucous': 1700, 'cyst': 643, 'maxillary': 1593, 'mastoid': 1588, 'cells': 412, 'hypertensive': 1251, 'brief': 333, 'course': 603, 'upon': 2842, 'etiology': 920, 'felt': 1004, 'remained': 2250, 'ventilated': 2881, 'night': 1764, 'briefly': 334, 'required': 2279, 'pressors': 2088, 'hypotension': 1261, 'clinically': 462, 'worsened': 2977, 'stay': 2543, 'respond': 2289, 'meeting': 1622, 'held': 1180, 'second': 2392, 'next': 1757, 'sister': 2466, 'two': 2806, 'decided': 659, 'given': 1121, 'prognosis': 2108, 'goals': 1133, 'comfort': 504, 'measures': 1607, 'extubated': 968, 'evening': 930, 'passed': 1929, 'away': 231, 'shortly': 2437, 'n': 1719, 'expired': 953, 'diagnosis': 718, 'instructions': 1358, 'followup': 1063, 'md': 1603, 'namepattern': 1724, 'micu': 1643, 'sicu': 2445, 'npn': 1796, 'events': 932, 'episode': 904, 'confusion': 544, 'requiring': 2281, 'resolved': 2286, 'several': 2426, 'became': 260, 'diffuse': 736, 'wheezes': 2951, 'albuterol': 77, 'neb': 1734, 'lasix': 1445, 'tachycardic': 2649, 'af': 58, 'rvr': 2358, 'diltiazem': 747, 'gtt': 1153, 'titrated': 2727, 'received': 2203, 'metoprolol': 1636, 'haldol': 1163, 'hypotensive': 1262, 'want': 2926, 'confused': 543, 'oriented': 1863, 'self': 2407, 'follows': 1062, 'restless': 2299, 'agitated': 66, 'easily': 841, 'med': 1610, 'good': 1135, 'denies': 691, 'pulm': 2146, 'fields': 1022, 'improve': 1296, 'minimally': 1654, 'nebs': 1735, 'assess': 188, 'range': 2184, 'np': 1795, 'initially': 1345, 'occasional': 1826, 'noted': 1790, 'rate': 2189, 'controlled': 577, 'mostly': 1682, 'wnl': 2971, 'numerous': 1809, 'areas': 163, 'arms': 166, 'rectal': 2219, 'area': 162, 'gi': 1117, 'gu': 1155, 'tolerating': 2738, 'house': 1227, 'diet': 729, 'foley': 1058, 'patent': 1935, 'yellow': 2990, 'amts': 105, 'access': 19, 'piv': 2000, 'altered': 92, 'breathing': 331, 'hypoxia': 1268, 'infection': 1326, 'pna': 2023, 'chf': 432, 'risk': 2326, 'continue': 566, 'aggressive': 65, 'toilet': 2733, 'abx': 17, 'ordered': 1859, 'micro': 1641, 'diuresis': 774, 'fall': 980, 'developing': 710, 'weakness': 2936, 'contraindications': 573, 'wet': 2948, 'read': 2198, 'tue': 2798, 'technique': 2666, 'mdct': 1604, 'acquired': 26, 'images': 1290, 'cervical': 417, 'obtained': 1823, 'administered': 46, 'coronal': 591, 'sagittal': 2363, 'reformats': 2231, 'malalignment': 1569, 'body': 306, 'prevertebral': 2092, 'tissue': 2722, 'swelling': 2630, 'degenerative': 675, 'changes': 422, 'canal': 366, 'narrowing': 1725, 'disc': 751, 'multilevel': 1703, 'apices': 141, 'central': 414, 'please': 2013, 'note': 1789, 'extensive': 959, 'cord': 587, 'even': 929, 'minor': 1655, 'mri': 1694, 'indicated': 1316, 'admitting': 52, 'hematoma': 1186, 'field': 1021, 'view': 2898, 'contiguous': 565, 'inlet': 1351, 'upper': 2843, 'abdomen': 3, 'et': 916, 'proximal': 2133, 'duodenum': 828, 'great': 1144, 'vessels': 2894, 'unremarkable': 2834, 'significant': 2453, 'axillary': 233, 'lymphadenopathy': 1550, 'effusions': 858, 'dependent': 694, 'osseous': 1870, 'imaged': 1289, 'portion': 2040, 'made': 1555, 'kidneys': 1422, 'bilaterally': 282, 'male': 1570, 'diagnosed': 717, 'presenting': 2082, 'nausea': 1729, 'went': 2947, 'radiation': 2178, 'morning': 1680, 'sent': 2413, 'stat': 2537, 'scan': 2379, 'around': 167, 'wife': 2958, 'reports': 2270, 'difficulty': 735, 'recently': 2206, 'opening': 1851, 'get': 1115, 'coffee': 485, 'would': 2979, 'hit': 1215, 'er': 907, 'another': 120, 'vomiting': 2918, 'dizziness': 777, 'sob': 2491, 'issues': 1398, 'cerebral': 416, 'setting': 2424, 'treated': 2778, 'chemotherapy': 430, 'spoke': 2517, 'dr': 798, 'stitle': 2559, 'go': 1131, 'increase': 1310, 'increased': 1311, 'tumor': 2799, 'cancer': 367, 'malignant': 1572, 'neoplasm': 1746, 'brain': 324, 'ox': 1885, 'mae': 1556, 'perrla': 1978, 'action': 29, 'hrs': 1231, 'change': 420, 'interval': 1372, 'volume': 2915, 'resuscitation': 2304, 'tip': 2720, 'approximately': 158, 'cm': 472, 'carina': 387, 'advanced': 55, 'least': 1464, 'cardiomediastinal': 377, 'unchanged': 2825, 'vein': 2874, 'slightly': 2480, 'might': 1649, 'degree': 676, 'overload': 1879, 'bibasilar': 274, 'diaphragm': 723, 'included': 1306, 'position': 2043, 'overt': 1883, 'yo': 2994, 'htn': 1234, 'asthma': 195, 'abuse': 16, 'presented': 2081, 'distress': 772, 'per': 1959, 'increasing': 1312, 'fatigue': 991, 'concerning': 535, 'brought': 343, 'initial': 1344, 'bipap': 290, 'subsequently': 2586, 'cxr': 640, 'patchy': 1933, 'infiltrate': 1332, 'rll': 2330, 'consolidation': 554, 'started': 2534, 'levofloxacin': 1481, 'vancomycin': 2864, 'bactrim': 242, 'concern': 533, 'pcp': 1942, 'months': 1679, 'hiv': 1216, 'done': 787, 'pending': 1956, 'days': 655, 'hospitalization': 1223, 'troponin': 2789, 'flat': 1042, 'peaked': 1948, 'ischemic': 1397, 'bronchoscopy': 340, 'far': 984, 'gram': 1141, 'stain': 2529, 'culture': 628, 'cultures': 630, 'sputum': 2521, 'growth': 1151, 'tox': 2750, 'screen': 2388, 'pmh': 2019, 'back': 239, 'leg': 1467, 'using': 2851, 'meds': 1620, 'cocaine': 481, 'admit': 50, 'versed': 2889, 'yesterday': 2992, 'weaned': 2938, 'current': 631, 'weaning': 2939, 'oral': 1855, 'ls': 1536, 'rhonchi': 2317, 'diminished': 749, 'occasionally': 1827, 'suctioning': 2591, 'thick': 2693, 'secretions': 2394, 'remains': 2252, 'comfortable': 505, 'cont': 561, 'antibx': 129, 'steroids': 2553, 'thoracentesis': 2701, 'extent': 960, 'line': 1497, 'continues': 568, 'outside': 1875, 'represent': 2273, 'apical': 140, 'opacity': 1849, 'today': 2731, 'costophrenic': 597, 'ett': 922, 'ich': 1274, 'comparisons': 517, 'semi': 2408, 'upright': 2844, 'stomach': 2560, 'marked': 1580, 'scoliosis': 2386, 'lungs': 1543, 'tortuous': 2746, 'appropriate': 155, 'tubes': 2797, 'deviation': 712, 'fascicular': 985, 'diagnostic': 719, 'repolarization': 2266, 'previously': 2094, 'described': 700, 'persist': 1979, 'tte': 2795, 'suboptimal': 2583, 'la': 1427, 'ra': 2176, 'focal': 1053, 'fully': 1085, 'excluded': 947, 'low': 1532, 'lvef': 1545, 'lvot': 1547, 'gradient': 1139, 'rv': 2357, 'chamber': 419, 'diameter': 721, 'ar': 159, 'annular': 119, 'calcification': 356, 'mr': 1692, 'limits': 1496, 'indeterminate': 1314, 'pr': 2060, 'space': 2502, 'represents': 2275, 'fat': 989, 'pad': 1899, 'loculated': 1522, 'poor': 2034, 'echo': 844, 'windows': 2959, 'trivial': 2787, 'tachycardia': 2648, 'recieved': 2208, 'yr': 2995, 'female': 1006, 'ward': 2927, 'arrived': 171, 'ir': 1393, 'peritoneal': 1974, 'drain': 799, 'collection': 495, 'febrile': 994, 'notes': 1791, 'orders': 1860, 'st': 2525, 'ectopy': 848, 'sbp': 2374, 'sat': 2367, 'uo': 2838, 'hypoactive': 1254, 'tenderness': 2678, 'palpation': 1908, 'rebound': 2200, 'endo': 884, 'initiated': 1347, 'unit': 2829, 'husband': 1237, 'father': 990, 'drainage': 800, 'bag': 243, 'pink': 1996, 'fen': 1009, 'ns': 1800, 'infusing': 1340, 'mag': 1557, 'lactate': 1437, 'careview': 385, 'titrate': 2726, 'sugar': 2593, 'lytes': 1553, 'cbc': 400, 'magnesium': 1558, 'encourage': 882, 'prn': 2097, 'sleeping': 2477, 'morphine': 1681, 'discomfort': 754, 'effort': 856, 'updated': 2841, 'questions': 2170, 'gib': 1118, 'single': 2462, 'available': 222, 'dictation': 727, 'gas': 1100, 'subcutaneous': 2580, 'tissues': 2723, 'otherwise': 1871, 'demonstrating': 689, 'linear': 1498, 'suggestive': 2598, 'shoulder': 2439, 'across': 27, 'worse': 2976, 'cough': 598, 'presumed': 2091, 'based': 251, 'perihilar': 1970, 'lab': 1428, 'work': 2974, 'arf': 164, 'hyperkalemia': 1247, 'tx': 2807, 'u': 2810, 'reg': 2234, 'along': 88, 'transferred': 2764, 'cloudy': 470, 'amber': 95, 'bun': 349, 'cvp': 637, 'output': 1874, 'marginal': 1579, 'productive': 2106, 'metabolic': 1632, 'acidosis': 25, 'turning': 2802, 'id': 1277, 'sats': 2369, 'trending': 2781, 'decrease': 663, 'give': 1120, 'obtain': 1822, 'pneumonia': 2027, 'hepatic': 1201, 'liver': 1509, 'ruq': 2356, 'us': 2848, 'showing': 2442, 'foci': 1054, 'metastatic': 1635, 'lft': 1485, 'esophageal': 910, 'hiatal': 1208, 'hernia': 1203, 'needed': 1739, 'egd': 859, 'ercp': 908, 'speech': 2508, 'swallow': 2627, 'studies': 2575, 'sepsis': 2414, 'organ': 1861, 'hypothermic': 1264, 'vanco': 2863, 'bld': 295, 'cx': 639, 'maps': 1578, 'vision': 2901, 'saw': 2371, 'examined': 943, 'physically': 1991, 'resident': 2283, 'key': 1419, 'portions': 2041, 'services': 2422, 'agree': 69, 'cri': 619, 'seizures': 2405, 'ha': 1162, 'week': 2942, 'worsening': 2978, 'eye': 970, 'ago': 68, 'episodes': 905, 'records': 2217, 'lisinopril': 1504, 'vit': 2907, 'poorly': 2035, 'baseline': 252, 'details': 704, 'lvh': 1546, 'ef': 853, 'came': 365, 'fh': 1016, 'occupation': 1831, 'review': 2314, 'systems': 2641, 'lymphatic': 1551, 'murmur': 1706, 'warm': 2928, 'attentive': 215, 'person': 1982, 'place': 2002, 'visual': 2905, 'labetalol': 1429, 'workup': 2975, 'possible': 2048, 'recs': 2218, 'possibly': 2049, 'consult': 558, 'seizure': 2404, 'precautions': 2064, 'appeared': 147, 'wave': 2931, 'lead': 1459, 'waves': 2932, 'leads': 1460, 'therefore': 2691, 'infarction': 1324, 'cpr': 610, 'tach': 2646, 'ems': 880, 'shock': 2435, 'pea': 1946, 'dopamine': 789, 'levophed': 1482, 'event': 931, 'continued': 567, 'require': 2278, 'drip': 811, 'cooling': 583, 'management': 1574, 'drinks': 810, 'smoker': 2489, 'jaundice': 1406, 'sclera': 2384, 'pupil': 2152, 'corneals': 590, 'brother': 342, 'ccu': 403, 'team': 2663, 'room': 2333, 'address': 39, 'appropriately': 156, 'amps': 102, 'bicarb': 275, 'gluconate': 1126, 'neonatology': 1745, 'asked': 183, 'infant': 1322, 'gm': 1129, 'born': 315, 'mother': 1683, 'ab': 1, 'neg': 1742, 'rpr': 2341, 'nr': 1798, 'concerns': 536, 'pregnancy': 2069, 'gbs': 1105, 'intrapartum': 1380, 'fetal': 1012, 'apgars': 139, 'comfortably': 506, 'open': 1850, 'warmer': 2929, 'slight': 2479, 'palate': 1903, 'cta': 625, 'anus': 132, 'sacral': 2361, 'perfused': 1966, 'appearing': 148, 'diff': 730, 'unless': 2832, 'return': 2309, 'newborn': 1755, 'primary': 2095, 'ob': 1814, 'update': 2840, 'labile': 1431, 'nipride': 1765, 'lopressor': 1528, 'hydralazine': 1239, 'progressed': 2110, 'becoming': 263, 'aline': 82, 'cuff': 627, 'aware': 230, 'tan': 2657, 'max': 1592, 'pan': 1910, 'cultured': 629, 'tylenol': 2808, 'ogt': 1834, 'bile': 283, 'qs': 2164, 'via': 2897, 'near': 1733, 'end': 883, 'dtr': 823, 'members': 1625, 'asking': 184, 'perform': 1964, 'draw': 805, 'children': 434, 'state': 2538, 'look': 1525, 'mental': 1627, 'femoral': 1007, 'towards': 2749, 'main': 1560, 'stem': 2544, 'bronchus': 341, 'withdrawn': 2965, 'coronary': 592, 'calcifications': 357, 'consolidations': 555, 'lobes': 1517, 'larger': 1443, 'one': 1840, 'suspicious': 2618, 'benign': 269, 'breast': 329, 'cholecystectomy': 438, 'spleen': 2513, 'adrenal': 53, 'glands': 1123, 'pancreas': 1911, 'analysis': 107, 'loops': 1526, 'grossly': 1149, 'pelvic': 1954, 'bone': 310, 'demonstrate': 686, 'lytic': 1554, 'sclerotic': 2385, 'lobe': 1516, 'differential': 732, 'aspiration': 186, 'pancreatitis': 1913, 'avf': 223, 'specific': 2505, 'prominent': 2118, 'pattern': 1939, 'myocardial': 1718, 'age': 64, 'much': 1698, 'better': 272, 'voltage': 2914, 'earlier': 838, 'despite': 701, 'ventilatory': 2884, 'residual': 2284, 'informed': 1339, 'explained': 954, 'interventions': 1374, 'attempted': 211, 'discussion': 758, 'maternal': 1590, 'baby': 237, 'case': 390, 'death': 658, 'enlargement': 893, 'root': 2334, 'trace': 2754, 'tr': 2753, 'hypertrophy': 1252, 'estimated': 915, 'biventricular': 292, 'recommendations': 2210, 'recommended': 2211, 'decisions': 661, 'regarding': 2235, 'echocardiographic': 846, 'bilat': 280, 'veins': 2875, 'clot': 468, 'met': 1631, 'le': 1458, 'completed': 524, 'still': 2555, 'persistent': 1980, 'pe': 1945, 'involving': 1389, 'venous': 2878, 'common': 512, 'greater': 1145, 'superficial': 2603, 'subacute': 2577, 'thrombus': 2709, 'popliteal': 2036, 'ultrasound': 2819, 'echogenic': 847, 'occlusion': 1830, 'suggesting': 2597, 'fibrillation': 1018, 'adjacent': 42, 'frequent': 1078, 'short': 2436, 'new': 1754, 'paced': 1892, 'vented': 2880, 'psv': 2136, 'strong': 2571, 'decision': 660, 'face': 973, 'tent': 2679, 'nursing': 1811, 'gtts': 1154, 'simv': 2459, 'visited': 2903, 'ivp': 1404, 'followed': 1060, 'nsr': 1802, 'demand': 683, 'nitro': 1766, 'map': 1577, 'boluses': 309, 'ci': 443, 'svo': 2623, 'grade': 1138, 'palp': 1906, 'slowly': 2482, 'advance': 54, 'acid': 24, 'add': 33, 'nc': 1731, 'sm': 2485, 'amt': 104, 'draining': 802, 'clots': 469, 'returned': 2310, 'obese': 1815, 'protocol': 2128, 'diabetic': 716, 'tear': 2664, 'elbow': 863, 'many': 1576, 'rn': 2331, 'hemodynamics': 1194, 'tol': 2734, 'restart': 2296, 'eating': 842, 'beat': 258, 'withdraw': 2963, 'withdraws': 2966, 'ativan': 202, 'valium': 2858, 'start': 2533, 'anxious': 134, 'collar': 494, 'xray': 2985, 'femur': 1008, 'result': 2301, 'lastname': 1447, 'fever': 1013, 'basilar': 254, 'repair': 2258, 'month': 1678, 'going': 1134, 'rehab': 2242, 'transfusion': 2767, 'platelets': 2010, 'patch': 1932, 'arm': 165, 'demographics': 685, 'mechanical': 1609, 'ideal': 1278, 'airway': 72, 'tracheostomy': 2758, 'un': 2821, 'rul': 2349, 'lul': 1539, 'lll': 1513, 'consistency': 551, 'source': 2500, 'amount': 98, 'suctioned': 2590, 'assistance': 192, 'quiet': 2172, 'trigger': 2784, 'abnormal': 9, 'volumes': 2916, 'tests': 2686, 'sbt': 2375, 'continuing': 569, 'magnevist': 1559, 'occipital': 1828, 'pca': 1940, 'distribution': 773, 'hemorrhagic': 1197, 'infarct': 1323, 'enhancement': 890, 'multiplanar': 1704, 'weighted': 2945, 'gadolinium': 1091, 'study': 2576, 'pacs': 1897, 'mixed': 1659, 'signal': 2451, 'clearly': 459, 'lesion': 1471, 'probably': 2099, 'angiography': 114, 'helpful': 1182, 'possibility': 2047, 'relatively': 2245, 'stage': 2528, 'compression': 531, 'similar': 2457, 'diffusion': 738, 'cerebellar': 415, 'hemisphere': 1190, 'tiny': 2719, 'evolving': 937, 'nature': 1728, 'elevated': 866, 'representing': 2274, 'vessel': 2893, 'frontal': 1082, 'partial': 1926, 'additional': 37, 'probable': 2098, 'minute': 1656, 'infarcts': 1325, 'aspect': 185, 'thrombosis': 2708, 'either': 860, 'son': 2498, 'tibial': 2713, 'lethargic': 1474, 'voice': 2911, 'spontaneously': 2520, 'command': 508, 'stated': 2539, 'deficits': 671, 'rare': 2187, 'pvcs': 2157, 'dc': 656, 'swan': 2629, 'improved': 1297, 'order': 1858, 'alt': 91, 'removal': 2254, 'hands': 1165, 'intermittent': 1367, 'periods': 1972, 'breaths': 332, 'liquids': 1503, 'receiving': 2204, 'scheduled': 2383, 'antibiotic': 127, 'become': 261, 'taking': 2655, 'percocet': 1960, 'procedures': 2104, 'intake': 1362, 'late': 1449, 'transition': 2769, 'borderline': 314, 'limb': 1494, 'longer': 1524, 'syndrome': 2638, 'elevations': 868, 'provisional': 2132, 'pfi': 1984, 'fri': 1080, 'opacities': 1848, 'congestion': 545, 'exclude': 946, 'jugular': 1410, 'svc': 2621, 'bedside': 265, 'however': 1228, 'bony': 312, 'ij': 1283, 'addendum': 35, 'requested': 2277, 'nnp': 1769, 'progress': 2109, 'active': 30, 'equal': 906, 'feeds': 997, 'voiding': 2912, 'refer': 2225, 'influenza': 1337, 'ice': 1273, 'bronchial': 339, 'pod': 2031, 'ex': 939, 'lap': 1441, 'rest': 2295, 'depression': 696, 'dated': 651, 'films': 1026, 'suggest': 2595, 'prominence': 2117, 'vasculature': 2869, 'postoperative': 2053, 'complaints': 522, 'bed': 264, 'chair': 418, 'cvs': 638, 'ascites': 181, 'removed': 2255, 'sugars': 2594, 'albumin': 76, 'tap': 2658, 'satisfactory': 2368, 'discontinued': 755, 'unable': 2822, 'feeling': 999, 'eve': 928, 'replaced': 2261, 'focus': 1055, 'gerd': 1113, 'pvd': 2158, 'bypass': 351, 'icd': 1272, 'fib': 1017, 'cad': 355, 'coumadin': 601, 'weeks': 2943, 'amp': 100, 'mcgs': 1598, 'ok': 1835, 'ekg': 862, 'later': 1450, 'title': 2724, 'hour': 1224, 'improvement': 1298, 'pressures': 2090, 'dropped': 814, 'norepinephrine': 1783, 'switched': 2631, 'dobutamine': 783, 'component': 530, 'tele': 2669, 'deferred': 669, 'instability': 1357, 'thin': 2699, 'wrist': 2982, 'coarse': 480, 'anteriorly': 123, 'musculoskeletal': 1710, 'muscle': 1708, 'tropt': 2790, 'ckmb': 453, 'ast': 194, 'alk': 83, 'bili': 284, 'amylase': 106, 'lipase': 1501, 'fibrinogen': 1019, 'lactic': 1438, 'mmol': 1664, 'ldh': 1457, 'iu': 1399, 'tsh': 2793, 'dm': 780, 'anemia': 109, 'ckd': 452, 'dic': 726, 'unclear': 2826, 'electrolyte': 864, 'arrest': 169, 'circulation': 446, 'whether': 2953, 'septic': 2416, 'cardiogenic': 375, 'drop': 813, 'serial': 2418, 'cover': 604, 'broad': 337, 'spectrum': 2507, 'vanc': 2862, 'cefepime': 408, 'vasopressin': 2870, 'goal': 1132, 'transfuse': 2765, 'units': 2830, 'prbc': 2061, 'suggests': 2599, 'enzymes': 896, 'oxygenation': 1888, 'try': 2791, 'higher': 1210, 'responding': 2291, 'sternal': 2551, 'rub': 2346, 'coagulopathy': 479, 'bleeding': 297, 'activity': 31, 'hypoxic': 1269, 'encephalopathy': 881, 'rule': 2350, 'plts': 2017, 'ffp': 1015, 'superimposed': 2604, 'supportive': 2609, 'ischemia': 1396, 'heme': 1188, 'complicated': 528, 'picture': 1995, 'nstemi': 1803, 'resolution': 2285, 'collapse': 492, 'vf': 2895, 'trend': 2780, 'statin': 2541, 'clinic': 460, 'includes': 1307, 'atn': 203, 'causes': 395, 'gap': 1099, 'help': 1181, 'correct': 593, 'renally': 2257, 'lfts': 1486, 'ongoing': 1841, 'part': 1925, 'massive': 1587, 'sc': 2376, 'drawn': 806, 'abgs': 6, 'multi': 1701, 'lumen': 1541, 'ppi': 2058, 'temporal': 2674, 'iph': 1392, 'foramen': 1066, 'surrounding': 2614, 'rightward': 2323, 'herniation': 1204, 'sdh': 2390, 'sah': 2364, 'administration': 47, 'intraparenchymal': 1379, 'measuring': 1608, 'subdural': 2581, 'layering': 1454, 'subarachnoid': 2578, 'hypodensity': 1257, 'sulci': 2600, 'periventricular': 1975, 'hypodensities': 1256, 'sinuses': 2464, 'uop': 2839, 'provide': 2130, 'except': 945, 'inch': 1302, 'vitals': 2909, 'responsive': 2294, 'painful': 1902, 'site': 2467, 'jvp': 1414, 'auscultation': 219, 'rales': 2183, 'murmurs': 1707, 'rubs': 2347, 'gallops': 1095, 'guarding': 1157, 'organomegaly': 1862, 'clubbing': 471, 'cyanosis': 641, 'neuts': 1752, 'lymph': 1549, 'mono': 1677, 'eos': 898, 'pathology': 1937, 'presents': 2084, 'thought': 2704, 'necessary': 1736, 'lp': 1534, 'acs': 28, 'ecg': 843, 'thus': 2711, 'potential': 2056, 'asa': 179, 'allergy': 85, 'bb': 255, 'appreciated': 153, 'cycle': 642, 'uti': 2854, 'thrombocytopenia': 2707, 'systemic': 2640, 'anticoagulation': 130, 'consent': 548, 'signed': 2452, 'bilious': 286, 'ngt': 1759, 'needs': 1741, 'water': 2930, 'states': 2540, 'liter': 1506, 'bolus': 307, 'patency': 1934, 'trach': 2755, 'mask': 1584, 'sutures': 2620, 'ampicillin': 101, 'sulfate': 2601, 'sh': 2431, 'ros': 2335, 'constitutional': 557, 'loss': 1530, 'ear': 837, 'dry': 819, 'palpitations': 1909, 'orthopnea': 1867, 'nutritional': 1813, 'tachypnea': 2650, 'wheeze': 2950, 'emesis': 876, 'diarrhea': 724, 'constipation': 556, 'genitourinary': 1111, 'dysuria': 835, 'dialysis': 720, 'joint': 1407, 'myalgias': 1717, 'rash': 2188, 'hyperglycemia': 1246, 'thyroid': 2712, 'numbness': 1807, 'psychiatric': 2138, 'sleep': 2476, 'overweight': 1884, 'diaphoretic': 722, 'pale': 1904, 'supraclavicular': 2610, 'adenopathy': 40, 'pmi': 2021, 'hyperdynamic': 1245, 'distant': 768, 'widely': 2956, 'diastolic': 725, 'percussion': 1961, 'stand': 2530, 'paralyzed': 1918, 'traumatic': 2776, 'overnight': 1881, 'grams': 1142, 'plans': 2007, 'wires': 2961, 'holding': 1220, 'tonight': 2742, 'replete': 2263, 'critically': 622, 'ill': 1286, 'ards': 161, 'obstruction': 1820, 'sbo': 2373, 'bm': 302, 'drained': 801, 'physician': 1992, 'nameis': 1723, 'fax': 993, 'apnea': 142, 'replacement': 2262, 'complained': 519, 'developed': 709, 'opens': 1852, 'aspirin': 187, 'lovenox': 1531, 'cefazolin': 407, 'duration': 830, 'doses': 794, 'pacu': 1898, 'acetaminophen': 23, 'sodium': 2493, 'tid': 2714, 'bid': 277, 'cap': 370, 'oxycodone': 1886, 'immediate': 1292, 'release': 2246, 'pantoprazole': 1914, 'senna': 2410, 'atenolol': 199, 'lorazepam': 1529, 'anxiety': 133, 'tc': 2660, 'medication': 1617, 'obstructive': 1821, 'cause': 394, 'unlikely': 2833, 'ps': 2135, 'bnp': 303, 'significantly': 2454, 'early': 839, 'treat': 2777, 'wound': 2980, 'vac': 2857, 'rec': 2201, 'ppx': 2059, 'co': 477, 'sudden': 2592, 'guaiac': 1156, 'stools': 2564, 'iron': 1394, 'arterial': 173, 'famotidine': 983, 'dispo': 764, 'hcp': 1169, 'lat': 1448, 'nodule': 1774, 'outpatient': 1873, 'version': 2890, 'question': 2168, 'views': 2899, 'hemithorax': 1191, 'overlying': 1880, 'reveals': 2313, 'onc': 1839, 'sensitive': 2412, 'anuric': 131, 'esrd': 913, 'cool': 582, 'pedal': 1949, 'av': 221, 'fistula': 1037, 'bruising': 345, 'dilaudid': 745, 'shortness': 2438, 'health': 1175, 'proxy': 2134, 'pts': 2140, 'treatment': 2779, 'feel': 998, 'smoking': 2490, 'poc': 2030, 'floor': 1045, 'failed': 977, 'cmo': 474, 'dnr': 782, 'umbilical': 2820, 'years': 2989, 'pmhx': 2020, 'chloride': 436, 'flush': 1051, 'feeding': 996, 'wounds': 2981, 'consults': 560, 'billing': 288, 'dni': 781, 'enhancing': 891, 'located': 1520, 'metastasis': 1634, 'recons': 2212, 'aneurysm': 111, 'hypothermia': 1263, 'optiray': 1854, 'mra': 1693, 'limited': 1495, 'material': 1589, 'subclavian': 2579, 'spinal': 2511, 'epidural': 901, 'finding': 1029, 'brachiocephalic': 321, 'opacification': 1846, 'terminating': 2682, 'clips': 464, 'artifact': 178, 'regions': 2239, 'craniotomy': 615, 'definite': 673, 'nsg': 1801, 'development': 711, 'perfusion': 1967, 'retractions': 2306, 'wt': 2983, 'cares': 384, 'dad': 646, 'added': 34, 'ew': 938, 'cvl': 636, 'neo': 1744, 'colitis': 491, 'firm': 1034, 'passing': 1930, 'ruled': 2351, 'zosyn': 2999, 'flagyl': 1039, 'pcwp': 1943, 'hypo': 1253, 'remaining': 2251, 'chordae': 441, 'leaflet': 1461, 'filling': 1024, 'film': 1025, 'ganz': 1098, 'remain': 2248, 'interstitial': 1371, 'markings': 1582, 'density': 693, 'defined': 672, 'supine': 2606, 'zone': 2998, 'makes': 1567, 'nonspecific': 1781, 'faster': 988, 'hemoptysis': 1195, 'orally': 1856, 'cold': 489, 'bloody': 301, 'bronch': 338, 'repositioned': 2271, 'confirm': 541, 'cath': 391, 'iabp': 1270, 'sluggish': 2484, 'sun': 2602, 'stemi': 2545, 'pressor': 2087, 'fem': 1005, 'kcl': 1416, 'mcq': 1601, 'dopa': 788, 'eeg': 852, 'confirmed': 542, 'adjust': 43, 'began': 266, 'life': 1489, 'emotional': 877, 'stop': 2565, 'moving': 1691, 'attempting': 212, 'telemetry': 2670, 'bradycardia': 322, 'sheet': 2433, 'fent': 1010, 'unstable': 2836, 'insertion': 1355, 'diabetes': 715, 'mellitus': 1624, 'fair': 979, 'precordial': 2065, 'port': 2037, 'different': 731, 'cardiomegaly': 378, 'hypoxemia': 1267, 'shunt': 2444, 'piperacillin': 1998, 'tazobactam': 2659, 'cirrhosis': 447, 'portal': 2039, 'varices': 2866, 'contributory': 575, 'microbiology': 1642, 'mrsa': 1695, 'absence': 14, 'exacerbation': 940, 'quite': 2174, 'rapid': 2186, 'combination': 502, 'evaluated': 926, 'dx': 832, 'biopsy': 289, 'tolerate': 2735, 'prednisone': 2066, 'lactulose': 1439, 'paracentesis': 1917, 'hyponatremia': 1260, 'drink': 808, 'hydration': 1240, 'picc': 1994, 'chart': 425, 'record': 2215, 'feels': 1000, 'objective': 1817, 'vss': 2920, 'pleasant': 2012, 'cooperative': 584, 'relief': 2247, 'runs': 2354, 'bps': 320, 'gms': 1130, 'hs': 1232, 'closely': 467, 'trop': 2788, 'groin': 1147, 'palpable': 1907, 'mn': 1665, 'pos': 2042, 'speaking': 2504, 'mi': 1640, 'stent': 2547, 'call': 362, 'oob': 1843, 'cell': 411, 'carcinoma': 373, 'changed': 421, 'noncontrast': 1777, 'paranasal': 1920, 'aerated': 56, 'agitation': 67, 'turned': 2801, 'bolused': 308, 'turn': 2800, 'point': 2032, 'perl': 1976, 'pull': 2144, 'tlc': 2728, 'levo': 1480, 'restarted': 2297, 'pp': 2057, 'orbital': 1857, 'sb': 2372, 'asymptomatic': 197, 'decreasing': 665, 'toes': 2732, 'tips': 2721, 'lip': 1500, 'according': 21, 'carevue': 386, 'scant': 2380, 'checked': 427, 'hypernatremia': 1249, 'inc': 1301, 'amounts': 99, 'liters': 1507, 'coverage': 605, 'middle': 1646, 'partially': 1927, 'nasogastric': 1727, 'terminates': 2681, 'gastric': 1101, 'approach': 154, 'versus': 2891, 'nodular': 1773, 'generalized': 1110, 'nbp': 1730, 'green': 1146, 'prostate': 2122, 'conts': 578, 'breakdown': 328, 'caring': 388, 'superior': 2605, 'posteriorly': 2052, 'ribs': 2321, 'displacement': 763, 'irregular': 1395, 'projecting': 2113, 'gallbladder': 1094, 'quadrant': 2166, 'adm': 45, 'inserted': 1354, 'delayed': 680, 'segment': 2401, 'inferiorly': 1329, 'kidney': 1421, 'recurrent': 2221, 'witnessed': 2969, 'called': 363, 'cordis': 588, 'underwent': 2828, 'ep': 899, 'bc': 256, 'contact': 562, 'meropenem': 1629, 'evident': 936, 'fevers': 1014, 'flu': 1048, 'wheezing': 2952, 'tachypneic': 2651, 'chills': 435, 'atrovent': 209, 'zofran': 2997, 'azithromycin': 235, 'ceftriaxone': 409, 'vomited': 2917, 'anti': 126, 'dissection': 766, 'iliac': 1285, 'junctional': 1412, 'exp': 950, 'show': 2440, 'usual': 2852, 'lumbar': 1540, 'daughter': 652, 'gent': 1112, 'ivfs': 1403, 'begin': 267, 'omeprazole': 1838, 'cannula': 369, 'crackles': 613, 'suspicion': 2617, 'bacterial': 241, 'protected': 2125, 'oxygen': 1887, 'requirement': 2280, 'improving': 1299, 'viral': 2900, 'afternoon': 61, 'coming': 507, 'critical': 621, 'entered': 894, 'criteria': 620, 'enlarged': 892, 'somewhat': 2496, 'fusion': 1088, 'graft': 1140, 'prbcs': 2062, 'osa': 1868, 'mod': 1666, 'ablation': 7, 'aaa': 0, 'arthritis': 177, 'gout': 1137, 'hypothyroidism': 1265, 'bph': 318, 'furosemide': 1087, 'levothyroxine': 1483, 'incision': 1304, 'pacer': 1894, 'ulcers': 2818, 'lle': 1512, 'dressing': 807, 'kept': 1418, 'cream': 616, 'applied': 151, 'retroperitoneal': 2308, 'ductal': 825, 'dilation': 744, 'hematocrit': 1184, 'interim': 1366, 'pubic': 2143, 'symphysis': 2635, 'reformatted': 2232, 'contour': 571, 'biliary': 285, 'duct': 824, 'stones': 2562, 'colon': 497, 'caliber': 361, 'colonic': 498, 'diverticulitis': 775, 'dense': 692, 'urinary': 2845, 'bladder': 294, 'stranding': 2567, 'attempts': 213, 'cholelithiasis': 440, 'diverticulosis': 776, 'palliative': 1905, 'bicarbonate': 276, 'hydromorphone': 1242, 'gen': 1108, 'frequently': 1079, 'anasarca': 108, 'tongue': 2741, 'eomi': 897, 'pitting': 1999, 'intermittently': 1368, 'digits': 739, 'regimen': 2236, 'appreciate': 152, 'malignancy': 1571, 'gross': 1148, 'rectum': 2220, 'red': 2222, 'declined': 662, 'stick': 2554, 'creatinine': 618, 'hypovolemia': 1266, 'leukocytosis': 1476, 'reaction': 2195, 'determine': 706, 'pneumoboots': 2025, 'planned': 2006, 'chemo': 429, 'notable': 1788, 'distention': 770, 'length': 1470, 'starting': 2535, 'remainder': 2249, 'outlined': 1872, 'tsicu': 2794, 'fell': 1002, 'ground': 1150, 'disorder': 761, 'induced': 1320, 'dilantin': 741, 'pepcid': 1958, 'indicating': 1317, 'sz': 2643, 'load': 1515, 'ss': 2524, 'closed': 466, 'ivc': 1401, 'filter': 1027, 'denied': 690, 'indwelling': 1321, 'ray': 2190, 'cipro': 444, 'double': 796, 'send': 2409, 'swab': 2626, 'therapeutic': 2689, 'pump': 2151, 'seems': 2399, 'pivs': 2001, 'multifocal': 1702, 'pacemaker': 1893, 'gestation': 1114, 'twin': 2805, 'parenchymal': 1922, 'parietal': 1924, 'route': 2339, 'gcs': 1106, 'uncal': 2823, 'ue': 2813, 'mannitol': 1575, 'documented': 785, 'oozing': 1844, 'teeth': 2668, 'focused': 1056, 'emergency': 874, 'reveal': 2311, 'reflect': 2227, 'compatible': 518, 'rounded': 2337, 'hemidiaphragm': 1189, 'tracheal': 2757, 'esophagus': 911, 'completely': 525, 'opacified': 1847, 'sitting': 2469, 'dim': 748, 'cp': 607, 'amiodarone': 97, 'married': 1583, 'four': 1071, 'recheck': 2207, 'coags': 478, 'pancreatic': 1912, 'percutaneous': 1962, 'getting': 1116, 'distinct': 771, 'sensation': 2411, 'legs': 1469, 'cellulitis': 413, 'used': 2850, 'yet': 2993, 'problem': 2100, 'flatus': 1043, 'kub': 1425, 'mets': 1638, 'infiltration': 1334, 'involvement': 1388, 'wishes': 2962, 'daughters': 653, 'gave': 1104, 'potassium': 2055, 'swallowing': 2628, 'scattered': 2382, 'coccyx': 482, 'reported': 2268, 'cd': 404, 'put': 2155, 'come': 503, 'sda': 2389, 'radiographs': 2180, 'neurosurgery': 1751, 'foot': 1065, 'struck': 2572, 'reflex': 2228, 'nad': 1721, 'external': 961, 'movements': 1689, 'cranial': 614, 'tracking': 2760, 'triple': 2786, 'reflexes': 2229, 'causing': 396, 'skull': 2474, 'effacement': 854, 'subsequent': 2585, 'resulting': 2302, 'smaller': 2488, 'hemothorax': 1198, 'apparent': 143, 'intervention': 1373, 'addition': 36, 'little': 1508, 'stopped': 2566, 'make': 1566, 'dropping': 815, 'sp': 2501, 'died': 728, 'stone': 2561, 'transient': 2768, 'saturation': 2370, 'onset': 1842, 'allowing': 86, 'psych': 2137, 'facility': 975, 'page': 1900, 'numeric': 1808, 'identifier': 1280, 'standard': 2531, 'triggering': 2785, 'form': 1067, 'transported': 2771, 'coiling': 487, 'prosthesis': 2123, 'mso': 1697, 'pvc': 2156, 'coughing': 599, 'ace': 22, 'round': 2336, 'nontender': 1782, 'making': 1568, 'sites': 2468, 'spont': 2518, 'tv': 2803, 'slow': 2481, 'vea': 2871, 'fs': 1083, 'pulled': 2145, 'sxn': 2633, 'tinged': 2718, 'hd': 1172, 'hyperlipidemia': 1248, 'nrb': 1799, 'infiltrates': 1333, 'tamponade': 2656, 'xrt': 2986, 'rij': 2324, 'protonix': 2129, 'simvastatin': 2460, 'metronidazole': 1637, 'hematuria': 1187, 'progressive': 2112, 'therapy': 2690, 'pack': 1896, 'preliminary': 2071, 'ua': 2811, 'empiric': 879, 'bands': 248, 'inflammation': 1335, 'abscess': 13, 'urosepsis': 2847, 'curve': 633, 'anion': 117, 'saline': 2365, 'qid': 2162, 'velocity': 2876, 'excursion': 948, 'fibrosis': 1020, 'demonstrated': 687, 'droop': 812, 'repeated': 2260, 'problems': 2101, 'etc': 917, 'oropharynx': 1865, 'answer': 121, 'heard': 1176, 'close': 465, 'brisk': 336, 'strength': 2568, 'moves': 1690, 'hand': 1164, 'protein': 2127, 'subfalcine': 2582, 'medial': 1611, 'cistern': 448, 'territorial': 2683, 'subtle': 2587, 'metastases': 1633, 'twice': 2804, 'every': 934, 'atorvastatin': 204, 'tablet': 2645, 'vitamin': 2910, 'mvi': 1714, 'extremely': 964, 'newly': 1756, 'trachea': 2756, 'fine': 1031, 'needle': 1740, 'evacuation': 923, 'beginning': 268, 'sips': 2465, 'cardiomyopathy': 379, 'stents': 2549, 'falls': 981, 'syncope': 2637, 'monday': 1672, 'repletion': 2265, 'fast': 987, 'transfered': 2763, 'levels': 1479, 'concerned': 534, 'avl': 224, 'repositioning': 2272, 'airspace': 71, 'appetite': 150, 'nicardipine': 1762, 'stimulation': 2557, 'brown': 344, 'nondistended': 1778, 'discuss': 756, 'meet': 1621, 'mon': 1671, 'redistribution': 2223, 'lying': 1548, 'vena': 2877, 'cava': 397, 'sign': 2450, 'suspect': 2615, 'muscles': 1709, 'audible': 218, 'covered': 606, 'sterile': 2550, 'dsg': 822, 'presently': 2083, 'dilt': 746, 'afib': 60, 'receive': 2202, 'protect': 2124, 'flutter': 1052, 'initials': 1346, 'hypodense': 1255, 'detail': 703, 'cortical': 596, 'hyperdense': 1244, 'parenchyma': 1921, 'ganglia': 1097, 'ams': 103, 'transfused': 2766, 'lavage': 1453, 'octreotide': 1832, 'sx': 2632, 'liquid': 1502, 'beta': 271, 'nicu': 1763, 'origin': 1864, 'serum': 2420, 'mb': 1595, 'took': 2743, 'ntg': 1805, 'wk': 2970, 'run': 2352, 'ce': 406, 'elongated': 869, 'severity': 2429, 'valvular': 2861, 'mvp': 1715, 'ejection': 861, 'sternotomy': 2552, 'bones': 311, 'labor': 1432, 'ds': 820, 'solumedrol': 2495, 'epi': 900, 'sl': 2475, 'hypoglycemia': 1258, 'extending': 956, 'markedly': 1581, 'angle': 115, 'mediastinum': 1614, 'factors': 976, 'unsuccessful': 2837, 'filled': 1023, 'qhs': 2161, 'deformity': 674, 'expected': 952, 'j': 1405, 'pronounced': 2119, 'qtc': 2165, 'complex': 526, 'positioned': 2044, 'correlate': 594, 'dextrose': 714, 'band': 247, 'sigmoid': 2449, 'noc': 1770, 'overnoc': 1882, 'lymphoma': 1552, 'etiologies': 919, 'presence': 2078, 'staff': 2527, 'ends': 889, 'board': 304, 'transverse': 2774, 'safety': 2362, 'angio': 112, 'epigastric': 902, 'way': 2933, 'hourly': 1225, 'rt': 2345, 'freq': 1077, 'sec': 2391, 'grunting': 1152, 'sized': 2472, 'tract': 2761, 'hydronephrosis': 1243, 'pole': 2033, 'hazy': 1166, 'glass': 1124, 'like': 1492, 'uncertain': 2824, 'occ': 1825, 'desats': 698, 'parents': 1923, 'admissions': 49, 'brbpr': 327, 'ankle': 118, 'heterogeneous': 1205, 'dark': 648, 'perforation': 1963, 'extravasation': 963, 'arousable': 168, 'calm': 364, 'thigh': 2698, 'consistently': 553, 'weak': 2935, 'pap': 1916, 'refused': 2233, 'cdiff': 405, 'suspected': 2616, 'alcoholic': 79, 'resection': 2282, 'ddx': 657, 'insufficiency': 1359, 'exams': 944, 'tpn': 2752, 'cholangitis': 437, 'contusions': 580, 'attenuation': 216, 'considered': 550, 'asymmetric': 196, 'reconstruction': 2213, 'demonstrates': 688, 'erythema': 909, 'lightheadedness': 1491, 'drops': 816, 'inguinal': 1343, 'retired': 2305, 'quit': 2173, 'yrs': 2996, 'aga': 63, 'refill': 2226, 'trial': 2782, 'copious': 586, 'attempt': 210, 'maintenance': 1564, 'cns': 476, 'awake': 229, 'protection': 2126, 'cpk': 609, 'vol': 2913, 'bilirubin': 287, 'transtentorial': 2773, 'cisterns': 449, 'phase': 1986, 'neurological': 1749, 'qd': 2160, 'icp': 1275, 'pac': 1891, 'gravity': 1143, 'light': 1490, 'situation': 2470, 'wed': 2940, 'fissure': 1036, 'reconstructions': 2214, 'scalp': 2378, 'nonionic': 1780, 'nodes': 1772, 'airways': 73, 'segmental': 2402, 'ge': 1107, 'cysts': 645, 'characterize': 423, 'pathologically': 1936, 'mesenteric': 1630, 'pn': 2022, 'feed': 995, 'temps': 2676, 'wob': 2972, 'surfactant': 2611, 'sw': 2625, 'temporary': 2675, 'mom': 1670, 'transplant': 2770, 'cards': 382, 'hcl': 1167, 'plavix': 2011, 'bright': 335, 'yes': 2991, 'trying': 2792, 'peg': 1952, 'presentation': 2080, 'already': 89, 'decubitus': 666, 'especially': 912, 'differentiation': 733, 'csf': 623, 'displaced': 762, 'angiogram': 113, 'parameters': 1919, 'questionable': 2169, 'injection': 1348, 'recommend': 2209, 'obesity': 1816, 'delirium': 681, 'communicating': 513, 'overbreathing': 1877, 'food': 1064, 'mdi': 1605, 'clamped': 455, 'retrocardiac': 2307, 'period': 1971, 'tachy': 2647, 'emergent': 875, 'pnd': 2024, 'ranging': 2185, 'medicated': 1616, 'running': 2353, 'lg': 1487, 'cleared': 458, 'rupture': 2355, 'laceration': 1435, 'lnc': 1514, 'atropine': 208, 'degrees': 677, 'touch': 2748, 'rising': 2325, 'projects': 2114, 'ag': 62, 'complaining': 520, 'embolism': 871, 'oblique': 1818, 'reformations': 2230, 'node': 1771, 'dopplerable': 791, 'additionally': 38, 'flank': 1041, 'splenic': 2514, 'nkda': 1767, 'prenatal': 2074, 'rom': 2332, 'term': 2680, 'black': 293, 'pneumocephalus': 2026, 'phenylephrine': 1987, 'inability': 1300, 'intrahepatic': 1378, 'contains': 564, 'sludge': 2483, 'fatty': 992, 'atrophy': 207, 'atherosclerotic': 201, 'catheterization': 393, 'collapsed': 493, 'bifurcation': 278, 'vehicle': 2873, 'accident': 20, 'dev': 708, 'wgt': 2949, 'colonoscopy': 499, 'lack': 1436, 'responded': 2290, 'medicine': 1619, 'colectomy': 490, 'amio': 96, 'inflammatory': 1336, 'splenomegaly': 2515, 'celiac': 410, 'sma': 2486, 'rhonchorous': 2318, 'temperature': 2673, 'dorsalis': 792, 'pedis': 1950, 'clean': 456, 'sao': 2366, 'depressions': 697, 'penicillins': 1957, 'diffusely': 737, 'containing': 563, 'dehydration': 678, 'move': 1687, 'long': 1523, 'hepatitis': 1202, 'colace': 488, 'phone': 1988, 'mvr': 1716, 'dementia': 684, 'quickly': 2171, 'tab': 2644, 'mca': 1596, 'living': 1511, 'somnolent': 2497, 'jvd': 1413, 'prefixes': 2068, 'formation': 1068, 'cholecystitis': 439, 'cystic': 644, 'request': 2276, 'bair': 244, 'hugger': 1235, 'becomes': 262, 'mean': 1606, 'calf': 360, 'colored': 501, 'gain': 1093, 'legionella': 1468, 'pls': 2015, 'indications': 1319, 'bcx': 257, 'tolerates': 2737, 'median': 1612, 'babygram': 238, 'prematurity': 2073, 'positioning': 2045, 'avr': 226, 'labetolol': 1430, 'essentially': 914, 'standing': 2532, 'scope': 2387, 'hep': 1199, 'midnight': 1648, 'fashion': 986, 'particularly': 1928, 'deficiency': 670, 'intraperitoneal': 1381, 'entire': 895, 'uterus': 2853, 'sheath': 2432, 'subsegmental': 2584, 'cbd': 401, 'procedural': 2102, 'pel': 1953, 'branches': 326, 'meningitis': 1626, 'drinking': 809, 'atypical': 217, 'embolization': 872, 'cpt': 611, 'codes': 484, 'sel': 2406, 'radiologist': 2181, 'arteriogram': 175, 'risks': 2327, 'prepped': 2077, 'draped': 804, 'guidance': 1160, 'french': 1076, 'successful': 2588, 'ho': 1217, 'guiac': 1158, 'lt': 1537, 'fossa': 1069, 'bodies': 305, 'predominantly': 2067, 'rx': 2359, 'capsule': 371, 'cavernous': 398, 'balloon': 246, 'ip': 1391, 'takes': 2654, 'hematemesis': 1183, 'discharged': 753, 'never': 1753, 'increasingly': 1313, 'melena': 1623, 'overdose': 1878, 'coiled': 486, 'lethargy': 1475, 'duodenal': 827, 'immediately': 1293, 'pda': 1944, 'persists': 1981, 'routine': 2340, 'lue': 1538, 'alveolar': 94, 'adjusted': 44, 'finger': 1032, 'ionized': 1390, 'specifics': 2506, 'got': 1136, 'nh': 1760, 'speak': 2503, 'maintaining': 1563, 'hcts': 1171, 'jp': 1408, 'exertion': 949, 'rca': 2192, 'om': 1837, 'occluded': 1829, 'lcx': 1456, 'digoxin': 740, 'stasis': 2536, 'docusate': 786, 'stenting': 2548, 'gallstones': 1096, 'endoscopy': 887, 'svg': 2622, 'flight': 1044, 'ciprofloxacin': 445, 'candidate': 368, 'mva': 1712, 'ileus': 1284, 'eventually': 933, 'tpa': 2751, 'ugib': 2815, 'bil': 279, 'dosing': 795, 'incident': 1303, 'press': 2086, 'transports': 2772, 'destination': 702, 'intracerebral': 1376, 'latest': 1452, 'prelim': 2070, 'visiting': 2904, 'asd': 182, 'guid': 1159, 'wide': 2955, 'embolus': 873, 'edematous': 851, 'humalog': 1236, 'collections': 496, 'incompletely': 1309, 'characterized': 424, 'vascularity': 2868, 'observed': 1819, 'gland': 1122, 'aeration': 57, 'bradycardic': 323, 'levaquin': 1477, 'convexity': 581, 'await': 227, 'dka': 778, 'sig': 2448, 'uvc': 2855, 'widening': 2957, 'reactions': 2196, 'uac': 2812, 'remote': 2253, 'wedge': 2941, 'valuables': 2859, 'wallet': 2925, 'money': 1673, 'abp': 12, 'epinephrine': 903, 'sac': 2360, 'direct': 750, 'emboli': 870, 'svt': 2624, 'friend': 1081, 'revised': 2316, 'flair': 1040, 'preoperative': 2076, 'territory': 2684, 'gif': 1119}\n",
      "<class 'sklearn.feature_extraction.text.CountVectorizer'>\n",
      "False\n"
     ]
    }
   ],
   "source": [
    "print(vect.vocabulary_)\n",
    "print(type(vect))\n",
    "print(vect.fixed_vocabulary_)"
   ]
  },
  {
   "cell_type": "code",
   "execution_count": 42,
   "metadata": {},
   "outputs": [
    {
     "data": {
      "text/html": [
       "<div>\n",
       "<style scoped>\n",
       "    .dataframe tbody tr th:only-of-type {\n",
       "        vertical-align: middle;\n",
       "    }\n",
       "\n",
       "    .dataframe tbody tr th {\n",
       "        vertical-align: top;\n",
       "    }\n",
       "\n",
       "    .dataframe thead th {\n",
       "        text-align: right;\n",
       "    }\n",
       "</style>\n",
       "<table border=\"1\" class=\"dataframe\">\n",
       "  <thead>\n",
       "    <tr style=\"text-align: right;\">\n",
       "      <th></th>\n",
       "      <th>HADM_ID</th>\n",
       "      <th>SUBJECT_ID</th>\n",
       "      <th>ADMITTIME</th>\n",
       "      <th>HOSPITAL_EXPIRE_FLAG</th>\n",
       "      <th>CHARTDATE</th>\n",
       "      <th>CATEGORY</th>\n",
       "      <th>TEXT</th>\n",
       "      <th>ENDTIME</th>\n",
       "    </tr>\n",
       "  </thead>\n",
       "  <tbody>\n",
       "    <tr>\n",
       "      <th>0</th>\n",
       "      <td>181364</td>\n",
       "      <td>67473</td>\n",
       "      <td>2114-06-14 23:17:00</td>\n",
       "      <td>0</td>\n",
       "      <td>2114-06-14 00:00:00</td>\n",
       "      <td>Radiology</td>\n",
       "      <td>[**2114-6-14**] 8:03 PM  CHEST (PORTABLE AP)  ...</td>\n",
       "      <td>2114-06-15 23:17:00</td>\n",
       "    </tr>\n",
       "    <tr>\n",
       "      <th>1</th>\n",
       "      <td>108256</td>\n",
       "      <td>28894</td>\n",
       "      <td>2103-02-05 05:09:00</td>\n",
       "      <td>1</td>\n",
       "      <td>2103-02-05 00:00:00</td>\n",
       "      <td>ECG</td>\n",
       "      <td>Sinus rhythm with atrial premature beats.  Con...</td>\n",
       "      <td>2103-02-06 05:09:00</td>\n",
       "    </tr>\n",
       "    <tr>\n",
       "      <th>2</th>\n",
       "      <td>199714</td>\n",
       "      <td>8444</td>\n",
       "      <td>2128-02-01 19:05:00</td>\n",
       "      <td>1</td>\n",
       "      <td>2128-02-02 00:00:00</td>\n",
       "      <td>Echo</td>\n",
       "      <td>PATIENT/TEST INFORMATION: Indication: Aortic v...</td>\n",
       "      <td>2128-02-02 19:05:00</td>\n",
       "    </tr>\n",
       "    <tr>\n",
       "      <th>3</th>\n",
       "      <td>125450</td>\n",
       "      <td>85689</td>\n",
       "      <td>2176-03-11 02:50:00</td>\n",
       "      <td>0</td>\n",
       "      <td>2176-03-11 00:00:00</td>\n",
       "      <td>Physician</td>\n",
       "      <td>Chief Complaint: MVC    HPI:     25F s/p high ...</td>\n",
       "      <td>2176-03-12 02:50:00</td>\n",
       "    </tr>\n",
       "    <tr>\n",
       "      <th>4</th>\n",
       "      <td>193055</td>\n",
       "      <td>11892</td>\n",
       "      <td>2152-06-26 17:33:00</td>\n",
       "      <td>0</td>\n",
       "      <td>2152-06-27 00:00:00</td>\n",
       "      <td>Radiology</td>\n",
       "      <td>[**2152-6-27**] 7:51 AM  CAROTID SERIES COMPLE...</td>\n",
       "      <td>2152-06-27 17:33:00</td>\n",
       "    </tr>\n",
       "  </tbody>\n",
       "</table>\n",
       "</div>"
      ],
      "text/plain": [
       "   HADM_ID  SUBJECT_ID            ADMITTIME  HOSPITAL_EXPIRE_FLAG  \\\n",
       "0   181364       67473  2114-06-14 23:17:00                     0   \n",
       "1   108256       28894  2103-02-05 05:09:00                     1   \n",
       "2   199714        8444  2128-02-01 19:05:00                     1   \n",
       "3   125450       85689  2176-03-11 02:50:00                     0   \n",
       "4   193055       11892  2152-06-26 17:33:00                     0   \n",
       "\n",
       "             CHARTDATE    CATEGORY  \\\n",
       "0  2114-06-14 00:00:00   Radiology   \n",
       "1  2103-02-05 00:00:00         ECG   \n",
       "2  2128-02-02 00:00:00        Echo   \n",
       "3  2176-03-11 00:00:00  Physician    \n",
       "4  2152-06-27 00:00:00   Radiology   \n",
       "\n",
       "                                                TEXT              ENDTIME  \n",
       "0  [**2114-6-14**] 8:03 PM  CHEST (PORTABLE AP)  ...  2114-06-15 23:17:00  \n",
       "1  Sinus rhythm with atrial premature beats.  Con...  2103-02-06 05:09:00  \n",
       "2  PATIENT/TEST INFORMATION: Indication: Aortic v...  2128-02-02 19:05:00  \n",
       "3  Chief Complaint: MVC    HPI:     25F s/p high ...  2176-03-12 02:50:00  \n",
       "4  [**2152-6-27**] 7:51 AM  CAROTID SERIES COMPLE...  2152-06-27 17:33:00  "
      ]
     },
     "execution_count": 42,
     "metadata": {},
     "output_type": "execute_result"
    }
   ],
   "source": [
    "df_train_final.head()\n"
   ]
  },
  {
   "cell_type": "markdown",
   "metadata": {},
   "source": [
    "We can get an idea of the frequency of words for positive vs negative mortality. This section was based on code from https://towardsdatascience.com/another-twitter-sentiment-analysis-with-python-part-2-333514854913"
   ]
  },
  {
   "cell_type": "code",
   "execution_count": 43,
   "metadata": {
    "scrolled": true
   },
   "outputs": [
    {
     "data": {
      "text/html": [
       "<div>\n",
       "<style scoped>\n",
       "    .dataframe tbody tr th:only-of-type {\n",
       "        vertical-align: middle;\n",
       "    }\n",
       "\n",
       "    .dataframe tbody tr th {\n",
       "        vertical-align: top;\n",
       "    }\n",
       "\n",
       "    .dataframe thead th {\n",
       "        text-align: right;\n",
       "    }\n",
       "</style>\n",
       "<table border=\"1\" class=\"dataframe\">\n",
       "  <thead>\n",
       "    <tr style=\"text-align: right;\">\n",
       "      <th></th>\n",
       "      <th>negative</th>\n",
       "      <th>positive</th>\n",
       "      <th>total</th>\n",
       "    </tr>\n",
       "  </thead>\n",
       "  <tbody>\n",
       "    <tr>\n",
       "      <th>pt</th>\n",
       "      <td>49149</td>\n",
       "      <td>54914</td>\n",
       "      <td>104063</td>\n",
       "    </tr>\n",
       "    <tr>\n",
       "      <th>left</th>\n",
       "      <td>40131</td>\n",
       "      <td>48228</td>\n",
       "      <td>88359</td>\n",
       "    </tr>\n",
       "    <tr>\n",
       "      <th>right</th>\n",
       "      <td>36639</td>\n",
       "      <td>46445</td>\n",
       "      <td>83084</td>\n",
       "    </tr>\n",
       "    <tr>\n",
       "      <th>name</th>\n",
       "      <td>36184</td>\n",
       "      <td>40901</td>\n",
       "      <td>77085</td>\n",
       "    </tr>\n",
       "    <tr>\n",
       "      <th>mg</th>\n",
       "      <td>32253</td>\n",
       "      <td>30493</td>\n",
       "      <td>62746</td>\n",
       "    </tr>\n",
       "    <tr>\n",
       "      <th>ml</th>\n",
       "      <td>29634</td>\n",
       "      <td>26223</td>\n",
       "      <td>55857</td>\n",
       "    </tr>\n",
       "    <tr>\n",
       "      <th>patient</th>\n",
       "      <td>24720</td>\n",
       "      <td>30221</td>\n",
       "      <td>54941</td>\n",
       "    </tr>\n",
       "    <tr>\n",
       "      <th>hospital</th>\n",
       "      <td>25037</td>\n",
       "      <td>29564</td>\n",
       "      <td>54601</td>\n",
       "    </tr>\n",
       "    <tr>\n",
       "      <th>l</th>\n",
       "      <td>26880</td>\n",
       "      <td>25263</td>\n",
       "      <td>52143</td>\n",
       "    </tr>\n",
       "    <tr>\n",
       "      <th>reason</th>\n",
       "      <td>22579</td>\n",
       "      <td>28045</td>\n",
       "      <td>50624</td>\n",
       "    </tr>\n",
       "    <tr>\n",
       "      <th>clip</th>\n",
       "      <td>22431</td>\n",
       "      <td>27342</td>\n",
       "      <td>49773</td>\n",
       "    </tr>\n",
       "    <tr>\n",
       "      <th>pm</th>\n",
       "      <td>22824</td>\n",
       "      <td>26838</td>\n",
       "      <td>49662</td>\n",
       "    </tr>\n",
       "    <tr>\n",
       "      <th>chest</th>\n",
       "      <td>23819</td>\n",
       "      <td>25723</td>\n",
       "      <td>49542</td>\n",
       "    </tr>\n",
       "    <tr>\n",
       "      <th>normal</th>\n",
       "      <td>27751</td>\n",
       "      <td>20993</td>\n",
       "      <td>48744</td>\n",
       "    </tr>\n",
       "    <tr>\n",
       "      <th>p</th>\n",
       "      <td>25355</td>\n",
       "      <td>23303</td>\n",
       "      <td>48658</td>\n",
       "    </tr>\n",
       "    <tr>\n",
       "      <th>w</th>\n",
       "      <td>23365</td>\n",
       "      <td>25119</td>\n",
       "      <td>48484</td>\n",
       "    </tr>\n",
       "    <tr>\n",
       "      <th>ct</th>\n",
       "      <td>20908</td>\n",
       "      <td>27063</td>\n",
       "      <td>47971</td>\n",
       "    </tr>\n",
       "    <tr>\n",
       "      <th>c</th>\n",
       "      <td>25284</td>\n",
       "      <td>22311</td>\n",
       "      <td>47595</td>\n",
       "    </tr>\n",
       "    <tr>\n",
       "      <th>last</th>\n",
       "      <td>21795</td>\n",
       "      <td>23204</td>\n",
       "      <td>44999</td>\n",
       "    </tr>\n",
       "    <tr>\n",
       "      <th>contrast</th>\n",
       "      <td>19189</td>\n",
       "      <td>23469</td>\n",
       "      <td>42658</td>\n",
       "    </tr>\n",
       "  </tbody>\n",
       "</table>\n",
       "</div>"
      ],
      "text/plain": [
       "          negative  positive   total\n",
       "pt           49149     54914  104063\n",
       "left         40131     48228   88359\n",
       "right        36639     46445   83084\n",
       "name         36184     40901   77085\n",
       "mg           32253     30493   62746\n",
       "ml           29634     26223   55857\n",
       "patient      24720     30221   54941\n",
       "hospital     25037     29564   54601\n",
       "l            26880     25263   52143\n",
       "reason       22579     28045   50624\n",
       "clip         22431     27342   49773\n",
       "pm           22824     26838   49662\n",
       "chest        23819     25723   49542\n",
       "normal       27751     20993   48744\n",
       "p            25355     23303   48658\n",
       "w            23365     25119   48484\n",
       "ct           20908     27063   47971\n",
       "c            25284     22311   47595\n",
       "last         21795     23204   44999\n",
       "contrast     19189     23469   42658"
      ]
     },
     "execution_count": 43,
     "metadata": {},
     "output_type": "execute_result"
    }
   ],
   "source": [
    "#Next visualize find the most frequent words.\n",
    "\n",
    "import matplotlib.pyplot as plt\n",
    "\n",
    "neg_doc_matrix = vect.transform(df_train_final[df_train_final.HOSPITAL_EXPIRE_FLAG == 0].TEXT)\n",
    "pos_doc_matrix = vect.transform(df_train_final[df_train_final.HOSPITAL_EXPIRE_FLAG == 1].TEXT)\n",
    "neg_tf = np.sum(neg_doc_matrix,axis=0)\n",
    "pos_tf = np.sum(pos_doc_matrix,axis=0)\n",
    "neg = np.squeeze(np.asarray(neg_tf))\n",
    "pos = np.squeeze(np.asarray(pos_tf))\n",
    "\n",
    "term_freq_df = pd.DataFrame([neg,pos],columns=vect.get_feature_names()).transpose()\n",
    "term_freq_df.columns = ['negative', 'positive']\n",
    "term_freq_df['total'] = term_freq_df['negative'] + term_freq_df['positive']\n",
    "term_freq_df.sort_values(by='total', ascending=False).iloc[:20]\n"
   ]
  },
  {
   "cell_type": "code",
   "execution_count": 44,
   "metadata": {},
   "outputs": [
    {
     "data": {
      "image/png": "[encoded data removed]",
      "text/plain": [
       "<Figure size 720x432 with 1 Axes>"
      ]
     },
     "metadata": {
      "needs_background": "light"
     },
     "output_type": "display_data"
    },
    {
     "data": {
      "image/png": "[encoded data removed]",
      "text/plain": [
       "<Figure size 720x432 with 1 Axes>"
      ]
     },
     "metadata": {
      "needs_background": "light"
     },
     "output_type": "display_data"
    }
   ],
   "source": [
    "#Create a series from the sparse matrix\n",
    "d = pd.Series(term_freq_df.total, \n",
    "              index = term_freq_df.index).sort_values(ascending=False)\n",
    "\n",
    "#Visualize the 100 most frequent words in the text\n",
    "ax = d[:50].plot(kind='bar', figsize=(10,6), width=.8, fontsize=14, rot=90,color = 'b')\n",
    "ax.title.set_size(18)\n",
    "plt.title('Most Frequent Words in Caregiver Notes')\n",
    "plt.ylabel('count')\n",
    "plt.show()\n",
    "ax = d[50:100].plot(kind='bar', figsize=(10,6), width=.8, fontsize=14, rot=90,color = 'b')\n",
    "ax.title.set_size(18)\n",
    "plt.ylabel('count')\n",
    "plt.show()"
   ]
  },
  {
   "cell_type": "code",
   "execution_count": 45,
   "metadata": {
    "scrolled": false
   },
   "outputs": [],
   "source": [
    "#with np.printoptions(threshold=np.inf):\n",
    " #   print(neg_doc_matrix)"
   ]
  },
  {
   "cell_type": "code",
   "execution_count": 46,
   "metadata": {},
   "outputs": [],
   "source": [
    "stopwords_updated = list(stopwords) + ['pt', 'left', 'right', 'name','patient', 'p','w','c']\n"
   ]
  },
  {
   "cell_type": "markdown",
   "metadata": {},
   "source": [
    "Add the list of stop words as an argument for CountVectorizer"
   ]
  },
  {
   "cell_type": "code",
   "execution_count": 47,
   "metadata": {},
   "outputs": [
    {
     "name": "stderr",
     "output_type": "stream",
     "text": [
      "C:\\Users\\caras\\anaconda3\\lib\\site-packages\\sklearn\\feature_extraction\\text.py:484: UserWarning: The parameter 'token_pattern' will not be used since 'tokenizer' is not None'\n",
      "  warnings.warn(\"The parameter 'token_pattern' will not be used\"\n"
     ]
    },
    {
     "data": {
      "text/plain": [
       "CountVectorizer(max_features=3000,\n",
       "                stop_words=['here', 'do', 'theirs', 'if', 'against', 'over',\n",
       "                            'few', \"you're\", \"didn't\", 'before', 'a', 'shouldn',\n",
       "                            'at', 'just', 'in', 'not', \"needn't\", 'herself',\n",
       "                            'too', 'because', 't', 'll', 'am', 'wouldn',\n",
       "                            'about', 're', 'won', 'so', 'were', 'hers', ...],\n",
       "                tokenizer=<function text_tokenizer at 0x000001DF74692AF0>)"
      ]
     },
     "execution_count": 47,
     "metadata": {},
     "output_type": "execute_result"
    }
   ],
   "source": [
    "\n",
    "from sklearn.feature_extraction.text import CountVectorizer\n",
    "vect = CountVectorizer(max_features = 3000, \n",
    "                       tokenizer = text_tokenizer, \n",
    "                       stop_words = stopwords_updated)\n",
    "# this could take a while\n",
    "vect.fit(df_train_final.TEXT.values)"
   ]
  },
  {
   "cell_type": "code",
   "execution_count": 48,
   "metadata": {
    "scrolled": true
   },
   "outputs": [
    {
     "data": {
      "text/html": [
       "<div>\n",
       "<style scoped>\n",
       "    .dataframe tbody tr th:only-of-type {\n",
       "        vertical-align: middle;\n",
       "    }\n",
       "\n",
       "    .dataframe tbody tr th {\n",
       "        vertical-align: top;\n",
       "    }\n",
       "\n",
       "    .dataframe thead th {\n",
       "        text-align: right;\n",
       "    }\n",
       "</style>\n",
       "<table border=\"1\" class=\"dataframe\">\n",
       "  <thead>\n",
       "    <tr style=\"text-align: right;\">\n",
       "      <th></th>\n",
       "      <th>negative</th>\n",
       "      <th>positive</th>\n",
       "      <th>total</th>\n",
       "    </tr>\n",
       "  </thead>\n",
       "  <tbody>\n",
       "    <tr>\n",
       "      <th>mg</th>\n",
       "      <td>32253</td>\n",
       "      <td>30493</td>\n",
       "      <td>62746</td>\n",
       "    </tr>\n",
       "    <tr>\n",
       "      <th>ml</th>\n",
       "      <td>29634</td>\n",
       "      <td>26223</td>\n",
       "      <td>55857</td>\n",
       "    </tr>\n",
       "    <tr>\n",
       "      <th>hospital</th>\n",
       "      <td>25037</td>\n",
       "      <td>29564</td>\n",
       "      <td>54601</td>\n",
       "    </tr>\n",
       "    <tr>\n",
       "      <th>l</th>\n",
       "      <td>26880</td>\n",
       "      <td>25263</td>\n",
       "      <td>52143</td>\n",
       "    </tr>\n",
       "    <tr>\n",
       "      <th>reason</th>\n",
       "      <td>22579</td>\n",
       "      <td>28045</td>\n",
       "      <td>50624</td>\n",
       "    </tr>\n",
       "    <tr>\n",
       "      <th>clip</th>\n",
       "      <td>22431</td>\n",
       "      <td>27342</td>\n",
       "      <td>49773</td>\n",
       "    </tr>\n",
       "    <tr>\n",
       "      <th>pm</th>\n",
       "      <td>22824</td>\n",
       "      <td>26838</td>\n",
       "      <td>49662</td>\n",
       "    </tr>\n",
       "    <tr>\n",
       "      <th>chest</th>\n",
       "      <td>23819</td>\n",
       "      <td>25723</td>\n",
       "      <td>49542</td>\n",
       "    </tr>\n",
       "    <tr>\n",
       "      <th>normal</th>\n",
       "      <td>27751</td>\n",
       "      <td>20993</td>\n",
       "      <td>48744</td>\n",
       "    </tr>\n",
       "    <tr>\n",
       "      <th>ct</th>\n",
       "      <td>20908</td>\n",
       "      <td>27063</td>\n",
       "      <td>47971</td>\n",
       "    </tr>\n",
       "    <tr>\n",
       "      <th>last</th>\n",
       "      <td>21795</td>\n",
       "      <td>23204</td>\n",
       "      <td>44999</td>\n",
       "    </tr>\n",
       "    <tr>\n",
       "      <th>contrast</th>\n",
       "      <td>19189</td>\n",
       "      <td>23469</td>\n",
       "      <td>42658</td>\n",
       "    </tr>\n",
       "    <tr>\n",
       "      <th>plan</th>\n",
       "      <td>19684</td>\n",
       "      <td>17745</td>\n",
       "      <td>37429</td>\n",
       "    </tr>\n",
       "    <tr>\n",
       "      <th>hr</th>\n",
       "      <td>18649</td>\n",
       "      <td>18505</td>\n",
       "      <td>37154</td>\n",
       "    </tr>\n",
       "    <tr>\n",
       "      <th>pain</th>\n",
       "      <td>21730</td>\n",
       "      <td>14223</td>\n",
       "      <td>35953</td>\n",
       "    </tr>\n",
       "    <tr>\n",
       "      <th>old</th>\n",
       "      <td>16264</td>\n",
       "      <td>19552</td>\n",
       "      <td>35816</td>\n",
       "    </tr>\n",
       "    <tr>\n",
       "      <th>history</th>\n",
       "      <td>16890</td>\n",
       "      <td>18173</td>\n",
       "      <td>35063</td>\n",
       "    </tr>\n",
       "    <tr>\n",
       "      <th>given</th>\n",
       "      <td>16025</td>\n",
       "      <td>17914</td>\n",
       "      <td>33939</td>\n",
       "    </tr>\n",
       "    <tr>\n",
       "      <th>year</th>\n",
       "      <td>15334</td>\n",
       "      <td>18536</td>\n",
       "      <td>33870</td>\n",
       "    </tr>\n",
       "    <tr>\n",
       "      <th>radiology</th>\n",
       "      <td>14629</td>\n",
       "      <td>17090</td>\n",
       "      <td>31719</td>\n",
       "    </tr>\n",
       "  </tbody>\n",
       "</table>\n",
       "</div>"
      ],
      "text/plain": [
       "           negative  positive  total\n",
       "mg            32253     30493  62746\n",
       "ml            29634     26223  55857\n",
       "hospital      25037     29564  54601\n",
       "l             26880     25263  52143\n",
       "reason        22579     28045  50624\n",
       "clip          22431     27342  49773\n",
       "pm            22824     26838  49662\n",
       "chest         23819     25723  49542\n",
       "normal        27751     20993  48744\n",
       "ct            20908     27063  47971\n",
       "last          21795     23204  44999\n",
       "contrast      19189     23469  42658\n",
       "plan          19684     17745  37429\n",
       "hr            18649     18505  37154\n",
       "pain          21730     14223  35953\n",
       "old           16264     19552  35816\n",
       "history       16890     18173  35063\n",
       "given         16025     17914  33939\n",
       "year          15334     18536  33870\n",
       "radiology     14629     17090  31719"
      ]
     },
     "execution_count": 48,
     "metadata": {},
     "output_type": "execute_result"
    }
   ],
   "source": [
    "#Again visualize find the most frequent words.\n",
    "\n",
    "import matplotlib.pyplot as plt\n",
    "\n",
    "neg_doc_matrix = vect.transform(df_train_final[df_train_final.HOSPITAL_EXPIRE_FLAG == 0].TEXT)\n",
    "pos_doc_matrix = vect.transform(df_train_final[df_train_final.HOSPITAL_EXPIRE_FLAG == 1].TEXT)\n",
    "neg_tf = np.sum(neg_doc_matrix,axis=0)\n",
    "pos_tf = np.sum(pos_doc_matrix,axis=0)\n",
    "neg = np.squeeze(np.asarray(neg_tf))\n",
    "pos = np.squeeze(np.asarray(pos_tf))\n",
    "\n",
    "term_freq_df = pd.DataFrame([neg,pos],columns=vect.get_feature_names()).transpose()\n",
    "term_freq_df.columns = ['negative', 'positive']\n",
    "term_freq_df['total'] = term_freq_df['negative'] + term_freq_df['positive']\n",
    "term_freq_df.sort_values(by='total', ascending=False).iloc[:20]\n"
   ]
  },
  {
   "cell_type": "code",
   "execution_count": 49,
   "metadata": {},
   "outputs": [
    {
     "data": {
      "image/png": "[encoded data removed]",
      "text/plain": [
       "<Figure size 720x432 with 1 Axes>"
      ]
     },
     "metadata": {
      "needs_background": "light"
     },
     "output_type": "display_data"
    },
    {
     "data": {
      "image/png": "[encoded data removed]",
      "text/plain": [
       "<Figure size 720x432 with 1 Axes>"
      ]
     },
     "metadata": {
      "needs_background": "light"
     },
     "output_type": "display_data"
    }
   ],
   "source": [
    "#Again Create a series from the sparse matrix\n",
    "d = pd.Series(term_freq_df.total, \n",
    "              index = term_freq_df.index).sort_values(ascending=False)\n",
    "\n",
    "#Visualize the 100 most frequent words in the text\n",
    "ax = d[:50].plot(kind='bar', figsize=(10,6), width=.8, fontsize=14, rot=90,color = 'b')\n",
    "ax.title.set_size(18)\n",
    "plt.title('Most Frequent Words in Caregiver Notes')\n",
    "plt.ylabel('count')\n",
    "plt.show()\n",
    "ax = d[50:100].plot(kind='bar', figsize=(10,6), width=.8, fontsize=14, rot=90,color = 'b')\n",
    "ax.title.set_size(18)\n",
    "plt.ylabel('count')\n",
    "plt.show()"
   ]
  },
  {
   "cell_type": "markdown",
   "metadata": {},
   "source": [
    "Transform the text into vectors"
   ]
  },
  {
   "cell_type": "code",
   "execution_count": 50,
   "metadata": {},
   "outputs": [],
   "source": [
    "X_train_tf = vect.transform(df_train_final.TEXT.values)\n",
    "X_valid_tf = vect.transform(df_valid.TEXT.values)"
   ]
  },
  {
   "cell_type": "markdown",
   "metadata": {},
   "source": [
    "Get labels"
   ]
  },
  {
   "cell_type": "code",
   "execution_count": 51,
   "metadata": {},
   "outputs": [],
   "source": [
    "y_train = df_train_final.HOSPITAL_EXPIRE_FLAG\n",
    "y_valid = df_valid.HOSPITAL_EXPIRE_FLAG"
   ]
  },
  {
   "cell_type": "markdown",
   "metadata": {},
   "source": [
    "Step 3: Build a simple predictive model"
   ]
  },
  {
   "cell_type": "code",
   "execution_count": 52,
   "metadata": {},
   "outputs": [
    {
     "name": "stderr",
     "output_type": "stream",
     "text": [
      "C:\\Users\\caras\\anaconda3\\lib\\site-packages\\sklearn\\linear_model\\_logistic.py:762: ConvergenceWarning: lbfgs failed to converge (status=1):\n",
      "STOP: TOTAL NO. of ITERATIONS REACHED LIMIT.\n",
      "\n",
      "Increase the number of iterations (max_iter) or scale the data as shown in:\n",
      "    https://scikit-learn.org/stable/modules/preprocessing.html\n",
      "Please also refer to the documentation for alternative solver options:\n",
      "    https://scikit-learn.org/stable/modules/linear_model.html#logistic-regression\n",
      "  n_iter_i = _check_optimize_result(\n"
     ]
    },
    {
     "data": {
      "text/plain": [
       "LogisticRegression(random_state=42)"
      ]
     },
     "execution_count": 52,
     "metadata": {},
     "output_type": "execute_result"
    }
   ],
   "source": [
    "# logistic regression\n",
    "from sklearn.linear_model import LogisticRegression\n",
    "clf=LogisticRegression(random_state = 42, solver='lbfgs')\n",
    "clf.fit(X_train_tf, y_train)"
   ]
  },
  {
   "cell_type": "code",
   "execution_count": 53,
   "metadata": {},
   "outputs": [
    {
     "data": {
      "text/plain": [
       "GaussianNB()"
      ]
     },
     "execution_count": 53,
     "metadata": {},
     "output_type": "execute_result"
    }
   ],
   "source": [
    "#import more models for evaluation\n",
    "from sklearn.linear_model import LogisticRegression\n",
    "from sklearn.ensemble import RandomForestClassifier\n",
    "from sklearn.neighbors import KNeighborsClassifier\n",
    "from sklearn.svm import SVC\n",
    "from sklearn.naive_bayes import GaussianNB\n",
    "#from xgboost import XGBClassifier\n",
    "from sklearn.pipeline import Pipeline\n",
    "\n",
    "rf = RandomForestClassifier(random_state=42, n_estimators=100)\n",
    "knn =  KNeighborsClassifier()\n",
    "svm = SVC(random_state=42, gamma='auto')\n",
    "gnb = GaussianNB()\n",
    "#xgboost = XGBClassifier(random_state=42)\n",
    "\n",
    "\n",
    "#rf.fit(X_train_tf, y_train)\n",
    "\n",
    "\n",
    "#knn.fit(X_train_tf, y_train)\n",
    "\n",
    "#svm.fit(X_train_tf, y_train)\n",
    "\n",
    "gnb.fit(X_train_tf.toarray(), y_train)\n",
    "\n",
    "#xgboost.fit(X_train_tf, y_train)\n",
    "#y_pred = xgboost.predict(X_test_scaled)\n",
    "#print(\"XGBoost: \", xgboost.score(X_test_scaled, y_test))"
   ]
  },
  {
   "cell_type": "markdown",
   "metadata": {},
   "source": [
    "Calculate probability of death"
   ]
  },
  {
   "cell_type": "code",
   "execution_count": 54,
   "metadata": {},
   "outputs": [],
   "source": [
    "model = clf\n",
    "y_train_preds = model.predict_proba(X_train_tf)[:,1]\n",
    "y_valid_preds = model.predict_proba(X_valid_tf)[:,1]"
   ]
  },
  {
   "cell_type": "code",
   "execution_count": 55,
   "metadata": {},
   "outputs": [],
   "source": [
    "model = gnb\n",
    "y_train_preds_gnb = model.predict_proba(X_train_tf.toarray())[:,1]\n",
    "y_valid_preds_gnb = model.predict_proba(X_valid_tf.toarray())[:,1]"
   ]
  },
  {
   "cell_type": "code",
   "execution_count": null,
   "metadata": {},
   "outputs": [],
   "source": []
  },
  {
   "cell_type": "code",
   "execution_count": 56,
   "metadata": {},
   "outputs": [
    {
     "name": "stdout",
     "output_type": "stream",
     "text": [
      "[0 1 1 0 0 1 0 1 0 0]\n",
      "[3.43283075e-01 6.45158981e-01 7.22045661e-01 5.21304202e-04\n",
      " 1.65587018e-01 9.99465438e-01 8.14132622e-02 4.23555892e-01\n",
      " 2.80388770e-01 5.15420344e-01]\n"
     ]
    }
   ],
   "source": [
    "#Print mortalitiy predictions for the first 10 samples in the training set\n",
    "print(y_train[:10].values)\n",
    "print(y_train_preds[:10])\n"
   ]
  },
  {
   "cell_type": "markdown",
   "metadata": {},
   "source": [
    "Calculate performance metrics"
   ]
  },
  {
   "cell_type": "code",
   "execution_count": 57,
   "metadata": {},
   "outputs": [],
   "source": [
    "def calc_accuracy(y_actual, y_pred, thresh):\n",
    "    # this function calculates the accuracy with probability threshold at thresh\n",
    "    return (sum((y_pred > thresh) & (y_actual == 1))+sum((y_pred < thresh) & (y_actual == 0))) /len(y_actual)\n",
    "\n",
    "def calc_recall(y_actual, y_pred, thresh):\n",
    "    # calculates the recall\n",
    "    return sum((y_pred > thresh) & (y_actual == 1)) /sum(y_actual)\n",
    "\n",
    "def calc_precision(y_actual, y_pred, thresh):\n",
    "    # calculates the precision\n",
    "    return sum((y_pred > thresh) & (y_actual == 1)) /sum(y_pred > thresh)\n",
    "\n",
    "def calc_specificity(y_actual, y_pred, thresh):\n",
    "    # calculates specificity\n",
    "    return sum((y_pred < thresh) & (y_actual == 0)) /sum(y_actual ==0)\n",
    "\n",
    "def calc_prevalence(y_actual):\n",
    "    # calculates prevalence\n",
    "    return sum((y_actual == 1)) /len(y_actual)"
   ]
  },
  {
   "cell_type": "code",
   "execution_count": 58,
   "metadata": {},
   "outputs": [
    {
     "name": "stdout",
     "output_type": "stream",
     "text": [
      "\n",
      "Logistic Regression Performance Metrics\n",
      "\n",
      "Train AUC:0.830\n",
      "Valid AUC:0.795\n",
      "Train accuracy:0.743\n",
      "Valid accuracy:0.706\n",
      "Train recall:0.752\n",
      "Valid recall:0.725\n",
      "Train precision:0.739\n",
      "Valid precision:0.232\n",
      "Train specificity:0.735\n",
      "Valid specificity:0.704\n",
      "Train prevalence:0.500\n",
      "Valid prevalence:0.110\n"
     ]
    },
    {
     "data": {
      "image/png": "[encoded data removed]",
      "text/plain": [
       "<Figure size 432x288 with 1 Axes>"
      ]
     },
     "metadata": {
      "needs_background": "light"
     },
     "output_type": "display_data"
    }
   ],
   "source": [
    "#LOGISTIC REGRESSION\n",
    "from sklearn.metrics import roc_curve\n",
    "from sklearn.metrics import roc_auc_score\n",
    "\n",
    "fpr_train, tpr_train, thresholds_train = roc_curve(y_train, y_train_preds)\n",
    "fpr_valid, tpr_valid, thresholds_valid = roc_curve(y_valid, y_valid_preds)\n",
    "\n",
    "\n",
    "thresh = 0.5\n",
    "\n",
    "auc_train = roc_auc_score(y_train, y_train_preds)\n",
    "auc_valid = roc_auc_score(y_valid, y_valid_preds)\n",
    "\n",
    "print(\"\\nLogistic Regression Performance Metrics\\n\")\n",
    "print('Train AUC:%.3f'%auc_train)\n",
    "print('Valid AUC:%.3f'%auc_valid)\n",
    "\n",
    "print('Train accuracy:%.3f'%calc_accuracy(y_train, y_train_preds, thresh))\n",
    "print('Valid accuracy:%.3f'%calc_accuracy(y_valid, y_valid_preds, thresh))\n",
    "\n",
    "\n",
    "print('Train recall:%.3f'%calc_recall(y_train, y_train_preds, thresh))\n",
    "print('Valid recall:%.3f'%calc_recall(y_valid, y_valid_preds, thresh))\n",
    "\n",
    "print('Train precision:%.3f'%calc_precision(y_train, y_train_preds, thresh))\n",
    "print('Valid precision:%.3f'%calc_precision(y_valid, y_valid_preds, thresh))\n",
    "\n",
    "print('Train specificity:%.3f'%calc_specificity(y_train, y_train_preds, thresh))\n",
    "print('Valid specificity:%.3f'%calc_specificity(y_valid, y_valid_preds, thresh))\n",
    "\n",
    "print('Train prevalence:%.3f'%calc_prevalence(y_train))\n",
    "print('Valid prevalence:%.3f'%calc_prevalence(y_valid))\n",
    "\n",
    "\n",
    "plt.plot(fpr_train, tpr_train,'r-', label = 'Train AUC: %.2f'%auc_train)\n",
    "plt.plot(fpr_valid, tpr_valid,'b-',label = 'Valid AUC: %.2f'%auc_valid)\n",
    "plt.plot([0,1],[0,1],'-k')\n",
    "plt.title('Logistic Regression AUC-ROC')\n",
    "plt.xlabel('False Positive Rate')\n",
    "plt.ylabel('True Positive Rate')\n",
    "plt.legend()\n",
    "plt.show()"
   ]
  },
  {
   "cell_type": "code",
   "execution_count": 59,
   "metadata": {
    "scrolled": false
   },
   "outputs": [
    {
     "name": "stdout",
     "output_type": "stream",
     "text": [
      "\n",
      "Naive Bayes Performance Metrics\n",
      "\n",
      "Train AUC:0.733\n",
      "Valid AUC:0.795\n",
      "Train accuracy:0.654\n",
      "Valid accuracy:0.706\n",
      "Train recall:0.536\n",
      "Valid recall:0.725\n",
      "Train precision:0.702\n",
      "Valid precision:0.232\n",
      "Train specificity:0.773\n",
      "Valid specificity:0.704\n",
      "Train prevalence:0.500\n",
      "Valid prevalence:0.110\n"
     ]
    },
    {
     "data": {
      "image/png": "[encoded data removed]",
      "text/plain": [
       "<Figure size 432x288 with 1 Axes>"
      ]
     },
     "metadata": {
      "needs_background": "light"
     },
     "output_type": "display_data"
    }
   ],
   "source": [
    "#GNB\n",
    "from sklearn.metrics import roc_curve\n",
    "from sklearn.metrics import roc_auc_score\n",
    "\n",
    "fpr_train, tpr_train, thresholds_train = roc_curve(y_train, y_train_preds_gnb)\n",
    "fpr_valid, tpr_valid, thresholds_valid = roc_curve(y_valid, y_valid_preds)\n",
    "\n",
    "\n",
    "thresh = 0.5\n",
    "\n",
    "auc_train = roc_auc_score(y_train, y_train_preds_gnb)\n",
    "auc_valid = roc_auc_score(y_valid, y_valid_preds)\n",
    "print(\"\\nNaive Bayes Performance Metrics\\n\")\n",
    "print('Train AUC:%.3f'%auc_train)\n",
    "print('Valid AUC:%.3f'%auc_valid)\n",
    "\n",
    "print('Train accuracy:%.3f'%calc_accuracy(y_train, y_train_preds_gnb, thresh))\n",
    "print('Valid accuracy:%.3f'%calc_accuracy(y_valid, y_valid_preds, thresh))\n",
    "\n",
    "\n",
    "print('Train recall:%.3f'%calc_recall(y_train, y_train_preds_gnb, thresh))\n",
    "print('Valid recall:%.3f'%calc_recall(y_valid, y_valid_preds, thresh))\n",
    "\n",
    "print('Train precision:%.3f'%calc_precision(y_train, y_train_preds_gnb, thresh))\n",
    "print('Valid precision:%.3f'%calc_precision(y_valid, y_valid_preds, thresh))\n",
    "\n",
    "print('Train specificity:%.3f'%calc_specificity(y_train, y_train_preds_gnb, thresh))\n",
    "print('Valid specificity:%.3f'%calc_specificity(y_valid, y_valid_preds, thresh))\n",
    "\n",
    "print('Train prevalence:%.3f'%calc_prevalence(y_train))\n",
    "print('Valid prevalence:%.3f'%calc_prevalence(y_valid))\n",
    "\n",
    "\n",
    "plt.plot(fpr_train, tpr_train,'r-', label = 'Train AUC: %.2f'%auc_train)\n",
    "plt.plot(fpr_valid, tpr_valid,'b-',label = 'Valid AUC: %.2f'%auc_valid)\n",
    "plt.plot([0,1],[0,1],'-k')\n",
    "plt.title('Naive Bayes AUC-ROC')\n",
    "plt.xlabel('False Positive Rate')\n",
    "plt.ylabel('True Positive Rate')\n",
    "plt.legend()\n",
    "plt.show()"
   ]
  },
  {
   "cell_type": "markdown",
   "metadata": {},
   "source": [
    "### Since the performance metrics results and AUC-ROC fared better with Logistic Regression, that will be the model of choice for the remainder of this project.\n",
    "#### The remainder of this analysis will focus on feature engineering and hyperparameter optimization in order to create a stronger algorithm to predict mortality. "
   ]
  },
  {
   "cell_type": "markdown",
   "metadata": {},
   "source": [
    "### Feature Engineering"
   ]
  },
  {
   "cell_type": "markdown",
   "metadata": {},
   "source": [
    "### Hyperparameter Tuning"
   ]
  },
  {
   "cell_type": "code",
   "execution_count": null,
   "metadata": {},
   "outputs": [],
   "source": []
  },
  {
   "cell_type": "code",
   "execution_count": null,
   "metadata": {},
   "outputs": [],
   "source": []
  }
 ],
 "metadata": {
  "kernelspec": {
   "display_name": "Python 3",
   "language": "python",
   "name": "python3"
  },
  "language_info": {
   "codemirror_mode": {
    "name": "ipython",
    "version": 3
   },
   "file_extension": ".py",
   "mimetype": "text/x-python",
   "name": "python",
   "nbconvert_exporter": "python",
   "pygments_lexer": "ipython3",
   "version": "3.8.3"
  }
 },
 "nbformat": 4,
 "nbformat_minor": 2
}
