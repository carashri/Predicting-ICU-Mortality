{
 "cells": [
  {
   "cell_type": "markdown",
   "metadata": {},
   "source": [
    "Begin by importing the libraries needed for data cleaning and preparation."
   ]
  },
  {
   "cell_type": "code",
   "execution_count": 1,
   "metadata": {},
   "outputs": [],
   "source": [
    "import numpy as np\n",
    "import pandas as pd"
   ]
  },
  {
   "cell_type": "markdown",
   "metadata": {},
   "source": [
    "\n",
    "#### Data was obtained from the MIMIC III database (https://mimic.physionet.org/).\n",
    "\n",
    "The first step is to read in the first dataset of interest, ICUSTAYS, and have a first look at the columns and rows. <br> \n"
   ]
  },
  {
   "cell_type": "markdown",
   "metadata": {},
   "source": [
    "Remove patients who did not spend time in the ICU, since focus of this project is on ICU patients."
   ]
  },
  {
   "cell_type": "code",
   "execution_count": 2,
   "metadata": {},
   "outputs": [
    {
     "name": "stdout",
     "output_type": "stream",
     "text": [
      "(61532, 12)\n"
     ]
    }
   ],
   "source": [
    "#read in ICUSTAYS dataset\n",
    "icu_stays = pd.read_csv('ICUSTAYS.csv.gz', compression='gzip' )\n",
    "print(icu_stays.shape)"
   ]
  },
  {
   "cell_type": "markdown",
   "metadata": {},
   "source": [
    "#### Columns of interest in the ICU dataset: \n",
    "- INTIME\n",
    "- HADM_ID"
   ]
  },
  {
   "cell_type": "code",
   "execution_count": 3,
   "metadata": {},
   "outputs": [
    {
     "name": "stdout",
     "output_type": "stream",
     "text": [
      "Number of missing intime: 0\n"
     ]
    }
   ],
   "source": [
    "#convert INTIME to datetime format. The errors='coerce' argument allows for missing values\n",
    "icu_stays.INTIME = pd.to_datetime(icu_stays.INTIME, format = '%Y-%m-%d %H:%M:%S', errors = 'coerce')\n",
    "\n",
    "# check to see if there are any null dates\n",
    "print('Number of missing intime:', icu_stays.INTIME.isnull().sum())\n"
   ]
  },
  {
   "cell_type": "code",
   "execution_count": 4,
   "metadata": {},
   "outputs": [
    {
     "data": {
      "text/html": [
       "<div>\n",
       "<style scoped>\n",
       "    .dataframe tbody tr th:only-of-type {\n",
       "        vertical-align: middle;\n",
       "    }\n",
       "\n",
       "    .dataframe tbody tr th {\n",
       "        vertical-align: top;\n",
       "    }\n",
       "\n",
       "    .dataframe thead th {\n",
       "        text-align: right;\n",
       "    }\n",
       "</style>\n",
       "<table border=\"1\" class=\"dataframe\">\n",
       "  <thead>\n",
       "    <tr style=\"text-align: right;\">\n",
       "      <th></th>\n",
       "      <th>HADM_ID</th>\n",
       "      <th>INTIME</th>\n",
       "    </tr>\n",
       "  </thead>\n",
       "  <tbody>\n",
       "    <tr>\n",
       "      <th>0</th>\n",
       "      <td>110404</td>\n",
       "      <td>2198-02-14 23:27:38</td>\n",
       "    </tr>\n",
       "    <tr>\n",
       "      <th>1</th>\n",
       "      <td>106296</td>\n",
       "      <td>2170-11-05 11:05:29</td>\n",
       "    </tr>\n",
       "    <tr>\n",
       "      <th>2</th>\n",
       "      <td>188028</td>\n",
       "      <td>2128-06-24 15:05:20</td>\n",
       "    </tr>\n",
       "    <tr>\n",
       "      <th>3</th>\n",
       "      <td>173727</td>\n",
       "      <td>2120-08-07 23:12:42</td>\n",
       "    </tr>\n",
       "    <tr>\n",
       "      <th>4</th>\n",
       "      <td>164716</td>\n",
       "      <td>2186-12-25 21:08:04</td>\n",
       "    </tr>\n",
       "  </tbody>\n",
       "</table>\n",
       "</div>"
      ],
      "text/plain": [
       "   HADM_ID              INTIME\n",
       "0   110404 2198-02-14 23:27:38\n",
       "1   106296 2170-11-05 11:05:29\n",
       "2   188028 2128-06-24 15:05:20\n",
       "3   173727 2120-08-07 23:12:42\n",
       "4   164716 2186-12-25 21:08:04"
      ]
     },
     "execution_count": 4,
     "metadata": {},
     "output_type": "execute_result"
    }
   ],
   "source": [
    "#reduce the columns to only 'HADM_ID' and 'INTIME'\n",
    "icu_stays = icu_stays[['HADM_ID', 'INTIME']]\n",
    "icu_stays.head()"
   ]
  },
  {
   "cell_type": "code",
   "execution_count": 5,
   "metadata": {
    "scrolled": true
   },
   "outputs": [
    {
     "data": {
      "text/html": [
       "<div>\n",
       "<style scoped>\n",
       "    .dataframe tbody tr th:only-of-type {\n",
       "        vertical-align: middle;\n",
       "    }\n",
       "\n",
       "    .dataframe tbody tr th {\n",
       "        vertical-align: top;\n",
       "    }\n",
       "\n",
       "    .dataframe thead th {\n",
       "        text-align: right;\n",
       "    }\n",
       "</style>\n",
       "<table border=\"1\" class=\"dataframe\">\n",
       "  <thead>\n",
       "    <tr style=\"text-align: right;\">\n",
       "      <th></th>\n",
       "      <th>HADM_ID</th>\n",
       "      <th>ICU</th>\n",
       "    </tr>\n",
       "  </thead>\n",
       "  <tbody>\n",
       "    <tr>\n",
       "      <th>0</th>\n",
       "      <td>110404</td>\n",
       "      <td>True</td>\n",
       "    </tr>\n",
       "    <tr>\n",
       "      <th>1</th>\n",
       "      <td>106296</td>\n",
       "      <td>True</td>\n",
       "    </tr>\n",
       "    <tr>\n",
       "      <th>2</th>\n",
       "      <td>188028</td>\n",
       "      <td>True</td>\n",
       "    </tr>\n",
       "    <tr>\n",
       "      <th>3</th>\n",
       "      <td>173727</td>\n",
       "      <td>True</td>\n",
       "    </tr>\n",
       "    <tr>\n",
       "      <th>4</th>\n",
       "      <td>164716</td>\n",
       "      <td>True</td>\n",
       "    </tr>\n",
       "  </tbody>\n",
       "</table>\n",
       "</div>"
      ],
      "text/plain": [
       "   HADM_ID   ICU\n",
       "0   110404  True\n",
       "1   106296  True\n",
       "2   188028  True\n",
       "3   173727  True\n",
       "4   164716  True"
      ]
     },
     "execution_count": 5,
     "metadata": {},
     "output_type": "execute_result"
    }
   ],
   "source": [
    "#add column ICU to indicate whether or not patient had ICU stay (all values will be true)\n",
    "icu_stays['ICU'] = True\n",
    "icu_stays = icu_stays[['HADM_ID', 'ICU']]\n",
    "icu_stays.head()\n"
   ]
  },
  {
   "cell_type": "code",
   "execution_count": 6,
   "metadata": {},
   "outputs": [
    {
     "name": "stdout",
     "output_type": "stream",
     "text": [
      "There are  3746 duplicate hospital admissions.\n"
     ]
    }
   ],
   "source": [
    "#drop duplicate rows\n",
    "print('There are ', len(icu_stays[icu_stays.duplicated(['HADM_ID'])]), 'duplicate hospital admissions.')\n"
   ]
  },
  {
   "cell_type": "markdown",
   "metadata": {},
   "source": [
    "These admissions are patients who stayed more than once in the ICU on that admission."
   ]
  },
  {
   "cell_type": "code",
   "execution_count": 7,
   "metadata": {},
   "outputs": [],
   "source": [
    "icu_stays = icu_stays.drop_duplicates()"
   ]
  },
  {
   "cell_type": "code",
   "execution_count": 8,
   "metadata": {},
   "outputs": [
    {
     "name": "stdout",
     "output_type": "stream",
     "text": [
      "There are now 0 duplicate hospital admissions.\n"
     ]
    }
   ],
   "source": [
    "print('There are now', len(icu_stays[icu_stays.duplicated(['HADM_ID'])]), 'duplicate hospital admissions.')\n"
   ]
  },
  {
   "cell_type": "code",
   "execution_count": 9,
   "metadata": {
    "scrolled": false
   },
   "outputs": [
    {
     "name": "stdout",
     "output_type": "stream",
     "text": [
      "<class 'pandas.core.frame.DataFrame'>\n",
      "Int64Index: 57786 entries, 0 to 61531\n",
      "Data columns (total 2 columns):\n",
      " #   Column   Non-Null Count  Dtype\n",
      "---  ------   --------------  -----\n",
      " 0   HADM_ID  57786 non-null  int64\n",
      " 1   ICU      57786 non-null  bool \n",
      "dtypes: bool(1), int64(1)\n",
      "memory usage: 959.3 KB\n"
     ]
    }
   ],
   "source": [
    "icu_stays.info()"
   ]
  },
  {
   "cell_type": "code",
   "execution_count": 10,
   "metadata": {
    "scrolled": true
   },
   "outputs": [
    {
     "name": "stdout",
     "output_type": "stream",
     "text": [
      "(58976, 19)\n"
     ]
    }
   ],
   "source": [
    "admissions = pd.read_csv('ADMISSIONS.csv.gz', compression='gzip')\n",
    "print(admissions.shape)\n"
   ]
  },
  {
   "cell_type": "markdown",
   "metadata": {},
   "source": [
    "There are 58976 rows and 19 columns."
   ]
  },
  {
   "cell_type": "markdown",
   "metadata": {},
   "source": [
    "#### Columns of interest (or may be of interest) from the 'admissions' dataset include:\n",
    "- HOSPITAL_EXPIRE_FLAG\n",
    "- SUBJECT_ID\n",
    "- HADM_ID\n",
    "- ADMITTIME\n",
    "- DEATHTIME\n",
    "- ADMISSION_TYPE"
   ]
  },
  {
   "cell_type": "code",
   "execution_count": 11,
   "metadata": {
    "scrolled": true
   },
   "outputs": [
    {
     "name": "stdout",
     "output_type": "stream",
     "text": [
      "<class 'pandas.core.frame.DataFrame'>\n",
      "RangeIndex: 58976 entries, 0 to 58975\n",
      "Data columns (total 19 columns):\n",
      " #   Column                Non-Null Count  Dtype \n",
      "---  ------                --------------  ----- \n",
      " 0   ROW_ID                58976 non-null  int64 \n",
      " 1   SUBJECT_ID            58976 non-null  int64 \n",
      " 2   HADM_ID               58976 non-null  int64 \n",
      " 3   ADMITTIME             58976 non-null  object\n",
      " 4   DISCHTIME             58976 non-null  object\n",
      " 5   DEATHTIME             5854 non-null   object\n",
      " 6   ADMISSION_TYPE        58976 non-null  object\n",
      " 7   ADMISSION_LOCATION    58976 non-null  object\n",
      " 8   DISCHARGE_LOCATION    58976 non-null  object\n",
      " 9   INSURANCE             58976 non-null  object\n",
      " 10  LANGUAGE              33644 non-null  object\n",
      " 11  RELIGION              58518 non-null  object\n",
      " 12  MARITAL_STATUS        48848 non-null  object\n",
      " 13  ETHNICITY             58976 non-null  object\n",
      " 14  EDREGTIME             30877 non-null  object\n",
      " 15  EDOUTTIME             30877 non-null  object\n",
      " 16  DIAGNOSIS             58951 non-null  object\n",
      " 17  HOSPITAL_EXPIRE_FLAG  58976 non-null  int64 \n",
      " 18  HAS_CHARTEVENTS_DATA  58976 non-null  int64 \n",
      "dtypes: int64(5), object(14)\n",
      "memory usage: 8.5+ MB\n"
     ]
    }
   ],
   "source": [
    "# exploring the data to determine the datatypes, in particular, of the date columns.\n",
    "admissions.info()"
   ]
  },
  {
   "cell_type": "markdown",
   "metadata": {},
   "source": [
    "Next, convert the dates to datetime format for processing."
   ]
  },
  {
   "cell_type": "code",
   "execution_count": 12,
   "metadata": {},
   "outputs": [
    {
     "name": "stdout",
     "output_type": "stream",
     "text": [
      "Number of missing date admissions: 0\n",
      "Number of missing DEATHTIME: 53122\n",
      "Number of missing DISCHTIME: 0\n"
     ]
    }
   ],
   "source": [
    "#convert ADMITTIME and DEATHTIME to datetime format. The errors='coerce' argument allows for missing values\n",
    "admissions.ADMITTIME = pd.to_datetime(admissions.ADMITTIME, format = '%Y-%m-%d %H:%M:%S', errors = 'coerce')\n",
    "admissions.DEATHTIME = pd.to_datetime(admissions.DEATHTIME, format = '%Y-%m-%d %H:%M:%S', errors = 'coerce')\n",
    "admissions.DISCHTIME = pd.to_datetime(admissions.DISCHTIME, format = '%Y-%m-%d %H:%M:%S', errors = 'coerce')\n",
    "\n",
    "# check to see if there are any null dates\n",
    "print('Number of missing date admissions:', admissions.ADMITTIME.isnull().sum())\n",
    "print('Number of missing DEATHTIME:', admissions.DEATHTIME.isnull().sum())\n",
    "print('Number of missing DISCHTIME:', admissions.DISCHTIME.isnull().sum())\n"
   ]
  },
  {
   "cell_type": "markdown",
   "metadata": {},
   "source": [
    "Now update the admissions dataset to include only HADM_ID that are in the icu_stays dataframe. Do this by completing a left merge on HADM_ID."
   ]
  },
  {
   "cell_type": "code",
   "execution_count": 13,
   "metadata": {},
   "outputs": [
    {
     "data": {
      "text/plain": [
       "Index(['ROW_ID', 'SUBJECT_ID', 'HADM_ID', 'ADMITTIME', 'DISCHTIME',\n",
       "       'DEATHTIME', 'ADMISSION_TYPE', 'ADMISSION_LOCATION',\n",
       "       'DISCHARGE_LOCATION', 'INSURANCE', 'LANGUAGE', 'RELIGION',\n",
       "       'MARITAL_STATUS', 'ETHNICITY', 'EDREGTIME', 'EDOUTTIME', 'DIAGNOSIS',\n",
       "       'HOSPITAL_EXPIRE_FLAG', 'HAS_CHARTEVENTS_DATA'],\n",
       "      dtype='object')"
      ]
     },
     "execution_count": 13,
     "metadata": {},
     "output_type": "execute_result"
    }
   ],
   "source": [
    "admissions.columns"
   ]
  },
  {
   "cell_type": "code",
   "execution_count": 14,
   "metadata": {},
   "outputs": [],
   "source": [
    "admissions = pd.merge(icu_stays[['HADM_ID']], admissions[['ROW_ID', 'SUBJECT_ID', 'HADM_ID', 'ADMITTIME', 'DISCHTIME',\n",
    "       'DEATHTIME', 'ADMISSION_TYPE', 'ADMISSION_LOCATION',\n",
    "       'DISCHARGE_LOCATION', 'INSURANCE', 'LANGUAGE', 'RELIGION',\n",
    "       'MARITAL_STATUS', 'ETHNICITY', 'EDREGTIME', 'EDOUTTIME', 'DIAGNOSIS',\n",
    "       'HOSPITAL_EXPIRE_FLAG', 'HAS_CHARTEVENTS_DATA']],\\\n",
    "            on=('HADM_ID') , how='left')"
   ]
  },
  {
   "cell_type": "code",
   "execution_count": 15,
   "metadata": {},
   "outputs": [
    {
     "name": "stdout",
     "output_type": "stream",
     "text": [
      "<class 'pandas.core.frame.DataFrame'>\n",
      "Int64Index: 57786 entries, 0 to 57785\n",
      "Data columns (total 19 columns):\n",
      " #   Column                Non-Null Count  Dtype         \n",
      "---  ------                --------------  -----         \n",
      " 0   HADM_ID               57786 non-null  int64         \n",
      " 1   ROW_ID                57786 non-null  int64         \n",
      " 2   SUBJECT_ID            57786 non-null  int64         \n",
      " 3   ADMITTIME             57786 non-null  datetime64[ns]\n",
      " 4   DISCHTIME             57786 non-null  datetime64[ns]\n",
      " 5   DEATHTIME             5813 non-null   datetime64[ns]\n",
      " 6   ADMISSION_TYPE        57786 non-null  object        \n",
      " 7   ADMISSION_LOCATION    57786 non-null  object        \n",
      " 8   DISCHARGE_LOCATION    57786 non-null  object        \n",
      " 9   INSURANCE             57786 non-null  object        \n",
      " 10  LANGUAGE              32990 non-null  object        \n",
      " 11  RELIGION              57330 non-null  object        \n",
      " 12  MARITAL_STATUS        47796 non-null  object        \n",
      " 13  ETHNICITY             57786 non-null  object        \n",
      " 14  EDREGTIME             30638 non-null  object        \n",
      " 15  EDOUTTIME             30638 non-null  object        \n",
      " 16  DIAGNOSIS             57785 non-null  object        \n",
      " 17  HOSPITAL_EXPIRE_FLAG  57786 non-null  int64         \n",
      " 18  HAS_CHARTEVENTS_DATA  57786 non-null  int64         \n",
      "dtypes: datetime64[ns](3), int64(5), object(11)\n",
      "memory usage: 8.8+ MB\n"
     ]
    }
   ],
   "source": [
    "admissions.info()"
   ]
  },
  {
   "cell_type": "markdown",
   "metadata": {},
   "source": [
    "Next a new column ENDTIME will be created. This will indicate the when to end note collection for analysis - i.e., 24 hours after ADMITTIME or at time of death - whichever is sooner.\n"
   ]
  },
  {
   "cell_type": "code",
   "execution_count": 16,
   "metadata": {
    "scrolled": false
   },
   "outputs": [
    {
     "data": {
      "text/html": [
       "<div>\n",
       "<style scoped>\n",
       "    .dataframe tbody tr th:only-of-type {\n",
       "        vertical-align: middle;\n",
       "    }\n",
       "\n",
       "    .dataframe tbody tr th {\n",
       "        vertical-align: top;\n",
       "    }\n",
       "\n",
       "    .dataframe thead th {\n",
       "        text-align: right;\n",
       "    }\n",
       "</style>\n",
       "<table border=\"1\" class=\"dataframe\">\n",
       "  <thead>\n",
       "    <tr style=\"text-align: right;\">\n",
       "      <th></th>\n",
       "      <th>HADM_ID</th>\n",
       "      <th>ROW_ID</th>\n",
       "      <th>SUBJECT_ID</th>\n",
       "      <th>ADMITTIME</th>\n",
       "      <th>DISCHTIME</th>\n",
       "      <th>DEATHTIME</th>\n",
       "      <th>ADMISSION_TYPE</th>\n",
       "      <th>ADMISSION_LOCATION</th>\n",
       "      <th>DISCHARGE_LOCATION</th>\n",
       "      <th>INSURANCE</th>\n",
       "      <th>...</th>\n",
       "      <th>RELIGION</th>\n",
       "      <th>MARITAL_STATUS</th>\n",
       "      <th>ETHNICITY</th>\n",
       "      <th>EDREGTIME</th>\n",
       "      <th>EDOUTTIME</th>\n",
       "      <th>DIAGNOSIS</th>\n",
       "      <th>HOSPITAL_EXPIRE_FLAG</th>\n",
       "      <th>HAS_CHARTEVENTS_DATA</th>\n",
       "      <th>ADMIT+24</th>\n",
       "      <th>ENDTIME</th>\n",
       "    </tr>\n",
       "  </thead>\n",
       "  <tbody>\n",
       "    <tr>\n",
       "      <th>0</th>\n",
       "      <td>110404</td>\n",
       "      <td>344</td>\n",
       "      <td>268</td>\n",
       "      <td>2198-02-11 13:40:00</td>\n",
       "      <td>2198-02-18 03:55:00</td>\n",
       "      <td>2198-02-18 03:55:00</td>\n",
       "      <td>EMERGENCY</td>\n",
       "      <td>EMERGENCY ROOM ADMIT</td>\n",
       "      <td>DEAD/EXPIRED</td>\n",
       "      <td>Medicare</td>\n",
       "      <td>...</td>\n",
       "      <td>CATHOLIC</td>\n",
       "      <td>SEPARATED</td>\n",
       "      <td>HISPANIC OR LATINO</td>\n",
       "      <td>2198-02-11 09:41:00</td>\n",
       "      <td>2198-02-11 15:18:00</td>\n",
       "      <td>DYSPNEA</td>\n",
       "      <td>1</td>\n",
       "      <td>1</td>\n",
       "      <td>2198-02-12 13:40:00</td>\n",
       "      <td>2198-02-12 13:40:00</td>\n",
       "    </tr>\n",
       "    <tr>\n",
       "      <th>1</th>\n",
       "      <td>106296</td>\n",
       "      <td>345</td>\n",
       "      <td>269</td>\n",
       "      <td>2170-11-05 11:04:00</td>\n",
       "      <td>2170-11-27 18:00:00</td>\n",
       "      <td>NaT</td>\n",
       "      <td>EMERGENCY</td>\n",
       "      <td>EMERGENCY ROOM ADMIT</td>\n",
       "      <td>HOME HEALTH CARE</td>\n",
       "      <td>Medicaid</td>\n",
       "      <td>...</td>\n",
       "      <td>UNOBTAINABLE</td>\n",
       "      <td>SINGLE</td>\n",
       "      <td>WHITE</td>\n",
       "      <td>2170-11-05 07:22:00</td>\n",
       "      <td>2170-11-05 12:15:00</td>\n",
       "      <td>SEPSIS;PILONIDAL ABSCESS</td>\n",
       "      <td>0</td>\n",
       "      <td>1</td>\n",
       "      <td>2170-11-06 11:04:00</td>\n",
       "      <td>2170-11-06 11:04:00</td>\n",
       "    </tr>\n",
       "    <tr>\n",
       "      <th>2</th>\n",
       "      <td>188028</td>\n",
       "      <td>346</td>\n",
       "      <td>270</td>\n",
       "      <td>2128-06-23 18:26:00</td>\n",
       "      <td>2128-06-27 12:31:00</td>\n",
       "      <td>NaT</td>\n",
       "      <td>ELECTIVE</td>\n",
       "      <td>PHYS REFERRAL/NORMAL DELI</td>\n",
       "      <td>HOME HEALTH CARE</td>\n",
       "      <td>Medicare</td>\n",
       "      <td>...</td>\n",
       "      <td>JEHOVAH'S WITNESS</td>\n",
       "      <td>MARRIED</td>\n",
       "      <td>UNKNOWN/NOT SPECIFIED</td>\n",
       "      <td>NaN</td>\n",
       "      <td>NaN</td>\n",
       "      <td>CAROTID STENOSIS\\CAROTID ANGIOGRAM AND STENT</td>\n",
       "      <td>0</td>\n",
       "      <td>1</td>\n",
       "      <td>2128-06-24 18:26:00</td>\n",
       "      <td>2128-06-24 18:26:00</td>\n",
       "    </tr>\n",
       "    <tr>\n",
       "      <th>3</th>\n",
       "      <td>173727</td>\n",
       "      <td>347</td>\n",
       "      <td>271</td>\n",
       "      <td>2120-08-07 18:56:00</td>\n",
       "      <td>2120-08-20 16:00:00</td>\n",
       "      <td>NaT</td>\n",
       "      <td>EMERGENCY</td>\n",
       "      <td>TRANSFER FROM HOSP/EXTRAM</td>\n",
       "      <td>HOME</td>\n",
       "      <td>Private</td>\n",
       "      <td>...</td>\n",
       "      <td>NOT SPECIFIED</td>\n",
       "      <td>MARRIED</td>\n",
       "      <td>PATIENT DECLINED TO ANSWER</td>\n",
       "      <td>NaN</td>\n",
       "      <td>NaN</td>\n",
       "      <td>GALLSTONE PANCREATITIS</td>\n",
       "      <td>0</td>\n",
       "      <td>1</td>\n",
       "      <td>2120-08-08 18:56:00</td>\n",
       "      <td>2120-08-08 18:56:00</td>\n",
       "    </tr>\n",
       "    <tr>\n",
       "      <th>4</th>\n",
       "      <td>164716</td>\n",
       "      <td>348</td>\n",
       "      <td>272</td>\n",
       "      <td>2186-12-25 21:06:00</td>\n",
       "      <td>2187-01-02 14:57:00</td>\n",
       "      <td>NaT</td>\n",
       "      <td>EMERGENCY</td>\n",
       "      <td>TRANSFER FROM HOSP/EXTRAM</td>\n",
       "      <td>HOME</td>\n",
       "      <td>Medicare</td>\n",
       "      <td>...</td>\n",
       "      <td>UNOBTAINABLE</td>\n",
       "      <td>MARRIED</td>\n",
       "      <td>WHITE</td>\n",
       "      <td>NaN</td>\n",
       "      <td>NaN</td>\n",
       "      <td>PULMONARY EMBOLIS</td>\n",
       "      <td>0</td>\n",
       "      <td>1</td>\n",
       "      <td>2186-12-26 21:06:00</td>\n",
       "      <td>2186-12-26 21:06:00</td>\n",
       "    </tr>\n",
       "  </tbody>\n",
       "</table>\n",
       "<p>5 rows × 21 columns</p>\n",
       "</div>"
      ],
      "text/plain": [
       "   HADM_ID  ROW_ID  SUBJECT_ID           ADMITTIME           DISCHTIME  \\\n",
       "0   110404     344         268 2198-02-11 13:40:00 2198-02-18 03:55:00   \n",
       "1   106296     345         269 2170-11-05 11:04:00 2170-11-27 18:00:00   \n",
       "2   188028     346         270 2128-06-23 18:26:00 2128-06-27 12:31:00   \n",
       "3   173727     347         271 2120-08-07 18:56:00 2120-08-20 16:00:00   \n",
       "4   164716     348         272 2186-12-25 21:06:00 2187-01-02 14:57:00   \n",
       "\n",
       "            DEATHTIME ADMISSION_TYPE         ADMISSION_LOCATION  \\\n",
       "0 2198-02-18 03:55:00      EMERGENCY       EMERGENCY ROOM ADMIT   \n",
       "1                 NaT      EMERGENCY       EMERGENCY ROOM ADMIT   \n",
       "2                 NaT       ELECTIVE  PHYS REFERRAL/NORMAL DELI   \n",
       "3                 NaT      EMERGENCY  TRANSFER FROM HOSP/EXTRAM   \n",
       "4                 NaT      EMERGENCY  TRANSFER FROM HOSP/EXTRAM   \n",
       "\n",
       "  DISCHARGE_LOCATION INSURANCE  ...           RELIGION MARITAL_STATUS  \\\n",
       "0       DEAD/EXPIRED  Medicare  ...           CATHOLIC      SEPARATED   \n",
       "1   HOME HEALTH CARE  Medicaid  ...       UNOBTAINABLE         SINGLE   \n",
       "2   HOME HEALTH CARE  Medicare  ...  JEHOVAH'S WITNESS        MARRIED   \n",
       "3               HOME   Private  ...      NOT SPECIFIED        MARRIED   \n",
       "4               HOME  Medicare  ...       UNOBTAINABLE        MARRIED   \n",
       "\n",
       "                    ETHNICITY            EDREGTIME            EDOUTTIME  \\\n",
       "0          HISPANIC OR LATINO  2198-02-11 09:41:00  2198-02-11 15:18:00   \n",
       "1                       WHITE  2170-11-05 07:22:00  2170-11-05 12:15:00   \n",
       "2       UNKNOWN/NOT SPECIFIED                  NaN                  NaN   \n",
       "3  PATIENT DECLINED TO ANSWER                  NaN                  NaN   \n",
       "4                       WHITE                  NaN                  NaN   \n",
       "\n",
       "                                      DIAGNOSIS HOSPITAL_EXPIRE_FLAG  \\\n",
       "0                                       DYSPNEA                    1   \n",
       "1                      SEPSIS;PILONIDAL ABSCESS                    0   \n",
       "2  CAROTID STENOSIS\\CAROTID ANGIOGRAM AND STENT                    0   \n",
       "3                        GALLSTONE PANCREATITIS                    0   \n",
       "4                             PULMONARY EMBOLIS                    0   \n",
       "\n",
       "   HAS_CHARTEVENTS_DATA            ADMIT+24             ENDTIME  \n",
       "0                     1 2198-02-12 13:40:00 2198-02-12 13:40:00  \n",
       "1                     1 2170-11-06 11:04:00 2170-11-06 11:04:00  \n",
       "2                     1 2128-06-24 18:26:00 2128-06-24 18:26:00  \n",
       "3                     1 2120-08-08 18:56:00 2120-08-08 18:56:00  \n",
       "4                     1 2186-12-26 21:06:00 2186-12-26 21:06:00  \n",
       "\n",
       "[5 rows x 21 columns]"
      ]
     },
     "execution_count": 16,
     "metadata": {},
     "output_type": "execute_result"
    }
   ],
   "source": [
    "admissions['ADMIT+24'] = admissions['ADMITTIME'] + pd.DateOffset(days=1)\n",
    "admissions['ENDTIME'] = admissions['ADMIT+24']\n",
    "\n",
    "admissions.ENDTIME = np.where(admissions['DEATHTIME'] < admissions['ENDTIME'], admissions['DEATHTIME']+pd.DateOffset(hours=-2), admissions['ENDTIME'])\n",
    "admissions.head()"
   ]
  },
  {
   "cell_type": "code",
   "execution_count": 17,
   "metadata": {},
   "outputs": [
    {
     "name": "stdout",
     "output_type": "stream",
     "text": [
      "<class 'pandas.core.frame.DataFrame'>\n",
      "Int64Index: 57786 entries, 0 to 57785\n",
      "Data columns (total 21 columns):\n",
      " #   Column                Non-Null Count  Dtype         \n",
      "---  ------                --------------  -----         \n",
      " 0   HADM_ID               57786 non-null  int64         \n",
      " 1   ROW_ID                57786 non-null  int64         \n",
      " 2   SUBJECT_ID            57786 non-null  int64         \n",
      " 3   ADMITTIME             57786 non-null  datetime64[ns]\n",
      " 4   DISCHTIME             57786 non-null  datetime64[ns]\n",
      " 5   DEATHTIME             5813 non-null   datetime64[ns]\n",
      " 6   ADMISSION_TYPE        57786 non-null  object        \n",
      " 7   ADMISSION_LOCATION    57786 non-null  object        \n",
      " 8   DISCHARGE_LOCATION    57786 non-null  object        \n",
      " 9   INSURANCE             57786 non-null  object        \n",
      " 10  LANGUAGE              32990 non-null  object        \n",
      " 11  RELIGION              57330 non-null  object        \n",
      " 12  MARITAL_STATUS        47796 non-null  object        \n",
      " 13  ETHNICITY             57786 non-null  object        \n",
      " 14  EDREGTIME             30638 non-null  object        \n",
      " 15  EDOUTTIME             30638 non-null  object        \n",
      " 16  DIAGNOSIS             57785 non-null  object        \n",
      " 17  HOSPITAL_EXPIRE_FLAG  57786 non-null  int64         \n",
      " 18  HAS_CHARTEVENTS_DATA  57786 non-null  int64         \n",
      " 19  ADMIT+24              57786 non-null  datetime64[ns]\n",
      " 20  ENDTIME               57786 non-null  datetime64[ns]\n",
      "dtypes: datetime64[ns](5), int64(5), object(11)\n",
      "memory usage: 9.7+ MB\n"
     ]
    }
   ],
   "source": [
    "admissions.info()"
   ]
  },
  {
   "cell_type": "markdown",
   "metadata": {},
   "source": [
    "Twenty-four hours of notes need to be available in order to compare samples equally. Therefore, patients with a length of stay 24 hours or less are removed."
   ]
  },
  {
   "cell_type": "code",
   "execution_count": 18,
   "metadata": {
    "scrolled": false
   },
   "outputs": [
    {
     "data": {
      "text/html": [
       "<div>\n",
       "<style scoped>\n",
       "    .dataframe tbody tr th:only-of-type {\n",
       "        vertical-align: middle;\n",
       "    }\n",
       "\n",
       "    .dataframe tbody tr th {\n",
       "        vertical-align: top;\n",
       "    }\n",
       "\n",
       "    .dataframe thead th {\n",
       "        text-align: right;\n",
       "    }\n",
       "</style>\n",
       "<table border=\"1\" class=\"dataframe\">\n",
       "  <thead>\n",
       "    <tr style=\"text-align: right;\">\n",
       "      <th></th>\n",
       "      <th>HADM_ID</th>\n",
       "      <th>ROW_ID</th>\n",
       "      <th>SUBJECT_ID</th>\n",
       "      <th>ADMITTIME</th>\n",
       "      <th>DISCHTIME</th>\n",
       "      <th>DEATHTIME</th>\n",
       "      <th>ADMISSION_TYPE</th>\n",
       "      <th>ADMISSION_LOCATION</th>\n",
       "      <th>DISCHARGE_LOCATION</th>\n",
       "      <th>INSURANCE</th>\n",
       "      <th>...</th>\n",
       "      <th>MARITAL_STATUS</th>\n",
       "      <th>ETHNICITY</th>\n",
       "      <th>EDREGTIME</th>\n",
       "      <th>EDOUTTIME</th>\n",
       "      <th>DIAGNOSIS</th>\n",
       "      <th>HOSPITAL_EXPIRE_FLAG</th>\n",
       "      <th>HAS_CHARTEVENTS_DATA</th>\n",
       "      <th>ADMIT+24</th>\n",
       "      <th>ENDTIME</th>\n",
       "      <th>LOS_HOSP</th>\n",
       "    </tr>\n",
       "  </thead>\n",
       "  <tbody>\n",
       "    <tr>\n",
       "      <th>0</th>\n",
       "      <td>110404</td>\n",
       "      <td>344</td>\n",
       "      <td>268</td>\n",
       "      <td>2198-02-11 13:40:00</td>\n",
       "      <td>2198-02-18 03:55:00</td>\n",
       "      <td>2198-02-18 03:55:00</td>\n",
       "      <td>EMERGENCY</td>\n",
       "      <td>EMERGENCY ROOM ADMIT</td>\n",
       "      <td>DEAD/EXPIRED</td>\n",
       "      <td>Medicare</td>\n",
       "      <td>...</td>\n",
       "      <td>SEPARATED</td>\n",
       "      <td>HISPANIC OR LATINO</td>\n",
       "      <td>2198-02-11 09:41:00</td>\n",
       "      <td>2198-02-11 15:18:00</td>\n",
       "      <td>DYSPNEA</td>\n",
       "      <td>1</td>\n",
       "      <td>1</td>\n",
       "      <td>2198-02-12 13:40:00</td>\n",
       "      <td>2198-02-12 13:40:00</td>\n",
       "      <td>6 days 14:15:00</td>\n",
       "    </tr>\n",
       "  </tbody>\n",
       "</table>\n",
       "<p>1 rows × 22 columns</p>\n",
       "</div>"
      ],
      "text/plain": [
       "   HADM_ID  ROW_ID  SUBJECT_ID           ADMITTIME           DISCHTIME  \\\n",
       "0   110404     344         268 2198-02-11 13:40:00 2198-02-18 03:55:00   \n",
       "\n",
       "            DEATHTIME ADMISSION_TYPE    ADMISSION_LOCATION DISCHARGE_LOCATION  \\\n",
       "0 2198-02-18 03:55:00      EMERGENCY  EMERGENCY ROOM ADMIT       DEAD/EXPIRED   \n",
       "\n",
       "  INSURANCE  ... MARITAL_STATUS           ETHNICITY            EDREGTIME  \\\n",
       "0  Medicare  ...      SEPARATED  HISPANIC OR LATINO  2198-02-11 09:41:00   \n",
       "\n",
       "             EDOUTTIME DIAGNOSIS HOSPITAL_EXPIRE_FLAG HAS_CHARTEVENTS_DATA  \\\n",
       "0  2198-02-11 15:18:00   DYSPNEA                    1                    1   \n",
       "\n",
       "             ADMIT+24             ENDTIME        LOS_HOSP  \n",
       "0 2198-02-12 13:40:00 2198-02-12 13:40:00 6 days 14:15:00  \n",
       "\n",
       "[1 rows x 22 columns]"
      ]
     },
     "execution_count": 18,
     "metadata": {},
     "output_type": "execute_result"
    }
   ],
   "source": [
    "# first create a column that calculated length of stay\n",
    "admissions['LOS_HOSP'] = admissions['DISCHTIME'] - admissions['ADMITTIME']\n",
    "admissions.head(1)"
   ]
  },
  {
   "cell_type": "code",
   "execution_count": 19,
   "metadata": {},
   "outputs": [
    {
     "name": "stdout",
     "output_type": "stream",
     "text": [
      "Number of hospitalizations more than 24 hours:  55727\n"
     ]
    },
    {
     "data": {
      "text/plain": [
       "(55727, 22)"
      ]
     },
     "execution_count": 19,
     "metadata": {},
     "output_type": "execute_result"
    }
   ],
   "source": [
    "print('Number of hospitalizations more than 24 hours: ', len(admissions.loc[admissions['LOS_HOSP']>'24 hours']))\n",
    "admissions = admissions.loc[admissions['LOS_HOSP']>'1 day']\n",
    "admissions.shape\n"
   ]
  },
  {
   "cell_type": "code",
   "execution_count": 20,
   "metadata": {},
   "outputs": [],
   "source": [
    "# The next step is to add the target variable 'DEATH' which indicates whether or not a hospitalization resulted in death.\n",
    "# positive death=1/negative death=0\n",
    "\n",
    "#admissions['DEATH'] = admissions['DEATHTIME']>pd.Timestamp('00:00:00')\n",
    "#admissions.DEATH.value_counts()\n",
    "#print(admissions.DEATH.value_counts())\n",
    "#print(admissions.DEATH.shape)"
   ]
  },
  {
   "cell_type": "code",
   "execution_count": 21,
   "metadata": {},
   "outputs": [],
   "source": [
    "# I later realized that the column \"HOSPITAL_EXPIRE_FLAG\" is same as the \"DEATH\" column that was created.\n",
    "# drop DEATH column\n",
    "#admissions.drop('DEATH', axis=1, inplace=True)\n",
    "#admissions.columns\n"
   ]
  },
  {
   "cell_type": "code",
   "execution_count": 22,
   "metadata": {},
   "outputs": [
    {
     "data": {
      "text/plain": [
       "(55727, 22)"
      ]
     },
     "execution_count": 22,
     "metadata": {},
     "output_type": "execute_result"
    }
   ],
   "source": [
    "admissions.shape"
   ]
  },
  {
   "cell_type": "code",
   "execution_count": 23,
   "metadata": {
    "scrolled": false
   },
   "outputs": [
    {
     "data": {
      "text/plain": [
       "0    50856\n",
       "1     4871\n",
       "Name: HOSPITAL_EXPIRE_FLAG, dtype: int64"
      ]
     },
     "execution_count": 23,
     "metadata": {},
     "output_type": "execute_result"
    }
   ],
   "source": [
    "admissions.HOSPITAL_EXPIRE_FLAG.value_counts()"
   ]
  },
  {
   "cell_type": "markdown",
   "metadata": {},
   "source": [
    "4871 out of 55727 hospital admissions resulted in death (8.7%). As should be expected, this dataset is imbalanced."
   ]
  },
  {
   "cell_type": "code",
   "execution_count": null,
   "metadata": {},
   "outputs": [],
   "source": []
  },
  {
   "cell_type": "markdown",
   "metadata": {},
   "source": [
    "Now it's time to examine the caregiver notes. <br>\n",
    "<br>\n",
    "### Next: Read in the caregiver notes dataset and get an overview of its rows and features.\n"
   ]
  },
  {
   "cell_type": "code",
   "execution_count": 24,
   "metadata": {
    "scrolled": true
   },
   "outputs": [
    {
     "name": "stderr",
     "output_type": "stream",
     "text": [
      "C:\\Users\\caras\\anaconda3\\lib\\site-packages\\IPython\\core\\interactiveshell.py:3145: DtypeWarning: Columns (4,5) have mixed types.Specify dtype option on import or set low_memory=False.\n",
      "  has_raised = await self.run_ast_nodes(code_ast.body, cell_name,\n"
     ]
    },
    {
     "data": {
      "text/html": [
       "<div>\n",
       "<style scoped>\n",
       "    .dataframe tbody tr th:only-of-type {\n",
       "        vertical-align: middle;\n",
       "    }\n",
       "\n",
       "    .dataframe tbody tr th {\n",
       "        vertical-align: top;\n",
       "    }\n",
       "\n",
       "    .dataframe thead th {\n",
       "        text-align: right;\n",
       "    }\n",
       "</style>\n",
       "<table border=\"1\" class=\"dataframe\">\n",
       "  <thead>\n",
       "    <tr style=\"text-align: right;\">\n",
       "      <th></th>\n",
       "      <th>ROW_ID</th>\n",
       "      <th>SUBJECT_ID</th>\n",
       "      <th>HADM_ID</th>\n",
       "      <th>CHARTDATE</th>\n",
       "      <th>CHARTTIME</th>\n",
       "      <th>STORETIME</th>\n",
       "      <th>CATEGORY</th>\n",
       "      <th>DESCRIPTION</th>\n",
       "      <th>CGID</th>\n",
       "      <th>ISERROR</th>\n",
       "      <th>TEXT</th>\n",
       "    </tr>\n",
       "  </thead>\n",
       "  <tbody>\n",
       "    <tr>\n",
       "      <th>0</th>\n",
       "      <td>174</td>\n",
       "      <td>22532</td>\n",
       "      <td>167853.0</td>\n",
       "      <td>2151-08-04</td>\n",
       "      <td>NaN</td>\n",
       "      <td>NaN</td>\n",
       "      <td>Discharge summary</td>\n",
       "      <td>Report</td>\n",
       "      <td>NaN</td>\n",
       "      <td>NaN</td>\n",
       "      <td>Admission Date:  [**2151-7-16**]       Dischar...</td>\n",
       "    </tr>\n",
       "    <tr>\n",
       "      <th>1</th>\n",
       "      <td>175</td>\n",
       "      <td>13702</td>\n",
       "      <td>107527.0</td>\n",
       "      <td>2118-06-14</td>\n",
       "      <td>NaN</td>\n",
       "      <td>NaN</td>\n",
       "      <td>Discharge summary</td>\n",
       "      <td>Report</td>\n",
       "      <td>NaN</td>\n",
       "      <td>NaN</td>\n",
       "      <td>Admission Date:  [**2118-6-2**]       Discharg...</td>\n",
       "    </tr>\n",
       "  </tbody>\n",
       "</table>\n",
       "</div>"
      ],
      "text/plain": [
       "   ROW_ID  SUBJECT_ID   HADM_ID   CHARTDATE CHARTTIME STORETIME  \\\n",
       "0     174       22532  167853.0  2151-08-04       NaN       NaN   \n",
       "1     175       13702  107527.0  2118-06-14       NaN       NaN   \n",
       "\n",
       "            CATEGORY DESCRIPTION  CGID  ISERROR  \\\n",
       "0  Discharge summary      Report   NaN      NaN   \n",
       "1  Discharge summary      Report   NaN      NaN   \n",
       "\n",
       "                                                TEXT  \n",
       "0  Admission Date:  [**2151-7-16**]       Dischar...  \n",
       "1  Admission Date:  [**2118-6-2**]       Discharg...  "
      ]
     },
     "execution_count": 24,
     "metadata": {},
     "output_type": "execute_result"
    }
   ],
   "source": [
    "#Read in the caregiver notes dataset.\n",
    "\n",
    "notes = pd.read_csv('NOTEEVENTS.csv.gz', compression='gzip')\n",
    "notes.head(2)"
   ]
  },
  {
   "cell_type": "code",
   "execution_count": 25,
   "metadata": {},
   "outputs": [
    {
     "name": "stdout",
     "output_type": "stream",
     "text": [
      "<class 'pandas.core.frame.DataFrame'>\n",
      "RangeIndex: 2083180 entries, 0 to 2083179\n",
      "Data columns (total 11 columns):\n",
      " #   Column       Dtype  \n",
      "---  ------       -----  \n",
      " 0   ROW_ID       int64  \n",
      " 1   SUBJECT_ID   int64  \n",
      " 2   HADM_ID      float64\n",
      " 3   CHARTDATE    object \n",
      " 4   CHARTTIME    object \n",
      " 5   STORETIME    object \n",
      " 6   CATEGORY     object \n",
      " 7   DESCRIPTION  object \n",
      " 8   CGID         float64\n",
      " 9   ISERROR      float64\n",
      " 10  TEXT         object \n",
      "dtypes: float64(3), int64(2), object(6)\n",
      "memory usage: 174.8+ MB\n"
     ]
    }
   ],
   "source": [
    "notes.info()"
   ]
  },
  {
   "cell_type": "markdown",
   "metadata": {},
   "source": [
    "ISERROR\n",
    "A ‘1’ in the ISERROR column indicates that a physician has identified this note as an error. These rows will be removed."
   ]
  },
  {
   "cell_type": "code",
   "execution_count": 26,
   "metadata": {},
   "outputs": [
    {
     "data": {
      "text/plain": [
       "1.0    886\n",
       "Name: ISERROR, dtype: int64"
      ]
     },
     "execution_count": 26,
     "metadata": {},
     "output_type": "execute_result"
    }
   ],
   "source": [
    "notes.ISERROR.value_counts()"
   ]
  },
  {
   "cell_type": "code",
   "execution_count": 27,
   "metadata": {},
   "outputs": [
    {
     "data": {
      "text/plain": [
       "(2082294, 11)"
      ]
     },
     "execution_count": 27,
     "metadata": {},
     "output_type": "execute_result"
    }
   ],
   "source": [
    "notes = notes.loc[notes['ISERROR']!=1]\n",
    "notes.shape"
   ]
  },
  {
   "cell_type": "markdown",
   "metadata": {},
   "source": [
    "Columns of interest from the NOTES dataset:\n",
    "- SUBJECT_ID\n",
    "- HADM_ID\n",
    "- CHARTDATE and CHARTTIME\n",
    "- CATEGORY\n",
    "- TEXT"
   ]
  },
  {
   "cell_type": "code",
   "execution_count": 28,
   "metadata": {
    "scrolled": true
   },
   "outputs": [
    {
     "data": {
      "text/plain": [
       "Nursing/other        822497\n",
       "Radiology            522279\n",
       "Nursing              223182\n",
       "ECG                  209051\n",
       "Physician            141281\n",
       "Discharge summary     59652\n",
       "Echo                  45794\n",
       "Respiratory           31701\n",
       "Nutrition              9400\n",
       "General                8236\n",
       "Rehab Services         5408\n",
       "Social Work            2661\n",
       "Case Management         953\n",
       "Pharmacy                101\n",
       "Consult                  98\n",
       "Name: CATEGORY, dtype: int64"
      ]
     },
     "execution_count": 28,
     "metadata": {},
     "output_type": "execute_result"
    }
   ],
   "source": [
    "# Viewing categories of caregiver notes to better understand the dataset.\n",
    "notes.CATEGORY.value_counts()\n"
   ]
  },
  {
   "cell_type": "code",
   "execution_count": 29,
   "metadata": {},
   "outputs": [
    {
     "name": "stdout",
     "output_type": "stream",
     "text": [
      "<class 'pandas.core.frame.DataFrame'>\n",
      "Int64Index: 2082294 entries, 0 to 2083179\n",
      "Data columns (total 11 columns):\n",
      " #   Column       Dtype  \n",
      "---  ------       -----  \n",
      " 0   ROW_ID       int64  \n",
      " 1   SUBJECT_ID   int64  \n",
      " 2   HADM_ID      float64\n",
      " 3   CHARTDATE    object \n",
      " 4   CHARTTIME    object \n",
      " 5   STORETIME    object \n",
      " 6   CATEGORY     object \n",
      " 7   DESCRIPTION  object \n",
      " 8   CGID         float64\n",
      " 9   ISERROR      float64\n",
      " 10  TEXT         object \n",
      "dtypes: float64(3), int64(2), object(6)\n",
      "memory usage: 190.6+ MB\n"
     ]
    }
   ],
   "source": [
    "notes.info()\n"
   ]
  },
  {
   "cell_type": "markdown",
   "metadata": {},
   "source": [
    "CHARTDATE records the date at which the note was charted. CHARTDATE will always have a time value of 00:00:00.\n",
    "\n",
    "CHARTTIME records the date and time at which the note was charted. If both CHARTDATE and CHARTTIME exist, then the date portions will be identical. All records have a CHARTDATE. A subset are missing CHARTTIME. More specifically, notes with a CATEGORY value of ‘Discharge Summary’, ‘ECG’, and ‘Echo’ never have a CHARTTIME, only CHARTDATE. Other categories almost always have both CHARTTIME and CHARTDATE, but there is a small amount of missing data for CHARTTIME (usually less than 0.5% of the total number of notes for that category)."
   ]
  },
  {
   "cell_type": "code",
   "execution_count": 30,
   "metadata": {},
   "outputs": [
    {
     "name": "stdout",
     "output_type": "stream",
     "text": [
      "Number of missing CHARTTIME: 316566\n",
      "Number of missing CHARTDATE: 0\n"
     ]
    }
   ],
   "source": [
    "#convert the chart dates and times into datetime format\n",
    "\n",
    "notes.CHARTTIME = pd.to_datetime(notes.CHARTTIME, format = '%Y-%m-%d %H:%M:%S', errors = 'coerce')\n",
    "notes.CHARTDATE = pd.to_datetime(notes.CHARTDATE, format = '%Y-%m-%d %H:%M:%S', errors = 'coerce')\n",
    "\n",
    "\n",
    "# check to see if there are any null dates\n",
    "print('Number of missing CHARTTIME:', notes.CHARTTIME.isnull().sum())\n",
    "print('Number of missing CHARTDATE:', notes.CHARTDATE.isnull().sum())\n",
    "\n"
   ]
  },
  {
   "cell_type": "markdown",
   "metadata": {},
   "source": [
    "Since there are so many missing CHARTTIME values, CHARTDATE will be used for processing and analysis (below). Before analyzing further, the dataframes will be merged."
   ]
  },
  {
   "cell_type": "code",
   "execution_count": 31,
   "metadata": {},
   "outputs": [
    {
     "data": {
      "text/plain": [
       "Index(['HADM_ID', 'ROW_ID', 'SUBJECT_ID', 'ADMITTIME', 'DISCHTIME',\n",
       "       'DEATHTIME', 'ADMISSION_TYPE', 'ADMISSION_LOCATION',\n",
       "       'DISCHARGE_LOCATION', 'INSURANCE', 'LANGUAGE', 'RELIGION',\n",
       "       'MARITAL_STATUS', 'ETHNICITY', 'EDREGTIME', 'EDOUTTIME', 'DIAGNOSIS',\n",
       "       'HOSPITAL_EXPIRE_FLAG', 'HAS_CHARTEVENTS_DATA', 'ADMIT+24', 'ENDTIME',\n",
       "       'LOS_HOSP'],\n",
       "      dtype='object')"
      ]
     },
     "execution_count": 31,
     "metadata": {},
     "output_type": "execute_result"
    }
   ],
   "source": [
    "admissions.columns"
   ]
  },
  {
   "cell_type": "code",
   "execution_count": 32,
   "metadata": {},
   "outputs": [
    {
     "name": "stdout",
     "output_type": "stream",
     "text": [
      "There are  1830890 rows and  12 columns.\n"
     ]
    }
   ],
   "source": [
    "# Merging the 'admissions' and 'notes' together. A left merge is used so that all rows for hospital admissions are included\n",
    "# and any caregiver notes that are not associated with a hospital admission are dropped.\n",
    "df=pd.merge(admissions[['SUBJECT_ID', 'HADM_ID', 'LOS_HOSP','ADMITTIME', 'HOSPITAL_EXPIRE_FLAG', 'ADMISSION_TYPE', 'DEATHTIME','ADMIT+24', 'ENDTIME']],\\\n",
    "            notes[['SUBJECT_ID', 'HADM_ID', 'CHARTDATE', 'CATEGORY','TEXT']], \\\n",
    "            on=('HADM_ID', 'SUBJECT_ID') , how='left', suffixes=('adm','note'))\n",
    "print('There are ', len(df), 'rows and ',len(df.columns), 'columns.')\n"
   ]
  },
  {
   "cell_type": "code",
   "execution_count": 33,
   "metadata": {
    "scrolled": true
   },
   "outputs": [
    {
     "data": {
      "text/plain": [
       "['SUBJECT_ID',\n",
       " 'HADM_ID',\n",
       " 'LOS_HOSP',\n",
       " 'ADMITTIME',\n",
       " 'HOSPITAL_EXPIRE_FLAG',\n",
       " 'ADMISSION_TYPE',\n",
       " 'DEATHTIME',\n",
       " 'ADMIT+24',\n",
       " 'ENDTIME',\n",
       " 'CHARTDATE',\n",
       " 'CATEGORY',\n",
       " 'TEXT']"
      ]
     },
     "execution_count": 33,
     "metadata": {},
     "output_type": "execute_result"
    }
   ],
   "source": [
    "list(df.columns)"
   ]
  },
  {
   "cell_type": "markdown",
   "metadata": {},
   "source": [
    "Next update the dataframe to only include notes taken within 24 hours of admission, or up until 2 hours before time of death if patient expired in the first 24 hours."
   ]
  },
  {
   "cell_type": "code",
   "execution_count": 34,
   "metadata": {},
   "outputs": [],
   "source": [
    "\n",
    "df = df[df['CHARTDATE'] <= df['ENDTIME']]"
   ]
  },
  {
   "cell_type": "code",
   "execution_count": 35,
   "metadata": {},
   "outputs": [
    {
     "data": {
      "text/plain": [
       "(428039, 12)"
      ]
     },
     "execution_count": 35,
     "metadata": {},
     "output_type": "execute_result"
    }
   ],
   "source": [
    "df.shape"
   ]
  },
  {
   "cell_type": "markdown",
   "metadata": {},
   "source": [
    "In order to combine all the text samples into one single TEXT row per admission, a new dataframe, 'text' is created. Next it will be merged back with the original dataframe with  CHARTTIME and CATEGORY columns dropped."
   ]
  },
  {
   "cell_type": "code",
   "execution_count": 36,
   "metadata": {},
   "outputs": [],
   "source": [
    "text = df[['HADM_ID', 'TEXT']]"
   ]
  },
  {
   "cell_type": "code",
   "execution_count": 37,
   "metadata": {},
   "outputs": [
    {
     "name": "stdout",
     "output_type": "stream",
     "text": [
      "   HADM_ID                                               TEXT\n",
      "0   XXXXX  [**2117-9-11**] 11:12 AM\\n CHEST (PA & LAT)   ...\n",
      "3   XXXXX  Sinus rhythm\\nAtrial premature complex\\nConsid...\n",
      "4   XXXXX  PATIENT/TEST INFORMATION:\\nIndication: Abnorma...\n"
     ]
    }
   ],
   "source": [
    "grouped_HADM = text.groupby(\"HADM_ID\")\n",
    "\n",
    "grouped_text = grouped_HADM[\"TEXT\"].agg(lambda column: \"\".join(column))\n",
    "\n",
    "grouped_text = grouped_text.reset_index(name=\"TEXT\")\n",
    "\n",
    "print(grouped_text.head())\n"
   ]
  },
  {
   "cell_type": "code",
   "execution_count": 38,
   "metadata": {},
   "outputs": [
    {
     "data": {
      "text/plain": [
       "(53977, 2)"
      ]
     },
     "execution_count": 38,
     "metadata": {},
     "output_type": "execute_result"
    }
   ],
   "source": [
    "grouped_text.shape"
   ]
  },
  {
   "cell_type": "code",
   "execution_count": 39,
   "metadata": {},
   "outputs": [
    {
     "data": {
      "text/plain": [
       "Index(['SUBJECT_ID', 'HADM_ID', 'LOS_HOSP', 'ADMITTIME',\n",
       "       'HOSPITAL_EXPIRE_FLAG', 'ADMISSION_TYPE', 'DEATHTIME', 'ADMIT+24',\n",
       "       'ENDTIME', 'CHARTDATE', 'CATEGORY', 'TEXT'],\n",
       "      dtype='object')"
      ]
     },
     "execution_count": 39,
     "metadata": {},
     "output_type": "execute_result"
    }
   ],
   "source": [
    "df.columns"
   ]
  },
  {
   "cell_type": "code",
   "execution_count": 40,
   "metadata": {
    "scrolled": false
   },
   "outputs": [
    {
     "name": "stdout",
     "output_type": "stream",
     "text": [
      "There are  428039 rows and  10 columns.\n"
     ]
    }
   ],
   "source": [
    "# Merging the 'grouped_text' and 'df' together. A left merge is used so that all rows for hospital admissions are included\n",
    "# and any caregiver notes that are not associated with a hospital admission are dropped.\n",
    "df2=pd.merge(grouped_text[['HADM_ID', 'TEXT']], df[['SUBJECT_ID', 'HADM_ID','LOS_HOSP', 'ADMITTIME', 'HOSPITAL_EXPIRE_FLAG',\\\n",
    "                                                    'ADMISSION_TYPE', 'DEATHTIME', 'ADMIT+24','ENDTIME']],\\\n",
    "             on=('HADM_ID') , how='left')\n",
    "print('There are ', len(df2), 'rows and ',len(df2.columns), 'columns.')"
   ]
  },
  {
   "cell_type": "code",
   "execution_count": 41,
   "metadata": {},
   "outputs": [],
   "source": [
    "df2 = df2.drop_duplicates()"
   ]
  },
  {
   "cell_type": "code",
   "execution_count": 42,
   "metadata": {},
   "outputs": [
    {
     "name": "stdout",
     "output_type": "stream",
     "text": [
      "There are now  53977 rows and  10 columns in df2.\n"
     ]
    }
   ],
   "source": [
    "print('There are now ', len(df2), 'rows and ', len(df2.columns), 'columns in df2.')"
   ]
  },
  {
   "cell_type": "code",
   "execution_count": 43,
   "metadata": {
    "scrolled": true
   },
   "outputs": [
    {
     "data": {
      "text/html": [
       "<div>\n",
       "<style scoped>\n",
       "    .dataframe tbody tr th:only-of-type {\n",
       "        vertical-align: middle;\n",
       "    }\n",
       "\n",
       "    .dataframe tbody tr th {\n",
       "        vertical-align: top;\n",
       "    }\n",
       "\n",
       "    .dataframe thead th {\n",
       "        text-align: right;\n",
       "    }\n",
       "</style>\n",
       "<table border=\"1\" class=\"dataframe\">\n",
       "  <thead>\n",
       "    <tr style=\"text-align: right;\">\n",
       "      <th></th>\n",
       "      <th>HADM_ID</th>\n",
       "      <th>TEXT</th>\n",
       "      <th>SUBJECT_ID</th>\n",
       "      <th>LOS_HOSP</th>\n",
       "      <th>ADMITTIME</th>\n",
       "      <th>HOSPITAL_EXPIRE_FLAG</th>\n",
       "      <th>ADMISSION_TYPE</th>\n",
       "      <th>DEATHTIME</th>\n",
       "      <th>ADMIT+24</th>\n",
       "      <th>ENDTIME</th>\n",
       "    </tr>\n",
       "  </thead>\n",
       "  <tbody>\n",
       "    <tr>\n",
       "      <th>72966</th>\n",
       "      <td>117100</td>\n",
       "      <td>[**2119-6-8**] 9:52 PM\\n CHEST (PORTABLE AP)  ...</td>\n",
       "      <td>8697</td>\n",
       "      <td>2 days 22:51:00</td>\n",
       "      <td>2119-06-08 15:23:00</td>\n",
       "      <td>1</td>\n",
       "      <td>URGENT</td>\n",
       "      <td>2119-06-08 14:14:00</td>\n",
       "      <td>2119-06-09 15:23:00</td>\n",
       "      <td>2119-06-08 12:14:00</td>\n",
       "    </tr>\n",
       "  </tbody>\n",
       "</table>\n",
       "</div>"
      ],
      "text/plain": [
       "       HADM_ID                                               TEXT  SUBJECT_ID  \\\n",
       "XXXXX   XXXXX  [**2119-6-8**] 9:52 PM\\n CHEST (PORTABLE AP)  ...        XXX   \n",
       "\n",
       "             LOS_HOSP           ADMITTIME  HOSPITAL_EXPIRE_FLAG  \\\n",
       "72966 2 days 22:51:00 2119-06-08 15:23:00                     1   \n",
       "\n",
       "      ADMISSION_TYPE           DEATHTIME            ADMIT+24  \\\n",
       "72966         URGENT 2119-06-08 14:14:00 2119-06-09 15:23:00   \n",
       "\n",
       "                  ENDTIME  \n",
       "72966 2119-06-08 12:14:00  "
      ]
     },
     "execution_count": 43,
     "metadata": {},
     "output_type": "execute_result"
    }
   ],
   "source": [
    "#check if any samples died before admission and remove them from the dataframe. Save as new dataframe.\n",
    "\n",
    "df2.loc[df2['DEATHTIME'] < df2['ADMITTIME']]"
   ]
  },
  {
   "cell_type": "code",
   "execution_count": 44,
   "metadata": {},
   "outputs": [
    {
     "data": {
      "text/plain": [
       "(53976, 10)"
      ]
     },
     "execution_count": 44,
     "metadata": {},
     "output_type": "execute_result"
    }
   ],
   "source": [
    "df2 = df2.drop(df2[df2['HADM_ID'] == 117100].index)\n",
    "df2.shape"
   ]
  },
  {
   "cell_type": "markdown",
   "metadata": {},
   "source": [
    "The data is now ready to begin processing!"
   ]
  },
  {
   "cell_type": "code",
   "execution_count": 45,
   "metadata": {},
   "outputs": [],
   "source": [
    "#Saving the merged dataframe.\n",
    "df2.to_csv('df2.csv', index=False)"
   ]
  },
  {
   "cell_type": "code",
   "execution_count": null,
   "metadata": {},
   "outputs": [],
   "source": []
  },
  {
   "cell_type": "markdown",
   "metadata": {},
   "source": [
    "For use in savings calculations (later), calculate the average length of hospital stay."
   ]
  },
  {
   "cell_type": "code",
   "execution_count": 21,
   "metadata": {
    "scrolled": true
   },
   "outputs": [
    {
     "name": "stdout",
     "output_type": "stream",
     "text": [
      "The average hospitalization length for patients who stayed in the ICU was  10 days 13:56:24.582697\n"
     ]
    }
   ],
   "source": [
    "LOS_hosp_mean = admissions.LOS_HOSP.mean()\n",
    "print('The average hospitalization length for patients who stayed in the ICU was ', LOS_hosp_mean)"
   ]
  },
  {
   "cell_type": "code",
   "execution_count": null,
   "metadata": {},
   "outputs": [],
   "source": []
  },
  {
   "cell_type": "markdown",
   "metadata": {},
   "source": [
    "To also use in savings analysis, calculate the average number of days in the ICU per admission."
   ]
  },
  {
   "cell_type": "markdown",
   "metadata": {},
   "source": [
    "Read in ICU stays data so that we can determine average number of days in ICU"
   ]
  },
  {
   "cell_type": "code",
   "execution_count": 48,
   "metadata": {},
   "outputs": [
    {
     "name": "stdout",
     "output_type": "stream",
     "text": [
      "(61532, 12)\n"
     ]
    },
    {
     "data": {
      "text/html": [
       "<div>\n",
       "<style scoped>\n",
       "    .dataframe tbody tr th:only-of-type {\n",
       "        vertical-align: middle;\n",
       "    }\n",
       "\n",
       "    .dataframe tbody tr th {\n",
       "        vertical-align: top;\n",
       "    }\n",
       "\n",
       "    .dataframe thead th {\n",
       "        text-align: right;\n",
       "    }\n",
       "</style>\n",
       "<table border=\"1\" class=\"dataframe\">\n",
       "  <thead>\n",
       "    <tr style=\"text-align: right;\">\n",
       "      <th></th>\n",
       "      <th>ROW_ID</th>\n",
       "      <th>SUBJECT_ID</th>\n",
       "      <th>HADM_ID</th>\n",
       "      <th>ICUSTAY_ID</th>\n",
       "      <th>DBSOURCE</th>\n",
       "      <th>FIRST_CAREUNIT</th>\n",
       "      <th>LAST_CAREUNIT</th>\n",
       "      <th>FIRST_WARDID</th>\n",
       "      <th>LAST_WARDID</th>\n",
       "      <th>INTIME</th>\n",
       "      <th>OUTTIME</th>\n",
       "      <th>LOS</th>\n",
       "    </tr>\n",
       "  </thead>\n",
       "  <tbody>\n",
       "    <tr>\n",
       "      <th>0</th>\n",
       "      <td>365</td>\n",
       "      <td>268</td>\n",
       "      <td>110404</td>\n",
       "      <td>280836</td>\n",
       "      <td>carevue</td>\n",
       "      <td>MICU</td>\n",
       "      <td>MICU</td>\n",
       "      <td>52</td>\n",
       "      <td>52</td>\n",
       "      <td>2198-02-14 23:27:38</td>\n",
       "      <td>2198-02-18 05:26:11</td>\n",
       "      <td>3.2490</td>\n",
       "    </tr>\n",
       "    <tr>\n",
       "      <th>1</th>\n",
       "      <td>366</td>\n",
       "      <td>269</td>\n",
       "      <td>106296</td>\n",
       "      <td>206613</td>\n",
       "      <td>carevue</td>\n",
       "      <td>MICU</td>\n",
       "      <td>MICU</td>\n",
       "      <td>52</td>\n",
       "      <td>52</td>\n",
       "      <td>2170-11-05 11:05:29</td>\n",
       "      <td>2170-11-08 17:46:57</td>\n",
       "      <td>3.2788</td>\n",
       "    </tr>\n",
       "  </tbody>\n",
       "</table>\n",
       "</div>"
      ],
      "text/plain": [
       "   ROW_ID  SUBJECT_ID  HADM_ID  ICUSTAY_ID DBSOURCE FIRST_CAREUNIT  \\\n",
       "0     XXX         XXX   XXXXX      280836  carevue           MICU   \n",
       "1     XXX         XXX   XXXXX      206613  carevue           MICU   \n",
       "\n",
       "  LAST_CAREUNIT  FIRST_WARDID  LAST_WARDID               INTIME  \\\n",
       "0          MICU            52           52  2198-02-14 23:27:38   \n",
       "1          MICU            52           52  2170-11-05 11:05:29   \n",
       "\n",
       "               OUTTIME     LOS  \n",
       "0  2198-02-18 05:26:11  3.2490  \n",
       "1  2170-11-08 17:46:57  3.2788  "
      ]
     },
     "execution_count": 48,
     "metadata": {},
     "output_type": "execute_result"
    }
   ],
   "source": [
    "icu_stays = pd.read_csv('ICUSTAYS.csv.gz', compression='gzip' )\n",
    "print(icu_stays.shape)\n",
    "icu_stays.head(2)"
   ]
  },
  {
   "cell_type": "markdown",
   "metadata": {},
   "source": [
    "#### Columns of interest in the ICU dataset: \n",
    "- INTIME\n",
    "- OUTTIME\n",
    "- LOS (length of stay)\n",
    "- HADM_ID"
   ]
  },
  {
   "cell_type": "code",
   "execution_count": 49,
   "metadata": {},
   "outputs": [
    {
     "name": "stdout",
     "output_type": "stream",
     "text": [
      "Number of missing outtime: 10\n",
      "Number of missing intime: 0\n"
     ]
    }
   ],
   "source": [
    "#convert OUTTIME, and INTIME to datetime format. The errors='coerce' argument allows for missing values\n",
    "icu_stays.OUTTIME = pd.to_datetime(icu_stays.OUTTIME, format = '%Y-%m-%d %H:%M:%S', errors = 'coerce')\n",
    "icu_stays.INTIME = pd.to_datetime(icu_stays.INTIME, format = '%Y-%m-%d %H:%M:%S', errors = 'coerce')\n",
    "\n",
    "# check to see if there are any null dates\n",
    "print('Number of missing outtime:', icu_stays.OUTTIME.isnull().sum())\n",
    "print('Number of missing intime:', icu_stays.INTIME.isnull().sum())\n",
    "\n"
   ]
  },
  {
   "cell_type": "markdown",
   "metadata": {},
   "source": [
    "Remove the ICU stays with missing outtimes."
   ]
  },
  {
   "cell_type": "code",
   "execution_count": 50,
   "metadata": {},
   "outputs": [
    {
     "name": "stdout",
     "output_type": "stream",
     "text": [
      "Number of missing outtime: 0\n"
     ]
    }
   ],
   "source": [
    "icu_stays = icu_stays.dropna(subset=['OUTTIME'])\n",
    "print('Number of missing outtime:', icu_stays.OUTTIME.isnull().sum())\n"
   ]
  },
  {
   "cell_type": "code",
   "execution_count": 51,
   "metadata": {},
   "outputs": [
    {
     "name": "stdout",
     "output_type": "stream",
     "text": [
      "<class 'pandas.core.frame.DataFrame'>\n",
      "Int64Index: 61522 entries, 0 to 61531\n",
      "Data columns (total 12 columns):\n",
      " #   Column          Non-Null Count  Dtype         \n",
      "---  ------          --------------  -----         \n",
      " 0   ROW_ID          61522 non-null  int64         \n",
      " 1   SUBJECT_ID      61522 non-null  int64         \n",
      " 2   HADM_ID         61522 non-null  int64         \n",
      " 3   ICUSTAY_ID      61522 non-null  int64         \n",
      " 4   DBSOURCE        61522 non-null  object        \n",
      " 5   FIRST_CAREUNIT  61522 non-null  object        \n",
      " 6   LAST_CAREUNIT   61522 non-null  object        \n",
      " 7   FIRST_WARDID    61522 non-null  int64         \n",
      " 8   LAST_WARDID     61522 non-null  int64         \n",
      " 9   INTIME          61522 non-null  datetime64[ns]\n",
      " 10  OUTTIME         61522 non-null  datetime64[ns]\n",
      " 11  LOS             61522 non-null  float64       \n",
      "dtypes: datetime64[ns](2), float64(1), int64(6), object(3)\n",
      "memory usage: 6.1+ MB\n"
     ]
    }
   ],
   "source": [
    "icu_stays.info()"
   ]
  },
  {
   "cell_type": "code",
   "execution_count": 52,
   "metadata": {},
   "outputs": [
    {
     "name": "stdout",
     "output_type": "stream",
     "text": [
      "average length of ICU stay:  4.92 days\n"
     ]
    }
   ],
   "source": [
    "ICU_LOS_mean = round(icu_stays.LOS.mean(), 2)\n",
    "print('average length of ICU stay: ', ICU_LOS_mean, 'days')"
   ]
  },
  {
   "cell_type": "code",
   "execution_count": 53,
   "metadata": {},
   "outputs": [
    {
     "data": {
      "text/html": [
       "<div>\n",
       "<style scoped>\n",
       "    .dataframe tbody tr th:only-of-type {\n",
       "        vertical-align: middle;\n",
       "    }\n",
       "\n",
       "    .dataframe tbody tr th {\n",
       "        vertical-align: top;\n",
       "    }\n",
       "\n",
       "    .dataframe thead th {\n",
       "        text-align: right;\n",
       "    }\n",
       "</style>\n",
       "<table border=\"1\" class=\"dataframe\">\n",
       "  <thead>\n",
       "    <tr style=\"text-align: right;\">\n",
       "      <th></th>\n",
       "      <th>HADM_ID</th>\n",
       "      <th>LOS</th>\n",
       "    </tr>\n",
       "  </thead>\n",
       "  <tbody>\n",
       "    <tr>\n",
       "      <th>0</th>\n",
       "      <td>110404</td>\n",
       "      <td>3.2490</td>\n",
       "    </tr>\n",
       "    <tr>\n",
       "      <th>1</th>\n",
       "      <td>106296</td>\n",
       "      <td>3.2788</td>\n",
       "    </tr>\n",
       "    <tr>\n",
       "      <th>2</th>\n",
       "      <td>188028</td>\n",
       "      <td>2.8939</td>\n",
       "    </tr>\n",
       "    <tr>\n",
       "      <th>3</th>\n",
       "      <td>173727</td>\n",
       "      <td>2.0600</td>\n",
       "    </tr>\n",
       "    <tr>\n",
       "      <th>4</th>\n",
       "      <td>164716</td>\n",
       "      <td>1.6202</td>\n",
       "    </tr>\n",
       "    <tr>\n",
       "      <th>...</th>\n",
       "      <td>...</td>\n",
       "      <td>...</td>\n",
       "    </tr>\n",
       "    <tr>\n",
       "      <th>61527</th>\n",
       "      <td>143774</td>\n",
       "      <td>2.1894</td>\n",
       "    </tr>\n",
       "    <tr>\n",
       "      <th>61528</th>\n",
       "      <td>123750</td>\n",
       "      <td>2.4942</td>\n",
       "    </tr>\n",
       "    <tr>\n",
       "      <th>61529</th>\n",
       "      <td>196881</td>\n",
       "      <td>0.9259</td>\n",
       "    </tr>\n",
       "    <tr>\n",
       "      <th>61530</th>\n",
       "      <td>118475</td>\n",
       "      <td>2.3346</td>\n",
       "    </tr>\n",
       "    <tr>\n",
       "      <th>61531</th>\n",
       "      <td>156386</td>\n",
       "      <td>4.5022</td>\n",
       "    </tr>\n",
       "  </tbody>\n",
       "</table>\n",
       "<p>61522 rows × 2 columns</p>\n",
       "</div>"
      ],
      "text/plain": [
       "       HADM_ID     LOS\n",
       "0       XXXXX  3.2490\n",
       "1       XXXXX  3.2788\n",
       "2       XXXXX  2.8939\n",
       "3       XXXXX  2.0600\n",
       "4       XXXXX  1.6202\n",
       "...        ...     ...\n",
       "61527   XXXXX  2.1894\n",
       "61528   XXXXX  2.4942\n",
       "61529   XXXXX  0.9259\n",
       "61530   XXXXX  2.3346\n",
       "61531   XXXXX  4.5022\n",
       "\n",
       "[61522 rows x 2 columns]"
      ]
     },
     "execution_count": 53,
     "metadata": {},
     "output_type": "execute_result"
    }
   ],
   "source": [
    "df_los = icu_stays[['HADM_ID', 'LOS']]\n",
    "df_los"
   ]
  },
  {
   "cell_type": "code",
   "execution_count": 54,
   "metadata": {},
   "outputs": [
    {
     "data": {
      "text/html": [
       "<div>\n",
       "<style scoped>\n",
       "    .dataframe tbody tr th:only-of-type {\n",
       "        vertical-align: middle;\n",
       "    }\n",
       "\n",
       "    .dataframe tbody tr th {\n",
       "        vertical-align: top;\n",
       "    }\n",
       "\n",
       "    .dataframe thead th {\n",
       "        text-align: right;\n",
       "    }\n",
       "</style>\n",
       "<table border=\"1\" class=\"dataframe\">\n",
       "  <thead>\n",
       "    <tr style=\"text-align: right;\">\n",
       "      <th></th>\n",
       "      <th>HADM_ID</th>\n",
       "      <th>LOS</th>\n",
       "    </tr>\n",
       "  </thead>\n",
       "  <tbody>\n",
       "    <tr>\n",
       "      <th>0</th>\n",
       "      <td>110404</td>\n",
       "      <td>3.2490</td>\n",
       "    </tr>\n",
       "    <tr>\n",
       "      <th>1</th>\n",
       "      <td>106296</td>\n",
       "      <td>3.2788</td>\n",
       "    </tr>\n",
       "    <tr>\n",
       "      <th>2</th>\n",
       "      <td>188028</td>\n",
       "      <td>2.8939</td>\n",
       "    </tr>\n",
       "    <tr>\n",
       "      <th>3</th>\n",
       "      <td>173727</td>\n",
       "      <td>2.0600</td>\n",
       "    </tr>\n",
       "    <tr>\n",
       "      <th>4</th>\n",
       "      <td>164716</td>\n",
       "      <td>1.6202</td>\n",
       "    </tr>\n",
       "    <tr>\n",
       "      <th>...</th>\n",
       "      <td>...</td>\n",
       "      <td>...</td>\n",
       "    </tr>\n",
       "    <tr>\n",
       "      <th>61527</th>\n",
       "      <td>143774</td>\n",
       "      <td>2.1894</td>\n",
       "    </tr>\n",
       "    <tr>\n",
       "      <th>61528</th>\n",
       "      <td>123750</td>\n",
       "      <td>2.4942</td>\n",
       "    </tr>\n",
       "    <tr>\n",
       "      <th>61529</th>\n",
       "      <td>196881</td>\n",
       "      <td>0.9259</td>\n",
       "    </tr>\n",
       "    <tr>\n",
       "      <th>61530</th>\n",
       "      <td>118475</td>\n",
       "      <td>2.3346</td>\n",
       "    </tr>\n",
       "    <tr>\n",
       "      <th>61531</th>\n",
       "      <td>156386</td>\n",
       "      <td>4.5022</td>\n",
       "    </tr>\n",
       "  </tbody>\n",
       "</table>\n",
       "<p>61522 rows × 2 columns</p>\n",
       "</div>"
      ],
      "text/plain": [
       "       HADM_ID     LOS\n",
       "0       110404  3.2490\n",
       "1       106296  3.2788\n",
       "2       188028  2.8939\n",
       "3       173727  2.0600\n",
       "4       164716  1.6202\n",
       "...        ...     ...\n",
       "61527   143774  2.1894\n",
       "61528   123750  2.4942\n",
       "61529   196881  0.9259\n",
       "61530   118475  2.3346\n",
       "61531   156386  4.5022\n",
       "\n",
       "[61522 rows x 2 columns]"
      ]
     },
     "execution_count": 54,
     "metadata": {},
     "output_type": "execute_result"
    }
   ],
   "source": [
    "df_los"
   ]
  },
  {
   "cell_type": "code",
   "execution_count": 55,
   "metadata": {},
   "outputs": [
    {
     "name": "stdout",
     "output_type": "stream",
     "text": [
      "There are  3746 duplicate hospital admissions.\n"
     ]
    }
   ],
   "source": [
    "print('There are ', len(df_los[df_los.duplicated(['HADM_ID'])]), 'duplicate hospital admissions.')\n"
   ]
  },
  {
   "cell_type": "markdown",
   "metadata": {},
   "source": [
    "These admissions are patients who stayed more than once in the ICU on that admission. LOS_ICU values for these patients need to be combined for a total LOS_ICU for each admission."
   ]
  },
  {
   "cell_type": "code",
   "execution_count": 56,
   "metadata": {},
   "outputs": [
    {
     "data": {
      "text/html": [
       "<div>\n",
       "<style scoped>\n",
       "    .dataframe tbody tr th:only-of-type {\n",
       "        vertical-align: middle;\n",
       "    }\n",
       "\n",
       "    .dataframe tbody tr th {\n",
       "        vertical-align: top;\n",
       "    }\n",
       "\n",
       "    .dataframe thead th {\n",
       "        text-align: right;\n",
       "    }\n",
       "</style>\n",
       "<table border=\"1\" class=\"dataframe\">\n",
       "  <thead>\n",
       "    <tr style=\"text-align: right;\">\n",
       "      <th></th>\n",
       "      <th>HADM_ID</th>\n",
       "      <th>LOS</th>\n",
       "    </tr>\n",
       "  </thead>\n",
       "  <tbody>\n",
       "  </tbody>\n",
       "</table>\n",
       "</div>"
      ],
      "text/plain": [
       "Empty DataFrame\n",
       "Columns: [HADM_ID, LOS]\n",
       "Index: []"
      ]
     },
     "execution_count": 56,
     "metadata": {},
     "output_type": "execute_result"
    }
   ],
   "source": [
    "df_los.loc[df_los['LOS'] < 0]\n"
   ]
  },
  {
   "cell_type": "code",
   "execution_count": 57,
   "metadata": {},
   "outputs": [],
   "source": [
    "#add column, LOS_ICU_TOTAL \n",
    "#df['LOS_ICU'] = df['LOS_ICU'].dt.days\n",
    "#df.LOS_ICU\n",
    "\n",
    "#df.LOS_ICU_TOTAL = np.where(df[df.duplicated(['HADM_ID'])], df['LOS_ICU'].sum(), df['LOS_ICU'])\n",
    "\n",
    "#df['is_dup'] = df[['lat', 'lon']].duplicated()\n",
    "#df['dups'] = df.groupby(['lat','lon']).is_dup.transform(np.sum)\n",
    "# df outputs:\n",
    "\n",
    "df_los = df_los.groupby(['HADM_ID'], as_index=False)['LOS'].sum()\n"
   ]
  },
  {
   "cell_type": "code",
   "execution_count": 58,
   "metadata": {},
   "outputs": [
    {
     "name": "stdout",
     "output_type": "stream",
     "text": [
      "<class 'pandas.core.frame.DataFrame'>\n",
      "Int64Index: 57776 entries, 0 to 57775\n",
      "Data columns (total 2 columns):\n",
      " #   Column   Non-Null Count  Dtype  \n",
      "---  ------   --------------  -----  \n",
      " 0   HADM_ID  57776 non-null  int64  \n",
      " 1   LOS      57776 non-null  float64\n",
      "dtypes: float64(1), int64(1)\n",
      "memory usage: 1.3 MB\n"
     ]
    }
   ],
   "source": [
    "df_los.info()"
   ]
  },
  {
   "cell_type": "code",
   "execution_count": 59,
   "metadata": {},
   "outputs": [
    {
     "name": "stdout",
     "output_type": "stream",
     "text": [
      "There are now 0 duplicate hospital admissions.\n"
     ]
    }
   ],
   "source": [
    "print('There are now', len(df_los[df_los.duplicated(['HADM_ID'])]), 'duplicate hospital admissions.')\n"
   ]
  },
  {
   "cell_type": "code",
   "execution_count": 60,
   "metadata": {
    "scrolled": true
   },
   "outputs": [
    {
     "name": "stdout",
     "output_type": "stream",
     "text": [
      "The average length of ICU stay was  5.24  days.\n"
     ]
    }
   ],
   "source": [
    "ICU_LOS_mean_updated = round(df_los['LOS'].mean(), 2)\n",
    "\n",
    "print('The average length of ICU stay was ', ICU_LOS_mean_updated, ' days.')"
   ]
  }
 ],
 "metadata": {
  "kernelspec": {
   "display_name": "Python 3",
   "language": "python",
   "name": "python3"
  },
  "language_info": {
   "codemirror_mode": {
    "name": "ipython",
    "version": 3
   },
   "file_extension": ".py",
   "mimetype": "text/x-python",
   "name": "python",
   "nbconvert_exporter": "python",
   "pygments_lexer": "ipython3",
   "version": "3.8.5"
  }
 },
 "nbformat": 4,
 "nbformat_minor": 2
}
